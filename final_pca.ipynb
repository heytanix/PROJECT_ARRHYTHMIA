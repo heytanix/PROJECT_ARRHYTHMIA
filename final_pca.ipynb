{
  "cells": [
    {
      "cell_type": "markdown",
      "metadata": {
        "id": "Ev4bC2YTq4JY"
      },
      "source": [
        "# Final and PCA - Project Arrhythmia"
      ]
    },
    {
      "cell_type": "markdown",
      "metadata": {
        "id": "cfed638a"
      },
      "source": [
        "# Import Required Libraries\n",
        "- **Functionality:** This cell imports all the necessary Python libraries for the project. This includes libraries for data manipulation (pandas, numpy, scipy), mathematical operations (math), data visualization (seaborn, matplotlib), and machine learning preprocessing and modeling tools from scikit-learn."
      ]
    },
    {
      "cell_type": "code",
      "execution_count": null,
      "metadata": {
        "id": "kC_gRGjnqrd-"
      },
      "outputs": [],
      "source": [
        "#Importing all the required libraries\n",
        "from sklearn import set_config\n",
        "set_config(display=\"text\")\n",
        "import pandas as pd\n",
        "import numpy as np\n",
        "import scipy as sp\n",
        "import math as mt\n",
        "import seaborn as sns\n",
        "import matplotlib.pyplot as plt\n",
        "from sklearn.impute import SimpleImputer"
      ]
    },
    {
      "cell_type": "markdown",
      "metadata": {
        "id": "66674423"
      },
      "source": [
        "# Load Dataset\n",
        "- **Functionality:** This cell loads the arrhythmia dataset from the specified CSV file (\"Data/arrhythmia.csv\") into a pandas DataFrame. The `header=None` argument is used because the dataset does not contain a header row."
      ]
    },
    {
      "cell_type": "code",
      "execution_count": null,
      "metadata": {
        "id": "05jeNdDc9Kuj"
      },
      "outputs": [],
      "source": [
        "#Loading the required data\n",
        "df=pd.read_csv(\"Data/arrhythmia.csv\", header = None)"
      ]
    },
    {
      "cell_type": "markdown",
      "metadata": {
        "id": "31a19cac"
      },
      "source": [
        "# Inspect First 5 Rows\n",
        "- **Functionality:** This cell displays the first 5 rows of the loaded DataFrame using the `.head()` method. This provides a quick preview of the dataset's structure and data."
      ]
    },
    {
      "cell_type": "code",
      "execution_count": null,
      "metadata": {
        "colab": {
          "base_uri": "https://localhost:8080/",
          "height": 255
        },
        "id": "SgXa1-Wq9bux",
        "outputId": "df7cc899-a5b9-44cf-c24e-0831dc53ce92"
      },
      "outputs": [
        {
          "data": {
            "text/html": [
              "<div>\n",
              "<style scoped>\n",
              "    .dataframe tbody tr th:only-of-type {\n",
              "        vertical-align: middle;\n",
              "    }\n",
              "\n",
              "    .dataframe tbody tr th {\n",
              "        vertical-align: top;\n",
              "    }\n",
              "\n",
              "    .dataframe thead th {\n",
              "        text-align: right;\n",
              "    }\n",
              "</style>\n",
              "<table border=\"1\" class=\"dataframe\">\n",
              "  <thead>\n",
              "    <tr style=\"text-align: right;\">\n",
              "      <th></th>\n",
              "      <th>0</th>\n",
              "      <th>1</th>\n",
              "      <th>2</th>\n",
              "      <th>3</th>\n",
              "      <th>4</th>\n",
              "      <th>5</th>\n",
              "      <th>6</th>\n",
              "      <th>7</th>\n",
              "      <th>8</th>\n",
              "      <th>9</th>\n",
              "      <th>...</th>\n",
              "      <th>270</th>\n",
              "      <th>271</th>\n",
              "      <th>272</th>\n",
              "      <th>273</th>\n",
              "      <th>274</th>\n",
              "      <th>275</th>\n",
              "      <th>276</th>\n",
              "      <th>277</th>\n",
              "      <th>278</th>\n",
              "      <th>279</th>\n",
              "    </tr>\n",
              "  </thead>\n",
              "  <tbody>\n",
              "    <tr>\n",
              "      <th>0</th>\n",
              "      <td>75</td>\n",
              "      <td>0</td>\n",
              "      <td>190</td>\n",
              "      <td>80</td>\n",
              "      <td>91</td>\n",
              "      <td>193</td>\n",
              "      <td>371</td>\n",
              "      <td>174</td>\n",
              "      <td>121</td>\n",
              "      <td>-16</td>\n",
              "      <td>...</td>\n",
              "      <td>0.0</td>\n",
              "      <td>9.0</td>\n",
              "      <td>-0.9</td>\n",
              "      <td>0.0</td>\n",
              "      <td>0.0</td>\n",
              "      <td>0.9</td>\n",
              "      <td>2.9</td>\n",
              "      <td>23.3</td>\n",
              "      <td>49.4</td>\n",
              "      <td>8</td>\n",
              "    </tr>\n",
              "    <tr>\n",
              "      <th>1</th>\n",
              "      <td>56</td>\n",
              "      <td>1</td>\n",
              "      <td>165</td>\n",
              "      <td>64</td>\n",
              "      <td>81</td>\n",
              "      <td>174</td>\n",
              "      <td>401</td>\n",
              "      <td>149</td>\n",
              "      <td>39</td>\n",
              "      <td>25</td>\n",
              "      <td>...</td>\n",
              "      <td>0.0</td>\n",
              "      <td>8.5</td>\n",
              "      <td>0.0</td>\n",
              "      <td>0.0</td>\n",
              "      <td>0.0</td>\n",
              "      <td>0.2</td>\n",
              "      <td>2.1</td>\n",
              "      <td>20.4</td>\n",
              "      <td>38.8</td>\n",
              "      <td>6</td>\n",
              "    </tr>\n",
              "    <tr>\n",
              "      <th>2</th>\n",
              "      <td>54</td>\n",
              "      <td>0</td>\n",
              "      <td>172</td>\n",
              "      <td>95</td>\n",
              "      <td>138</td>\n",
              "      <td>163</td>\n",
              "      <td>386</td>\n",
              "      <td>185</td>\n",
              "      <td>102</td>\n",
              "      <td>96</td>\n",
              "      <td>...</td>\n",
              "      <td>0.0</td>\n",
              "      <td>9.5</td>\n",
              "      <td>-2.4</td>\n",
              "      <td>0.0</td>\n",
              "      <td>0.0</td>\n",
              "      <td>0.3</td>\n",
              "      <td>3.4</td>\n",
              "      <td>12.3</td>\n",
              "      <td>49.0</td>\n",
              "      <td>10</td>\n",
              "    </tr>\n",
              "    <tr>\n",
              "      <th>3</th>\n",
              "      <td>55</td>\n",
              "      <td>0</td>\n",
              "      <td>175</td>\n",
              "      <td>94</td>\n",
              "      <td>100</td>\n",
              "      <td>202</td>\n",
              "      <td>380</td>\n",
              "      <td>179</td>\n",
              "      <td>143</td>\n",
              "      <td>28</td>\n",
              "      <td>...</td>\n",
              "      <td>0.0</td>\n",
              "      <td>12.2</td>\n",
              "      <td>-2.2</td>\n",
              "      <td>0.0</td>\n",
              "      <td>0.0</td>\n",
              "      <td>0.4</td>\n",
              "      <td>2.6</td>\n",
              "      <td>34.6</td>\n",
              "      <td>61.6</td>\n",
              "      <td>1</td>\n",
              "    </tr>\n",
              "    <tr>\n",
              "      <th>4</th>\n",
              "      <td>75</td>\n",
              "      <td>0</td>\n",
              "      <td>190</td>\n",
              "      <td>80</td>\n",
              "      <td>88</td>\n",
              "      <td>181</td>\n",
              "      <td>360</td>\n",
              "      <td>177</td>\n",
              "      <td>103</td>\n",
              "      <td>-16</td>\n",
              "      <td>...</td>\n",
              "      <td>0.0</td>\n",
              "      <td>13.1</td>\n",
              "      <td>-3.6</td>\n",
              "      <td>0.0</td>\n",
              "      <td>0.0</td>\n",
              "      <td>-0.1</td>\n",
              "      <td>3.9</td>\n",
              "      <td>25.4</td>\n",
              "      <td>62.8</td>\n",
              "      <td>7</td>\n",
              "    </tr>\n",
              "  </tbody>\n",
              "</table>\n",
              "<p>5 rows × 280 columns</p>\n",
              "</div>"
            ],
            "text/plain": [
              "   0    1    2    3    4    5    6    7    8    9    ...  270   271  272  273  \\\n",
              "0   75    0  190   80   91  193  371  174  121  -16  ...  0.0   9.0 -0.9  0.0   \n",
              "1   56    1  165   64   81  174  401  149   39   25  ...  0.0   8.5  0.0  0.0   \n",
              "2   54    0  172   95  138  163  386  185  102   96  ...  0.0   9.5 -2.4  0.0   \n",
              "3   55    0  175   94  100  202  380  179  143   28  ...  0.0  12.2 -2.2  0.0   \n",
              "4   75    0  190   80   88  181  360  177  103  -16  ...  0.0  13.1 -3.6  0.0   \n",
              "\n",
              "   274  275  276   277   278  279  \n",
              "0  0.0  0.9  2.9  23.3  49.4    8  \n",
              "1  0.0  0.2  2.1  20.4  38.8    6  \n",
              "2  0.0  0.3  3.4  12.3  49.0   10  \n",
              "3  0.0  0.4  2.6  34.6  61.6    1  \n",
              "4  0.0 -0.1  3.9  25.4  62.8    7  \n",
              "\n",
              "[5 rows x 280 columns]"
            ]
          },
          "execution_count": 4,
          "metadata": {},
          "output_type": "execute_result"
        }
      ],
      "source": [
        "#Inspecting the first 5 rows of the dataset\n",
        "df.head()"
      ]
    },
    {
      "cell_type": "markdown",
      "metadata": {
        "id": "553c5081"
      },
      "source": [
        "# Inspect Last 5 Rows\n",
        "- **Functionality:** This cell displays the last 5 rows of the loaded DataFrame using the `.tail()` method. This is useful for examining the end of the dataset."
      ]
    },
    {
      "cell_type": "code",
      "execution_count": null,
      "metadata": {
        "colab": {
          "base_uri": "https://localhost:8080/",
          "height": 255
        },
        "id": "QUDVA-af9dsf",
        "outputId": "872e6bf1-673e-450e-a73b-f1ac7f867d52"
      },
      "outputs": [
        {
          "data": {
            "text/html": [
              "<div>\n",
              "<style scoped>\n",
              "    .dataframe tbody tr th:only-of-type {\n",
              "        vertical-align: middle;\n",
              "    }\n",
              "\n",
              "    .dataframe tbody tr th {\n",
              "        vertical-align: top;\n",
              "    }\n",
              "\n",
              "    .dataframe thead th {\n",
              "        text-align: right;\n",
              "    }\n",
              "</style>\n",
              "<table border=\"1\" class=\"dataframe\">\n",
              "  <thead>\n",
              "    <tr style=\"text-align: right;\">\n",
              "      <th></th>\n",
              "      <th>0</th>\n",
              "      <th>1</th>\n",
              "      <th>2</th>\n",
              "      <th>3</th>\n",
              "      <th>4</th>\n",
              "      <th>5</th>\n",
              "      <th>6</th>\n",
              "      <th>7</th>\n",
              "      <th>8</th>\n",
              "      <th>9</th>\n",
              "      <th>...</th>\n",
              "      <th>270</th>\n",
              "      <th>271</th>\n",
              "      <th>272</th>\n",
              "      <th>273</th>\n",
              "      <th>274</th>\n",
              "      <th>275</th>\n",
              "      <th>276</th>\n",
              "      <th>277</th>\n",
              "      <th>278</th>\n",
              "      <th>279</th>\n",
              "    </tr>\n",
              "  </thead>\n",
              "  <tbody>\n",
              "    <tr>\n",
              "      <th>447</th>\n",
              "      <td>53</td>\n",
              "      <td>1</td>\n",
              "      <td>160</td>\n",
              "      <td>70</td>\n",
              "      <td>80</td>\n",
              "      <td>199</td>\n",
              "      <td>382</td>\n",
              "      <td>154</td>\n",
              "      <td>117</td>\n",
              "      <td>-37</td>\n",
              "      <td>...</td>\n",
              "      <td>0.0</td>\n",
              "      <td>4.3</td>\n",
              "      <td>-5.0</td>\n",
              "      <td>0.0</td>\n",
              "      <td>0.0</td>\n",
              "      <td>0.7</td>\n",
              "      <td>0.6</td>\n",
              "      <td>-4.4</td>\n",
              "      <td>-0.5</td>\n",
              "      <td>1</td>\n",
              "    </tr>\n",
              "    <tr>\n",
              "      <th>448</th>\n",
              "      <td>37</td>\n",
              "      <td>0</td>\n",
              "      <td>190</td>\n",
              "      <td>85</td>\n",
              "      <td>100</td>\n",
              "      <td>137</td>\n",
              "      <td>361</td>\n",
              "      <td>201</td>\n",
              "      <td>73</td>\n",
              "      <td>86</td>\n",
              "      <td>...</td>\n",
              "      <td>0.0</td>\n",
              "      <td>15.6</td>\n",
              "      <td>-1.6</td>\n",
              "      <td>0.0</td>\n",
              "      <td>0.0</td>\n",
              "      <td>0.4</td>\n",
              "      <td>2.4</td>\n",
              "      <td>38.0</td>\n",
              "      <td>62.4</td>\n",
              "      <td>10</td>\n",
              "    </tr>\n",
              "    <tr>\n",
              "      <th>449</th>\n",
              "      <td>36</td>\n",
              "      <td>0</td>\n",
              "      <td>166</td>\n",
              "      <td>68</td>\n",
              "      <td>108</td>\n",
              "      <td>176</td>\n",
              "      <td>365</td>\n",
              "      <td>194</td>\n",
              "      <td>116</td>\n",
              "      <td>-85</td>\n",
              "      <td>...</td>\n",
              "      <td>0.0</td>\n",
              "      <td>16.3</td>\n",
              "      <td>-28.6</td>\n",
              "      <td>0.0</td>\n",
              "      <td>0.0</td>\n",
              "      <td>1.5</td>\n",
              "      <td>1.0</td>\n",
              "      <td>-44.2</td>\n",
              "      <td>-33.2</td>\n",
              "      <td>2</td>\n",
              "    </tr>\n",
              "    <tr>\n",
              "      <th>450</th>\n",
              "      <td>32</td>\n",
              "      <td>1</td>\n",
              "      <td>155</td>\n",
              "      <td>55</td>\n",
              "      <td>93</td>\n",
              "      <td>106</td>\n",
              "      <td>386</td>\n",
              "      <td>218</td>\n",
              "      <td>63</td>\n",
              "      <td>54</td>\n",
              "      <td>...</td>\n",
              "      <td>-0.4</td>\n",
              "      <td>12.0</td>\n",
              "      <td>-0.7</td>\n",
              "      <td>0.0</td>\n",
              "      <td>0.0</td>\n",
              "      <td>0.5</td>\n",
              "      <td>2.4</td>\n",
              "      <td>25.0</td>\n",
              "      <td>46.6</td>\n",
              "      <td>1</td>\n",
              "    </tr>\n",
              "    <tr>\n",
              "      <th>451</th>\n",
              "      <td>78</td>\n",
              "      <td>1</td>\n",
              "      <td>160</td>\n",
              "      <td>70</td>\n",
              "      <td>79</td>\n",
              "      <td>127</td>\n",
              "      <td>364</td>\n",
              "      <td>138</td>\n",
              "      <td>78</td>\n",
              "      <td>28</td>\n",
              "      <td>...</td>\n",
              "      <td>0.0</td>\n",
              "      <td>10.4</td>\n",
              "      <td>-1.8</td>\n",
              "      <td>0.0</td>\n",
              "      <td>0.0</td>\n",
              "      <td>0.5</td>\n",
              "      <td>1.6</td>\n",
              "      <td>21.3</td>\n",
              "      <td>32.8</td>\n",
              "      <td>1</td>\n",
              "    </tr>\n",
              "  </tbody>\n",
              "</table>\n",
              "<p>5 rows × 280 columns</p>\n",
              "</div>"
            ],
            "text/plain": [
              "     0    1    2    3    4    5    6    7    8    9    ...  270   271   272  \\\n",
              "447   53    1  160   70   80  199  382  154  117  -37  ...  0.0   4.3  -5.0   \n",
              "448   37    0  190   85  100  137  361  201   73   86  ...  0.0  15.6  -1.6   \n",
              "449   36    0  166   68  108  176  365  194  116  -85  ...  0.0  16.3 -28.6   \n",
              "450   32    1  155   55   93  106  386  218   63   54  ... -0.4  12.0  -0.7   \n",
              "451   78    1  160   70   79  127  364  138   78   28  ...  0.0  10.4  -1.8   \n",
              "\n",
              "     273  274  275  276   277   278  279  \n",
              "447  0.0  0.0  0.7  0.6  -4.4  -0.5    1  \n",
              "448  0.0  0.0  0.4  2.4  38.0  62.4   10  \n",
              "449  0.0  0.0  1.5  1.0 -44.2 -33.2    2  \n",
              "450  0.0  0.0  0.5  2.4  25.0  46.6    1  \n",
              "451  0.0  0.0  0.5  1.6  21.3  32.8    1  \n",
              "\n",
              "[5 rows x 280 columns]"
            ]
          },
          "execution_count": 5,
          "metadata": {},
          "output_type": "execute_result"
        }
      ],
      "source": [
        "#Inspecting the last 5 rows of the dataset\n",
        "df.tail()"
      ]
    },
    {
      "cell_type": "markdown",
      "metadata": {
        "id": "bc4f2424"
      },
      "source": [
        "# Check Dataset Dimensions\n",
        "- **Functionality:** This cell displays the number of rows and columns in the DataFrame using the `.shape` attribute."
      ]
    },
    {
      "cell_type": "code",
      "execution_count": null,
      "metadata": {
        "colab": {
          "base_uri": "https://localhost:8080/"
        },
        "id": "WsHRaIB39e5A",
        "outputId": "938d8226-6e57-4b35-da74-91846fc7bd7d"
      },
      "outputs": [
        {
          "data": {
            "text/plain": [
              "(452, 280)"
            ]
          },
          "execution_count": 6,
          "metadata": {},
          "output_type": "execute_result"
        }
      ],
      "source": [
        "#Inspecting the dimensionality of the dataset\n",
        "df.shape"
      ]
    },
    {
      "cell_type": "markdown",
      "metadata": {
        "id": "db921242"
      },
      "source": [
        "# Get Dataset Information\n",
        "- **Functionality:** This cell provides a concise summary of the DataFrame, including the data types of each column, the number of non-null values, and memory usage, using the `.info()` method."
      ]
    },
    {
      "cell_type": "code",
      "execution_count": null,
      "metadata": {
        "colab": {
          "base_uri": "https://localhost:8080/"
        },
        "id": "TnDgDptX9grD",
        "outputId": "58c82177-2be6-4ecf-b8ba-9a97e0d1d979"
      },
      "outputs": [
        {
          "name": "stdout",
          "output_type": "stream",
          "text": [
            "<class 'pandas.core.frame.DataFrame'>\n",
            "RangeIndex: 452 entries, 0 to 451\n",
            "Columns: 280 entries, 0 to 279\n",
            "dtypes: float64(120), int64(155), object(5)\n",
            "memory usage: 988.9+ KB\n"
          ]
        }
      ],
      "source": [
        "#Obtaining information on the dataset\n",
        "df.info()"
      ]
    },
    {
      "cell_type": "markdown",
      "metadata": {
        "id": "e88c06d1"
      },
      "source": [
        "# Get Descriptive Statistics\n",
        "- **Functionality:** This cell generates descriptive statistics for the numerical columns in the DataFrame, such as mean, standard deviation, minimum, maximum, and quartiles, using the `.describe()` method."
      ]
    },
    {
      "cell_type": "code",
      "execution_count": null,
      "metadata": {
        "colab": {
          "base_uri": "https://localhost:8080/",
          "height": 350
        },
        "id": "yOP9FhpQ9hm7",
        "outputId": "af54010e-156f-4161-f577-a9120c76c048"
      },
      "outputs": [
        {
          "data": {
            "text/html": [
              "<div>\n",
              "<style scoped>\n",
              "    .dataframe tbody tr th:only-of-type {\n",
              "        vertical-align: middle;\n",
              "    }\n",
              "\n",
              "    .dataframe tbody tr th {\n",
              "        vertical-align: top;\n",
              "    }\n",
              "\n",
              "    .dataframe thead th {\n",
              "        text-align: right;\n",
              "    }\n",
              "</style>\n",
              "<table border=\"1\" class=\"dataframe\">\n",
              "  <thead>\n",
              "    <tr style=\"text-align: right;\">\n",
              "      <th></th>\n",
              "      <th>0</th>\n",
              "      <th>1</th>\n",
              "      <th>2</th>\n",
              "      <th>3</th>\n",
              "      <th>4</th>\n",
              "      <th>5</th>\n",
              "      <th>6</th>\n",
              "      <th>7</th>\n",
              "      <th>8</th>\n",
              "      <th>9</th>\n",
              "      <th>...</th>\n",
              "      <th>270</th>\n",
              "      <th>271</th>\n",
              "      <th>272</th>\n",
              "      <th>273</th>\n",
              "      <th>274</th>\n",
              "      <th>275</th>\n",
              "      <th>276</th>\n",
              "      <th>277</th>\n",
              "      <th>278</th>\n",
              "      <th>279</th>\n",
              "    </tr>\n",
              "  </thead>\n",
              "  <tbody>\n",
              "    <tr>\n",
              "      <th>count</th>\n",
              "      <td>452.000000</td>\n",
              "      <td>452.000000</td>\n",
              "      <td>452.000000</td>\n",
              "      <td>452.000000</td>\n",
              "      <td>452.000000</td>\n",
              "      <td>452.000000</td>\n",
              "      <td>452.000000</td>\n",
              "      <td>452.000000</td>\n",
              "      <td>452.000000</td>\n",
              "      <td>452.000000</td>\n",
              "      <td>...</td>\n",
              "      <td>452.000000</td>\n",
              "      <td>452.000000</td>\n",
              "      <td>452.000000</td>\n",
              "      <td>452.000000</td>\n",
              "      <td>452.0</td>\n",
              "      <td>452.000000</td>\n",
              "      <td>452.000000</td>\n",
              "      <td>452.000000</td>\n",
              "      <td>452.000000</td>\n",
              "      <td>452.000000</td>\n",
              "    </tr>\n",
              "    <tr>\n",
              "      <th>mean</th>\n",
              "      <td>46.471239</td>\n",
              "      <td>0.550885</td>\n",
              "      <td>166.188053</td>\n",
              "      <td>68.170354</td>\n",
              "      <td>88.920354</td>\n",
              "      <td>155.152655</td>\n",
              "      <td>367.207965</td>\n",
              "      <td>169.949115</td>\n",
              "      <td>90.004425</td>\n",
              "      <td>33.676991</td>\n",
              "      <td>...</td>\n",
              "      <td>-0.278982</td>\n",
              "      <td>9.048009</td>\n",
              "      <td>-1.457301</td>\n",
              "      <td>0.003982</td>\n",
              "      <td>0.0</td>\n",
              "      <td>0.514823</td>\n",
              "      <td>1.222345</td>\n",
              "      <td>19.326106</td>\n",
              "      <td>29.473230</td>\n",
              "      <td>3.880531</td>\n",
              "    </tr>\n",
              "    <tr>\n",
              "      <th>std</th>\n",
              "      <td>16.466631</td>\n",
              "      <td>0.497955</td>\n",
              "      <td>37.170340</td>\n",
              "      <td>16.590803</td>\n",
              "      <td>15.364394</td>\n",
              "      <td>44.842283</td>\n",
              "      <td>33.385421</td>\n",
              "      <td>35.633072</td>\n",
              "      <td>25.826643</td>\n",
              "      <td>45.431434</td>\n",
              "      <td>...</td>\n",
              "      <td>0.548876</td>\n",
              "      <td>3.472862</td>\n",
              "      <td>2.002430</td>\n",
              "      <td>0.050118</td>\n",
              "      <td>0.0</td>\n",
              "      <td>0.347531</td>\n",
              "      <td>1.426052</td>\n",
              "      <td>13.503922</td>\n",
              "      <td>18.493927</td>\n",
              "      <td>4.407097</td>\n",
              "    </tr>\n",
              "    <tr>\n",
              "      <th>min</th>\n",
              "      <td>0.000000</td>\n",
              "      <td>0.000000</td>\n",
              "      <td>105.000000</td>\n",
              "      <td>6.000000</td>\n",
              "      <td>55.000000</td>\n",
              "      <td>0.000000</td>\n",
              "      <td>232.000000</td>\n",
              "      <td>108.000000</td>\n",
              "      <td>0.000000</td>\n",
              "      <td>-172.000000</td>\n",
              "      <td>...</td>\n",
              "      <td>-4.100000</td>\n",
              "      <td>0.000000</td>\n",
              "      <td>-28.600000</td>\n",
              "      <td>0.000000</td>\n",
              "      <td>0.0</td>\n",
              "      <td>-0.800000</td>\n",
              "      <td>-6.000000</td>\n",
              "      <td>-44.200000</td>\n",
              "      <td>-38.600000</td>\n",
              "      <td>1.000000</td>\n",
              "    </tr>\n",
              "    <tr>\n",
              "      <th>25%</th>\n",
              "      <td>36.000000</td>\n",
              "      <td>0.000000</td>\n",
              "      <td>160.000000</td>\n",
              "      <td>59.000000</td>\n",
              "      <td>80.000000</td>\n",
              "      <td>142.000000</td>\n",
              "      <td>350.000000</td>\n",
              "      <td>148.000000</td>\n",
              "      <td>79.000000</td>\n",
              "      <td>3.750000</td>\n",
              "      <td>...</td>\n",
              "      <td>-0.425000</td>\n",
              "      <td>6.600000</td>\n",
              "      <td>-2.100000</td>\n",
              "      <td>0.000000</td>\n",
              "      <td>0.0</td>\n",
              "      <td>0.400000</td>\n",
              "      <td>0.500000</td>\n",
              "      <td>11.450000</td>\n",
              "      <td>17.550000</td>\n",
              "      <td>1.000000</td>\n",
              "    </tr>\n",
              "    <tr>\n",
              "      <th>50%</th>\n",
              "      <td>47.000000</td>\n",
              "      <td>1.000000</td>\n",
              "      <td>164.000000</td>\n",
              "      <td>68.000000</td>\n",
              "      <td>86.000000</td>\n",
              "      <td>157.000000</td>\n",
              "      <td>367.000000</td>\n",
              "      <td>162.000000</td>\n",
              "      <td>91.000000</td>\n",
              "      <td>40.000000</td>\n",
              "      <td>...</td>\n",
              "      <td>0.000000</td>\n",
              "      <td>8.800000</td>\n",
              "      <td>-1.100000</td>\n",
              "      <td>0.000000</td>\n",
              "      <td>0.0</td>\n",
              "      <td>0.500000</td>\n",
              "      <td>1.350000</td>\n",
              "      <td>18.100000</td>\n",
              "      <td>27.900000</td>\n",
              "      <td>1.000000</td>\n",
              "    </tr>\n",
              "    <tr>\n",
              "      <th>75%</th>\n",
              "      <td>58.000000</td>\n",
              "      <td>1.000000</td>\n",
              "      <td>170.000000</td>\n",
              "      <td>79.000000</td>\n",
              "      <td>94.000000</td>\n",
              "      <td>175.000000</td>\n",
              "      <td>384.000000</td>\n",
              "      <td>179.000000</td>\n",
              "      <td>102.000000</td>\n",
              "      <td>66.000000</td>\n",
              "      <td>...</td>\n",
              "      <td>0.000000</td>\n",
              "      <td>11.200000</td>\n",
              "      <td>0.000000</td>\n",
              "      <td>0.000000</td>\n",
              "      <td>0.0</td>\n",
              "      <td>0.700000</td>\n",
              "      <td>2.100000</td>\n",
              "      <td>25.825000</td>\n",
              "      <td>41.125000</td>\n",
              "      <td>6.000000</td>\n",
              "    </tr>\n",
              "    <tr>\n",
              "      <th>max</th>\n",
              "      <td>83.000000</td>\n",
              "      <td>1.000000</td>\n",
              "      <td>780.000000</td>\n",
              "      <td>176.000000</td>\n",
              "      <td>188.000000</td>\n",
              "      <td>524.000000</td>\n",
              "      <td>509.000000</td>\n",
              "      <td>381.000000</td>\n",
              "      <td>205.000000</td>\n",
              "      <td>169.000000</td>\n",
              "      <td>...</td>\n",
              "      <td>0.000000</td>\n",
              "      <td>23.600000</td>\n",
              "      <td>0.000000</td>\n",
              "      <td>0.800000</td>\n",
              "      <td>0.0</td>\n",
              "      <td>2.400000</td>\n",
              "      <td>6.000000</td>\n",
              "      <td>88.800000</td>\n",
              "      <td>115.900000</td>\n",
              "      <td>16.000000</td>\n",
              "    </tr>\n",
              "  </tbody>\n",
              "</table>\n",
              "<p>8 rows × 275 columns</p>\n",
              "</div>"
            ],
            "text/plain": [
              "              0           1           2           3           4           5    \\\n",
              "count  452.000000  452.000000  452.000000  452.000000  452.000000  452.000000   \n",
              "mean    46.471239    0.550885  166.188053   68.170354   88.920354  155.152655   \n",
              "std     16.466631    0.497955   37.170340   16.590803   15.364394   44.842283   \n",
              "min      0.000000    0.000000  105.000000    6.000000   55.000000    0.000000   \n",
              "25%     36.000000    0.000000  160.000000   59.000000   80.000000  142.000000   \n",
              "50%     47.000000    1.000000  164.000000   68.000000   86.000000  157.000000   \n",
              "75%     58.000000    1.000000  170.000000   79.000000   94.000000  175.000000   \n",
              "max     83.000000    1.000000  780.000000  176.000000  188.000000  524.000000   \n",
              "\n",
              "              6           7           8           9    ...         270  \\\n",
              "count  452.000000  452.000000  452.000000  452.000000  ...  452.000000   \n",
              "mean   367.207965  169.949115   90.004425   33.676991  ...   -0.278982   \n",
              "std     33.385421   35.633072   25.826643   45.431434  ...    0.548876   \n",
              "min    232.000000  108.000000    0.000000 -172.000000  ...   -4.100000   \n",
              "25%    350.000000  148.000000   79.000000    3.750000  ...   -0.425000   \n",
              "50%    367.000000  162.000000   91.000000   40.000000  ...    0.000000   \n",
              "75%    384.000000  179.000000  102.000000   66.000000  ...    0.000000   \n",
              "max    509.000000  381.000000  205.000000  169.000000  ...    0.000000   \n",
              "\n",
              "              271         272         273    274         275         276  \\\n",
              "count  452.000000  452.000000  452.000000  452.0  452.000000  452.000000   \n",
              "mean     9.048009   -1.457301    0.003982    0.0    0.514823    1.222345   \n",
              "std      3.472862    2.002430    0.050118    0.0    0.347531    1.426052   \n",
              "min      0.000000  -28.600000    0.000000    0.0   -0.800000   -6.000000   \n",
              "25%      6.600000   -2.100000    0.000000    0.0    0.400000    0.500000   \n",
              "50%      8.800000   -1.100000    0.000000    0.0    0.500000    1.350000   \n",
              "75%     11.200000    0.000000    0.000000    0.0    0.700000    2.100000   \n",
              "max     23.600000    0.000000    0.800000    0.0    2.400000    6.000000   \n",
              "\n",
              "              277         278         279  \n",
              "count  452.000000  452.000000  452.000000  \n",
              "mean    19.326106   29.473230    3.880531  \n",
              "std     13.503922   18.493927    4.407097  \n",
              "min    -44.200000  -38.600000    1.000000  \n",
              "25%     11.450000   17.550000    1.000000  \n",
              "50%     18.100000   27.900000    1.000000  \n",
              "75%     25.825000   41.125000    6.000000  \n",
              "max     88.800000  115.900000   16.000000  \n",
              "\n",
              "[8 rows x 275 columns]"
            ]
          },
          "execution_count": 8,
          "metadata": {},
          "output_type": "execute_result"
        }
      ],
      "source": [
        "#Obtaining description of the dataset\n",
        "df.describe()"
      ]
    },
    {
      "cell_type": "markdown",
      "metadata": {
        "id": "17a73450"
      },
      "source": [
        "# Count Initial Null Values\n",
        "- **Functionality:** This cell calculates and displays the total number of null values in the entire DataFrame before any handling of missing data."
      ]
    },
    {
      "cell_type": "code",
      "execution_count": null,
      "metadata": {
        "colab": {
          "base_uri": "https://localhost:8080/"
        },
        "id": "QWxWSoqE9jZ5",
        "outputId": "f92d5ea9-0198-48d4-a612-a7c8a0e7d0b3"
      },
      "outputs": [
        {
          "data": {
            "text/plain": [
              "np.int64(0)"
            ]
          },
          "execution_count": 9,
          "metadata": {},
          "output_type": "execute_result"
        }
      ],
      "source": [
        "#Inspecting the dataset for null values\n",
        "pd.isnull(df).sum().sum()"
      ]
    },
    {
      "cell_type": "markdown",
      "metadata": {
        "id": "a7c45b9b"
      },
      "source": [
        "# Replace '?' with NaN\n",
        "- **Functionality:** This cell replaces all occurrences of the character \"?\" in the DataFrame with `np.nan`, which is the standard representation for missing values in pandas and NumPy."
      ]
    },
    {
      "cell_type": "code",
      "execution_count": null,
      "metadata": {
        "id": "nOx6GFJM-bFr"
      },
      "outputs": [],
      "source": [
        "#Replacing the \"?\" in the data with nan method\n",
        "df = df.replace(\"?\", np.nan)"
      ]
    },
    {
      "cell_type": "markdown",
      "metadata": {
        "id": "d06c790d"
      },
      "source": [
        "# Count Null Values After Replacement\n",
        "- **Functionality:** This cell calculates and displays the total number of null values in the DataFrame after replacing \"?\" with `np.nan`, confirming the count of missing values."
      ]
    },
    {
      "cell_type": "code",
      "execution_count": null,
      "metadata": {
        "colab": {
          "base_uri": "https://localhost:8080/"
        },
        "id": "R6om8Ngh-kdM",
        "outputId": "146d52ac-51b8-4e4f-b96f-8fa7823b47ae"
      },
      "outputs": [
        {
          "data": {
            "text/plain": [
              "np.int64(408)"
            ]
          },
          "execution_count": 11,
          "metadata": {},
          "output_type": "execute_result"
        }
      ],
      "source": [
        "#Final counting total number of null values in dataset\n",
        "nv = pd.isnull(df).sum().sum()\n",
        "nv"
      ]
    },
    {
      "cell_type": "markdown",
      "metadata": {
        "id": "fffc425a"
      },
      "source": [
        "# Visualize Null Values per Column\n",
        "- **Functionality:** This cell generates a line plot showing the total number of null values in each column of the DataFrame. This helps visualize which columns have missing data and to what extent."
      ]
    },
    {
      "cell_type": "code",
      "execution_count": null,
      "metadata": {
        "colab": {
          "base_uri": "https://localhost:8080/",
          "height": 400
        },
        "id": "11EGxymA-qtC",
        "outputId": "4c7fe328-1077-4b2a-bbef-febe32323162"
      },
      "outputs": [
        {
          "data": {
            "text/plain": [
              "Text(0, 0.5, 'Total number of null values in each column')"
            ]
          },
          "execution_count": 12,
          "metadata": {},
          "output_type": "execute_result"
        },
        {
          "data": {
            "image/png": "[encoded data removed]",
            "text/plain": [
              "<Figure size 640x480 with 1 Axes>"
            ]
          },
          "metadata": {},
          "output_type": "display_data"
        }
      ],
      "source": [
        "pd.isnull(df).sum().plot()\n",
        "plt.xlabel(\"Column numbers\")\n",
        "plt.ylabel(\"Total number of null values in each column\")"
      ]
    },
    {
      "cell_type": "markdown",
      "metadata": {
        "id": "386567fb"
      },
      "source": [
        "# Zoomed-in View of Null Values\n",
        "- **Functionality:** This cell generates a line plot showing the number of null values for a specific range of columns (index 7 to 16). This provides a more detailed view of the columns with a noticeable number of missing values."
      ]
    },
    {
      "cell_type": "code",
      "execution_count": null,
      "metadata": {
        "colab": {
          "base_uri": "https://localhost:8080/",
          "height": 400
        },
        "id": "W9zcw3SE-_Ts",
        "outputId": "1acba7d7-dc79-433b-fe1a-1c2132f23975"
      },
      "outputs": [
        {
          "data": {
            "text/plain": [
              "Text(0, 0.5, 'Total number of null values in each column')"
            ]
          },
          "execution_count": 13,
          "metadata": {},
          "output_type": "execute_result"
        },
        {
          "data": {
            "image/png": "[encoded data removed]",
            "text/plain": [
              "<Figure size 640x480 with 1 Axes>"
            ]
          },
          "metadata": {},
          "output_type": "display_data"
        }
      ],
      "source": [
        "#Zooming in\n",
        "pd.isnull(df).sum()[7:17].plot(kind='line')\n",
        "plt.xlabel('columns')\n",
        "plt.ylabel('Total number of null values in each column')"
      ]
    },
    {
      "cell_type": "markdown",
      "metadata": {
        "id": "93b9e144"
      },
      "source": [
        "# Drop Column 13\n",
        "- **Functionality:** This cell drops the column with index 13 from the DataFrame in-place, as it was identified as having a large number of missing values."
      ]
    },
    {
      "cell_type": "code",
      "execution_count": null,
      "metadata": {
        "id": "hL5JxT_MBN4t"
      },
      "outputs": [],
      "source": [
        "#Dropping column 13\n",
        "df.drop(columns=13, inplace=True)"
      ]
    },
    {
      "cell_type": "markdown",
      "metadata": {
        "id": "0912c178"
      },
      "source": [
        "# Create a Copy of the DataFrame\n",
        "- **Functionality:** This cell creates a copy of the DataFrame to work with for imputation, preserving the original DataFrame."
      ]
    },
    {
      "cell_type": "code",
      "execution_count": null,
      "metadata": {
        "id": "zkJEouj_BU9d"
      },
      "outputs": [],
      "source": [
        "#Making a copy of the dataset (To avoid changes to the main file during imputation)\n",
        "new_df=df.copy()"
      ]
    },
    {
      "cell_type": "markdown",
      "metadata": {
        "id": "3ebd1508"
      },
      "source": [
        "# Create Indicator Columns for Missing Values\n",
        "- **Functionality:** This cell identifies columns with missing values and creates new boolean columns indicating the positions of the missing values. This can be helpful for some imputation strategies or analysis."
      ]
    },
    {
      "cell_type": "code",
      "execution_count": null,
      "metadata": {
        "id": "ORTgPmRxBhJw"
      },
      "outputs": [],
      "source": [
        "#Making new columns indicating the columns that'll be imputed\n",
        "cols_with_missing = (col for col in new_df.columns if new_df[col].isnull().any())\n",
        "for col in cols_with_missing:\n",
        "    new_df[col] = new_df[col].isnull()"
      ]
    },
    {
      "cell_type": "markdown",
      "metadata": {
        "id": "16fbf635"
      },
      "source": [
        "# Impute Missing Values\n",
        "- **Functionality:** This cell uses `SimpleImputer` to replace missing values (`np.nan`) in the DataFrame. By default, it replaces them with the mean of the non-missing values in each column. The result is converted back to a pandas DataFrame with the original column names."
      ]
    },
    {
      "cell_type": "code",
      "execution_count": null,
      "metadata": {
        "id": "WhFpJhrUB6rQ"
      },
      "outputs": [],
      "source": [
        "#Imputation\n",
        "#my_imputer = SimpleImputer(missing_values=np.nan, strategy='mean')\n",
        "\n",
        "my_imputer = SimpleImputer()\n",
        "new_df = pd.DataFrame(my_imputer.fit_transform(new_df))\n",
        "new_df.columns = df.columns"
      ]
    },
    {
      "cell_type": "markdown",
      "metadata": {
        "id": "4b2fd6cb"
      },
      "source": [
        "# Inspect Imputed DataFrame (Head)\n",
        "- **Functionality:** This cell displays the first 5 rows of the DataFrame after missing values have been imputed."
      ]
    },
    {
      "cell_type": "code",
      "execution_count": null,
      "metadata": {
        "colab": {
          "base_uri": "https://localhost:8080/",
          "height": 255
        },
        "id": "wHHlruNfTP7K",
        "outputId": "d7fa4061-de5d-46e8-b5ff-98d1f72e3db7"
      },
      "outputs": [
        {
          "data": {
            "text/html": [
              "<div>\n",
              "<style scoped>\n",
              "    .dataframe tbody tr th:only-of-type {\n",
              "        vertical-align: middle;\n",
              "    }\n",
              "\n",
              "    .dataframe tbody tr th {\n",
              "        vertical-align: top;\n",
              "    }\n",
              "\n",
              "    .dataframe thead th {\n",
              "        text-align: right;\n",
              "    }\n",
              "</style>\n",
              "<table border=\"1\" class=\"dataframe\">\n",
              "  <thead>\n",
              "    <tr style=\"text-align: right;\">\n",
              "      <th></th>\n",
              "      <th>0</th>\n",
              "      <th>1</th>\n",
              "      <th>2</th>\n",
              "      <th>3</th>\n",
              "      <th>4</th>\n",
              "      <th>5</th>\n",
              "      <th>6</th>\n",
              "      <th>7</th>\n",
              "      <th>8</th>\n",
              "      <th>9</th>\n",
              "      <th>...</th>\n",
              "      <th>270</th>\n",
              "      <th>271</th>\n",
              "      <th>272</th>\n",
              "      <th>273</th>\n",
              "      <th>274</th>\n",
              "      <th>275</th>\n",
              "      <th>276</th>\n",
              "      <th>277</th>\n",
              "      <th>278</th>\n",
              "      <th>279</th>\n",
              "    </tr>\n",
              "  </thead>\n",
              "  <tbody>\n",
              "    <tr>\n",
              "      <th>0</th>\n",
              "      <td>75.0</td>\n",
              "      <td>0.0</td>\n",
              "      <td>190.0</td>\n",
              "      <td>80.0</td>\n",
              "      <td>91.0</td>\n",
              "      <td>193.0</td>\n",
              "      <td>371.0</td>\n",
              "      <td>174.0</td>\n",
              "      <td>121.0</td>\n",
              "      <td>-16.0</td>\n",
              "      <td>...</td>\n",
              "      <td>0.0</td>\n",
              "      <td>9.0</td>\n",
              "      <td>-0.9</td>\n",
              "      <td>0.0</td>\n",
              "      <td>0.0</td>\n",
              "      <td>0.9</td>\n",
              "      <td>2.9</td>\n",
              "      <td>23.3</td>\n",
              "      <td>49.4</td>\n",
              "      <td>8.0</td>\n",
              "    </tr>\n",
              "    <tr>\n",
              "      <th>1</th>\n",
              "      <td>56.0</td>\n",
              "      <td>1.0</td>\n",
              "      <td>165.0</td>\n",
              "      <td>64.0</td>\n",
              "      <td>81.0</td>\n",
              "      <td>174.0</td>\n",
              "      <td>401.0</td>\n",
              "      <td>149.0</td>\n",
              "      <td>39.0</td>\n",
              "      <td>25.0</td>\n",
              "      <td>...</td>\n",
              "      <td>0.0</td>\n",
              "      <td>8.5</td>\n",
              "      <td>0.0</td>\n",
              "      <td>0.0</td>\n",
              "      <td>0.0</td>\n",
              "      <td>0.2</td>\n",
              "      <td>2.1</td>\n",
              "      <td>20.4</td>\n",
              "      <td>38.8</td>\n",
              "      <td>6.0</td>\n",
              "    </tr>\n",
              "    <tr>\n",
              "      <th>2</th>\n",
              "      <td>54.0</td>\n",
              "      <td>0.0</td>\n",
              "      <td>172.0</td>\n",
              "      <td>95.0</td>\n",
              "      <td>138.0</td>\n",
              "      <td>163.0</td>\n",
              "      <td>386.0</td>\n",
              "      <td>185.0</td>\n",
              "      <td>102.0</td>\n",
              "      <td>96.0</td>\n",
              "      <td>...</td>\n",
              "      <td>0.0</td>\n",
              "      <td>9.5</td>\n",
              "      <td>-2.4</td>\n",
              "      <td>0.0</td>\n",
              "      <td>0.0</td>\n",
              "      <td>0.3</td>\n",
              "      <td>3.4</td>\n",
              "      <td>12.3</td>\n",
              "      <td>49.0</td>\n",
              "      <td>10.0</td>\n",
              "    </tr>\n",
              "    <tr>\n",
              "      <th>3</th>\n",
              "      <td>55.0</td>\n",
              "      <td>0.0</td>\n",
              "      <td>175.0</td>\n",
              "      <td>94.0</td>\n",
              "      <td>100.0</td>\n",
              "      <td>202.0</td>\n",
              "      <td>380.0</td>\n",
              "      <td>179.0</td>\n",
              "      <td>143.0</td>\n",
              "      <td>28.0</td>\n",
              "      <td>...</td>\n",
              "      <td>0.0</td>\n",
              "      <td>12.2</td>\n",
              "      <td>-2.2</td>\n",
              "      <td>0.0</td>\n",
              "      <td>0.0</td>\n",
              "      <td>0.4</td>\n",
              "      <td>2.6</td>\n",
              "      <td>34.6</td>\n",
              "      <td>61.6</td>\n",
              "      <td>1.0</td>\n",
              "    </tr>\n",
              "    <tr>\n",
              "      <th>4</th>\n",
              "      <td>75.0</td>\n",
              "      <td>0.0</td>\n",
              "      <td>190.0</td>\n",
              "      <td>80.0</td>\n",
              "      <td>88.0</td>\n",
              "      <td>181.0</td>\n",
              "      <td>360.0</td>\n",
              "      <td>177.0</td>\n",
              "      <td>103.0</td>\n",
              "      <td>-16.0</td>\n",
              "      <td>...</td>\n",
              "      <td>0.0</td>\n",
              "      <td>13.1</td>\n",
              "      <td>-3.6</td>\n",
              "      <td>0.0</td>\n",
              "      <td>0.0</td>\n",
              "      <td>-0.1</td>\n",
              "      <td>3.9</td>\n",
              "      <td>25.4</td>\n",
              "      <td>62.8</td>\n",
              "      <td>7.0</td>\n",
              "    </tr>\n",
              "  </tbody>\n",
              "</table>\n",
              "<p>5 rows × 279 columns</p>\n",
              "</div>"
            ],
            "text/plain": [
              "    0    1      2     3      4      5      6      7      8     9    ...  270  \\\n",
              "0  75.0  0.0  190.0  80.0   91.0  193.0  371.0  174.0  121.0 -16.0  ...  0.0   \n",
              "1  56.0  1.0  165.0  64.0   81.0  174.0  401.0  149.0   39.0  25.0  ...  0.0   \n",
              "2  54.0  0.0  172.0  95.0  138.0  163.0  386.0  185.0  102.0  96.0  ...  0.0   \n",
              "3  55.0  0.0  175.0  94.0  100.0  202.0  380.0  179.0  143.0  28.0  ...  0.0   \n",
              "4  75.0  0.0  190.0  80.0   88.0  181.0  360.0  177.0  103.0 -16.0  ...  0.0   \n",
              "\n",
              "    271  272  273  274  275  276   277   278   279  \n",
              "0   9.0 -0.9  0.0  0.0  0.9  2.9  23.3  49.4   8.0  \n",
              "1   8.5  0.0  0.0  0.0  0.2  2.1  20.4  38.8   6.0  \n",
              "2   9.5 -2.4  0.0  0.0  0.3  3.4  12.3  49.0  10.0  \n",
              "3  12.2 -2.2  0.0  0.0  0.4  2.6  34.6  61.6   1.0  \n",
              "4  13.1 -3.6  0.0  0.0 -0.1  3.9  25.4  62.8   7.0  \n",
              "\n",
              "[5 rows x 279 columns]"
            ]
          },
          "execution_count": 18,
          "metadata": {},
          "output_type": "execute_result"
        }
      ],
      "source": [
        "#Imputed dataframe\n",
        "new_df.head()"
      ]
    },
    {
      "cell_type": "markdown",
      "metadata": {
        "id": "d8b15f0a"
      },
      "source": [
        "# Verify No Null Values After Imputation\n",
        "- **Functionality:** This cell calculates and displays the total number of null values in the DataFrame after imputation, confirming that all missing values have been handled."
      ]
    },
    {
      "cell_type": "code",
      "execution_count": null,
      "metadata": {
        "colab": {
          "base_uri": "https://localhost:8080/"
        },
        "id": "CkABCJoUTdDn",
        "outputId": "be66a8fc-40a2-48ee-9d48-361d269e5e30"
      },
      "outputs": [
        {
          "data": {
            "text/plain": [
              "np.int64(0)"
            ]
          },
          "execution_count": 19,
          "metadata": {},
          "output_type": "execute_result"
        }
      ],
      "source": [
        "#Dataset with zero null values\n",
        "pd.isnull(new_df).sum().sum()"
      ]
    },
    {
      "cell_type": "markdown",
      "metadata": {
        "id": "fc5485f7"
      },
      "source": [
        "# Define Final Column Names\n",
        "- **Functionality:** This cell defines a list of descriptive names for all the columns in the dataset, including the target variable."
      ]
    },
    {
      "cell_type": "code",
      "execution_count": null,
      "metadata": {
        "id": "SZIAF7PUTkhM"
      },
      "outputs": [],
      "source": [
        "#Creating column names\n",
        "final_df_columns = [\"Age\",\"Sex\",\"Height\",\"Weight\",\"QRS_Dur\",\n",
        "\"P-R_Int\",\"Q-T_Int\",\"T_Int\",\"P_Int\",\"QRS\",\"T\",\"P\",\"J\",\"Heart_Rate\",\n",
        "\"Q_Wave\",\"R_Wave\",\"S_Wave\",\"R'_Wave\",\"S'_Wave\",\"Int_Def\",\"Rag_R_Nom\",\n",
        "\"Diph_R_Nom\",\"Rag_P_Nom\",\"Diph_P_Nom\",\"Rag_T_Nom\",\"Diph_T_Nom\",\n",
        "\"DII00\", \"DII01\",\"DII02\", \"DII03\", \"DII04\",\"DII05\",\"DII06\",\"DII07\",\"DII08\",\"DII09\",\"DII10\",\"DII11\",\n",
        "\"DIII00\",\"DIII01\",\"DIII02\", \"DIII03\", \"DIII04\",\"DIII05\",\"DIII06\",\"DIII07\",\"DIII08\",\"DIII09\",\"DIII10\",\"DIII11\",\n",
        "\"AVR00\",\"AVR01\",\"AVR02\",\"AVR03\",\"AVR04\",\"AVR05\",\"AVR06\",\"AVR07\",\"AVR08\",\"AVR09\",\"AVR10\",\"AVR11\",\n",
        "\"AVL00\",\"AVL01\",\"AVL02\",\"AVL03\",\"AVL04\",\"AVL05\",\"AVL06\",\"AVL07\",\"AVL08\",\"AVL09\",\"AVL10\",\"AVL11\",\n",
        "\"AVF00\",\"AVF01\",\"AVF02\",\"AVF03\",\"AVF04\",\"AVF05\",\"AVF06\",\"AVF07\",\"AVF08\",\"AVF09\",\"AVF10\",\"AVF11\",\n",
        "\"V100\",\"V101\",\"V102\",\"V103\",\"V104\",\"V105\",\"V106\",\"V107\",\"V108\",\"V109\",\"V110\",\"V111\",\n",
        "\"V200\",\"V201\",\"V202\",\"V203\",\"V204\",\"V205\",\"V206\",\"V207\",\"V208\",\"V209\",\"V210\",\"V211\",\n",
        "\"V300\",\"V301\",\"V302\",\"V303\",\"V304\",\"V305\",\"V306\",\"V307\",\"V308\",\"V309\",\"V310\",\"V311\",\n",
        "\"V400\",\"V401\",\"V402\",\"V403\",\"V404\",\"V405\",\"V406\",\"V407\",\"V408\",\"V409\",\"V410\",\"V411\",\n",
        "\"V500\",\"V501\",\"V502\",\"V503\",\"V504\",\"V505\",\"V506\",\"V507\",\"V508\",\"V509\",\"V510\",\"V511\",\n",
        "\"V600\",\"V601\",\"V602\",\"V603\",\"V604\",\"V605\",\"V606\",\"V607\",\"V608\",\"V609\",\"V610\",\"V611\",\n",
        "\"JJ_Wave\",\"Amp_Q_Wave\",\"Amp_R_Wave\",\"Amp_S_Wave\",\"R_Prime_Wave\",\"S_Prime_Wave\",\"P_Wave\",\"T_Wave\",\n",
        "\"QRSA\",\"QRSTA\",\"DII170\",\"DII171\",\"DII172\",\"DII173\",\"DII174\",\"DII175\",\"DII176\",\"DII177\",\"DII178\",\"DII179\",\n",
        "\"DIII180\",\"DIII181\",\"DIII182\",\"DIII183\",\"DIII184\",\"DIII185\",\"DIII186\",\"DIII187\",\"DIII188\",\"DIII189\",\n",
        "\"AVR190\",\"AVR191\",\"AVR192\",\"AVR193\",\"AVR194\",\"AVR195\",\"AVR196\",\"AVR197\",\"AVR198\",\"AVR199\",\n",
        "\"AVL200\",\"AVL201\",\"AVL202\",\"AVL203\",\"AVL204\",\"AVL205\",\"AVL206\",\"AVL207\",\"AVL208\",\"AVL209\",\n",
        "\"AVF210\",\"AVF211\",\"AVF212\",\"AVF213\",\"AVF214\",\"AVF215\",\"AVF216\",\"AVF217\",\"AVF218\",\"AVF219\",\n",
        "\"V1220\",\"V1221\",\"V1222\",\"V1223\",\"V1224\",\"V1225\",\"V1226\",\"V1227\",\"V1228\",\"V1229\",\n",
        "\"V2230\",\"V2231\",\"V2232\",\"V2233\",\"V2234\",\"V2235\",\"V2236\",\"V2237\",\"V2238\",\"V2239\",\n",
        "\"V3240\",\"V3241\",\"V3242\",\"V3243\",\"V3244\",\"V3245\",\"V3246\",\"V3247\",\"V3248\",\"V3249\",\n",
        "\"V4250\",\"V4251\",\"V4252\",\"V4253\",\"V4254\",\"V4255\",\"V4256\",\"V4257\",\"V4258\",\"V4259\",\n",
        "\"V5260\",\"V5261\",\"V5262\",\"V5263\",\"V5264\",\"V5265\",\"V5266\",\"V5267\",\"V5268\",\"V5269\",\n",
        "\"V6270\",\"V6271\",\"V6272\",\"V6273\",\"V6274\",\"V6275\",\"V6276\",\"V6277\",\"V6278\",\"V6279\",\"class\"]"
      ]
    },
    {
      "cell_type": "markdown",
      "metadata": {
        "id": "1f5e6683"
      },
      "source": [
        "# Assign Column Names and Save\n",
        "- **Functionality:** This cell assigns the defined column names to the DataFrame, saves the modified DataFrame to a new CSV file, and displays the first 5 rows with the new column names."
      ]
    },
    {
      "cell_type": "code",
      "execution_count": null,
      "metadata": {
        "colab": {
          "base_uri": "https://localhost:8080/",
          "height": 273
        },
        "id": "pNPrn31_T9Ee",
        "outputId": "aaefabbf-23d8-4aee-f810-6c4317c7546e"
      },
      "outputs": [
        {
          "data": {
            "text/html": [
              "<div>\n",
              "<style scoped>\n",
              "    .dataframe tbody tr th:only-of-type {\n",
              "        vertical-align: middle;\n",
              "    }\n",
              "\n",
              "    .dataframe tbody tr th {\n",
              "        vertical-align: top;\n",
              "    }\n",
              "\n",
              "    .dataframe thead th {\n",
              "        text-align: right;\n",
              "    }\n",
              "</style>\n",
              "<table border=\"1\" class=\"dataframe\">\n",
              "  <thead>\n",
              "    <tr style=\"text-align: right;\">\n",
              "      <th></th>\n",
              "      <th>Age</th>\n",
              "      <th>Sex</th>\n",
              "      <th>Height</th>\n",
              "      <th>Weight</th>\n",
              "      <th>QRS_Dur</th>\n",
              "      <th>P-R_Int</th>\n",
              "      <th>Q-T_Int</th>\n",
              "      <th>T_Int</th>\n",
              "      <th>P_Int</th>\n",
              "      <th>QRS</th>\n",
              "      <th>...</th>\n",
              "      <th>V6271</th>\n",
              "      <th>V6272</th>\n",
              "      <th>V6273</th>\n",
              "      <th>V6274</th>\n",
              "      <th>V6275</th>\n",
              "      <th>V6276</th>\n",
              "      <th>V6277</th>\n",
              "      <th>V6278</th>\n",
              "      <th>V6279</th>\n",
              "      <th>class</th>\n",
              "    </tr>\n",
              "  </thead>\n",
              "  <tbody>\n",
              "    <tr>\n",
              "      <th>0</th>\n",
              "      <td>75.0</td>\n",
              "      <td>0.0</td>\n",
              "      <td>190.0</td>\n",
              "      <td>80.0</td>\n",
              "      <td>91.0</td>\n",
              "      <td>193.0</td>\n",
              "      <td>371.0</td>\n",
              "      <td>174.0</td>\n",
              "      <td>121.0</td>\n",
              "      <td>-16.0</td>\n",
              "      <td>...</td>\n",
              "      <td>0.0</td>\n",
              "      <td>9.0</td>\n",
              "      <td>-0.9</td>\n",
              "      <td>0.0</td>\n",
              "      <td>0.0</td>\n",
              "      <td>0.9</td>\n",
              "      <td>2.9</td>\n",
              "      <td>23.3</td>\n",
              "      <td>49.4</td>\n",
              "      <td>8.0</td>\n",
              "    </tr>\n",
              "    <tr>\n",
              "      <th>1</th>\n",
              "      <td>56.0</td>\n",
              "      <td>1.0</td>\n",
              "      <td>165.0</td>\n",
              "      <td>64.0</td>\n",
              "      <td>81.0</td>\n",
              "      <td>174.0</td>\n",
              "      <td>401.0</td>\n",
              "      <td>149.0</td>\n",
              "      <td>39.0</td>\n",
              "      <td>25.0</td>\n",
              "      <td>...</td>\n",
              "      <td>0.0</td>\n",
              "      <td>8.5</td>\n",
              "      <td>0.0</td>\n",
              "      <td>0.0</td>\n",
              "      <td>0.0</td>\n",
              "      <td>0.2</td>\n",
              "      <td>2.1</td>\n",
              "      <td>20.4</td>\n",
              "      <td>38.8</td>\n",
              "      <td>6.0</td>\n",
              "    </tr>\n",
              "    <tr>\n",
              "      <th>2</th>\n",
              "      <td>54.0</td>\n",
              "      <td>0.0</td>\n",
              "      <td>172.0</td>\n",
              "      <td>95.0</td>\n",
              "      <td>138.0</td>\n",
              "      <td>163.0</td>\n",
              "      <td>386.0</td>\n",
              "      <td>185.0</td>\n",
              "      <td>102.0</td>\n",
              "      <td>96.0</td>\n",
              "      <td>...</td>\n",
              "      <td>0.0</td>\n",
              "      <td>9.5</td>\n",
              "      <td>-2.4</td>\n",
              "      <td>0.0</td>\n",
              "      <td>0.0</td>\n",
              "      <td>0.3</td>\n",
              "      <td>3.4</td>\n",
              "      <td>12.3</td>\n",
              "      <td>49.0</td>\n",
              "      <td>10.0</td>\n",
              "    </tr>\n",
              "    <tr>\n",
              "      <th>3</th>\n",
              "      <td>55.0</td>\n",
              "      <td>0.0</td>\n",
              "      <td>175.0</td>\n",
              "      <td>94.0</td>\n",
              "      <td>100.0</td>\n",
              "      <td>202.0</td>\n",
              "      <td>380.0</td>\n",
              "      <td>179.0</td>\n",
              "      <td>143.0</td>\n",
              "      <td>28.0</td>\n",
              "      <td>...</td>\n",
              "      <td>0.0</td>\n",
              "      <td>12.2</td>\n",
              "      <td>-2.2</td>\n",
              "      <td>0.0</td>\n",
              "      <td>0.0</td>\n",
              "      <td>0.4</td>\n",
              "      <td>2.6</td>\n",
              "      <td>34.6</td>\n",
              "      <td>61.6</td>\n",
              "      <td>1.0</td>\n",
              "    </tr>\n",
              "    <tr>\n",
              "      <th>4</th>\n",
              "      <td>75.0</td>\n",
              "      <td>0.0</td>\n",
              "      <td>190.0</td>\n",
              "      <td>80.0</td>\n",
              "      <td>88.0</td>\n",
              "      <td>181.0</td>\n",
              "      <td>360.0</td>\n",
              "      <td>177.0</td>\n",
              "      <td>103.0</td>\n",
              "      <td>-16.0</td>\n",
              "      <td>...</td>\n",
              "      <td>0.0</td>\n",
              "      <td>13.1</td>\n",
              "      <td>-3.6</td>\n",
              "      <td>0.0</td>\n",
              "      <td>0.0</td>\n",
              "      <td>-0.1</td>\n",
              "      <td>3.9</td>\n",
              "      <td>25.4</td>\n",
              "      <td>62.8</td>\n",
              "      <td>7.0</td>\n",
              "    </tr>\n",
              "  </tbody>\n",
              "</table>\n",
              "<p>5 rows × 279 columns</p>\n",
              "</div>"
            ],
            "text/plain": [
              "    Age  Sex  Height  Weight  QRS_Dur  P-R_Int  Q-T_Int  T_Int  P_Int   QRS  \\\n",
              "0  75.0  0.0   190.0    80.0     91.0    193.0    371.0  174.0  121.0 -16.0   \n",
              "1  56.0  1.0   165.0    64.0     81.0    174.0    401.0  149.0   39.0  25.0   \n",
              "2  54.0  0.0   172.0    95.0    138.0    163.0    386.0  185.0  102.0  96.0   \n",
              "3  55.0  0.0   175.0    94.0    100.0    202.0    380.0  179.0  143.0  28.0   \n",
              "4  75.0  0.0   190.0    80.0     88.0    181.0    360.0  177.0  103.0 -16.0   \n",
              "\n",
              "   ...  V6271  V6272  V6273  V6274  V6275  V6276  V6277  V6278  V6279  class  \n",
              "0  ...    0.0    9.0   -0.9    0.0    0.0    0.9    2.9   23.3   49.4    8.0  \n",
              "1  ...    0.0    8.5    0.0    0.0    0.0    0.2    2.1   20.4   38.8    6.0  \n",
              "2  ...    0.0    9.5   -2.4    0.0    0.0    0.3    3.4   12.3   49.0   10.0  \n",
              "3  ...    0.0   12.2   -2.2    0.0    0.0    0.4    2.6   34.6   61.6    1.0  \n",
              "4  ...    0.0   13.1   -3.6    0.0    0.0   -0.1    3.9   25.4   62.8    7.0  \n",
              "\n",
              "[5 rows x 279 columns]"
            ]
          },
          "execution_count": 21,
          "metadata": {},
          "output_type": "execute_result"
        }
      ],
      "source": [
        "# Adding column names to dataset\n",
        "\n",
        "new_df.columns = final_df_columns\n",
        "new_df.to_csv(\"new data with target class.csv\")\n",
        "new_df.head()"
      ]
    },
    {
      "cell_type": "markdown",
      "metadata": {
        "id": "e053bf11"
      },
      "source": [
        "# Separate Features and Target Variable\n",
        "- **Functionality:** This cell separates the target variable ('class') from the rest of the columns in the DataFrame, creating a DataFrame for features (`final_df`) and a Series for the target (`target`)."
      ]
    },
    {
      "cell_type": "code",
      "execution_count": null,
      "metadata": {
        "id": "QNiKvDsHUK99"
      },
      "outputs": [],
      "source": [
        "target = new_df[\"class\"]\n",
        "final_df = new_df.drop(columns = 'class')"
      ]
    },
    {
      "cell_type": "markdown",
      "metadata": {
        "id": "57c649cd"
      },
      "source": [
        "# Check Shape of Feature DataFrame\n",
        "- **Functionality:** This cell displays the dimensions (number of rows and columns) of the feature DataFrame (`final_df`)."
      ]
    },
    {
      "cell_type": "code",
      "execution_count": null,
      "metadata": {
        "colab": {
          "base_uri": "https://localhost:8080/"
        },
        "id": "HFGFy8yvUTO4",
        "outputId": "ac2ec6c5-0a66-40df-8187-d9371c9bacc5"
      },
      "outputs": [
        {
          "data": {
            "text/plain": [
              "(452, 278)"
            ]
          },
          "execution_count": 23,
          "metadata": {},
          "output_type": "execute_result"
        }
      ],
      "source": [
        "final_df.shape"
      ]
    },
    {
      "cell_type": "markdown",
      "metadata": {
        "id": "3b6e6d63"
      },
      "source": [
        "# Exploratory Data Analysis (EDA) Section\n",
        "- **Functionality:** This markdown cell marks the beginning of the Exploratory Data Analysis section of the notebook."
      ]
    },
    {
      "cell_type": "markdown",
      "metadata": {
        "id": "14e32b2a"
      },
      "source": [
        "# Define Class Names\n",
        "- **Functionality:** This cell defines a list of human-readable names for the different arrhythmia classes present in the dataset."
      ]
    },
    {
      "cell_type": "code",
      "execution_count": null,
      "metadata": {
        "id": "Z8cWZjMpUkXC"
      },
      "outputs": [],
      "source": [
        "#List with class names\n",
        "class_names = [\"Normal\",\n",
        "               \"Ischemic changes (CAD)\",\n",
        "               \"Old Anterior Myocardial Infraction\",\n",
        "               \"Old Inferior Myocardial Infraction\",\n",
        "               \"Sinus tachycardy\",\n",
        "               \"Sinus bradycardy\",\n",
        "               \"Ventricular Premature Contraction (PVC)\",\n",
        "               \"Supraventricular Premature Contraction\",\n",
        "               \"Left Boundle branch block\",\n",
        "               \"Right boundle branch block\",\n",
        "               \"1.Degree AtrioVentricular block\",\n",
        "               \"2.Degree AV block\",\n",
        "               \"3.Degree AV block\",\n",
        "               \"Left Ventricule hypertrophy\",\n",
        "               \"Atrial Fibrillation or Flutter\",\n",
        "               \"Others\"]"
      ]
    },
    {
      "cell_type": "markdown",
      "metadata": {
        "id": "289ee43d"
      },
      "source": [
        "# Sort DataFrame by Class\n",
        "- **Functionality:** This cell sorts the DataFrame by the 'class' column, which is helpful for counting instances of each class sequentially."
      ]
    },
    {
      "cell_type": "code",
      "execution_count": null,
      "metadata": {
        "id": "fCZZVePSU_zx"
      },
      "outputs": [],
      "source": [
        "t = new_df.sort_values(\"class\")"
      ]
    },
    {
      "cell_type": "markdown",
      "metadata": {
        "id": "cecb56a1"
      },
      "source": [
        "# Count Instances per Class\n",
        "- **Functionality:** This cell counts the number of occurrences for each unique class label in the sorted DataFrame and stores the counts in a list."
      ]
    },
    {
      "cell_type": "code",
      "execution_count": null,
      "metadata": {
        "colab": {
          "base_uri": "https://localhost:8080/"
        },
        "id": "Otamf12yVDyW",
        "outputId": "f4452f48-6b35-4a22-b10f-f7d25bfd755f"
      },
      "outputs": [
        {
          "data": {
            "text/plain": [
              "[245, 44, 15, 15, 13, 25, 3, 2, 9, 50, 4, 5, 22]"
            ]
          },
          "execution_count": 28,
          "metadata": {},
          "output_type": "execute_result"
        }
      ],
      "source": [
        "#Counting the number of instances for each class\n",
        "la = t[\"class\"].value_counts(sort=False).tolist()\n",
        "la"
      ]
    },
    {
      "cell_type": "markdown",
      "metadata": {
        "id": "54ec50d7"
      },
      "source": [
        "# Visualize Class Distribution (Count Plot)\n",
        "- **Functionality:** This cell generates a count plot showing the number of instances for each class. This provides a visual representation of the class distribution and highlights any class imbalance."
      ]
    },
    {
      "cell_type": "code",
      "execution_count": null,
      "metadata": {
        "colab": {
          "base_uri": "https://localhost:8080/",
          "height": 383
        },
        "id": "e3pVQuHjVNYZ",
        "outputId": "8a15b314-826b-42c0-e28e-07732d49fa9f"
      },
      "outputs": [
        {
          "data": {
            "image/png": "[encoded data removed]",
            "text/plain": [
              "<Figure size 640x480 with 1 Axes>"
            ]
          },
          "metadata": {},
          "output_type": "display_data"
        }
      ],
      "source": [
        "sns.countplot(x='class', data=new_df)\n",
        "plt.show()"
      ]
    },
    {
      "cell_type": "markdown",
      "metadata": {
        "id": "2ad41178"
      },
      "source": [
        "# Note on Instance Counting\n",
        "- **Functionality:** This markdown cell serves as a comment indicating that the next steps involve counting the total number of instances for each class."
      ]
    },
    {
      "cell_type": "code",
      "execution_count": null,
      "metadata": {
        "colab": {
          "base_uri": "https://localhost:8080/"
        },
        "id": "_-r_TVR8gThK",
        "outputId": "a0bc2586-de48-427b-df82-1db35795dc77"
      },
      "outputs": [
        {
          "name": "stdout",
          "output_type": "stream",
          "text": [
            "[245, 44, 15, 15, 13, 25, 3, 2, 9, 50, 0, 0, 0, 4, 5, 22]\n"
          ]
        }
      ],
      "source": [
        "values = la[0:10]\n",
        "values.extend([0,0,0])\n",
        "values.extend(la[10:13])\n",
        "print(values)"
      ]
    },
    {
      "cell_type": "markdown",
      "metadata": {
        "id": "b67f9c8a"
      },
      "source": [
        "# Prepare Class Counts for Pie Chart\n",
        "- **Functionality:** This cell prepares a list of class counts, potentially adjusting for missing classes in the `la` list to align with the `class_names` list, for use in a pie chart."
      ]
    },
    {
      "cell_type": "markdown",
      "metadata": {
        "id": "f65d6353"
      },
      "source": [
        "# Visualize Class Distribution (Pie Chart)\n",
        "- **Functionality:** This cell generates a pie chart to visualize the proportion of instances belonging to each class. The counts are transformed using a logarithmic scale for better visualization of smaller classes. A legend with class names and percentages is included."
      ]
    },
    {
      "cell_type": "code",
      "execution_count": null,
      "metadata": {
        "colab": {
          "base_uri": "https://localhost:8080/",
          "height": 441
        },
        "id": "l0ONMbYBVbe-",
        "outputId": "5c352690-2efa-4c40-e9c3-f0f8da8cf98e"
      },
      "outputs": [
        {
          "data": {
            "image/png": "[encoded data removed]",
            "text/plain": [
              "<Figure size 1600x900 with 1 Axes>"
            ]
          },
          "metadata": {},
          "output_type": "display_data"
        }
      ],
      "source": [
        "labels = class_names\n",
        "Log_Norm = []\n",
        "for i in values:\n",
        "  Log_Norm.append(mt.log10(i+11))\n",
        "fig1, ax1 = plt.subplots(figsize=(16,9))\n",
        "patches = plt.pie(Log_Norm, autopct='%1.1f%%', startangle = 90)\n",
        "\n",
        "leg = plt.legend(loc = 'best', labels=['%s,%1.1f%%' % (l,s) for l,s in zip(labels, Log_Norm)])\n",
        "plt.axis('equal')\n",
        "\n",
        "for text in leg.get_texts():\n",
        "    plt.setp(text, color = 'Black')\n",
        "plt.tight_layout()\n",
        "plt.show()"
      ]
    },
    {
      "cell_type": "markdown",
      "metadata": {
        "id": "f1337e39"
      },
      "source": [
        "# Outlier Handling and Visualization Section\n",
        "- **Functionality:** This markdown cell marks the beginning of the section focused on handling outliers and visualizing data distributions."
      ]
    },
    {
      "cell_type": "markdown",
      "metadata": {
        "id": "5cf0e79a"
      },
      "source": [
        "# Pairwise Relationship and Outlier Visualization (Age, Sex, Height, Weight)\n",
        "- **Functionality:** This cell creates a grid of scatter plots showing the pairwise relationships between 'Age', 'Sex', 'Height', and 'Weight' features. The points are colored based on 'Sex', which helps in identifying potential outliers and understanding relationships within gender groups."
      ]
    },
    {
      "cell_type": "code",
      "execution_count": null,
      "metadata": {
        "colab": {
          "base_uri": "https://localhost:8080/",
          "height": 711
        },
        "id": "UqqiYI_ChaLf",
        "outputId": "28098c3e-06a7-4883-9ee7-d4010f574897"
      },
      "outputs": [
        {
          "data": {
            "image/png": "[encoded data removed]",
            "text/plain": [
              "<Figure size 1072.12x1000 with 16 Axes>"
            ]
          },
          "metadata": {},
          "output_type": "display_data"
        }
      ],
      "source": [
        "#Looking for pairwise relationship and outliers\n",
        "g = sns.PairGrid(final_df, vars = ['Age','Sex','Height','Weight'], hue='Sex', palette='BrBG')\n",
        "g.map(plt.scatter, alpha=0.8)\n",
        "g.add_legend();"
      ]
    },
    {
      "cell_type": "markdown",
      "metadata": {
        "id": "3f5500ea"
      },
      "source": [
        "# Inspect Top 10 Heights\n",
        "- **Functionality:** This cell displays the top 10 largest values in the 'Height' column to identify potential outliers."
      ]
    },
    {
      "cell_type": "code",
      "execution_count": null,
      "metadata": {
        "colab": {
          "base_uri": "https://localhost:8080/"
        },
        "id": "b55pS5u6hv5Y",
        "outputId": "50a28e1b-f2fe-494a-b307-819d7a14d7ab"
      },
      "outputs": [
        {
          "data": {
            "text/plain": [
              "[780.0, 608.0, 190.0, 190.0, 190.0, 188.0, 186.0, 186.0, 186.0, 185.0]"
            ]
          },
          "execution_count": 35,
          "metadata": {},
          "output_type": "execute_result"
        }
      ],
      "source": [
        "sorted(final_df['Height'], reverse=True)[:10]"
      ]
    },
    {
      "cell_type": "markdown",
      "metadata": {
        "id": "efb8aa76"
      },
      "source": [
        "# Correct Outlying Height Values\n",
        "- **Functionality:** This cell replaces specific outlying values in the 'Height' column with more plausible values."
      ]
    },
    {
      "cell_type": "code",
      "execution_count": null,
      "metadata": {
        "id": "aQQaWIIZh5di"
      },
      "outputs": [],
      "source": [
        "final_df['Height']=final_df['Height'].replace(608,108)\n",
        "final_df['Height']=final_df['Height'].replace(780,180)"
      ]
    },
    {
      "cell_type": "markdown",
      "metadata": {
        "id": "74cbdec2"
      },
      "source": [
        "# Inspect Top 10 Weights\n",
        "- **Functionality:** This cell displays the top 10 largest values in the 'Weight' column to identify potential outliers."
      ]
    },
    {
      "cell_type": "code",
      "execution_count": null,
      "metadata": {
        "colab": {
          "base_uri": "https://localhost:8080/"
        },
        "id": "WHXL5a5yiJg4",
        "outputId": "c6677a4c-3a46-4c0d-8a49-228119b48caf"
      },
      "outputs": [
        {
          "data": {
            "text/plain": [
              "[176.0, 124.0, 110.0, 106.0, 105.0, 105.0, 104.0, 104.0, 100.0, 98.0]"
            ]
          },
          "execution_count": 37,
          "metadata": {},
          "output_type": "execute_result"
        }
      ],
      "source": [
        "sorted(final_df['Weight'], reverse=True)[:10]"
      ]
    },
    {
      "cell_type": "markdown",
      "metadata": {
        "id": "2e9e6bf6"
      },
      "source": [
        "# Box Plot of Key ECG Interval Features\n",
        "- **Functionality:** This cell generates box plots for features related to ECG intervals: 'QRS_Dur', 'P-R_Int', 'Q-T_Int', 'T_Int', and 'P_Int'. These plots help visualize the distribution and identify outliers in these features."
      ]
    },
    {
      "cell_type": "code",
      "execution_count": null,
      "metadata": {
        "colab": {
          "base_uri": "https://localhost:8080/",
          "height": 374
        },
        "id": "EBDuGysEiPyG",
        "outputId": "81544536-7b59-44f8-b39a-7e68d9810661"
      },
      "outputs": [
        {
          "data": {
            "image/png": "[encoded data removed]",
            "text/plain": [
              "<Figure size 640x480 with 1 Axes>"
            ]
          },
          "metadata": {},
          "output_type": "display_data"
        }
      ],
      "source": [
        "sns.boxplot(data=final_df[['QRS_Dur','P-R_Int','Q-T_Int','T_Int','P_Int']]);"
      ]
    },
    {
      "cell_type": "markdown",
      "metadata": {
        "id": "68eec7ba"
      },
      "source": [
        "# Bar Plot of Most Frequent P-R Interval Values\n",
        "- **Functionality:** This cell creates a bar plot showing the counts of the five most frequent values in the 'P-R_Int' column."
      ]
    },
    {
      "cell_type": "code",
      "execution_count": null,
      "metadata": {
        "colab": {
          "base_uri": "https://localhost:8080/",
          "height": 403
        },
        "id": "39pGuGqmiygX",
        "outputId": "cc6f1a01-3a53-4ed6-f870-ede9c4ac1016"
      },
      "outputs": [
        {
          "data": {
            "image/png": "[encoded data removed]",
            "text/plain": [
              "<Figure size 640x480 with 1 Axes>"
            ]
          },
          "metadata": {},
          "output_type": "display_data"
        }
      ],
      "source": [
        "final_df['P-R_Int'].value_counts().sort_index().head().plot(kind='bar')\n",
        "plt.xlabel('P-R Interval Values')\n",
        "plt.ylabel('Count');"
      ]
    },
    {
      "cell_type": "markdown",
      "metadata": {
        "id": "fdc500fb"
      },
      "source": [
        "# Bar Plot of Least Frequent P-R Interval Values\n",
        "- **Functionality:** This cell creates a bar plot showing the counts of the five least frequent values in the 'P-R_Int' column."
      ]
    },
    {
      "cell_type": "code",
      "execution_count": null,
      "metadata": {
        "colab": {
          "base_uri": "https://localhost:8080/",
          "height": 403
        },
        "id": "Ttcu4vntjEmA",
        "outputId": "7299569d-e5d5-44de-8071-8f23113b7897"
      },
      "outputs": [
        {
          "data": {
            "image/png": "[encoded data removed]",
            "text/plain": [
              "<Figure size 640x480 with 1 Axes>"
            ]
          },
          "metadata": {},
          "output_type": "display_data"
        }
      ],
      "source": [
        "final_df['P-R_Int'].value_counts().sort_index().tail().plot(kind = 'bar')\n",
        "plt.xlabel('P-R Interval Values')\n",
        "plt.ylabel('Count');"
      ]
    },
    {
      "cell_type": "markdown",
      "metadata": {
        "id": "44d8220b"
      },
      "source": [
        "# Box Plot of QRS, T, P, J, and Heart Rate Features\n",
        "- **Functionality:** This cell generates box plots for the 'QRS', 'T', 'P', 'J', and 'Heart_Rate' features to visualize their distributions and identify outliers."
      ]
    },
    {
      "cell_type": "code",
      "execution_count": null,
      "metadata": {
        "colab": {
          "base_uri": "https://localhost:8080/",
          "height": 370
        },
        "id": "pplqhzttjluh",
        "outputId": "4beac1fb-94ea-4ded-a394-ab2846fcd4f4"
      },
      "outputs": [
        {
          "data": {
            "image/png": "[encoded data removed]",
            "text/plain": [
              "<Figure size 640x480 with 1 Axes>"
            ]
          },
          "metadata": {},
          "output_type": "display_data"
        }
      ],
      "source": [
        "sns.boxplot(data = final_df[[\"QRS\",\"T\",\"P\",\"J\",\"Heart_Rate\"]]);"
      ]
    },
    {
      "cell_type": "markdown",
      "metadata": {
        "id": "eb8abe31"
      },
      "source": [
        "# Box Plot of R', S' Wave, Int_Def, and Rag_R_Nom Features\n",
        "- **Functionality:** This cell generates box plots for the \"R'_Wave\", \"S'_Wave\", \"Int_Def\", and \"Rag_R_Nom\" features to visualize their distributions and identify outliers."
      ]
    },
    {
      "cell_type": "code",
      "execution_count": null,
      "metadata": {
        "colab": {
          "base_uri": "https://localhost:8080/",
          "height": 374
        },
        "id": "yhXk6bZ9kYhp",
        "outputId": "ec8b02c4-26a3-47d8-954c-2c1e4d411042"
      },
      "outputs": [
        {
          "data": {
            "image/png": "[encoded data removed]",
            "text/plain": [
              "<Figure size 640x480 with 1 Axes>"
            ]
          },
          "metadata": {},
          "output_type": "display_data"
        }
      ],
      "source": [
        "sns.boxplot(data=final_df[[\"R'_Wave\",\"S'_Wave\",\"Int_Def\",\"Rag_R_Nom\"]]);"
      ]
    },
    {
      "cell_type": "markdown",
      "metadata": {
        "id": "2e51098c"
      },
      "source": [
        "# Count Values in S' Wave Column\n",
        "- **Functionality:** This cell counts the occurrences of each unique value in the \"S'_Wave\" column, confirming that all values are 0.0."
      ]
    },
    {
      "cell_type": "code",
      "execution_count": null,
      "metadata": {
        "colab": {
          "base_uri": "https://localhost:8080/",
          "height": 147
        },
        "id": "1u2rMDYts-hq",
        "outputId": "ff165b9a-2416-4718-ca91-edf17bc9fb5c"
      },
      "outputs": [
        {
          "data": {
            "text/plain": [
              "S'_Wave\n",
              "0.0    452\n",
              "Name: count, dtype: int64"
            ]
          },
          "execution_count": 44,
          "metadata": {},
          "output_type": "execute_result"
        }
      ],
      "source": [
        "final_df[\"S'_Wave\"].value_counts().sort_index(ascending=False)"
      ]
    },
    {
      "cell_type": "markdown",
      "metadata": {
        "id": "bd5fe59c"
      },
      "source": [
        "# Count Values in V101 Column\n",
        "- **Functionality:** This cell counts the occurrences of each unique value in the \"V101\" column, an ECG feature, to understand its value distribution."
      ]
    },
    {
      "cell_type": "code",
      "execution_count": null,
      "metadata": {
        "colab": {
          "base_uri": "https://localhost:8080/",
          "height": 649
        },
        "id": "MjQ3ZdO1tIYf",
        "outputId": "a89f1956-dd4a-4784-d733-14bb45b3ac1b"
      },
      "outputs": [
        {
          "data": {
            "text/plain": [
              "V101\n",
              "216.0     1\n",
              "112.0     1\n",
              "84.0      1\n",
              "72.0      1\n",
              "68.0      1\n",
              "64.0      1\n",
              "48.0      6\n",
              "44.0      6\n",
              "40.0     13\n",
              "36.0     36\n",
              "32.0     63\n",
              "28.0     81\n",
              "24.0     88\n",
              "20.0     57\n",
              "16.0     13\n",
              "12.0      4\n",
              "0.0      79\n",
              "Name: count, dtype: int64"
            ]
          },
          "execution_count": 45,
          "metadata": {},
          "output_type": "execute_result"
        }
      ],
      "source": [
        "final_df[\"V101\"].value_counts().sort_index(ascending=False)"
      ]
    },
    {
      "cell_type": "markdown",
      "metadata": {
        "id": "3909554c"
      },
      "source": [
        "# Count Values in V201 Column\n",
        "- **Functionality:** This cell counts the occurrences of each unique value in the \"V201\" column, another ECG feature, to understand its value distribution."
      ]
    },
    {
      "cell_type": "code",
      "execution_count": null,
      "metadata": {
        "colab": {
          "base_uri": "https://localhost:8080/",
          "height": 680
        },
        "id": "TbU8ffwKtq7m",
        "outputId": "7d45f857-046e-4953-97fa-c2950feadcd9"
      },
      "outputs": [
        {
          "data": {
            "text/plain": [
              "V201\n",
              "216.0     1\n",
              "136.0     1\n",
              "84.0      1\n",
              "72.0      1\n",
              "60.0      5\n",
              "56.0      4\n",
              "52.0     12\n",
              "48.0     19\n",
              "44.0     53\n",
              "40.0     68\n",
              "36.0     74\n",
              "32.0     69\n",
              "28.0     48\n",
              "24.0     39\n",
              "20.0     15\n",
              "16.0      6\n",
              "12.0      2\n",
              "0.0      34\n",
              "Name: count, dtype: int64"
            ]
          },
          "execution_count": 46,
          "metadata": {},
          "output_type": "execute_result"
        }
      ],
      "source": [
        "final_df[\"V201\"].value_counts().sort_index(ascending=False)"
      ]
    },
    {
      "cell_type": "markdown",
      "metadata": {
        "id": "e5007966"
      },
      "source": [
        "# Count Values in V301 Column\n",
        "- **Functionality:** This cell counts the occurrences of each unique value in the \"V301\" column, an ECG feature, to understand its value distribution."
      ]
    },
    {
      "cell_type": "code",
      "execution_count": null,
      "metadata": {
        "colab": {
          "base_uri": "https://localhost:8080/",
          "height": 711
        },
        "id": "6Ju_pnv8tyRA",
        "outputId": "08db8c1f-63b1-4528-e0fb-0ccbfc3e03ec"
      },
      "outputs": [
        {
          "data": {
            "text/plain": [
              "V301\n",
              "132.0     1\n",
              "88.0      2\n",
              "76.0      2\n",
              "72.0      1\n",
              "68.0      2\n",
              "64.0      3\n",
              "60.0     16\n",
              "56.0     26\n",
              "52.0     57\n",
              "48.0     68\n",
              "44.0     76\n",
              "40.0     74\n",
              "36.0     49\n",
              "32.0     32\n",
              "28.0     13\n",
              "24.0      4\n",
              "20.0      6\n",
              "16.0      1\n",
              "0.0      19\n",
              "Name: count, dtype: int64"
            ]
          },
          "execution_count": 47,
          "metadata": {},
          "output_type": "execute_result"
        }
      ],
      "source": [
        "final_df[\"V301\"].value_counts().sort_index(ascending=False)"
      ]
    },
    {
      "cell_type": "markdown",
      "metadata": {
        "id": "6b7460e2"
      },
      "source": [
        "# Count Values in V501 Column\n",
        "- **Functionality:** This cell counts the occurrences of each unique value in the \"V501\" column, an ECG feature, to understand its value distribution."
      ]
    },
    {
      "cell_type": "code",
      "execution_count": null,
      "metadata": {
        "colab": {
          "base_uri": "https://localhost:8080/",
          "height": 837
        },
        "id": "YE9DZR82t4JP",
        "outputId": "c994e8b4-ce5d-4d13-d171-6278b9d5f814"
      },
      "outputs": [
        {
          "data": {
            "text/plain": [
              "V501\n",
              "136.0      1\n",
              "120.0      2\n",
              "116.0      1\n",
              "108.0      1\n",
              "96.0       1\n",
              "92.0       1\n",
              "84.0       1\n",
              "76.0       2\n",
              "72.0       3\n",
              "68.0       4\n",
              "64.0       5\n",
              "60.0       9\n",
              "56.0      22\n",
              "52.0      67\n",
              "48.0     105\n",
              "44.0     104\n",
              "40.0      73\n",
              "36.0      29\n",
              "32.0      12\n",
              "28.0       3\n",
              "24.0       2\n",
              "20.0       1\n",
              "0.0        3\n",
              "Name: count, dtype: int64"
            ]
          },
          "execution_count": 48,
          "metadata": {},
          "output_type": "execute_result"
        }
      ],
      "source": [
        "final_df[\"V501\"].value_counts().sort_index(ascending=False)"
      ]
    },
    {
      "cell_type": "markdown",
      "metadata": {
        "id": "9571a033"
      },
      "source": [
        "# Box Plot of AVR Lead ECG Features\n",
        "- **Functionality:** This cell generates box plots for a set of ECG features from the AVR lead (AVR190 to AVR199) to visualize their distributions and identify outliers. The figure size is set for better visibility."
      ]
    },
    {
      "cell_type": "code",
      "execution_count": null,
      "metadata": {
        "colab": {
          "base_uri": "https://localhost:8080/",
          "height": 386
        },
        "id": "M3aFdMGZuAJW",
        "outputId": "9cf964b8-b671-452d-a3e2-cf6820265dba"
      },
      "outputs": [
        {
          "data": {
            "text/plain": [
              "<Axes: >"
            ]
          },
          "execution_count": 49,
          "metadata": {},
          "output_type": "execute_result"
        },
        {
          "data": {
            "image/png": "[encoded data removed]",
            "text/plain": [
              "<Figure size 1170x527 with 1 Axes>"
            ]
          },
          "metadata": {},
          "output_type": "display_data"
        }
      ],
      "source": [
        "sns.set(rc={'figure.figsize':(11.7,5.27)})\n",
        "sns.boxplot(data=final_df[[\"AVR190\",\"AVR191\",\"AVR192\",\"AVR193\",\"AVR194\",\n",
        "                           \"AVR195\",\"AVR196\",\"AVR197\",\"AVR198\",\"AVR199\"]])"
      ]
    },
    {
      "cell_type": "markdown",
      "metadata": {
        "id": "dddcbc1d"
      },
      "source": [
        "# Box Plot of AVL Lead ECG Features\n",
        "- **Functionality:** This cell generates box plots for a set of ECG features from the AVL lead (AVL200 to AVL209) to visualize their distributions and identify outliers. The figure size is set for better visibility."
      ]
    },
    {
      "cell_type": "code",
      "execution_count": null,
      "metadata": {
        "colab": {
          "base_uri": "https://localhost:8080/",
          "height": 390
        },
        "id": "MLJt0M7EubOu",
        "outputId": "390add22-6bb8-4caa-806f-28de67d70182"
      },
      "outputs": [
        {
          "data": {
            "text/plain": [
              "<Axes: >"
            ]
          },
          "execution_count": 50,
          "metadata": {},
          "output_type": "execute_result"
        },
        {
          "data": {
            "image/png": "[encoded data removed]",
            "text/plain": [
              "<Figure size 1170x527 with 1 Axes>"
            ]
          },
          "metadata": {},
          "output_type": "display_data"
        }
      ],
      "source": [
        "sns.set(rc={'figure.figsize':[11.7,5.27]})\n",
        "sns.boxplot(data=final_df[[\"AVL200\",\"AVL201\",\"AVL202\",\"AVL203\",\"AVL204\",\n",
        "                           \"AVL205\",\"AVL206\",\"AVL207\",\"AVL208\",\"AVL209\"]])"
      ]
    },
    {
      "cell_type": "markdown",
      "metadata": {
        "id": "4a03ab76"
      },
      "source": [
        "# Box Plot of AVF Lead ECG Features\n",
        "- **Functionality:** This cell generates box plots for a set of ECG features from the AVF lead (AVF210 to AVF219) to visualize their distributions and identify outliers. The figure size is set for better visibility."
      ]
    },
    {
      "cell_type": "code",
      "execution_count": null,
      "metadata": {
        "colab": {
          "base_uri": "https://localhost:8080/",
          "height": 390
        },
        "id": "Rla5TLU-uyQn",
        "outputId": "0511384a-8e86-42a0-87ff-60710c2b0530"
      },
      "outputs": [
        {
          "data": {
            "text/plain": [
              "<Axes: >"
            ]
          },
          "execution_count": 51,
          "metadata": {},
          "output_type": "execute_result"
        },
        {
          "data": {
            "image/png": "[encoded data removed]",
            "text/plain": [
              "<Figure size 1170x527 with 1 Axes>"
            ]
          },
          "metadata": {},
          "output_type": "display_data"
        }
      ],
      "source": [
        "sns.set(rc={'figure.figsize':(11.7, 5.27)})\n",
        "sns.boxplot(data=final_df[[\"AVF210\",\"AVF211\",\"AVF212\",\"AVF213\",\n",
        "                           \"AVF214\",\"AVF215\",\"AVF216\",\"AVF217\",\"AVF218\",\"AVF219\"]])"
      ]
    },
    {
      "cell_type": "markdown",
      "metadata": {
        "id": "41158820"
      },
      "source": [
        "# Calculate Pearson Correlation with Target\n",
        "- **Functionality:** This cell calculates the Pearson correlation coefficient between each feature in the `final_df` DataFrame and the target variable ('class'). This helps identify features that are linearly related to the target."
      ]
    },
    {
      "cell_type": "code",
      "execution_count": null,
      "metadata": {
        "colab": {
          "base_uri": "https://localhost:8080/"
        },
        "id": "f0duBKo4vOlQ",
        "outputId": "2d88a438-2805-4ee1-97c4-f456fe5f9863"
      },
      "outputs": [
        {
          "name": "stderr",
          "output_type": "stream",
          "text": [
            "/home/heytanix/.config/jupyterlab-desktop/envs/jupyter1c1/lib/python3.12/site-packages/numpy/lib/_function_base_impl.py:2999: RuntimeWarning: invalid value encountered in divide\n",
            "  c /= stddev[:, None]\n",
            "/home/heytanix/.config/jupyterlab-desktop/envs/jupyter1c1/lib/python3.12/site-packages/numpy/lib/_function_base_impl.py:3000: RuntimeWarning: invalid value encountered in divide\n",
            "  c /= stddev[None, :]\n"
          ]
        },
        {
          "data": {
            "text/plain": [
              "array([-9.23812218e-02, -1.78080037e-01, -3.46671442e-02, -9.01507390e-02,\n",
              "        3.23878728e-01, -9.99540161e-02,  2.83049762e-02,  9.76253981e-02,\n",
              "       -1.22002504e-01,  1.95854526e-02, -1.68648870e-04,  1.90644217e-01,\n",
              "       -3.08114850e-02,  3.33672764e-02,  3.96491896e-03,  4.26738126e-02,\n",
              "        1.95198200e-01,  6.39992472e-02,             nan,  4.27635327e-02,\n",
              "       -2.01150248e-02,  7.67517615e-03, -3.55694451e-02,  3.20969797e-02,\n",
              "        3.20969797e-02,  8.30559434e-02, -3.61168680e-03,  4.83674292e-02,\n",
              "        1.83082712e-01, -1.05049431e-02,  6.65428889e-02,  6.77662940e-02,\n",
              "        4.17574601e-02,  7.98435069e-02, -2.01150248e-02,  1.69531020e-02,\n",
              "       -3.60504699e-02, -6.66334979e-04, -2.36687153e-02,  1.16515578e-01,\n",
              "        8.16735582e-02,  1.44307782e-02, -3.20137575e-02,  8.34076694e-02,\n",
              "       -3.08114850e-02,  5.14341059e-02, -3.08114850e-02, -8.40208668e-02,\n",
              "       -1.15446555e-02, -5.76271452e-03,  2.10381327e-02,  1.73243101e-01,\n",
              "        2.54790200e-03,  1.09423863e-01, -3.08114850e-02,  1.41103081e-01,\n",
              "       -6.43991926e-02,  3.20969797e-02, -3.60504699e-02, -5.76271452e-03,\n",
              "       -5.76271452e-03,  4.01270853e-02, -9.51325536e-03,  8.62805101e-02,\n",
              "        1.27209954e-01,  6.16984103e-02,             nan,  1.52533990e-01,\n",
              "                   nan,  7.60606402e-02, -3.08114850e-02, -9.41856455e-03,\n",
              "        2.21830437e-03,  1.19743559e-02,  6.94395981e-02,  3.00259257e-02,\n",
              "        1.43283685e-01,  5.76478469e-03,  9.01134869e-02,  1.07405670e-01,\n",
              "        3.20969797e-02,  1.02461952e-03,             nan, -3.08114850e-02,\n",
              "       -3.08114850e-02,  5.47601969e-02,  6.15957389e-02,  1.20725739e-01,\n",
              "       -1.18167887e-01,  3.68875604e-01, -2.41468439e-02,  3.13982499e-01,\n",
              "        8.40764742e-03,  1.74345647e-01,  1.32965490e-02,  1.32965490e-02,\n",
              "       -2.59595293e-02,  3.82498115e-02,  7.54212108e-02,  4.02835784e-02,\n",
              "       -1.04802605e-02,  2.82523391e-01,  9.85924790e-02,  1.07254510e-01,\n",
              "       -2.80177282e-03,  1.04520372e-01,  1.21710657e-01,  1.15252587e-01,\n",
              "       -2.96323091e-02, -1.68648870e-04,  6.60135274e-02, -2.59005587e-02,\n",
              "        1.40502408e-01,  1.16503625e-01,  9.08650874e-02, -7.10618888e-04,\n",
              "       -3.15900299e-02,  4.72408574e-02,  1.32194508e-01,  9.37881579e-02,\n",
              "       -3.49177539e-02, -2.59595293e-02,  4.11421737e-02,  2.08403220e-04,\n",
              "        1.70669615e-01,  1.15369158e-02,  4.93696439e-02, -7.22179337e-03,\n",
              "       -1.33346534e-02,  1.04145773e-01,             nan,             nan,\n",
              "       -2.09065922e-02,  5.70033179e-02,  1.15436522e-01,  7.01651905e-02,\n",
              "        1.01877932e-01,  4.21390928e-02,             nan,  1.03193252e-01,\n",
              "                   nan,  9.50584501e-02,             nan, -3.08114850e-02,\n",
              "                   nan, -2.87284109e-02,  9.75462789e-02,  6.36924587e-02,\n",
              "        1.30055964e-01, -3.65958306e-02,             nan,  1.41505551e-01,\n",
              "       -3.08114850e-02,  1.27789569e-03, -1.33346534e-02,             nan,\n",
              "                   nan,  1.72850920e-02, -2.00524860e-02, -9.03327100e-03,\n",
              "       -1.35180130e-01, -1.97554501e-01,  1.07901579e-01,             nan,\n",
              "       -1.05921951e-01, -6.72553225e-02, -1.02058765e-01, -1.71762707e-01,\n",
              "       -2.54345726e-03, -3.78137539e-02,  4.89226443e-03, -1.58536214e-01,\n",
              "       -4.42099728e-03, -5.86568608e-02, -6.83466737e-02,  5.64189125e-03,\n",
              "       -6.37805443e-02, -3.51255618e-02, -3.59550977e-03,  1.43428758e-02,\n",
              "        1.30359938e-01, -4.20653173e-02,  3.90143500e-03,  2.50605654e-02,\n",
              "       -8.74656504e-03,  6.89710671e-02,  5.00846798e-02,  1.04976063e-01,\n",
              "        4.85126664e-02,  7.66276154e-02,  1.65693257e-01, -3.06138176e-03,\n",
              "        1.22928173e-01,  3.08114850e-02,  9.31930303e-02,  3.77147563e-02,\n",
              "        1.14137877e-01,  1.25873240e-01, -7.81911502e-03, -1.38023671e-02,\n",
              "       -5.68445025e-02, -1.42730678e-01,  6.00241993e-02,             nan,\n",
              "       -2.87341746e-02, -8.49412178e-02, -6.51453141e-02, -1.34656794e-01,\n",
              "       -4.77386153e-02, -4.89496873e-02,  7.06530907e-02, -9.93289932e-02,\n",
              "        1.35415997e-02, -9.35100948e-02, -4.59119818e-02,  3.37566701e-02,\n",
              "       -3.26766118e-02, -5.52098645e-04,  6.94466318e-02, -2.56278593e-02,\n",
              "        1.41273961e-01,  9.78392462e-03,  2.35488426e-01,  2.49754659e-02,\n",
              "       -4.22246326e-02,  2.29694987e-02,  6.83389267e-02,  1.28489868e-01,\n",
              "        1.19809260e-01, -9.27914558e-02,  2.66138922e-02, -4.23710548e-02,\n",
              "        2.18811416e-01, -9.39122715e-02, -3.79381660e-02, -2.13866537e-02,\n",
              "       -1.08902188e-01, -9.45432486e-02,  1.51781561e-01, -2.90002767e-02,\n",
              "        6.01905939e-02, -1.89458038e-01,  9.55972551e-02, -7.10324386e-02,\n",
              "        4.24733004e-02,  8.72420403e-02, -1.59611689e-01, -4.46742653e-02,\n",
              "        1.24822829e-01, -7.40099741e-03,  9.53309571e-02, -1.50609932e-01,\n",
              "        3.04286463e-02, -4.73402930e-02, -8.68730068e-02,  1.08922991e-01,\n",
              "       -8.33957097e-02,  3.41381321e-02,  2.04870406e-02, -1.62153153e-01,\n",
              "        7.96689001e-02, -6.84101110e-02,  5.38080797e-02,             nan,\n",
              "       -8.11663795e-02,  6.21744575e-02, -1.05802701e-02,  5.26170978e-02,\n",
              "       -6.21293028e-02, -1.64320758e-01,  3.61878403e-02, -7.15557917e-02,\n",
              "       -3.69920743e-02,             nan, -8.64268780e-02, -3.07975937e-02,\n",
              "        3.47646535e-03, -9.27527477e-03])"
            ]
          },
          "execution_count": 52,
          "metadata": {},
          "output_type": "execute_result"
        }
      ],
      "source": [
        "#finding correlation with target feature using pearson correlation\n",
        "\n",
        "target=new_df[\"class\"]\n",
        "pearsoncorr = final_df.corrwith(other = target,method='pearson')\n",
        "pearsoncorr.values"
      ]
    },
    {
      "cell_type": "markdown",
      "metadata": {
        "id": "22aed142"
      },
      "source": [
        "# Split Data into Training and Testing Sets\n",
        "- **Functionality:** This cell splits the feature DataFrame (`final_df`) and the target variable (`target`) into training and testing sets using `train_test_split`. 80% of the data is allocated for training and 20% for testing, with a fixed random state for reproducibility."
      ]
    },
    {
      "cell_type": "code",
      "execution_count": null,
      "metadata": {
        "id": "cHjeM2kbwXsE"
      },
      "outputs": [],
      "source": [
        "from sklearn.model_selection import train_test_split\n",
        "X_train, X_test, y_train, y_test = train_test_split(final_df, target ,test_size=0.2, random_state=1)"
      ]
    },
    {
      "cell_type": "markdown",
      "metadata": {
        "id": "ca2df3de"
      },
      "source": [
        "# Scale Features using StandardScaler\n",
        "- **Functionality:** This cell scales the features in both the training and testing sets using `StandardScaler`. This transformation standardizes features by removing the mean and scaling to unit variance, which is important for many machine learning algorithms."
      ]
    },
    {
      "cell_type": "code",
      "execution_count": null,
      "metadata": {
        "id": "1YkbWZuDwgJE"
      },
      "outputs": [],
      "source": [
        "from sklearn.preprocessing import StandardScaler\n",
        "scaler = StandardScaler()\n",
        "scaler.fit(X_train)\n",
        "X_train = scaler.transform(X_train)\n",
        "X_test = scaler.transform(X_test)"
      ]
    },
    {
      "cell_type": "markdown",
      "metadata": {
        "id": "775c1954"
      },
      "source": [
        "# Ignore Warnings\n",
        "- **Functionality:** This cell imports the `warnings` module and sets the filter to 'ignore' to prevent warning messages from being displayed during execution."
      ]
    },
    {
      "cell_type": "code",
      "execution_count": null,
      "metadata": {
        "id": "AxYyX37KwzYM"
      },
      "outputs": [],
      "source": [
        "import warnings\n",
        "warnings.filterwarnings('ignore')"
      ]
    },
    {
      "cell_type": "markdown",
      "metadata": {
        "id": "50601227"
      },
      "source": [
        "# Import Evaluation Metrics\n",
        "- **Functionality:** This cell imports various metrics from `sklearn.metrics` and plotting libraries (matplotlib and seaborn) that will be used to evaluate the performance of the machine learning models."
      ]
    },
    {
      "cell_type": "code",
      "execution_count": null,
      "metadata": {
        "id": "BizZTT8Qy4vz"
      },
      "outputs": [],
      "source": [
        "# importing evaluation metrices.\n",
        "\n",
        "from sklearn.metrics import r2_score,mean_squared_error,accuracy_score,recall_score,precision_score,confusion_matrix,classification_report\n",
        "# from scikitplot.metrics import plot_confusion_matrix,plot_roc\n",
        "import matplotlib.pyplot as plt\n",
        "import seaborn as sns"
      ]
    },
    {
      "cell_type": "markdown",
      "metadata": {
        "id": "bd0e0e8d"
      },
      "source": [
        "# Model Building Section\n",
        "- **Functionality:** This markdown cell marks the beginning of the section where different machine learning models are built and evaluated."
      ]
    },
    {
      "cell_type": "markdown",
      "metadata": {
        "id": "cb69c45c"
      },
      "source": [
        "# Initialize Results DataFrame\n",
        "- **Functionality:** This cell initializes an empty pandas DataFrame to store the training and testing accuracy results for each model."
      ]
    },
    {
      "cell_type": "code",
      "execution_count": null,
      "metadata": {
        "id": "fYGr1XqazwaE"
      },
      "outputs": [],
      "source": [
        "# will store result of each model.\n",
        "\n",
        "result = pd.DataFrame(columns=['Model','Train Accuracy','Test Accuracy'])"
      ]
    },
    {
      "cell_type": "markdown",
      "metadata": {
        "id": "138c9fe7"
      },
      "source": [
        "# KNN Training and Prediction\n",
        "- **Functionality:** This cell initializes a `KNeighborsClassifier`, trains it on the scaled training data, and makes predictions on the scaled testing data."
      ]
    },
    {
      "cell_type": "code",
      "execution_count": null,
      "metadata": {
        "id": "1YkbWXuDwgJE"
      },
      "outputs": [],
      "source": [
        "from sklearn.neighbors import KNeighborsClassifier\n",
        "knnclassifier = KNeighborsClassifier()\n",
        "knnclassifier.fit(X_train, y_train)\n",
        "y_pred = knnclassifier.predict(X_test)"
      ]
    },
    {
      "cell_type": "markdown",
      "metadata": {
        "id": "ec3e50c8"
      },
      "source": [
        "# Evaluate KNN Performance\n",
        "- **Functionality:** This cell calculates the training and testing accuracy and weighted recall scores for the KNN classifier."
      ]
    },
    {
      "cell_type": "code",
      "execution_count": null,
      "metadata": {
        "id": "8Pren5-if3pX"
      },
      "outputs": [],
      "source": [
        "knn_train_accuracy = accuracy_score(y_train, knnclassifier.predict(X_train))\n",
        "knn_test_accuracy = accuracy_score(y_test, knnclassifier.predict(X_test))\n",
        "knn_train_recall = recall_score(y_train, knnclassifier.predict(X_train),average=\"weighted\")\n",
        "knn_test_recall = recall_score(y_test, knnclassifier.predict(X_test),average=\"weighted\")"
      ]
    },
    {
      "cell_type": "markdown",
      "metadata": {
        "id": "6e622817"
      },
      "source": [
        "# Print KNN Recall Scores and Confusion Matrix\n",
        "- **Functionality:** This cell prints the training and testing weighted recall scores and displays the confusion matrix for the KNN classifier's predictions on the test set."
      ]
    },
    {
      "cell_type": "code",
      "execution_count": null,
      "metadata": {
        "colab": {
          "base_uri": "https://localhost:8080/"
        },
        "id": "KFiWBTWsix0Q",
        "outputId": "2e4010b5-20ed-48f1-9f67-c82695486979"
      },
      "outputs": [
        {
          "name": "stdout",
          "output_type": "stream",
          "text": [
            "Train Recall score: 0.6481994459833795\n",
            "Test Recall score: 0.6483516483516484\n"
          ]
        },
        {
          "data": {
            "text/plain": [
              "array([[52,  0,  0,  0,  0,  0,  0,  0,  0,  0,  0],\n",
              "       [ 7,  1,  0,  0,  0,  0,  0,  0,  0,  0,  0],\n",
              "       [ 2,  0,  2,  0,  0,  0,  0,  0,  0,  0,  0],\n",
              "       [ 0,  0,  0,  1,  0,  0,  0,  0,  0,  0,  0],\n",
              "       [ 2,  0,  0,  0,  0,  0,  0,  0,  0,  0,  0],\n",
              "       [ 3,  0,  0,  0,  0,  0,  0,  0,  0,  0,  0],\n",
              "       [ 1,  0,  0,  0,  0,  0,  0,  0,  0,  0,  0],\n",
              "       [ 0,  0,  0,  0,  0,  0,  0,  1,  0,  0,  1],\n",
              "       [ 8,  0,  0,  0,  0,  0,  0,  0,  2,  0,  0],\n",
              "       [ 2,  0,  0,  0,  0,  0,  0,  0,  0,  0,  0],\n",
              "       [ 6,  0,  0,  0,  0,  0,  0,  0,  0,  0,  0]])"
            ]
          },
          "execution_count": 63,
          "metadata": {},
          "output_type": "execute_result"
        }
      ],
      "source": [
        "print('Train Recall score: {}'\n",
        "      .format(knn_train_recall))\n",
        "print('Test Recall score: {}'\n",
        "      .format(knn_test_recall))\n",
        "confusion_matrix(y_test, y_pred)"
      ]
    },
    {
      "cell_type": "markdown",
      "metadata": {
        "id": "b1665d7e"
      },
      "source": [
        "# Add KNN Results to DataFrame\n",
        "- **Functionality:** This cell adds the training and testing accuracy of the KNN classifier to the `result` DataFrame."
      ]
    },
    {
      "cell_type": "code",
      "execution_count": null,
      "metadata": {
        "colab": {
          "base_uri": "https://localhost:8080/",
          "height": 89
        },
        "id": "BX3xqUSgiz0a",
        "outputId": "97335a6b-7272-4463-c13f-ffc544aa943f"
      },
      "outputs": [
        {
          "data": {
            "text/html": [
              "<div>\n",
              "<style scoped>\n",
              "    .dataframe tbody tr th:only-of-type {\n",
              "        vertical-align: middle;\n",
              "    }\n",
              "\n",
              "    .dataframe tbody tr th {\n",
              "        vertical-align: top;\n",
              "    }\n",
              "\n",
              "    .dataframe thead th {\n",
              "        text-align: right;\n",
              "    }\n",
              "</style>\n",
              "<table border=\"1\" class=\"dataframe\">\n",
              "  <thead>\n",
              "    <tr style=\"text-align: right;\">\n",
              "      <th></th>\n",
              "      <th>Model</th>\n",
              "      <th>Train Accuracy</th>\n",
              "      <th>Test Accuracy</th>\n",
              "    </tr>\n",
              "  </thead>\n",
              "  <tbody>\n",
              "    <tr>\n",
              "      <th>0</th>\n",
              "      <td>KNN</td>\n",
              "      <td>0.648199</td>\n",
              "      <td>0.648352</td>\n",
              "    </tr>\n",
              "  </tbody>\n",
              "</table>\n",
              "</div>"
            ],
            "text/plain": [
              "  Model  Train Accuracy  Test Accuracy\n",
              "0   KNN        0.648199       0.648352"
            ]
          },
          "execution_count": 64,
          "metadata": {},
          "output_type": "execute_result"
        }
      ],
      "source": [
        "result = pd.concat([result, pd.DataFrame([['KNN',knn_train_accuracy,knn_test_accuracy]],columns=['Model','Train Accuracy','Test Accuracy'])])\n",
        "result"
      ]
    },
    {
      "cell_type": "markdown",
      "metadata": {
        "id": "9c2132d6"
      },
      "source": [
        "# Train and Predict with Logistic Regression\n",
        "- **Functionality:** This cell initializes a `LogisticRegression` classifier, trains it on the scaled training data, and makes predictions on the scaled testing data."
      ]
    },
    {
      "cell_type": "code",
      "execution_count": null,
      "metadata": {
        "id": "87orHwMpjLCK"
      },
      "outputs": [],
      "source": [
        "from sklearn.linear_model import LogisticRegression\n",
        "lgclassifier = LogisticRegression(solver = 'saga', random_state=0)\n",
        "lgclassifier.fit(X_train, y_train)\n",
        "y_pred = lgclassifier.predict(X_test)"
      ]
    },
    {
      "cell_type": "markdown",
      "metadata": {
        "id": "2295de4d"
      },
      "source": [
        "# Evaluate Logistic Regression Performance\n",
        "- **Functionality:** This cell calculates the training and testing accuracy and weighted recall scores for the Logistic Regression classifier."
      ]
    },
    {
      "cell_type": "code",
      "execution_count": null,
      "metadata": {
        "id": "5hX5FURLjqfW"
      },
      "outputs": [],
      "source": [
        "lg_train_recall=recall_score(y_train, lgclassifier.predict(X_train), average = 'weighted')\n",
        "lg_test_recall=recall_score(y_test, lgclassifier.predict(X_test), average='weighted')\n",
        "lg_train_accuracy = accuracy_score(y_train, lgclassifier.predict(X_train))\n",
        "lg_test_accuracy = accuracy_score(y_test, lgclassifier.predict(X_test))"
      ]
    },
    {
      "cell_type": "markdown",
      "metadata": {
        "id": "48bd393f"
      },
      "source": [
        "# Print Logistic Regression Recall Scores and Confusion Matrix\n",
        "- **Functionality:** This cell prints the training and testing weighted recall scores and displays the confusion matrix for the Logistic Regression classifier's predictions on the test set."
      ]
    },
    {
      "cell_type": "code",
      "execution_count": null,
      "metadata": {
        "colab": {
          "base_uri": "https://localhost:8080/"
        },
        "id": "U-_rUcmYkNxu",
        "outputId": "c1e8701a-1a56-4178-8f41-36b1e08f16e1"
      },
      "outputs": [
        {
          "name": "stdout",
          "output_type": "stream",
          "text": [
            "Train Recall score: 0.9390581717451524\n",
            "Test Recall score: 0.7802197802197802\n"
          ]
        },
        {
          "data": {
            "text/plain": [
              "array([[46,  2,  0,  0,  0,  2,  0,  0,  0,  0,  2],\n",
              "       [ 2,  6,  0,  0,  0,  0,  0,  0,  0,  0,  0],\n",
              "       [ 0,  0,  4,  0,  0,  0,  0,  0,  0,  0,  0],\n",
              "       [ 0,  0,  0,  1,  0,  0,  0,  0,  0,  0,  0],\n",
              "       [ 1,  0,  0,  0,  1,  0,  0,  0,  0,  0,  0],\n",
              "       [ 1,  1,  0,  0,  0,  1,  0,  0,  0,  0,  0],\n",
              "       [ 1,  0,  0,  0,  0,  0,  0,  0,  0,  0,  0],\n",
              "       [ 0,  0,  0,  0,  0,  0,  0,  2,  0,  0,  0],\n",
              "       [ 1,  1,  0,  0,  0,  0,  0,  0,  8,  0,  0],\n",
              "       [ 0,  0,  0,  0,  0,  0,  0,  0,  0,  1,  1],\n",
              "       [ 3,  1,  1,  0,  0,  0,  0,  0,  0,  0,  1]])"
            ]
          },
          "execution_count": 68,
          "metadata": {},
          "output_type": "execute_result"
        }
      ],
      "source": [
        "print('Train Recall score: {}'\n",
        "      .format(lg_train_recall))\n",
        "print('Test Recall score: {}'\n",
        "      .format(lg_test_recall))\n",
        "confusion_matrix(y_test, y_pred)"
      ]
    },
    {
      "cell_type": "markdown",
      "metadata": {
        "id": "3ba7e752"
      },
      "source": [
        "# Add Logistic Regression Results to DataFrame\n",
        "- **Functionality:** This cell adds the training and testing accuracy of the Logistic Regression classifier to the `result` DataFrame."
      ]
    },
    {
      "cell_type": "code",
      "execution_count": null,
      "metadata": {
        "colab": {
          "base_uri": "https://localhost:8080/",
          "height": 125
        },
        "id": "NoKslg-SkZZd",
        "outputId": "ecafd0bf-093c-4c4d-cd79-bc2147d3a844"
      },
      "outputs": [
        {
          "data": {
            "text/html": [
              "<div>\n",
              "<style scoped>\n",
              "    .dataframe tbody tr th:only-of-type {\n",
              "        vertical-align: middle;\n",
              "    }\n",
              "\n",
              "    .dataframe tbody tr th {\n",
              "        vertical-align: top;\n",
              "    }\n",
              "\n",
              "    .dataframe thead th {\n",
              "        text-align: right;\n",
              "    }\n",
              "</style>\n",
              "<table border=\"1\" class=\"dataframe\">\n",
              "  <thead>\n",
              "    <tr style=\"text-align: right;\">\n",
              "      <th></th>\n",
              "      <th>Model</th>\n",
              "      <th>Train Accuracy</th>\n",
              "      <th>Test Accuracy</th>\n",
              "    </tr>\n",
              "  </thead>\n",
              "  <tbody>\n",
              "    <tr>\n",
              "      <th>0</th>\n",
              "      <td>KNN</td>\n",
              "      <td>0.648199</td>\n",
              "      <td>0.648352</td>\n",
              "    </tr>\n",
              "    <tr>\n",
              "      <th>0</th>\n",
              "      <td>Logistic Regression</td>\n",
              "      <td>0.939058</td>\n",
              "      <td>0.780220</td>\n",
              "    </tr>\n",
              "  </tbody>\n",
              "</table>\n",
              "</div>"
            ],
            "text/plain": [
              "                 Model  Train Accuracy  Test Accuracy\n",
              "0                  KNN        0.648199       0.648352\n",
              "0  Logistic Regression        0.939058       0.780220"
            ]
          },
          "execution_count": 69,
          "metadata": {},
          "output_type": "execute_result"
        }
      ],
      "source": [
        "result = pd.concat([result, pd.DataFrame([['Logistic Regression',lg_train_accuracy,lg_test_accuracy]],columns=['Model','Train Accuracy','Test Accuracy'])])\n",
        "result"
      ]
    },
    {
      "cell_type": "markdown",
      "metadata": {
        "id": "53276fa9"
      },
      "source": [
        "# Train and Predict with Decision Tree\n",
        "- **Functionality:** This cell initializes a `DecisionTreeClassifier`, trains it on the scaled training data, and makes predictions on both the training and testing sets."
      ]
    },
    {
      "cell_type": "code",
      "execution_count": null,
      "metadata": {
        "id": "FBNOver3k8Af"
      },
      "outputs": [],
      "source": [
        "from sklearn.tree import DecisionTreeClassifier\n",
        "dtclassifier = DecisionTreeClassifier(criterion = 'entropy', random_state=0, max_depth=5)\n",
        "dtclassifier.fit(X_train, y_train)\n",
        "y_pred_test = dtclassifier.predict(X_test)\n",
        "y_pred_train = dtclassifier.predict(X_train)"
      ]
    },
    {
      "cell_type": "markdown",
      "metadata": {
        "id": "e26ff196"
      },
      "source": [
        "# Evaluate Decision Tree Performance\n",
        "- **Functionality:** This cell calculates the training and testing accuracy and weighted recall scores for the Decision Tree classifier."
      ]
    },
    {
      "cell_type": "code",
      "execution_count": null,
      "metadata": {
        "id": "Vfai1je7lPyt"
      },
      "outputs": [],
      "source": [
        "dt_train_recall=recall_score(y_train, dtclassifier.predict(X_train), average = 'weighted')\n",
        "dt_test_recall=recall_score(y_test, dtclassifier.predict(X_test), average='weighted')\n",
        "dt_train_recall = accuracy_score(y_train, y_pred_train)\n",
        "dt_test_recall = accuracy_score(y_test, y_pred_test)"
      ]
    },
    {
      "cell_type": "markdown",
      "metadata": {
        "id": "5e29e6e4"
      },
      "source": [
        "# Print Decision Tree Recall/Accuracy Scores and Confusion Matrix\n",
        "- **Functionality:** This cell prints the training and testing recall scores (which are assigned accuracy values in this code) and displays the confusion matrix for the Decision Tree classifier's predictions on the test set."
      ]
    },
    {
      "cell_type": "code",
      "execution_count": null,
      "metadata": {
        "colab": {
          "base_uri": "https://localhost:8080/"
        },
        "id": "yrQ4cqIolgU4",
        "outputId": "fa633b60-0df8-456e-84d8-2f264e9c71f2"
      },
      "outputs": [
        {
          "name": "stdout",
          "output_type": "stream",
          "text": [
            "Train Recall Score: 0.7894736842105263\n",
            "Test Recall Score: 0.6813186813186813\n"
          ]
        },
        {
          "data": {
            "text/plain": [
              "array([[50,  1,  0,  0,  0,  0,  0,  0,  1,  0,  0],\n",
              "       [ 4,  4,  0,  0,  0,  0,  0,  0,  0,  0,  0],\n",
              "       [ 0,  0,  3,  0,  0,  0,  0,  0,  0,  0,  1],\n",
              "       [ 0,  0,  0,  0,  1,  0,  0,  0,  0,  0,  0],\n",
              "       [ 1,  0,  1,  0,  0,  0,  0,  0,  0,  0,  0],\n",
              "       [ 3,  0,  0,  0,  0,  0,  0,  0,  0,  0,  0],\n",
              "       [ 1,  0,  0,  0,  0,  0,  0,  0,  0,  0,  0],\n",
              "       [ 1,  0,  0,  0,  0,  0,  0,  1,  0,  0,  0],\n",
              "       [ 5,  1,  0,  0,  0,  0,  0,  0,  4,  0,  0],\n",
              "       [ 1,  0,  1,  0,  0,  0,  0,  0,  0,  0,  0],\n",
              "       [ 3,  1,  1,  0,  0,  0,  1,  0,  0,  0,  0]])"
            ]
          },
          "execution_count": 73,
          "metadata": {},
          "output_type": "execute_result"
        }
      ],
      "source": [
        "print(\"Train Recall Score: {}\"\n",
        "      .format(dt_train_recall))\n",
        "print(\"Test Recall Score: {}\"\n",
        "      .format(dt_test_recall))\n",
        "confusion_matrix(y_test, y_pred_test)"
      ]
    },
    {
      "cell_type": "markdown",
      "metadata": {
        "id": "30de0f11"
      },
      "source": [
        "# Add Decision Tree Results to DataFrame\n",
        "- **Functionality:** This cell adds the training and testing accuracy of the Decision Tree classifier to the `result` DataFrame."
      ]
    },
    {
      "cell_type": "code",
      "execution_count": null,
      "metadata": {
        "colab": {
          "base_uri": "https://localhost:8080/",
          "height": 143
        },
        "id": "cUpHtLIxlqEd",
        "outputId": "c01fd7ba-fbf8-4e08-c59d-4d297f576c69"
      },
      "outputs": [
        {
          "data": {
            "text/html": [
              "<div>\n",
              "<style scoped>\n",
              "    .dataframe tbody tr th:only-of-type {\n",
              "        vertical-align: middle;\n",
              "    }\n",
              "\n",
              "    .dataframe tbody tr th {\n",
              "        vertical-align: top;\n",
              "    }\n",
              "\n",
              "    .dataframe thead th {\n",
              "        text-align: right;\n",
              "    }\n",
              "</style>\n",
              "<table border=\"1\" class=\"dataframe\">\n",
              "  <thead>\n",
              "    <tr style=\"text-align: right;\">\n",
              "      <th></th>\n",
              "      <th>Model</th>\n",
              "      <th>Train Accuracy</th>\n",
              "      <th>Test Accuracy</th>\n",
              "    </tr>\n",
              "  </thead>\n",
              "  <tbody>\n",
              "    <tr>\n",
              "      <th>0</th>\n",
              "      <td>KNN</td>\n",
              "      <td>0.648199</td>\n",
              "      <td>0.648352</td>\n",
              "    </tr>\n",
              "    <tr>\n",
              "      <th>0</th>\n",
              "      <td>Logistic Regression</td>\n",
              "      <td>0.939058</td>\n",
              "      <td>0.780220</td>\n",
              "    </tr>\n",
              "    <tr>\n",
              "      <th>0</th>\n",
              "      <td>Decision Tree</td>\n",
              "      <td>0.789474</td>\n",
              "      <td>0.681319</td>\n",
              "    </tr>\n",
              "  </tbody>\n",
              "</table>\n",
              "</div>"
            ],
            "text/plain": [
              "                 Model  Train Accuracy  Test Accuracy\n",
              "0                  KNN        0.648199       0.648352\n",
              "0  Logistic Regression        0.939058       0.780220\n",
              "0        Decision Tree        0.789474       0.681319"
            ]
          },
          "execution_count": 74,
          "metadata": {},
          "output_type": "execute_result"
        }
      ],
      "source": [
        "result = pd.concat([result, pd.DataFrame([['Decision Tree',dt_train_recall,dt_test_recall]],columns=['Model','Train Accuracy','Test Accuracy'])])\n",
        "result"
      ]
    },
    {
      "cell_type": "markdown",
      "metadata": {
        "id": "f1d0f7be"
      },
      "source": [
        "# Train and Predict with Linear SVM\n",
        "- **Functionality:** This cell initializes a `LinearSVC` classifier, trains it on the scaled training data, and makes predictions on both the training and testing sets."
      ]
    },
    {
      "cell_type": "code",
      "execution_count": null,
      "metadata": {
        "id": "1UXRmUVXl6f6"
      },
      "outputs": [],
      "source": [
        "from sklearn.svm import LinearSVC\n",
        "lsvclassifier = LinearSVC(C=0.01)\n",
        "lsvclassifier.fit(X_train, y_train)\n",
        "y_pred_test = lsvclassifier.predict(X_test)\n",
        "y_pred_train = lsvclassifier.predict(X_train)"
      ]
    },
    {
      "cell_type": "markdown",
      "metadata": {
        "id": "80f15f1d"
      },
      "source": [
        "# Evaluate Linear SVM Performance\n",
        "- **Functionality:** This cell calculates the training and testing accuracy and weighted recall scores for the Linear SVM classifier."
      ]
    },
    {
      "cell_type": "code",
      "execution_count": null,
      "metadata": {
        "id": "H0XHCFtJmPfW"
      },
      "outputs": [],
      "source": [
        "lsvc_train_accuracy = accuracy_score(y_train, y_pred_train)\n",
        "lsvc_test_accuracy = accuracy_score(y_test, y_pred_test)\n",
        "lsvc_train_recall = recall_score(y_train, y_pred_train ,average=\"weighted\")\n",
        "lsvc_test_recall = recall_score(y_test, y_pred_test, average=\"weighted\")"
      ]
    },
    {
      "cell_type": "markdown",
      "metadata": {
        "id": "0d349fa8"
      },
      "source": [
        "# Print Linear SVM Recall Scores and Confusion Matrix\n",
        "- **Functionality:** This cell prints the training and testing weighted recall scores and displays the confusion matrix for the Linear SVM classifier's predictions on the test set."
      ]
    },
    {
      "cell_type": "code",
      "execution_count": null,
      "metadata": {
        "colab": {
          "base_uri": "https://localhost:8080/"
        },
        "id": "N12Ue8FPmpMf",
        "outputId": "d37b8ec9-af3d-4667-c946-d20dbdaaf380"
      },
      "outputs": [
        {
          "name": "stdout",
          "output_type": "stream",
          "text": [
            "Train Recall score: 0.8808864265927978\n",
            "Test Recall score: 0.7802197802197802\n"
          ]
        },
        {
          "data": {
            "text/plain": [
              "array([[50,  1,  0,  0,  0,  0,  0,  0,  0,  0,  1],\n",
              "       [ 2,  6,  0,  0,  0,  0,  0,  0,  0,  0,  0],\n",
              "       [ 0,  0,  4,  0,  0,  0,  0,  0,  0,  0,  0],\n",
              "       [ 0,  0,  0,  1,  0,  0,  0,  0,  0,  0,  0],\n",
              "       [ 2,  0,  0,  0,  0,  0,  0,  0,  0,  0,  0],\n",
              "       [ 2,  1,  0,  0,  0,  0,  0,  0,  0,  0,  0],\n",
              "       [ 1,  0,  0,  0,  0,  0,  0,  0,  0,  0,  0],\n",
              "       [ 1,  0,  0,  0,  0,  0,  0,  1,  0,  0,  0],\n",
              "       [ 1,  0,  0,  0,  0,  0,  0,  0,  9,  0,  0],\n",
              "       [ 0,  1,  0,  0,  0,  0,  0,  0,  0,  0,  1],\n",
              "       [ 3,  2,  1,  0,  0,  0,  0,  0,  0,  0,  0]])"
            ]
          },
          "execution_count": 78,
          "metadata": {},
          "output_type": "execute_result"
        }
      ],
      "source": [
        "print('Train Recall score: {}'\n",
        "      .format(lsvc_train_recall))\n",
        "print('Test Recall score: {}'\n",
        "      .format(lsvc_test_recall))\n",
        "confusion_matrix(y_test, y_pred_test)"
      ]
    },
    {
      "cell_type": "markdown",
      "metadata": {
        "id": "810d41b8"
      },
      "source": [
        "# Add Linear SVM Results to DataFrame\n",
        "- **Functionality:** This cell adds the training and testing accuracy of the Linear SVM classifier to the `result` DataFrame."
      ]
    },
    {
      "cell_type": "code",
      "execution_count": null,
      "metadata": {
        "colab": {
          "base_uri": "https://localhost:8080/",
          "height": 175
        },
        "id": "pZwRm4R5m0zR",
        "outputId": "6085d771-e639-4a5f-ded2-4f9e377ce3d5"
      },
      "outputs": [
        {
          "data": {
            "text/html": [
              "<div>\n",
              "<style scoped>\n",
              "    .dataframe tbody tr th:only-of-type {\n",
              "        vertical-align: middle;\n",
              "    }\n",
              "\n",
              "    .dataframe tbody tr th {\n",
              "        vertical-align: top;\n",
              "    }\n",
              "\n",
              "    .dataframe thead th {\n",
              "        text-align: right;\n",
              "    }\n",
              "</style>\n",
              "<table border=\"1\" class=\"dataframe\">\n",
              "  <thead>\n",
              "    <tr style=\"text-align: right;\">\n",
              "      <th></th>\n",
              "      <th>Model</th>\n",
              "      <th>Train Accuracy</th>\n",
              "      <th>Test Accuracy</th>\n",
              "    </tr>\n",
              "  </thead>\n",
              "  <tbody>\n",
              "    <tr>\n",
              "      <th>0</th>\n",
              "      <td>KNN</td>\n",
              "      <td>0.648199</td>\n",
              "      <td>0.648352</td>\n",
              "    </tr>\n",
              "    <tr>\n",
              "      <th>0</th>\n",
              "      <td>Logistic Regression</td>\n",
              "      <td>0.939058</td>\n",
              "      <td>0.780220</td>\n",
              "    </tr>\n",
              "    <tr>\n",
              "      <th>0</th>\n",
              "      <td>Decision Tree</td>\n",
              "      <td>0.789474</td>\n",
              "      <td>0.681319</td>\n",
              "    </tr>\n",
              "    <tr>\n",
              "      <th>0</th>\n",
              "      <td>Linear SVM</td>\n",
              "      <td>0.880886</td>\n",
              "      <td>0.780220</td>\n",
              "    </tr>\n",
              "  </tbody>\n",
              "</table>\n",
              "</div>"
            ],
            "text/plain": [
              "                 Model  Train Accuracy  Test Accuracy\n",
              "0                  KNN        0.648199       0.648352\n",
              "0  Logistic Regression        0.939058       0.780220\n",
              "0        Decision Tree        0.789474       0.681319\n",
              "0           Linear SVM        0.880886       0.780220"
            ]
          },
          "execution_count": 79,
          "metadata": {},
          "output_type": "execute_result"
        }
      ],
      "source": [
        "result = pd.concat([result, pd.DataFrame([['Linear SVM',lsvc_train_accuracy,lsvc_test_accuracy]],columns=['Model','Train Accuracy','Test Accuracy'])])\n",
        "result"
      ]
    },
    {
      "cell_type": "markdown",
      "metadata": {
        "id": "5a49838c"
      },
      "source": [
        "# Train and Predict with Kernelized SVM\n",
        "- **Functionality:** This cell initializes an `SVC` classifier with a specified kernel and parameters, trains it on the scaled training data, and makes predictions on both the training and testing sets."
      ]
    },
    {
      "cell_type": "code",
      "execution_count": null,
      "metadata": {
        "id": "-qnCcZgV8SCE"
      },
      "outputs": [],
      "source": [
        "from sklearn import svm\n",
        "KSVC_clf = svm.SVC(kernel='sigmoid',C=10,gamma=0.001)\n",
        "KSVC_clf.fit(X_train, y_train)\n",
        "y_pred_train = KSVC_clf.predict(X_train)\n",
        "y_pred_test = KSVC_clf.predict(X_test)"
      ]
    },
    {
      "cell_type": "markdown",
      "metadata": {
        "id": "c0a6f706"
      },
      "source": [
        "# Evaluate Kernelized SVM Performance\n",
        "- **Functionality:** This cell calculates the training and testing accuracy and weighted recall scores for the Kernelized SVM classifier."
      ]
    },
    {
      "cell_type": "code",
      "execution_count": null,
      "metadata": {
        "id": "gxbo6_Hc81eE"
      },
      "outputs": [],
      "source": [
        "ksvc_train_recall = recall_score(y_train, y_pred_train ,average=\"weighted\")\n",
        "ksvc_test_recall = recall_score(y_test, y_pred_test, average=\"weighted\")\n",
        "ksvc_train_accuracy = accuracy_score(y_train, y_pred_train)\n",
        "ksvc_test_accuracy = accuracy_score(y_test, y_pred_test)"
      ]
    },
    {
      "cell_type": "markdown",
      "metadata": {
        "id": "78fbabfa"
      },
      "source": [
        "# Print Kernelized SVM Recall Scores and Confusion Matrix\n",
        "- **Functionality:** This cell prints the training and testing weighted recall scores and displays the confusion matrix for the Kernelized SVM classifier's predictions on the test set."
      ]
    },
    {
      "cell_type": "code",
      "execution_count": null,
      "metadata": {
        "colab": {
          "base_uri": "https://localhost:8080/"
        },
        "id": "FH2ihvP697r_",
        "outputId": "5cb5ebc2-dbb7-44e6-c21e-b59c9f0349f9"
      },
      "outputs": [
        {
          "name": "stdout",
          "output_type": "stream",
          "text": [
            "Train Recall score: 0.850415512465374\n",
            "Test Recall score: 0.7912087912087912\n"
          ]
        },
        {
          "data": {
            "text/plain": [
              "array([[52,  0,  0,  0,  0,  0,  0,  0,  0,  0,  0],\n",
              "       [ 2,  6,  0,  0,  0,  0,  0,  0,  0,  0,  0],\n",
              "       [ 0,  0,  4,  0,  0,  0,  0,  0,  0,  0,  0],\n",
              "       [ 0,  0,  0,  1,  0,  0,  0,  0,  0,  0,  0],\n",
              "       [ 1,  0,  0,  0,  1,  0,  0,  0,  0,  0,  0],\n",
              "       [ 3,  0,  0,  0,  0,  0,  0,  0,  0,  0,  0],\n",
              "       [ 1,  0,  0,  0,  0,  0,  0,  0,  0,  0,  0],\n",
              "       [ 1,  0,  0,  0,  0,  0,  0,  1,  0,  0,  0],\n",
              "       [ 2,  1,  0,  0,  0,  0,  0,  0,  7,  0,  0],\n",
              "       [ 2,  0,  0,  0,  0,  0,  0,  0,  0,  0,  0],\n",
              "       [ 5,  0,  1,  0,  0,  0,  0,  0,  0,  0,  0]])"
            ]
          },
          "execution_count": 83,
          "metadata": {},
          "output_type": "execute_result"
        }
      ],
      "source": [
        "print('Train Recall score: {}'\n",
        "      .format(ksvc_train_recall))\n",
        "print('Test Recall score: {}'\n",
        "      .format(ksvc_test_recall))\n",
        "confusion_matrix(y_test, y_pred_test)"
      ]
    },
    {
      "cell_type": "markdown",
      "metadata": {
        "id": "a6964410"
      },
      "source": [
        "# Add Kernelized SVM Results to DataFrame\n",
        "- **Functionality:** This cell adds the training and testing accuracy of the Kernelized SVM classifier to the `result` DataFrame."
      ]
    },
    {
      "cell_type": "code",
      "execution_count": null,
      "metadata": {
        "colab": {
          "base_uri": "https://localhost:8080/",
          "height": 206
        },
        "id": "qbV1RKPJ-IDg",
        "outputId": "423bfebb-c356-4423-f649-1f774178d9e9"
      },
      "outputs": [
        {
          "data": {
            "text/html": [
              "<div>\n",
              "<style scoped>\n",
              "    .dataframe tbody tr th:only-of-type {\n",
              "        vertical-align: middle;\n",
              "    }\n",
              "\n",
              "    .dataframe tbody tr th {\n",
              "        vertical-align: top;\n",
              "    }\n",
              "\n",
              "    .dataframe thead th {\n",
              "        text-align: right;\n",
              "    }\n",
              "</style>\n",
              "<table border=\"1\" class=\"dataframe\">\n",
              "  <thead>\n",
              "    <tr style=\"text-align: right;\">\n",
              "      <th></th>\n",
              "      <th>Model</th>\n",
              "      <th>Train Accuracy</th>\n",
              "      <th>Test Accuracy</th>\n",
              "    </tr>\n",
              "  </thead>\n",
              "  <tbody>\n",
              "    <tr>\n",
              "      <th>0</th>\n",
              "      <td>KNN</td>\n",
              "      <td>0.648199</td>\n",
              "      <td>0.648352</td>\n",
              "    </tr>\n",
              "    <tr>\n",
              "      <th>0</th>\n",
              "      <td>Logistic Regression</td>\n",
              "      <td>0.939058</td>\n",
              "      <td>0.780220</td>\n",
              "    </tr>\n",
              "    <tr>\n",
              "      <th>0</th>\n",
              "      <td>Decision Tree</td>\n",
              "      <td>0.789474</td>\n",
              "      <td>0.681319</td>\n",
              "    </tr>\n",
              "    <tr>\n",
              "      <th>0</th>\n",
              "      <td>Linear SVM</td>\n",
              "      <td>0.880886</td>\n",
              "      <td>0.780220</td>\n",
              "    </tr>\n",
              "    <tr>\n",
              "      <th>0</th>\n",
              "      <td>Kernalized SVM</td>\n",
              "      <td>0.850416</td>\n",
              "      <td>0.791209</td>\n",
              "    </tr>\n",
              "  </tbody>\n",
              "</table>\n",
              "</div>"
            ],
            "text/plain": [
              "                 Model  Train Accuracy  Test Accuracy\n",
              "0                  KNN        0.648199       0.648352\n",
              "0  Logistic Regression        0.939058       0.780220\n",
              "0        Decision Tree        0.789474       0.681319\n",
              "0           Linear SVM        0.880886       0.780220\n",
              "0       Kernalized SVM        0.850416       0.791209"
            ]
          },
          "execution_count": 84,
          "metadata": {},
          "output_type": "execute_result"
        }
      ],
      "source": [
        "result = pd.concat([result, pd.DataFrame([['Kernalized SVM',ksvc_train_accuracy,ksvc_test_accuracy]],columns=['Model','Train Accuracy','Test Accuracy'])])\n",
        "result"
      ]
    },
    {
      "cell_type": "markdown",
      "metadata": {
        "id": "a70089f3"
      },
      "source": [
        "# Train Random Forest Classifier\n",
        "- **Functionality:** This cell initializes a `RandomForestClassifier` with specified parameters and trains it on the scaled training data."
      ]
    },
    {
      "cell_type": "code",
      "execution_count": null,
      "metadata": {
        "colab": {
          "base_uri": "https://localhost:8080/",
          "height": 98
        },
        "id": "utfJBYDF_gOm",
        "outputId": "7c6339d0-c416-4af9-9144-55be22215909"
      },
      "outputs": [
        {
          "data": {
            "text/plain": [
              "RandomForestClassifier(max_depth=10, max_features=100, max_leaf_nodes=30,\n",
              "                       n_estimators=300)"
            ]
          },
          "execution_count": 86,
          "metadata": {},
          "output_type": "execute_result"
        }
      ],
      "source": [
        "from sklearn.ensemble import RandomForestClassifier\n",
        "rf_clf = RandomForestClassifier(n_estimators=300, criterion='gini',max_features=100,max_depth=10,max_leaf_nodes=30)\n",
        "rf_clf.fit(X_train, y_train)"
      ]
    },
    {
      "cell_type": "markdown",
      "metadata": {
        "id": "94e714ce"
      },
      "source": [
        "# Evaluate Random Forest Performance\n",
        "- **Functionality:** This cell makes predictions using the trained Random Forest classifier on both training and testing sets and calculates the accuracy and weighted recall scores for both sets."
      ]
    },
    {
      "cell_type": "code",
      "execution_count": null,
      "metadata": {
        "id": "L6UPlJxVAOo3"
      },
      "outputs": [],
      "source": [
        "y_pred_train = rf_clf.predict(X_train)\n",
        "y_pred_test = rf_clf.predict(X_test)\n",
        "rf_train_accuracy = accuracy_score(y_train, y_pred_train)\n",
        "rf_test_accuracy = accuracy_score(y_test, y_pred_test)\n",
        "rf_train_recall = recall_score(y_train,y_pred_train,average=\"weighted\" )\n",
        "rf_test_recall = recall_score(y_test, y_pred_test,average=\"weighted\")"
      ]
    },
    {
      "cell_type": "markdown",
      "metadata": {
        "id": "9738e08c"
      },
      "source": [
        "# Print Random Forest Recall Scores and Confusion Matrix\n",
        "- **Functionality:** This cell prints the training and testing weighted recall scores and displays the confusion matrix for the Random Forest classifier's predictions on the test set."
      ]
    },
    {
      "cell_type": "code",
      "execution_count": null,
      "metadata": {
        "colab": {
          "base_uri": "https://localhost:8080/"
        },
        "id": "EBzC2xCqBRCI",
        "outputId": "a9161e26-0d9e-4c22-a09c-df9fab12270e"
      },
      "outputs": [
        {
          "name": "stdout",
          "output_type": "stream",
          "text": [
            "Train Recall score: 0.8919667590027701\n",
            "Test Recall score: 0.7472527472527473\n"
          ]
        },
        {
          "data": {
            "text/plain": [
              "array([[51,  0,  0,  0,  0,  0,  0,  0,  1,  0,  0],\n",
              "       [ 3,  5,  0,  0,  0,  0,  0,  0,  0,  0,  0],\n",
              "       [ 0,  0,  4,  0,  0,  0,  0,  0,  0,  0,  0],\n",
              "       [ 0,  0,  0,  1,  0,  0,  0,  0,  0,  0,  0],\n",
              "       [ 1,  1,  0,  0,  0,  0,  0,  0,  0,  0,  0],\n",
              "       [ 3,  0,  0,  0,  0,  0,  0,  0,  0,  0,  0],\n",
              "       [ 1,  0,  0,  0,  0,  0,  0,  0,  0,  0,  0],\n",
              "       [ 1,  0,  0,  0,  0,  0,  0,  1,  0,  0,  0],\n",
              "       [ 3,  1,  0,  0,  0,  0,  0,  0,  6,  0,  0],\n",
              "       [ 2,  0,  0,  0,  0,  0,  0,  0,  0,  0,  0],\n",
              "       [ 4,  1,  1,  0,  0,  0,  0,  0,  0,  0,  0]])"
            ]
          },
          "execution_count": 88,
          "metadata": {},
          "output_type": "execute_result"
        }
      ],
      "source": [
        "print ('Train Recall score: {}'\n",
        "      .format(rf_train_recall))\n",
        "print ('Test Recall score: {}'\n",
        "      .format(rf_test_recall))\n",
        "confusion_matrix(y_test, y_pred_test)"
      ]
    },
    {
      "cell_type": "markdown",
      "metadata": {
        "id": "4fa4bf47"
      },
      "source": [
        "# Add Random Forest Results to DataFrame\n",
        "- **Functionality:** This cell adds the training and testing accuracy of the Random Forest classifier to the `result` DataFrame."
      ]
    },
    {
      "cell_type": "code",
      "execution_count": null,
      "metadata": {
        "colab": {
          "base_uri": "https://localhost:8080/",
          "height": 237
        },
        "id": "0DyMUBVtBpir",
        "outputId": "83e01134-5072-41b7-c6da-860060ca319b"
      },
      "outputs": [
        {
          "data": {
            "text/html": [
              "<div>\n",
              "<style scoped>\n",
              "    .dataframe tbody tr th:only-of-type {\n",
              "        vertical-align: middle;\n",
              "    }\n",
              "\n",
              "    .dataframe tbody tr th {\n",
              "        vertical-align: top;\n",
              "    }\n",
              "\n",
              "    .dataframe thead th {\n",
              "        text-align: right;\n",
              "    }\n",
              "</style>\n",
              "<table border=\"1\" class=\"dataframe\">\n",
              "  <thead>\n",
              "    <tr style=\"text-align: right;\">\n",
              "      <th></th>\n",
              "      <th>Model</th>\n",
              "      <th>Train Accuracy</th>\n",
              "      <th>Test Accuracy</th>\n",
              "    </tr>\n",
              "  </thead>\n",
              "  <tbody>\n",
              "    <tr>\n",
              "      <th>0</th>\n",
              "      <td>KNN</td>\n",
              "      <td>0.648199</td>\n",
              "      <td>0.648352</td>\n",
              "    </tr>\n",
              "    <tr>\n",
              "      <th>0</th>\n",
              "      <td>Logistic Regression</td>\n",
              "      <td>0.939058</td>\n",
              "      <td>0.780220</td>\n",
              "    </tr>\n",
              "    <tr>\n",
              "      <th>0</th>\n",
              "      <td>Decision Tree</td>\n",
              "      <td>0.789474</td>\n",
              "      <td>0.681319</td>\n",
              "    </tr>\n",
              "    <tr>\n",
              "      <th>0</th>\n",
              "      <td>Linear SVM</td>\n",
              "      <td>0.880886</td>\n",
              "      <td>0.780220</td>\n",
              "    </tr>\n",
              "    <tr>\n",
              "      <th>0</th>\n",
              "      <td>Kernalized SVM</td>\n",
              "      <td>0.850416</td>\n",
              "      <td>0.791209</td>\n",
              "    </tr>\n",
              "    <tr>\n",
              "      <th>0</th>\n",
              "      <td>Random Forest</td>\n",
              "      <td>0.891967</td>\n",
              "      <td>0.747253</td>\n",
              "    </tr>\n",
              "  </tbody>\n",
              "</table>\n",
              "</div>"
            ],
            "text/plain": [
              "                 Model  Train Accuracy  Test Accuracy\n",
              "0                  KNN        0.648199       0.648352\n",
              "0  Logistic Regression        0.939058       0.780220\n",
              "0        Decision Tree        0.789474       0.681319\n",
              "0           Linear SVM        0.880886       0.780220\n",
              "0       Kernalized SVM        0.850416       0.791209\n",
              "0        Random Forest        0.891967       0.747253"
            ]
          },
          "execution_count": 89,
          "metadata": {},
          "output_type": "execute_result"
        }
      ],
      "source": [
        "result = pd.concat([result, pd.DataFrame([['Random Forest',rf_train_accuracy,rf_test_accuracy]],columns=['Model','Train Accuracy','Test Accuracy'])])\n",
        "result"
      ]
    },
    {
      "cell_type": "markdown",
      "metadata": {
        "id": "d2d87ffb"
      },
      "source": [
        "# Apply PCA for Dimensionality Reduction\n",
        "- **Functionality:** This cell initializes a `PCA` object to retain components explaining 98% of the variance, fits it on the scaled training data, and displays the number of principal components selected."
      ]
    },
    {
      "cell_type": "code",
      "execution_count": null,
      "metadata": {
        "colab": {
          "base_uri": "https://localhost:8080/"
        },
        "id": "2FbHwsx6CtFp",
        "outputId": "f27e7163-b4f0-4204-ce51-923e39d34037"
      },
      "outputs": [
        {
          "data": {
            "text/plain": [
              "np.int64(121)"
            ]
          },
          "execution_count": 91,
          "metadata": {},
          "output_type": "execute_result"
        }
      ],
      "source": [
        "from sklearn.decomposition import PCA\n",
        "pca = PCA(.98)\n",
        "pca.fit(X_train)\n",
        "pca.n_components_"
      ]
    },
    {
      "cell_type": "markdown",
      "metadata": {
        "id": "9ede7119"
      },
      "source": [
        "# Transform Data using PCA\n",
        "- **Functionality:** This cell applies the fitted PCA transformation to both the scaled training and testing data to reduce their dimensionality."
      ]
    },
    {
      "cell_type": "code",
      "execution_count": null,
      "metadata": {
        "id": "EBAS9GnCC_-_"
      },
      "outputs": [],
      "source": [
        "X_train_pca = pca.transform(X_train)\n",
        "X_test_pca = pca.transform(X_test)"
      ]
    },
    {
      "cell_type": "markdown",
      "metadata": {
        "id": "4abc627b"
      },
      "source": [
        "# Import Cross-validation and Grid Search (Not Used)\n",
        "- **Functionality:** This cell imports `StratifiedKFold` and `GridSearchCV` from scikit-learn, although these specific tools are not utilized in the subsequent model evaluation cells in this notebook."
      ]
    },
    {
      "cell_type": "code",
      "execution_count": null,
      "metadata": {
        "id": "kx7zw4SYDbIS"
      },
      "outputs": [],
      "source": [
        "from sklearn.model_selection import StratifiedKFold\n",
        "kFold = StratifiedKFold(n_splits=5)\n",
        "from sklearn.model_selection import GridSearchCV"
      ]
    },
    {
      "cell_type": "markdown",
      "metadata": {
        "id": "fcaa6894"
      },
      "source": [
        "# Train and Predict with KNN on PCA Data\n",
        "- **Functionality:** This cell initializes a `KNeighborsClassifier`, trains it on the PCA-transformed training data, and makes predictions on both the transformed training and testing sets."
      ]
    },
    {
      "cell_type": "code",
      "execution_count": null,
      "metadata": {
        "id": "_Xinst1MENfc"
      },
      "outputs": [],
      "source": [
        "from sklearn.neighbors import KNeighborsClassifier\n",
        "knnp_clf = KNeighborsClassifier(n_neighbors=5)\n",
        "knnp_clf.fit(X_train_pca, y_train)\n",
        "y_pred_train = knnp_clf.predict(X_train_pca)\n",
        "y_pred_test = knnp_clf.predict(X_test_pca)"
      ]
    },
    {
      "cell_type": "markdown",
      "metadata": {
        "id": "e31dad04"
      },
      "source": [
        "# Evaluate KNN with PCA Performance\n",
        "- **Functionality:** This cell calculates the training and testing accuracy and weighted recall scores for the KNN classifier applied to the PCA-transformed data."
      ]
    },
    {
      "cell_type": "code",
      "execution_count": null,
      "metadata": {
        "id": "cfOLRwZ5E2n5"
      },
      "outputs": [],
      "source": [
        "knnp_train_recall = recall_score(y_train, y_pred_train, average='weighted')\n",
        "knnp_test_recall = recall_score(y_test, y_pred_test, average='weighted')\n",
        "knnp_train_accuracy = accuracy_score(y_train, y_pred_train)\n",
        "knnp_test_accuracy = accuracy_score(y_test, y_pred_test)"
      ]
    },
    {
      "cell_type": "markdown",
      "metadata": {
        "id": "d2f951dd"
      },
      "source": [
        "# Print KNN with PCA Recall Scores and Confusion Matrix\n",
        "- **Functionality:** This cell prints the training and testing weighted recall scores and displays the confusion matrix for the KNN with PCA classifier's predictions on the test set."
      ]
    },
    {
      "cell_type": "code",
      "execution_count": null,
      "metadata": {
        "colab": {
          "base_uri": "https://localhost:8080/"
        },
        "id": "slE1TSwEFLNh",
        "outputId": "0c2c9162-b1fa-45b3-838e-f20055483976"
      },
      "outputs": [
        {
          "name": "stdout",
          "output_type": "stream",
          "text": [
            "Train Recall score: 0.6454293628808865\n",
            "Test Recall score: 0.6483516483516484\n"
          ]
        },
        {
          "data": {
            "text/plain": [
              "array([[51,  0,  0,  0,  0,  1,  0,  0,  0,  0,  0],\n",
              "       [ 6,  2,  0,  0,  0,  0,  0,  0,  0,  0,  0],\n",
              "       [ 2,  0,  2,  0,  0,  0,  0,  0,  0,  0,  0],\n",
              "       [ 0,  0,  0,  1,  0,  0,  0,  0,  0,  0,  0],\n",
              "       [ 2,  0,  0,  0,  0,  0,  0,  0,  0,  0,  0],\n",
              "       [ 3,  0,  0,  0,  0,  0,  0,  0,  0,  0,  0],\n",
              "       [ 1,  0,  0,  0,  0,  0,  0,  0,  0,  0,  0],\n",
              "       [ 0,  0,  0,  0,  0,  0,  0,  1,  0,  0,  1],\n",
              "       [ 8,  0,  0,  0,  0,  0,  0,  0,  2,  0,  0],\n",
              "       [ 2,  0,  0,  0,  0,  0,  0,  0,  0,  0,  0],\n",
              "       [ 6,  0,  0,  0,  0,  0,  0,  0,  0,  0,  0]])"
            ]
          },
          "execution_count": 97,
          "metadata": {},
          "output_type": "execute_result"
        }
      ],
      "source": [
        "print('Train Recall score: {}'\n",
        "      .format(knnp_train_recall))\n",
        "print('Test Recall score: {}'\n",
        "      .format(knnp_test_recall))\n",
        "\n",
        "confusion_matrix(y_test, y_pred_test)"
      ]
    },
    {
      "cell_type": "markdown",
      "metadata": {
        "id": "b4d74976"
      },
      "source": [
        "# Add KNN with PCA Results to DataFrame\n",
        "- **Functionality:** This cell adds the training and testing accuracy of the KNN with PCA classifier to the `result` DataFrame."
      ]
    },
    {
      "cell_type": "code",
      "execution_count": null,
      "metadata": {
        "colab": {
          "base_uri": "https://localhost:8080/",
          "height": 269
        },
        "id": "yD7lbWOTFSH2",
        "outputId": "4d4d2659-1a91-4bb5-9ec2-57990072857f"
      },
      "outputs": [
        {
          "data": {
            "text/html": [
              "<div>\n",
              "<style scoped>\n",
              "    .dataframe tbody tr th:only-of-type {\n",
              "        vertical-align: middle;\n",
              "    }\n",
              "\n",
              "    .dataframe tbody tr th {\n",
              "        vertical-align: top;\n",
              "    }\n",
              "\n",
              "    .dataframe thead th {\n",
              "        text-align: right;\n",
              "    }\n",
              "</style>\n",
              "<table border=\"1\" class=\"dataframe\">\n",
              "  <thead>\n",
              "    <tr style=\"text-align: right;\">\n",
              "      <th></th>\n",
              "      <th>Model</th>\n",
              "      <th>Train Accuracy</th>\n",
              "      <th>Test Accuracy</th>\n",
              "    </tr>\n",
              "  </thead>\n",
              "  <tbody>\n",
              "    <tr>\n",
              "      <th>0</th>\n",
              "      <td>KNN</td>\n",
              "      <td>0.648199</td>\n",
              "      <td>0.648352</td>\n",
              "    </tr>\n",
              "    <tr>\n",
              "      <th>0</th>\n",
              "      <td>Logistic Regression</td>\n",
              "      <td>0.939058</td>\n",
              "      <td>0.780220</td>\n",
              "    </tr>\n",
              "    <tr>\n",
              "      <th>0</th>\n",
              "      <td>Decision Tree</td>\n",
              "      <td>0.789474</td>\n",
              "      <td>0.681319</td>\n",
              "    </tr>\n",
              "    <tr>\n",
              "      <th>0</th>\n",
              "      <td>Linear SVM</td>\n",
              "      <td>0.880886</td>\n",
              "      <td>0.780220</td>\n",
              "    </tr>\n",
              "    <tr>\n",
              "      <th>0</th>\n",
              "      <td>Kernalized SVM</td>\n",
              "      <td>0.850416</td>\n",
              "      <td>0.791209</td>\n",
              "    </tr>\n",
              "    <tr>\n",
              "      <th>0</th>\n",
              "      <td>Random Forest</td>\n",
              "      <td>0.891967</td>\n",
              "      <td>0.747253</td>\n",
              "    </tr>\n",
              "    <tr>\n",
              "      <th>0</th>\n",
              "      <td>KNN with PCA</td>\n",
              "      <td>0.645429</td>\n",
              "      <td>0.648352</td>\n",
              "    </tr>\n",
              "  </tbody>\n",
              "</table>\n",
              "</div>"
            ],
            "text/plain": [
              "                 Model  Train Accuracy  Test Accuracy\n",
              "0                  KNN        0.648199       0.648352\n",
              "0  Logistic Regression        0.939058       0.780220\n",
              "0        Decision Tree        0.789474       0.681319\n",
              "0           Linear SVM        0.880886       0.780220\n",
              "0       Kernalized SVM        0.850416       0.791209\n",
              "0        Random Forest        0.891967       0.747253\n",
              "0         KNN with PCA        0.645429       0.648352"
            ]
          },
          "execution_count": 98,
          "metadata": {},
          "output_type": "execute_result"
        }
      ],
      "source": [
        "result = pd.concat([result, pd.DataFrame([['KNN with PCA',knnp_train_accuracy,knnp_test_accuracy]],columns=['Model','Train Accuracy','Test Accuracy'])])\n",
        "result"
      ]
    },
    {
      "cell_type": "code",
      "execution_count": null,
      "metadata": {
        "id": "-FmJlu7TFT3K"
      },
      "outputs": [],
      "source": [
        "#Logestic Regression with PCA"
      ]
    },
    {
      "cell_type": "code",
      "execution_count": null,
      "metadata": {
        "id": "89b5qyHFFgA_"
      },
      "outputs": [],
      "source": [
        "from sklearn.linear_model import LogisticRegression\n",
        "lgp_clf = LogisticRegression(solver='saga',C=0.01)\n",
        "lgp_clf.fit(X_train_pca, y_train)\n",
        "y_pred_train = lgp_clf.predict(X_train_pca)\n",
        "y_pred_test = lgp_clf.predict(X_test_pca)"
      ]
    },
    {
      "cell_type": "code",
      "execution_count": null,
      "metadata": {
        "id": "w0WzYDNqF0lM"
      },
      "outputs": [],
      "source": [
        "lgp_train_recall = recall_score(y_train, y_pred_train, average='weighted')\n",
        "lgp_test_recall = recall_score(y_test, y_pred_test, average='weighted')\n",
        "lgp_train_accuracy = accuracy_score(y_train, y_pred_train)\n",
        "lgp_test_accuracy = accuracy_score(y_test, y_pred_test)"
      ]
    },
    {
      "cell_type": "code",
      "execution_count": null,
      "metadata": {
        "colab": {
          "base_uri": "https://localhost:8080/"
        },
        "id": "bYn2Nr1JF-sM",
        "outputId": "a1f640bd-950d-4c6d-c4a8-95491ef340e6"
      },
      "outputs": [
        {
          "name": "stdout",
          "output_type": "stream",
          "text": [
            "Train Recall score: 0.7839335180055401\n",
            "Test Recall score: 0.7912087912087912\n"
          ]
        },
        {
          "data": {
            "text/plain": [
              "array([[52,  0,  0,  0,  0,  0,  0,  0,  0,  0,  0],\n",
              "       [ 2,  6,  0,  0,  0,  0,  0,  0,  0,  0,  0],\n",
              "       [ 0,  0,  4,  0,  0,  0,  0,  0,  0,  0,  0],\n",
              "       [ 0,  0,  0,  1,  0,  0,  0,  0,  0,  0,  0],\n",
              "       [ 2,  0,  0,  0,  0,  0,  0,  0,  0,  0,  0],\n",
              "       [ 3,  0,  0,  0,  0,  0,  0,  0,  0,  0,  0],\n",
              "       [ 1,  0,  0,  0,  0,  0,  0,  0,  0,  0,  0],\n",
              "       [ 1,  0,  0,  0,  0,  0,  0,  1,  0,  0,  0],\n",
              "       [ 2,  1,  0,  0,  0,  0,  0,  0,  7,  0,  0],\n",
              "       [ 1,  0,  0,  0,  0,  0,  0,  0,  0,  0,  1],\n",
              "       [ 4,  1,  0,  0,  0,  0,  0,  0,  0,  0,  1]])"
            ]
          },
          "execution_count": 102,
          "metadata": {},
          "output_type": "execute_result"
        }
      ],
      "source": [
        "print('Train Recall score: {}'\n",
        "      .format(lgp_train_recall))\n",
        "print('Test Recall score: {}'\n",
        "      .format(lgp_test_recall))\n",
        "confusion_matrix(y_test, y_pred_test)"
      ]
    },
    {
      "cell_type": "code",
      "execution_count": null,
      "metadata": {
        "colab": {
          "base_uri": "https://localhost:8080/",
          "height": 300
        },
        "id": "jpLywdq9GIA7",
        "outputId": "0e42aa61-179c-4aec-a1d8-045ab1d2491d"
      },
      "outputs": [
        {
          "data": {
            "text/html": [
              "<div>\n",
              "<style scoped>\n",
              "    .dataframe tbody tr th:only-of-type {\n",
              "        vertical-align: middle;\n",
              "    }\n",
              "\n",
              "    .dataframe tbody tr th {\n",
              "        vertical-align: top;\n",
              "    }\n",
              "\n",
              "    .dataframe thead th {\n",
              "        text-align: right;\n",
              "    }\n",
              "</style>\n",
              "<table border=\"1\" class=\"dataframe\">\n",
              "  <thead>\n",
              "    <tr style=\"text-align: right;\">\n",
              "      <th></th>\n",
              "      <th>Model</th>\n",
              "      <th>Train Accuracy</th>\n",
              "      <th>Test Accuracy</th>\n",
              "    </tr>\n",
              "  </thead>\n",
              "  <tbody>\n",
              "    <tr>\n",
              "      <th>0</th>\n",
              "      <td>KNN</td>\n",
              "      <td>0.648199</td>\n",
              "      <td>0.648352</td>\n",
              "    </tr>\n",
              "    <tr>\n",
              "      <th>0</th>\n",
              "      <td>Logistic Regression</td>\n",
              "      <td>0.939058</td>\n",
              "      <td>0.780220</td>\n",
              "    </tr>\n",
              "    <tr>\n",
              "      <th>0</th>\n",
              "      <td>Decision Tree</td>\n",
              "      <td>0.789474</td>\n",
              "      <td>0.681319</td>\n",
              "    </tr>\n",
              "    <tr>\n",
              "      <th>0</th>\n",
              "      <td>Linear SVM</td>\n",
              "      <td>0.880886</td>\n",
              "      <td>0.780220</td>\n",
              "    </tr>\n",
              "    <tr>\n",
              "      <th>0</th>\n",
              "      <td>Kernalized SVM</td>\n",
              "      <td>0.850416</td>\n",
              "      <td>0.791209</td>\n",
              "    </tr>\n",
              "    <tr>\n",
              "      <th>0</th>\n",
              "      <td>Random Forest</td>\n",
              "      <td>0.891967</td>\n",
              "      <td>0.747253</td>\n",
              "    </tr>\n",
              "    <tr>\n",
              "      <th>0</th>\n",
              "      <td>KNN with PCA</td>\n",
              "      <td>0.645429</td>\n",
              "      <td>0.648352</td>\n",
              "    </tr>\n",
              "    <tr>\n",
              "      <th>0</th>\n",
              "      <td>Logistic Regression with PCA</td>\n",
              "      <td>0.783934</td>\n",
              "      <td>0.791209</td>\n",
              "    </tr>\n",
              "  </tbody>\n",
              "</table>\n",
              "</div>"
            ],
            "text/plain": [
              "                          Model  Train Accuracy  Test Accuracy\n",
              "0                           KNN        0.648199       0.648352\n",
              "0           Logistic Regression        0.939058       0.780220\n",
              "0                 Decision Tree        0.789474       0.681319\n",
              "0                    Linear SVM        0.880886       0.780220\n",
              "0                Kernalized SVM        0.850416       0.791209\n",
              "0                 Random Forest        0.891967       0.747253\n",
              "0                  KNN with PCA        0.645429       0.648352\n",
              "0  Logistic Regression with PCA        0.783934       0.791209"
            ]
          },
          "execution_count": 103,
          "metadata": {},
          "output_type": "execute_result"
        }
      ],
      "source": [
        "result = pd.concat([result, pd.DataFrame([['Logistic Regression with PCA',lgp_train_accuracy,lgp_test_accuracy]],columns=['Model','Train Accuracy','Test Accuracy'])])\n",
        "result"
      ]
    },
    {
      "cell_type": "code",
      "execution_count": null,
      "metadata": {
        "id": "-9jnOcj3GKMh"
      },
      "outputs": [],
      "source": [
        "#Linear SVM with PCA"
      ]
    },
    {
      "cell_type": "code",
      "execution_count": null,
      "metadata": {
        "id": "8EzTkKelGpr1"
      },
      "outputs": [],
      "source": [
        "from sklearn.svm import LinearSVC\n",
        "LSVC_clf = LinearSVC(C=0.001)\n",
        "LSVC_clf.fit(X_train_pca, y_train)\n",
        "y_pred_train = LSVC_clf.predict(X_train_pca)\n",
        "y_pred_test = LSVC_clf.predict(X_test_pca)"
      ]
    },
    {
      "cell_type": "code",
      "execution_count": null,
      "metadata": {
        "id": "yP-pp9ISG6S3"
      },
      "outputs": [],
      "source": [
        "lsvcp_train_recall = recall_score(y_train, y_pred_train, average='weighted')\n",
        "lsvcp_test_recall = recall_score(y_test, y_pred_test, average='weighted')\n",
        "lsvcp_train_accuracy = accuracy_score(y_train, y_pred_train)\n",
        "lsvcp_test_accuracy = accuracy_score(y_test, y_pred_test)"
      ]
    },
    {
      "cell_type": "code",
      "execution_count": null,
      "metadata": {
        "colab": {
          "base_uri": "https://localhost:8080/"
        },
        "id": "DYJPPD3JG_ta",
        "outputId": "f3615c2d-dcda-4679-cd79-71ca488f7ea8"
      },
      "outputs": [
        {
          "name": "stdout",
          "output_type": "stream",
          "text": [
            "Train Recall score: 0.8088642659279779\n",
            "Test Recall score: 0.8021978021978022\n"
          ]
        },
        {
          "data": {
            "text/plain": [
              "array([[50,  2,  0,  0,  0,  0,  0,  0,  0,  0,  0],\n",
              "       [ 2,  6,  0,  0,  0,  0,  0,  0,  0,  0,  0],\n",
              "       [ 0,  0,  4,  0,  0,  0,  0,  0,  0,  0,  0],\n",
              "       [ 0,  0,  0,  1,  0,  0,  0,  0,  0,  0,  0],\n",
              "       [ 1,  0,  0,  0,  1,  0,  0,  0,  0,  0,  0],\n",
              "       [ 2,  1,  0,  0,  0,  0,  0,  0,  0,  0,  0],\n",
              "       [ 1,  0,  0,  0,  0,  0,  0,  0,  0,  0,  0],\n",
              "       [ 1,  0,  0,  0,  0,  0,  0,  1,  0,  0,  0],\n",
              "       [ 0,  0,  0,  0,  0,  0,  0,  0, 10,  0,  0],\n",
              "       [ 1,  0,  0,  0,  0,  0,  0,  0,  0,  0,  1],\n",
              "       [ 2,  2,  1,  0,  0,  0,  0,  0,  1,  0,  0]])"
            ]
          },
          "execution_count": 107,
          "metadata": {},
          "output_type": "execute_result"
        }
      ],
      "source": [
        "print('Train Recall score: {}'\n",
        "      .format(lsvcp_train_recall))\n",
        "print('Test Recall score: {}'\n",
        "      .format(lsvcp_test_recall))\n",
        "confusion_matrix(y_test, y_pred_test)"
      ]
    },
    {
      "cell_type": "code",
      "execution_count": null,
      "metadata": {
        "colab": {
          "base_uri": "https://localhost:8080/",
          "height": 332
        },
        "id": "lvQjjl0FHHJu",
        "outputId": "c0734f17-611e-4556-bc84-5a65c2f077f8"
      },
      "outputs": [
        {
          "data": {
            "text/html": [
              "<div>\n",
              "<style scoped>\n",
              "    .dataframe tbody tr th:only-of-type {\n",
              "        vertical-align: middle;\n",
              "    }\n",
              "\n",
              "    .dataframe tbody tr th {\n",
              "        vertical-align: top;\n",
              "    }\n",
              "\n",
              "    .dataframe thead th {\n",
              "        text-align: right;\n",
              "    }\n",
              "</style>\n",
              "<table border=\"1\" class=\"dataframe\">\n",
              "  <thead>\n",
              "    <tr style=\"text-align: right;\">\n",
              "      <th></th>\n",
              "      <th>Model</th>\n",
              "      <th>Train Accuracy</th>\n",
              "      <th>Test Accuracy</th>\n",
              "    </tr>\n",
              "  </thead>\n",
              "  <tbody>\n",
              "    <tr>\n",
              "      <th>0</th>\n",
              "      <td>KNN</td>\n",
              "      <td>0.648199</td>\n",
              "      <td>0.648352</td>\n",
              "    </tr>\n",
              "    <tr>\n",
              "      <th>0</th>\n",
              "      <td>Logistic Regression</td>\n",
              "      <td>0.939058</td>\n",
              "      <td>0.780220</td>\n",
              "    </tr>\n",
              "    <tr>\n",
              "      <th>0</th>\n",
              "      <td>Decision Tree</td>\n",
              "      <td>0.789474</td>\n",
              "      <td>0.681319</td>\n",
              "    </tr>\n",
              "    <tr>\n",
              "      <th>0</th>\n",
              "      <td>Linear SVM</td>\n",
              "      <td>0.880886</td>\n",
              "      <td>0.780220</td>\n",
              "    </tr>\n",
              "    <tr>\n",
              "      <th>0</th>\n",
              "      <td>Kernalized SVM</td>\n",
              "      <td>0.850416</td>\n",
              "      <td>0.791209</td>\n",
              "    </tr>\n",
              "    <tr>\n",
              "      <th>0</th>\n",
              "      <td>Random Forest</td>\n",
              "      <td>0.891967</td>\n",
              "      <td>0.747253</td>\n",
              "    </tr>\n",
              "    <tr>\n",
              "      <th>0</th>\n",
              "      <td>KNN with PCA</td>\n",
              "      <td>0.645429</td>\n",
              "      <td>0.648352</td>\n",
              "    </tr>\n",
              "    <tr>\n",
              "      <th>0</th>\n",
              "      <td>Logistic Regression with PCA</td>\n",
              "      <td>0.783934</td>\n",
              "      <td>0.791209</td>\n",
              "    </tr>\n",
              "    <tr>\n",
              "      <th>0</th>\n",
              "      <td>Linear SVM with PCA</td>\n",
              "      <td>0.808864</td>\n",
              "      <td>0.802198</td>\n",
              "    </tr>\n",
              "  </tbody>\n",
              "</table>\n",
              "</div>"
            ],
            "text/plain": [
              "                          Model  Train Accuracy  Test Accuracy\n",
              "0                           KNN        0.648199       0.648352\n",
              "0           Logistic Regression        0.939058       0.780220\n",
              "0                 Decision Tree        0.789474       0.681319\n",
              "0                    Linear SVM        0.880886       0.780220\n",
              "0                Kernalized SVM        0.850416       0.791209\n",
              "0                 Random Forest        0.891967       0.747253\n",
              "0                  KNN with PCA        0.645429       0.648352\n",
              "0  Logistic Regression with PCA        0.783934       0.791209\n",
              "0           Linear SVM with PCA        0.808864       0.802198"
            ]
          },
          "execution_count": 108,
          "metadata": {},
          "output_type": "execute_result"
        }
      ],
      "source": [
        "result = pd.concat([result, pd.DataFrame([['Linear SVM with PCA',lsvcp_train_accuracy,lsvcp_test_accuracy]],columns=['Model','Train Accuracy','Test Accuracy'])])\n",
        "result"
      ]
    },
    {
      "cell_type": "code",
      "execution_count": null,
      "metadata": {
        "id": "J0iakNbiHJCh"
      },
      "outputs": [],
      "source": [
        "#Kernel SVM with PCA"
      ]
    },
    {
      "cell_type": "code",
      "execution_count": null,
      "metadata": {
        "id": "5cBH67acHY_v"
      },
      "outputs": [],
      "source": [
        "from sklearn import svm\n",
        "KSVC_clf = svm.SVC(kernel='sigmoid',C=10,gamma=0.001)\n",
        "\n",
        "KSVC_clf.fit(X_train_pca, y_train)\n",
        "y_pred_train = KSVC_clf.predict(X_train_pca)\n",
        "y_pred_test = KSVC_clf.predict(X_test_pca)"
      ]
    },
    {
      "cell_type": "code",
      "execution_count": null,
      "metadata": {
        "id": "MnksFvhuHmY6"
      },
      "outputs": [],
      "source": [
        "ksvcp_train_recall = recall_score(y_train, y_pred_train, average='weighted')\n",
        "ksvcp_test_recall = recall_score(y_test, y_pred_test, average='weighted')\n",
        "ksvcp_train_accuracy = accuracy_score(y_train, y_pred_train,)\n",
        "ksvcp_test_accuracy = accuracy_score(y_test, y_pred_test)"
      ]
    },
    {
      "cell_type": "code",
      "execution_count": null,
      "metadata": {
        "colab": {
          "base_uri": "https://localhost:8080/"
        },
        "id": "-B4bcFU9HzPt",
        "outputId": "a1ce6c49-d3bc-4adc-a9a6-6253191092c7"
      },
      "outputs": [
        {
          "name": "stdout",
          "output_type": "stream",
          "text": [
            "Train Recall Score: 0.8393351800554016\n",
            "Test Recall Score: 0.8021978021978022\n"
          ]
        },
        {
          "data": {
            "text/plain": [
              "array([[52,  0,  0,  0,  0,  0,  0,  0,  0,  0,  0],\n",
              "       [ 2,  6,  0,  0,  0,  0,  0,  0,  0,  0,  0],\n",
              "       [ 0,  0,  4,  0,  0,  0,  0,  0,  0,  0,  0],\n",
              "       [ 0,  0,  0,  1,  0,  0,  0,  0,  0,  0,  0],\n",
              "       [ 1,  0,  0,  0,  1,  0,  0,  0,  0,  0,  0],\n",
              "       [ 3,  0,  0,  0,  0,  0,  0,  0,  0,  0,  0],\n",
              "       [ 1,  0,  0,  0,  0,  0,  0,  0,  0,  0,  0],\n",
              "       [ 1,  0,  0,  0,  0,  0,  0,  1,  0,  0,  0],\n",
              "       [ 2,  0,  0,  0,  0,  0,  0,  0,  8,  0,  0],\n",
              "       [ 2,  0,  0,  0,  0,  0,  0,  0,  0,  0,  0],\n",
              "       [ 5,  0,  1,  0,  0,  0,  0,  0,  0,  0,  0]])"
            ]
          },
          "execution_count": 112,
          "metadata": {},
          "output_type": "execute_result"
        }
      ],
      "source": [
        "print('Train Recall Score: {}'\n",
        "      .format(ksvcp_train_recall))\n",
        "print('Test Recall Score: {}'\n",
        "      .format(ksvcp_test_recall))\n",
        "confusion_matrix(y_test, y_pred_test)"
      ]
    },
    {
      "cell_type": "code",
      "execution_count": null,
      "metadata": {
        "colab": {
          "base_uri": "https://localhost:8080/",
          "height": 363
        },
        "id": "3Uw5XtzXH6ip",
        "outputId": "4d55bea1-e8ad-4dc5-e54d-3b469e580255"
      },
      "outputs": [
        {
          "data": {
            "text/html": [
              "<div>\n",
              "<style scoped>\n",
              "    .dataframe tbody tr th:only-of-type {\n",
              "        vertical-align: middle;\n",
              "    }\n",
              "\n",
              "    .dataframe tbody tr th {\n",
              "        vertical-align: top;\n",
              "    }\n",
              "\n",
              "    .dataframe thead th {\n",
              "        text-align: right;\n",
              "    }\n",
              "</style>\n",
              "<table border=\"1\" class=\"dataframe\">\n",
              "  <thead>\n",
              "    <tr style=\"text-align: right;\">\n",
              "      <th></th>\n",
              "      <th>Model</th>\n",
              "      <th>Train Accuracy</th>\n",
              "      <th>Test Accuracy</th>\n",
              "    </tr>\n",
              "  </thead>\n",
              "  <tbody>\n",
              "    <tr>\n",
              "      <th>0</th>\n",
              "      <td>KNN</td>\n",
              "      <td>0.648199</td>\n",
              "      <td>0.648352</td>\n",
              "    </tr>\n",
              "    <tr>\n",
              "      <th>0</th>\n",
              "      <td>Logistic Regression</td>\n",
              "      <td>0.939058</td>\n",
              "      <td>0.780220</td>\n",
              "    </tr>\n",
              "    <tr>\n",
              "      <th>0</th>\n",
              "      <td>Decision Tree</td>\n",
              "      <td>0.789474</td>\n",
              "      <td>0.681319</td>\n",
              "    </tr>\n",
              "    <tr>\n",
              "      <th>0</th>\n",
              "      <td>Linear SVM</td>\n",
              "      <td>0.880886</td>\n",
              "      <td>0.780220</td>\n",
              "    </tr>\n",
              "    <tr>\n",
              "      <th>0</th>\n",
              "      <td>Kernalized SVM</td>\n",
              "      <td>0.850416</td>\n",
              "      <td>0.791209</td>\n",
              "    </tr>\n",
              "    <tr>\n",
              "      <th>0</th>\n",
              "      <td>Random Forest</td>\n",
              "      <td>0.891967</td>\n",
              "      <td>0.747253</td>\n",
              "    </tr>\n",
              "    <tr>\n",
              "      <th>0</th>\n",
              "      <td>KNN with PCA</td>\n",
              "      <td>0.645429</td>\n",
              "      <td>0.648352</td>\n",
              "    </tr>\n",
              "    <tr>\n",
              "      <th>0</th>\n",
              "      <td>Logistic Regression with PCA</td>\n",
              "      <td>0.783934</td>\n",
              "      <td>0.791209</td>\n",
              "    </tr>\n",
              "    <tr>\n",
              "      <th>0</th>\n",
              "      <td>Linear SVM with PCA</td>\n",
              "      <td>0.808864</td>\n",
              "      <td>0.802198</td>\n",
              "    </tr>\n",
              "    <tr>\n",
              "      <th>0</th>\n",
              "      <td>Kernalized SVM with PCA</td>\n",
              "      <td>0.839335</td>\n",
              "      <td>0.802198</td>\n",
              "    </tr>\n",
              "  </tbody>\n",
              "</table>\n",
              "</div>"
            ],
            "text/plain": [
              "                          Model  Train Accuracy  Test Accuracy\n",
              "0                           KNN        0.648199       0.648352\n",
              "0           Logistic Regression        0.939058       0.780220\n",
              "0                 Decision Tree        0.789474       0.681319\n",
              "0                    Linear SVM        0.880886       0.780220\n",
              "0                Kernalized SVM        0.850416       0.791209\n",
              "0                 Random Forest        0.891967       0.747253\n",
              "0                  KNN with PCA        0.645429       0.648352\n",
              "0  Logistic Regression with PCA        0.783934       0.791209\n",
              "0           Linear SVM with PCA        0.808864       0.802198\n",
              "0       Kernalized SVM with PCA        0.839335       0.802198"
            ]
          },
          "execution_count": 113,
          "metadata": {},
          "output_type": "execute_result"
        }
      ],
      "source": [
        "result = pd.concat([result, pd.DataFrame([['Kernalized SVM with PCA',ksvcp_train_accuracy,ksvcp_test_accuracy]],columns=['Model','Train Accuracy','Test Accuracy'])])\n",
        "result"
      ]
    },
    {
      "cell_type": "code",
      "execution_count": null,
      "metadata": {
        "id": "eZ2Gp-HBH8JU"
      },
      "outputs": [],
      "source": [
        "#Decision Tree Classifier with PCA"
      ]
    },
    {
      "cell_type": "code",
      "execution_count": null,
      "metadata": {
        "id": "AynMGa8vIW4T"
      },
      "outputs": [],
      "source": [
        "from sklearn.tree import DecisionTreeClassifier\n",
        "dt_clf = DecisionTreeClassifier(criterion = 'entropy', random_state = 2,max_depth=5)\n",
        "dt_clf.fit(X_train_pca, y_train)\n",
        "y_pred_train = dt_clf.predict(X_train_pca)\n",
        "y_pred_test = dt_clf.predict(X_test_pca)"
      ]
    },
    {
      "cell_type": "code",
      "execution_count": null,
      "metadata": {
        "id": "POlS6Iq8Ip0c"
      },
      "outputs": [],
      "source": [
        "dtp_train_recall = recall_score(y_train, y_pred_train, average='weighted')\n",
        "dtp_test_recall = recall_score(y_test, y_pred_test, average='weighted')\n",
        "dtp_train_accuracy = accuracy_score(y_train, y_pred_train)\n",
        "dtp_test_accuracy = accuracy_score(y_test, y_pred_test)"
      ]
    },
    {
      "cell_type": "code",
      "execution_count": null,
      "metadata": {
        "colab": {
          "base_uri": "https://localhost:8080/"
        },
        "id": "9BJhZs9ZIwyZ",
        "outputId": "34a00db4-ac70-47ef-df2b-003f30315830"
      },
      "outputs": [
        {
          "name": "stdout",
          "output_type": "stream",
          "text": [
            "Train Recall score: 0.7534626038781164\n",
            "Test Recall score: 0.6043956043956044\n"
          ]
        },
        {
          "data": {
            "text/plain": [
              "array([[46,  4,  0,  0,  0,  0,  0,  0,  2,  0,  0],\n",
              "       [ 4,  4,  0,  0,  0,  0,  0,  0,  0,  0,  0],\n",
              "       [ 0,  0,  2,  0,  1,  0,  0,  0,  1,  0,  0],\n",
              "       [ 1,  0,  0,  0,  0,  0,  0,  0,  0,  0,  0],\n",
              "       [ 2,  0,  0,  0,  0,  0,  0,  0,  0,  0,  0],\n",
              "       [ 3,  0,  0,  0,  0,  0,  0,  0,  0,  0,  0],\n",
              "       [ 1,  0,  0,  0,  0,  0,  0,  0,  0,  0,  0],\n",
              "       [ 1,  0,  0,  0,  0,  0,  0,  1,  0,  0,  0],\n",
              "       [ 6,  1,  1,  0,  0,  0,  0,  0,  2,  0,  0],\n",
              "       [ 0,  2,  0,  0,  0,  0,  0,  0,  0,  0,  0],\n",
              "       [ 4,  1,  0,  0,  1,  0,  0,  0,  0,  0,  0]])"
            ]
          },
          "execution_count": 117,
          "metadata": {},
          "output_type": "execute_result"
        }
      ],
      "source": [
        "print('Train Recall score: {}'\n",
        "      .format(dtp_train_recall))\n",
        "print('Test Recall score: {}'\n",
        "      .format(dtp_test_recall))\n",
        "confusion_matrix(y_test, y_pred_test)"
      ]
    },
    {
      "cell_type": "code",
      "execution_count": null,
      "metadata": {
        "colab": {
          "base_uri": "https://localhost:8080/",
          "height": 394
        },
        "id": "HkV8fN4zI4op",
        "outputId": "4f07b02a-9561-4ec0-bcd1-855381a6dc1d"
      },
      "outputs": [
        {
          "data": {
            "text/html": [
              "<div>\n",
              "<style scoped>\n",
              "    .dataframe tbody tr th:only-of-type {\n",
              "        vertical-align: middle;\n",
              "    }\n",
              "\n",
              "    .dataframe tbody tr th {\n",
              "        vertical-align: top;\n",
              "    }\n",
              "\n",
              "    .dataframe thead th {\n",
              "        text-align: right;\n",
              "    }\n",
              "</style>\n",
              "<table border=\"1\" class=\"dataframe\">\n",
              "  <thead>\n",
              "    <tr style=\"text-align: right;\">\n",
              "      <th></th>\n",
              "      <th>Model</th>\n",
              "      <th>Train Accuracy</th>\n",
              "      <th>Test Accuracy</th>\n",
              "    </tr>\n",
              "  </thead>\n",
              "  <tbody>\n",
              "    <tr>\n",
              "      <th>0</th>\n",
              "      <td>KNN</td>\n",
              "      <td>0.648199</td>\n",
              "      <td>0.648352</td>\n",
              "    </tr>\n",
              "    <tr>\n",
              "      <th>0</th>\n",
              "      <td>Logistic Regression</td>\n",
              "      <td>0.939058</td>\n",
              "      <td>0.780220</td>\n",
              "    </tr>\n",
              "    <tr>\n",
              "      <th>0</th>\n",
              "      <td>Decision Tree</td>\n",
              "      <td>0.789474</td>\n",
              "      <td>0.681319</td>\n",
              "    </tr>\n",
              "    <tr>\n",
              "      <th>0</th>\n",
              "      <td>Linear SVM</td>\n",
              "      <td>0.880886</td>\n",
              "      <td>0.780220</td>\n",
              "    </tr>\n",
              "    <tr>\n",
              "      <th>0</th>\n",
              "      <td>Kernalized SVM</td>\n",
              "      <td>0.850416</td>\n",
              "      <td>0.791209</td>\n",
              "    </tr>\n",
              "    <tr>\n",
              "      <th>0</th>\n",
              "      <td>Random Forest</td>\n",
              "      <td>0.891967</td>\n",
              "      <td>0.747253</td>\n",
              "    </tr>\n",
              "    <tr>\n",
              "      <th>0</th>\n",
              "      <td>KNN with PCA</td>\n",
              "      <td>0.645429</td>\n",
              "      <td>0.648352</td>\n",
              "    </tr>\n",
              "    <tr>\n",
              "      <th>0</th>\n",
              "      <td>Logistic Regression with PCA</td>\n",
              "      <td>0.783934</td>\n",
              "      <td>0.791209</td>\n",
              "    </tr>\n",
              "    <tr>\n",
              "      <th>0</th>\n",
              "      <td>Linear SVM with PCA</td>\n",
              "      <td>0.808864</td>\n",
              "      <td>0.802198</td>\n",
              "    </tr>\n",
              "    <tr>\n",
              "      <th>0</th>\n",
              "      <td>Kernalized SVM with PCA</td>\n",
              "      <td>0.839335</td>\n",
              "      <td>0.802198</td>\n",
              "    </tr>\n",
              "    <tr>\n",
              "      <th>0</th>\n",
              "      <td>Decision Tree with PCA</td>\n",
              "      <td>0.753463</td>\n",
              "      <td>0.604396</td>\n",
              "    </tr>\n",
              "  </tbody>\n",
              "</table>\n",
              "</div>"
            ],
            "text/plain": [
              "                          Model  Train Accuracy  Test Accuracy\n",
              "0                           KNN        0.648199       0.648352\n",
              "0           Logistic Regression        0.939058       0.780220\n",
              "0                 Decision Tree        0.789474       0.681319\n",
              "0                    Linear SVM        0.880886       0.780220\n",
              "0                Kernalized SVM        0.850416       0.791209\n",
              "0                 Random Forest        0.891967       0.747253\n",
              "0                  KNN with PCA        0.645429       0.648352\n",
              "0  Logistic Regression with PCA        0.783934       0.791209\n",
              "0           Linear SVM with PCA        0.808864       0.802198\n",
              "0       Kernalized SVM with PCA        0.839335       0.802198\n",
              "0        Decision Tree with PCA        0.753463       0.604396"
            ]
          },
          "execution_count": 118,
          "metadata": {},
          "output_type": "execute_result"
        }
      ],
      "source": [
        "result = pd.concat([result, pd.DataFrame([['Decision Tree with PCA',dtp_train_accuracy,dtp_test_accuracy]],columns=['Model','Train Accuracy','Test Accuracy'])])\n",
        "result"
      ]
    },
    {
      "cell_type": "code",
      "execution_count": null,
      "metadata": {
        "id": "jnAJ4lw3I7MM"
      },
      "outputs": [],
      "source": [
        "# random Forest Classifier with PCA"
      ]
    },
    {
      "cell_type": "code",
      "execution_count": null,
      "metadata": {
        "id": "OAvIWZvBJ9w2"
      },
      "outputs": [],
      "source": [
        "from sklearn.ensemble import RandomForestClassifier\n",
        "rfp_clf = RandomForestClassifier()\n",
        "rfp_clf.fit(X_train_pca, y_train)\n",
        "y_pred_train = rfp_clf.predict(X_train_pca)\n",
        "y_pred_test = rfp_clf.predict(X_test_pca)"
      ]
    },
    {
      "cell_type": "code",
      "execution_count": null,
      "metadata": {
        "id": "mfzLfAYBKGa-"
      },
      "outputs": [],
      "source": [
        "rfp_train_recall = recall_score(y_train, y_pred_train, average='weighted')\n",
        "rfp_test_recall = recall_score(y_test, y_pred_test, average='weighted')\n",
        "rfp_train_accuracy = accuracy_score(y_train, y_pred_train)\n",
        "rfp_test_accuracy = accuracy_score(y_test, y_pred_test)"
      ]
    },
    {
      "cell_type": "code",
      "execution_count": null,
      "metadata": {
        "colab": {
          "base_uri": "https://localhost:8080/"
        },
        "id": "7kg0q1HiKfod",
        "outputId": "11e08458-4687-4ddd-d137-6d0bdad4c0aa"
      },
      "outputs": [
        {
          "name": "stdout",
          "output_type": "stream",
          "text": [
            "Train Recall score: 1.0\n",
            "Test Recall score: 0.6813186813186813\n"
          ]
        },
        {
          "data": {
            "text/plain": [
              "array([[52,  0,  0,  0,  0,  0,  0,  0,  0,  0,  0],\n",
              "       [ 5,  3,  0,  0,  0,  0,  0,  0,  0,  0,  0],\n",
              "       [ 2,  0,  2,  0,  0,  0,  0,  0,  0,  0,  0],\n",
              "       [ 0,  0,  0,  1,  0,  0,  0,  0,  0,  0,  0],\n",
              "       [ 2,  0,  0,  0,  0,  0,  0,  0,  0,  0,  0],\n",
              "       [ 3,  0,  0,  0,  0,  0,  0,  0,  0,  0,  0],\n",
              "       [ 1,  0,  0,  0,  0,  0,  0,  0,  0,  0,  0],\n",
              "       [ 1,  0,  0,  0,  0,  0,  0,  0,  1,  0,  0],\n",
              "       [ 6,  0,  0,  0,  0,  0,  0,  0,  4,  0,  0],\n",
              "       [ 2,  0,  0,  0,  0,  0,  0,  0,  0,  0,  0],\n",
              "       [ 6,  0,  0,  0,  0,  0,  0,  0,  0,  0,  0]])"
            ]
          },
          "execution_count": 122,
          "metadata": {},
          "output_type": "execute_result"
        }
      ],
      "source": [
        "print('Train Recall score: {}'\n",
        "      .format(rfp_train_recall))\n",
        "print('Test Recall score: {}'\n",
        "      .format(rfp_test_recall))\n",
        "confusion_matrix(y_test, y_pred_test)"
      ]
    },
    {
      "cell_type": "code",
      "execution_count": null,
      "metadata": {
        "colab": {
          "base_uri": "https://localhost:8080/",
          "height": 426
        },
        "id": "4mNsGVn_KlWO",
        "outputId": "9b79f260-6a24-460c-bb02-d4493e0c0016"
      },
      "outputs": [
        {
          "data": {
            "text/html": [
              "<div>\n",
              "<style scoped>\n",
              "    .dataframe tbody tr th:only-of-type {\n",
              "        vertical-align: middle;\n",
              "    }\n",
              "\n",
              "    .dataframe tbody tr th {\n",
              "        vertical-align: top;\n",
              "    }\n",
              "\n",
              "    .dataframe thead th {\n",
              "        text-align: right;\n",
              "    }\n",
              "</style>\n",
              "<table border=\"1\" class=\"dataframe\">\n",
              "  <thead>\n",
              "    <tr style=\"text-align: right;\">\n",
              "      <th></th>\n",
              "      <th>Model</th>\n",
              "      <th>Train Accuracy</th>\n",
              "      <th>Test Accuracy</th>\n",
              "    </tr>\n",
              "  </thead>\n",
              "  <tbody>\n",
              "    <tr>\n",
              "      <th>0</th>\n",
              "      <td>KNN</td>\n",
              "      <td>0.648199</td>\n",
              "      <td>0.648352</td>\n",
              "    </tr>\n",
              "    <tr>\n",
              "      <th>0</th>\n",
              "      <td>Logistic Regression</td>\n",
              "      <td>0.939058</td>\n",
              "      <td>0.780220</td>\n",
              "    </tr>\n",
              "    <tr>\n",
              "      <th>0</th>\n",
              "      <td>Decision Tree</td>\n",
              "      <td>0.789474</td>\n",
              "      <td>0.681319</td>\n",
              "    </tr>\n",
              "    <tr>\n",
              "      <th>0</th>\n",
              "      <td>Linear SVM</td>\n",
              "      <td>0.880886</td>\n",
              "      <td>0.780220</td>\n",
              "    </tr>\n",
              "    <tr>\n",
              "      <th>0</th>\n",
              "      <td>Kernalized SVM</td>\n",
              "      <td>0.850416</td>\n",
              "      <td>0.791209</td>\n",
              "    </tr>\n",
              "    <tr>\n",
              "      <th>0</th>\n",
              "      <td>Random Forest</td>\n",
              "      <td>0.891967</td>\n",
              "      <td>0.747253</td>\n",
              "    </tr>\n",
              "    <tr>\n",
              "      <th>0</th>\n",
              "      <td>KNN with PCA</td>\n",
              "      <td>0.645429</td>\n",
              "      <td>0.648352</td>\n",
              "    </tr>\n",
              "    <tr>\n",
              "      <th>0</th>\n",
              "      <td>Logistic Regression with PCA</td>\n",
              "      <td>0.783934</td>\n",
              "      <td>0.791209</td>\n",
              "    </tr>\n",
              "    <tr>\n",
              "      <th>0</th>\n",
              "      <td>Linear SVM with PCA</td>\n",
              "      <td>0.808864</td>\n",
              "      <td>0.802198</td>\n",
              "    </tr>\n",
              "    <tr>\n",
              "      <th>0</th>\n",
              "      <td>Kernalized SVM with PCA</td>\n",
              "      <td>0.839335</td>\n",
              "      <td>0.802198</td>\n",
              "    </tr>\n",
              "    <tr>\n",
              "      <th>0</th>\n",
              "      <td>Decision Tree with PCA</td>\n",
              "      <td>0.753463</td>\n",
              "      <td>0.604396</td>\n",
              "    </tr>\n",
              "    <tr>\n",
              "      <th>0</th>\n",
              "      <td>Random Forest with PCA</td>\n",
              "      <td>1.000000</td>\n",
              "      <td>0.681319</td>\n",
              "    </tr>\n",
              "  </tbody>\n",
              "</table>\n",
              "</div>"
            ],
            "text/plain": [
              "                          Model  Train Accuracy  Test Accuracy\n",
              "0                           KNN        0.648199       0.648352\n",
              "0           Logistic Regression        0.939058       0.780220\n",
              "0                 Decision Tree        0.789474       0.681319\n",
              "0                    Linear SVM        0.880886       0.780220\n",
              "0                Kernalized SVM        0.850416       0.791209\n",
              "0                 Random Forest        0.891967       0.747253\n",
              "0                  KNN with PCA        0.645429       0.648352\n",
              "0  Logistic Regression with PCA        0.783934       0.791209\n",
              "0           Linear SVM with PCA        0.808864       0.802198\n",
              "0       Kernalized SVM with PCA        0.839335       0.802198\n",
              "0        Decision Tree with PCA        0.753463       0.604396\n",
              "0        Random Forest with PCA        1.000000       0.681319"
            ]
          },
          "execution_count": 123,
          "metadata": {},
          "output_type": "execute_result"
        }
      ],
      "source": [
        "result = pd.concat([result, pd.DataFrame([['Random Forest with PCA',rfp_train_accuracy,rfp_test_accuracy]],columns=['Model','Train Accuracy','Test Accuracy'])])\n",
        "result"
      ]
    },
    {
      "cell_type": "markdown",
      "metadata": {
        "id": "08192805"
      },
      "source": [
        "# Principal Component Analysis (PCA) Section\n",
        "- **Functionality:** This markdown cell marks the beginning of the section applying Principal Component Analysis for dimensionality reduction."
      ]
    },
    {
      "cell_type": "code",
      "execution_count": null,
      "metadata": {
        "id": "HUT2rwRWKmel"
      },
      "outputs": [],
      "source": [
        "#Result"
      ]
    },
    {
      "cell_type": "code",
      "execution_count": null,
      "metadata": {
        "id": "ajf7MDAzqOdT",
        "outputId": "32ba5cd8-0208-48a1-c8dc-ded5f331471f"
      },
      "outputs": [
        {
          "data": {
            "image/png": "[encoded data removed]",
            "text/plain": [
              "<Figure size 1800x800 with 1 Axes>"
            ]
          },
          "metadata": {},
          "output_type": "display_data"
        }
      ],
      "source": [
        "result = result.set_index('Model')\n",
        "ax = result.plot(kind=\"bar\", figsize=(18, 8))\n",
        "plt.xticks(rotation=45, ha='right', fontsize=10)\n",
        "plt.title('Model Performance Comparison: Train vs Test Accuracy',\n",
        "          fontsize=16, fontweight='bold', pad=20)\n",
        "plt.xlabel('Machine Learning Models', fontsize=12)\n",
        "plt.ylabel('Accuracy Score', fontsize=12)\n",
        "plt.legend(['Training Accuracy', 'Test Accuracy'], loc='upper right')\n",
        "plt.subplots_adjust(bottom=0.3)\n",
        "plt.tight_layout()\n",
        "plt.show()"
      ]
    },
    {
      "cell_type": "code",
      "execution_count": null,
      "metadata": {
        "id": "IyXc52WSLa85"
      },
      "outputs": [],
      "source": []
    },
    {
      "cell_type": "markdown",
      "metadata": {
        "id": "a0d0d5c9"
      },
      "source": [
        "# Logistic Regression with PCA\n",
        "- **Functionality:** This markdown cell indicates the implementation and evaluation of a Logistic Regression classifier on the PCA-transformed data."
      ]
    },
    {
      "cell_type": "markdown",
      "metadata": {
        "id": "eb77588e"
      },
      "source": [
        "# Train and Predict with Logistic Regression on PCA Data\n",
        "- **Functionality:** This cell initializes a `LogisticRegression` classifier, trains it on the PCA-transformed training data, and makes predictions on both the transformed training and testing sets."
      ]
    },
    {
      "cell_type": "markdown",
      "metadata": {
        "id": "9a24022c"
      },
      "source": [
        "# Evaluate Logistic Regression with PCA Performance\n",
        "- **Functionality:** This cell calculates the training and testing accuracy and weighted recall scores for the Logistic Regression classifier applied to the PCA-transformed data."
      ]
    },
    {
      "cell_type": "markdown",
      "metadata": {
        "id": "343195a4"
      },
      "source": [
        "# Print Logistic Regression with PCA Recall Scores and Confusion Matrix\n",
        "- **Functionality:** This cell prints the training and testing weighted recall scores and displays the confusion matrix for the Logistic Regression with PCA classifier's predictions on the test set."
      ]
    },
    {
      "cell_type": "markdown",
      "metadata": {
        "id": "fdb84b28"
      },
      "source": [
        "# Add Logistic Regression with PCA Results to DataFrame\n",
        "- **Functionality:** This cell adds the training and testing accuracy of the Logistic Regression with PCA classifier to the `result` DataFrame."
      ]
    },
    {
      "cell_type": "markdown",
      "metadata": {
        "id": "5643b4c5"
      },
      "source": [
        "# Linear SVM with PCA\n",
        "- **Functionality:** This markdown cell indicates the implementation and evaluation of a Linear Support Vector Machine classifier on the PCA-transformed data."
      ]
    },
    {
      "cell_type": "markdown",
      "metadata": {
        "id": "94128e7e"
      },
      "source": [
        "# Train and Predict with Linear SVM on PCA Data\n",
        "- **Functionality:** This cell initializes a `LinearSVC` classifier, trains it on the PCA-transformed training data, and makes predictions on both the transformed training and testing sets."
      ]
    },
    {
      "cell_type": "markdown",
      "metadata": {
        "id": "3cdba83a"
      },
      "source": [
        "# Evaluate Linear SVM with PCA Performance\n",
        "- **Functionality:** This cell calculates the training and testing accuracy and weighted recall scores for the Linear SVM classifier applied to the PCA-transformed data."
      ]
    },
    {
      "cell_type": "markdown",
      "metadata": {
        "id": "d240db53"
      },
      "source": [
        "# Print Linear SVM with PCA Recall Scores and Confusion Matrix\n",
        "- **Functionality:** This cell prints the training and testing weighted recall scores and displays the confusion matrix for the Linear SVM with PCA classifier's predictions on the test set."
      ]
    },
    {
      "cell_type": "markdown",
      "metadata": {
        "id": "5b90f6f8"
      },
      "source": [
        "# Add Linear SVM with PCA Results to DataFrame\n",
        "- **Functionality:** This cell adds the training and testing accuracy of the Linear SVM with PCA classifier to the `result` DataFrame."
      ]
    },
    {
      "cell_type": "markdown",
      "metadata": {
        "id": "6138d409"
      },
      "source": [
        "# Kernelized SVM with PCA\n",
        "- **Functionality:** This markdown cell indicates the implementation and evaluation of a Kernelized Support Vector Machine classifier on the PCA-transformed data."
      ]
    },
    {
      "cell_type": "markdown",
      "metadata": {
        "id": "940f78fb"
      },
      "source": [
        "# Train and Predict with Kernelized SVM on PCA Data\n",
        "- **Functionality:** This cell initializes an `SVC` classifier with a specified kernel and parameters, trains it on the PCA-transformed training data, and makes predictions on both the transformed training and testing sets."
      ]
    },
    {
      "cell_type": "markdown",
      "metadata": {
        "id": "b20a327e"
      },
      "source": [
        "# Evaluate Kernelized SVM with PCA Performance\n",
        "- **Functionality:** This cell calculates the training and testing accuracy and weighted recall scores for the Kernelized SVM classifier applied to the PCA-transformed data."
      ]
    },
    {
      "cell_type": "markdown",
      "metadata": {
        "id": "e5c98d8b"
      },
      "source": [
        "# Print Kernelized SVM with PCA Recall Scores and Confusion Matrix\n",
        "- **Functionality:** This cell prints the training and testing weighted recall scores and displays the confusion matrix for the Kernelized SVM with PCA classifier's predictions on the test set."
      ]
    },
    {
      "cell_type": "markdown",
      "metadata": {
        "id": "0d52db2b"
      },
      "source": [
        "# Add Kernelized SVM with PCA Results to DataFrame\n",
        "- **Functionality:** This cell adds the training and testing accuracy of the Kernelized SVM with PCA classifier to the `result` DataFrame."
      ]
    },
    {
      "cell_type": "markdown",
      "metadata": {
        "id": "1d83b96d"
      },
      "source": [
        "# Decision Tree with PCA\n",
        "- **Functionality:** This markdown cell indicates the implementation and evaluation of a Decision Tree classifier on the PCA-transformed data."
      ]
    },
    {
      "cell_type": "markdown",
      "metadata": {
        "id": "bac3141d"
      },
      "source": [
        "# Train and Predict with Decision Tree on PCA Data\n",
        "- **Functionality:** This cell initializes a `DecisionTreeClassifier`, trains it on the PCA-transformed training data, and makes predictions on both the transformed training and testing sets."
      ]
    },
    {
      "cell_type": "markdown",
      "metadata": {
        "id": "48793dc5"
      },
      "source": [
        "# Evaluate Decision Tree with PCA Performance\n",
        "- **Functionality:** This cell calculates the training and testing accuracy and weighted recall scores for the Decision Tree classifier applied to the PCA-transformed data."
      ]
    },
    {
      "cell_type": "markdown",
      "metadata": {
        "id": "267823c6"
      },
      "source": [
        "# Print Decision Tree with PCA Recall Scores and Confusion Matrix\n",
        "- **Functionality:** This cell prints the training and testing weighted recall scores and displays the confusion matrix for the Decision Tree with PCA classifier's predictions on the test set."
      ]
    },
    {
      "cell_type": "markdown",
      "metadata": {
        "id": "2073ffa6"
      },
      "source": [
        "# Add Decision Tree with PCA Results to DataFrame\n",
        "- **Functionality:** This cell adds the training and testing accuracy of the Decision Tree with PCA classifier to the `result` DataFrame."
      ]
    },
    {
      "cell_type": "markdown",
      "metadata": {
        "id": "52f2a16b"
      },
      "source": [
        "# Random Forest with PCA\n",
        "- **Functionality:** This markdown cell indicates the implementation and evaluation of a Random Forest classifier on the PCA-transformed data."
      ]
    },
    {
      "cell_type": "markdown",
      "metadata": {
        "id": "7609ac54"
      },
      "source": [
        "# Train and Predict with Random Forest on PCA Data\n",
        "- **Functionality:** This cell initializes a `RandomForestClassifier`, trains it on the PCA-transformed training data, and makes predictions on both the transformed training and testing sets."
      ]
    },
    {
      "cell_type": "markdown",
      "metadata": {
        "id": "237cc4c0"
      },
      "source": [
        "# Evaluate Random Forest with PCA Performance\n",
        "- **Functionality:** This cell calculates the training and testing accuracy and weighted recall scores for the Random Forest classifier applied to the PCA-transformed data."
      ]
    },
    {
      "cell_type": "markdown",
      "metadata": {
        "id": "79359d78"
      },
      "source": [
        "# Print Random Forest with PCA Recall Scores and Confusion Matrix\n",
        "- **Functionality:** This cell prints the training and testing weighted recall scores and displays the confusion matrix for the Random Forest with PCA classifier's predictions on the test set."
      ]
    },
    {
      "cell_type": "markdown",
      "metadata": {
        "id": "ef81fe3a"
      },
      "source": [
        "# Add Random Forest with PCA Results to DataFrame\n",
        "- **Functionality:** This cell adds the training and testing accuracy of the Random Forest with PCA classifier to the `result` DataFrame."
      ]
    },
    {
      "cell_type": "markdown",
      "metadata": {
        "id": "6ff0c906"
      },
      "source": [
        "# Model Performance Results Section\n",
        "- **Functionality:** This markdown cell marks the beginning of the section presenting the performance results of the different models."
      ]
    },
    {
      "cell_type": "markdown",
      "metadata": {
        "id": "441f3a1e"
      },
      "source": [
        "# Visualize Model Performance Comparison\n",
        "- **Functionality:** This cell sets the 'Model' column as the index of the `result` DataFrame and generates a bar plot comparing the training and testing accuracy of all the evaluated models. The plot is customized for clarity and readability."
      ]
    }
  ],
  "metadata": {
    "colab": {
      "provenance": []
    },
    "kernelspec": {
      "display_name": "Python 3 (ipykernel)",
      "language": "python",
      "name": "python3"
    },
    "language_info": {
      "codemirror_mode": {
        "name": "ipython",
        "version": 3
      },
      "file_extension": ".py",
      "mimetype": "text/x-python",
      "name": "python",
      "nbconvert_exporter": "python",
      "pygments_lexer": "ipython3",
      "version": "3.12.5"
    }
  },
  "nbformat": 4,
  "nbformat_minor": 0
}