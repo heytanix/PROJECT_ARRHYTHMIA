{
 "cells": [
  {
   "cell_type": "markdown",
   "id": "a5ea19b5-eb68-4476-884a-66928ad2b6ad",
   "metadata": {
    "id": "a5ea19b5-eb68-4476-884a-66928ad2b6ad"
   },
   "source": [
    "<h1 align='center'>Model: General and PCA for classification</h1><>"
   ]
  },
  {
   "cell_type": "markdown",
   "id": "3d84ccdc",
   "metadata": {
    "id": "3d84ccdc"
   },
   "source": [
    "## Importing Libraries\n",
    "\n",
    "This code cell imports the necessary Python libraries for data manipulation, analysis, and visualization.\n",
    "\n",
    "- `pandas` (as `pd`): Used for working with data structures like DataFrames.\n",
    "- `numpy` (as `np`): Used for numerical operations, especially with arrays and matrices.\n",
    "- `scipy` (as `sp`): Used for scientific and technical computing.\n",
    "- `math` (as `mt`): Provides mathematical functions.\n",
    "- `matplotlib.pyplot` (as `plt`): Used for creating static, interactive, and animated visualizations in Python.\n",
    "- `seaborn` (as `sns`): A statistical data visualization library based on Matplotlib.\n",
    "- `sklearn.impute.SimpleImputer`: Used for handling missing values in the dataset."
   ]
  },
  {
   "cell_type": "code",
   "execution_count": null,
   "id": "7c3dfa90-fcca-4a06-98a5-8ce27eff9b51",
   "metadata": {
    "id": "7c3dfa90-fcca-4a06-98a5-8ce27eff9b51"
   },
   "outputs": [],
   "source": [
    "import pandas as pd\n",
    "import numpy as np\n",
    "import scipy as sp\n",
    "import math as mt\n",
    "import matplotlib.pyplot as plt\n",
    "import seaborn as sns\n",
    "from sklearn.impute import SimpleImputer"
   ]
  },
  {
   "cell_type": "markdown",
   "id": "a120f039",
   "metadata": {
    "id": "a120f039"
   },
   "source": [
    "## Loading the Dataset\n",
    "\n",
    "This code cell loads the dataset named \"arrhythmia.csv\" into a pandas DataFrame. The `header=None` argument is used because the dataset does not contain a header row."
   ]
  },
  {
   "cell_type": "code",
   "execution_count": null,
   "id": "9cedead2-51f5-430c-af6e-c6cea6c813b9",
   "metadata": {
    "id": "9cedead2-51f5-430c-af6e-c6cea6c813b9"
   },
   "outputs": [],
   "source": [
    "#loading the required dataset without the header\n",
    "df=pd.read_csv(\"Data/arrhythmia.csv\", header=None)"
   ]
  },
  {
   "cell_type": "markdown",
   "id": "-k64186vMfSy",
   "metadata": {
    "id": "-k64186vMfSy"
   },
   "source": [
    "## Inspecting the Dataset\n",
    "\n",
    "This code cell displays the first 5 rows of the DataFrame using the `.head()` method. This is a quick way to get a glimpse of the data and its structure."
   ]
  },
  {
   "cell_type": "code",
   "execution_count": null,
   "id": "18560a9f-b1df-4371-a36b-1ca3b65e766b",
   "metadata": {
    "id": "18560a9f-b1df-4371-a36b-1ca3b65e766b",
    "outputId": "8c531cfd-99e3-4036-bfcd-3a1bf4a9255a"
   },
   "outputs": [
    {
     "data": {
      "text/html": [
       "<div>\n",
       "<style scoped>\n",
       "    .dataframe tbody tr th:only-of-type {\n",
       "        vertical-align: middle;\n",
       "    }\n",
       "\n",
       "    .dataframe tbody tr th {\n",
       "        vertical-align: top;\n",
       "    }\n",
       "\n",
       "    .dataframe thead th {\n",
       "        text-align: right;\n",
       "    }\n",
       "</style>\n",
       "<table border=\"1\" class=\"dataframe\">\n",
       "  <thead>\n",
       "    <tr style=\"text-align: right;\">\n",
       "      <th></th>\n",
       "      <th>0</th>\n",
       "      <th>1</th>\n",
       "      <th>2</th>\n",
       "      <th>3</th>\n",
       "      <th>4</th>\n",
       "      <th>5</th>\n",
       "      <th>6</th>\n",
       "      <th>7</th>\n",
       "      <th>8</th>\n",
       "      <th>9</th>\n",
       "      <th>...</th>\n",
       "      <th>270</th>\n",
       "      <th>271</th>\n",
       "      <th>272</th>\n",
       "      <th>273</th>\n",
       "      <th>274</th>\n",
       "      <th>275</th>\n",
       "      <th>276</th>\n",
       "      <th>277</th>\n",
       "      <th>278</th>\n",
       "      <th>279</th>\n",
       "    </tr>\n",
       "  </thead>\n",
       "  <tbody>\n",
       "    <tr>\n",
       "      <th>0</th>\n",
       "      <td>75</td>\n",
       "      <td>0</td>\n",
       "      <td>190</td>\n",
       "      <td>80</td>\n",
       "      <td>91</td>\n",
       "      <td>193</td>\n",
       "      <td>371</td>\n",
       "      <td>174</td>\n",
       "      <td>121</td>\n",
       "      <td>-16</td>\n",
       "      <td>...</td>\n",
       "      <td>0.0</td>\n",
       "      <td>9.0</td>\n",
       "      <td>-0.9</td>\n",
       "      <td>0.0</td>\n",
       "      <td>0.0</td>\n",
       "      <td>0.9</td>\n",
       "      <td>2.9</td>\n",
       "      <td>23.3</td>\n",
       "      <td>49.4</td>\n",
       "      <td>8</td>\n",
       "    </tr>\n",
       "    <tr>\n",
       "      <th>1</th>\n",
       "      <td>56</td>\n",
       "      <td>1</td>\n",
       "      <td>165</td>\n",
       "      <td>64</td>\n",
       "      <td>81</td>\n",
       "      <td>174</td>\n",
       "      <td>401</td>\n",
       "      <td>149</td>\n",
       "      <td>39</td>\n",
       "      <td>25</td>\n",
       "      <td>...</td>\n",
       "      <td>0.0</td>\n",
       "      <td>8.5</td>\n",
       "      <td>0.0</td>\n",
       "      <td>0.0</td>\n",
       "      <td>0.0</td>\n",
       "      <td>0.2</td>\n",
       "      <td>2.1</td>\n",
       "      <td>20.4</td>\n",
       "      <td>38.8</td>\n",
       "      <td>6</td>\n",
       "    </tr>\n",
       "    <tr>\n",
       "      <th>2</th>\n",
       "      <td>54</td>\n",
       "      <td>0</td>\n",
       "      <td>172</td>\n",
       "      <td>95</td>\n",
       "      <td>138</td>\n",
       "      <td>163</td>\n",
       "      <td>386</td>\n",
       "      <td>185</td>\n",
       "      <td>102</td>\n",
       "      <td>96</td>\n",
       "      <td>...</td>\n",
       "      <td>0.0</td>\n",
       "      <td>9.5</td>\n",
       "      <td>-2.4</td>\n",
       "      <td>0.0</td>\n",
       "      <td>0.0</td>\n",
       "      <td>0.3</td>\n",
       "      <td>3.4</td>\n",
       "      <td>12.3</td>\n",
       "      <td>49.0</td>\n",
       "      <td>10</td>\n",
       "    </tr>\n",
       "    <tr>\n",
       "      <th>3</th>\n",
       "      <td>55</td>\n",
       "      <td>0</td>\n",
       "      <td>175</td>\n",
       "      <td>94</td>\n",
       "      <td>100</td>\n",
       "      <td>202</td>\n",
       "      <td>380</td>\n",
       "      <td>179</td>\n",
       "      <td>143</td>\n",
       "      <td>28</td>\n",
       "      <td>...</td>\n",
       "      <td>0.0</td>\n",
       "      <td>12.2</td>\n",
       "      <td>-2.2</td>\n",
       "      <td>0.0</td>\n",
       "      <td>0.0</td>\n",
       "      <td>0.4</td>\n",
       "      <td>2.6</td>\n",
       "      <td>34.6</td>\n",
       "      <td>61.6</td>\n",
       "      <td>1</td>\n",
       "    </tr>\n",
       "    <tr>\n",
       "      <th>4</th>\n",
       "      <td>75</td>\n",
       "      <td>0</td>\n",
       "      <td>190</td>\n",
       "      <td>80</td>\n",
       "      <td>88</td>\n",
       "      <td>181</td>\n",
       "      <td>360</td>\n",
       "      <td>177</td>\n",
       "      <td>103</td>\n",
       "      <td>-16</td>\n",
       "      <td>...</td>\n",
       "      <td>0.0</td>\n",
       "      <td>13.1</td>\n",
       "      <td>-3.6</td>\n",
       "      <td>0.0</td>\n",
       "      <td>0.0</td>\n",
       "      <td>-0.1</td>\n",
       "      <td>3.9</td>\n",
       "      <td>25.4</td>\n",
       "      <td>62.8</td>\n",
       "      <td>7</td>\n",
       "    </tr>\n",
       "  </tbody>\n",
       "</table>\n",
       "<p>5 rows × 280 columns</p>\n",
       "</div>"
      ],
      "text/plain": [
       "   0    1    2    3    4    5    6    7    8    9    ...  270   271  272  273  \\\n",
       "0   75    0  190   80   91  193  371  174  121  -16  ...  0.0   9.0 -0.9  0.0   \n",
       "1   56    1  165   64   81  174  401  149   39   25  ...  0.0   8.5  0.0  0.0   \n",
       "2   54    0  172   95  138  163  386  185  102   96  ...  0.0   9.5 -2.4  0.0   \n",
       "3   55    0  175   94  100  202  380  179  143   28  ...  0.0  12.2 -2.2  0.0   \n",
       "4   75    0  190   80   88  181  360  177  103  -16  ...  0.0  13.1 -3.6  0.0   \n",
       "\n",
       "   274  275  276   277   278  279  \n",
       "0  0.0  0.9  2.9  23.3  49.4    8  \n",
       "1  0.0  0.2  2.1  20.4  38.8    6  \n",
       "2  0.0  0.3  3.4  12.3  49.0   10  \n",
       "3  0.0  0.4  2.6  34.6  61.6    1  \n",
       "4  0.0 -0.1  3.9  25.4  62.8    7  \n",
       "\n",
       "[5 rows x 280 columns]"
      ]
     },
     "execution_count": 4,
     "metadata": {},
     "output_type": "execute_result"
    }
   ],
   "source": [
    "#inspecting the first 5 rows of the column\n",
    "df.head()"
   ]
  },
  {
   "cell_type": "markdown",
   "id": "11d65ec1",
   "metadata": {
    "id": "11d65ec1"
   },
   "source": [
    "## Inspecting the last 5 rows of the Dataset\n",
    "\n",
    "This code cell displays the last 5 rows of the DataFrame using the `.tail()` method. This is a quick way to get a glimpse of the end of the data and its structure."
   ]
  },
  {
   "cell_type": "code",
   "execution_count": null,
   "id": "54048f90-f0d2-4702-9e36-cbfe72e0488d",
   "metadata": {
    "id": "54048f90-f0d2-4702-9e36-cbfe72e0488d",
    "outputId": "39301442-79f7-464b-8421-8f5a3575d6a6"
   },
   "outputs": [
    {
     "data": {
      "text/html": [
       "<div>\n",
       "<style scoped>\n",
       "    .dataframe tbody tr th:only-of-type {\n",
       "        vertical-align: middle;\n",
       "    }\n",
       "\n",
       "    .dataframe tbody tr th {\n",
       "        vertical-align: top;\n",
       "    }\n",
       "\n",
       "    .dataframe thead th {\n",
       "        text-align: right;\n",
       "    }\n",
       "</style>\n",
       "<table border=\"1\" class=\"dataframe\">\n",
       "  <thead>\n",
       "    <tr style=\"text-align: right;\">\n",
       "      <th></th>\n",
       "      <th>0</th>\n",
       "      <th>1</th>\n",
       "      <th>2</th>\n",
       "      <th>3</th>\n",
       "      <th>4</th>\n",
       "      <th>5</th>\n",
       "      <th>6</th>\n",
       "      <th>7</th>\n",
       "      <th>8</th>\n",
       "      <th>9</th>\n",
       "      <th>...</th>\n",
       "      <th>270</th>\n",
       "      <th>271</th>\n",
       "      <th>272</th>\n",
       "      <th>273</th>\n",
       "      <th>274</th>\n",
       "      <th>275</th>\n",
       "      <th>276</th>\n",
       "      <th>277</th>\n",
       "      <th>278</th>\n",
       "      <th>279</th>\n",
       "    </tr>\n",
       "  </thead>\n",
       "  <tbody>\n",
       "    <tr>\n",
       "      <th>447</th>\n",
       "      <td>53</td>\n",
       "      <td>1</td>\n",
       "      <td>160</td>\n",
       "      <td>70</td>\n",
       "      <td>80</td>\n",
       "      <td>199</td>\n",
       "      <td>382</td>\n",
       "      <td>154</td>\n",
       "      <td>117</td>\n",
       "      <td>-37</td>\n",
       "      <td>...</td>\n",
       "      <td>0.0</td>\n",
       "      <td>4.3</td>\n",
       "      <td>-5.0</td>\n",
       "      <td>0.0</td>\n",
       "      <td>0.0</td>\n",
       "      <td>0.7</td>\n",
       "      <td>0.6</td>\n",
       "      <td>-4.4</td>\n",
       "      <td>-0.5</td>\n",
       "      <td>1</td>\n",
       "    </tr>\n",
       "    <tr>\n",
       "      <th>448</th>\n",
       "      <td>37</td>\n",
       "      <td>0</td>\n",
       "      <td>190</td>\n",
       "      <td>85</td>\n",
       "      <td>100</td>\n",
       "      <td>137</td>\n",
       "      <td>361</td>\n",
       "      <td>201</td>\n",
       "      <td>73</td>\n",
       "      <td>86</td>\n",
       "      <td>...</td>\n",
       "      <td>0.0</td>\n",
       "      <td>15.6</td>\n",
       "      <td>-1.6</td>\n",
       "      <td>0.0</td>\n",
       "      <td>0.0</td>\n",
       "      <td>0.4</td>\n",
       "      <td>2.4</td>\n",
       "      <td>38.0</td>\n",
       "      <td>62.4</td>\n",
       "      <td>10</td>\n",
       "    </tr>\n",
       "    <tr>\n",
       "      <th>449</th>\n",
       "      <td>36</td>\n",
       "      <td>0</td>\n",
       "      <td>166</td>\n",
       "      <td>68</td>\n",
       "      <td>108</td>\n",
       "      <td>176</td>\n",
       "      <td>365</td>\n",
       "      <td>194</td>\n",
       "      <td>116</td>\n",
       "      <td>-85</td>\n",
       "      <td>...</td>\n",
       "      <td>0.0</td>\n",
       "      <td>16.3</td>\n",
       "      <td>-28.6</td>\n",
       "      <td>0.0</td>\n",
       "      <td>0.0</td>\n",
       "      <td>1.5</td>\n",
       "      <td>1.0</td>\n",
       "      <td>-44.2</td>\n",
       "      <td>-33.2</td>\n",
       "      <td>2</td>\n",
       "    </tr>\n",
       "    <tr>\n",
       "      <th>450</th>\n",
       "      <td>32</td>\n",
       "      <td>1</td>\n",
       "      <td>155</td>\n",
       "      <td>55</td>\n",
       "      <td>93</td>\n",
       "      <td>106</td>\n",
       "      <td>386</td>\n",
       "      <td>218</td>\n",
       "      <td>63</td>\n",
       "      <td>54</td>\n",
       "      <td>...</td>\n",
       "      <td>-0.4</td>\n",
       "      <td>12.0</td>\n",
       "      <td>-0.7</td>\n",
       "      <td>0.0</td>\n",
       "      <td>0.0</td>\n",
       "      <td>0.5</td>\n",
       "      <td>2.4</td>\n",
       "      <td>25.0</td>\n",
       "      <td>46.6</td>\n",
       "      <td>1</td>\n",
       "    </tr>\n",
       "    <tr>\n",
       "      <th>451</th>\n",
       "      <td>78</td>\n",
       "      <td>1</td>\n",
       "      <td>160</td>\n",
       "      <td>70</td>\n",
       "      <td>79</td>\n",
       "      <td>127</td>\n",
       "      <td>364</td>\n",
       "      <td>138</td>\n",
       "      <td>78</td>\n",
       "      <td>28</td>\n",
       "      <td>...</td>\n",
       "      <td>0.0</td>\n",
       "      <td>10.4</td>\n",
       "      <td>-1.8</td>\n",
       "      <td>0.0</td>\n",
       "      <td>0.0</td>\n",
       "      <td>0.5</td>\n",
       "      <td>1.6</td>\n",
       "      <td>21.3</td>\n",
       "      <td>32.8</td>\n",
       "      <td>1</td>\n",
       "    </tr>\n",
       "  </tbody>\n",
       "</table>\n",
       "<p>5 rows × 280 columns</p>\n",
       "</div>"
      ],
      "text/plain": [
       "     0    1    2    3    4    5    6    7    8    9    ...  270   271   272  \\\n",
       "447   53    1  160   70   80  199  382  154  117  -37  ...  0.0   4.3  -5.0   \n",
       "448   37    0  190   85  100  137  361  201   73   86  ...  0.0  15.6  -1.6   \n",
       "449   36    0  166   68  108  176  365  194  116  -85  ...  0.0  16.3 -28.6   \n",
       "450   32    1  155   55   93  106  386  218   63   54  ... -0.4  12.0  -0.7   \n",
       "451   78    1  160   70   79  127  364  138   78   28  ...  0.0  10.4  -1.8   \n",
       "\n",
       "     273  274  275  276   277   278  279  \n",
       "447  0.0  0.0  0.7  0.6  -4.4  -0.5    1  \n",
       "448  0.0  0.0  0.4  2.4  38.0  62.4   10  \n",
       "449  0.0  0.0  1.5  1.0 -44.2 -33.2    2  \n",
       "450  0.0  0.0  0.5  2.4  25.0  46.6    1  \n",
       "451  0.0  0.0  0.5  1.6  21.3  32.8    1  \n",
       "\n",
       "[5 rows x 280 columns]"
      ]
     },
     "execution_count": 5,
     "metadata": {},
     "output_type": "execute_result"
    }
   ],
   "source": [
    "#Inspecting the last 5 rows of the dataset\n",
    "df.tail()"
   ]
  },
  {
   "cell_type": "code",
   "execution_count": null,
   "id": "4b64de7c-8814-48d5-bcd2-c8212b292c7f",
   "metadata": {
    "id": "4b64de7c-8814-48d5-bcd2-c8212b292c7f",
    "outputId": "d2bea48e-f38e-4ebc-d798-99b7704d3cd0"
   },
   "outputs": [
    {
     "data": {
      "text/plain": [
       "(452, 280)"
      ]
     },
     "execution_count": 6,
     "metadata": {},
     "output_type": "execute_result"
    }
   ],
   "source": [
    "#Inspecting the dimensionality of the dataset\n",
    "df.shape"
   ]
  },
  {
   "cell_type": "code",
   "execution_count": null,
   "id": "6efd3a30-56cd-430f-8ab4-ec88083178a0",
   "metadata": {
    "id": "6efd3a30-56cd-430f-8ab4-ec88083178a0",
    "outputId": "b7d51e1c-f049-439b-b3dc-2e3405b610ca"
   },
   "outputs": [
    {
     "name": "stdout",
     "output_type": "stream",
     "text": [
      "<class 'pandas.core.frame.DataFrame'>\n",
      "RangeIndex: 452 entries, 0 to 451\n",
      "Columns: 280 entries, 0 to 279\n",
      "dtypes: float64(120), int64(155), object(5)\n",
      "memory usage: 988.9+ KB\n"
     ]
    }
   ],
   "source": [
    "#Obtaining the information associated with the dataset\n",
    "df.info()"
   ]
  },
  {
   "cell_type": "code",
   "execution_count": null,
   "id": "e615f780-a74f-47bf-b6bb-6f3c85965398",
   "metadata": {
    "id": "e615f780-a74f-47bf-b6bb-6f3c85965398",
    "outputId": "10c30450-6ac4-4c6c-fc21-73745b2bbbd5"
   },
   "outputs": [
    {
     "data": {
      "text/html": [
       "<div>\n",
       "<style scoped>\n",
       "    .dataframe tbody tr th:only-of-type {\n",
       "        vertical-align: middle;\n",
       "    }\n",
       "\n",
       "    .dataframe tbody tr th {\n",
       "        vertical-align: top;\n",
       "    }\n",
       "\n",
       "    .dataframe thead th {\n",
       "        text-align: right;\n",
       "    }\n",
       "</style>\n",
       "<table border=\"1\" class=\"dataframe\">\n",
       "  <thead>\n",
       "    <tr style=\"text-align: right;\">\n",
       "      <th></th>\n",
       "      <th>count</th>\n",
       "      <th>mean</th>\n",
       "      <th>std</th>\n",
       "      <th>min</th>\n",
       "      <th>25%</th>\n",
       "      <th>50%</th>\n",
       "      <th>75%</th>\n",
       "      <th>max</th>\n",
       "    </tr>\n",
       "  </thead>\n",
       "  <tbody>\n",
       "    <tr>\n",
       "      <th>0</th>\n",
       "      <td>452.0</td>\n",
       "      <td>46.471239</td>\n",
       "      <td>16.466631</td>\n",
       "      <td>0.0</td>\n",
       "      <td>36.00</td>\n",
       "      <td>47.00</td>\n",
       "      <td>58.000</td>\n",
       "      <td>83.0</td>\n",
       "    </tr>\n",
       "    <tr>\n",
       "      <th>1</th>\n",
       "      <td>452.0</td>\n",
       "      <td>0.550885</td>\n",
       "      <td>0.497955</td>\n",
       "      <td>0.0</td>\n",
       "      <td>0.00</td>\n",
       "      <td>1.00</td>\n",
       "      <td>1.000</td>\n",
       "      <td>1.0</td>\n",
       "    </tr>\n",
       "    <tr>\n",
       "      <th>2</th>\n",
       "      <td>452.0</td>\n",
       "      <td>166.188053</td>\n",
       "      <td>37.170340</td>\n",
       "      <td>105.0</td>\n",
       "      <td>160.00</td>\n",
       "      <td>164.00</td>\n",
       "      <td>170.000</td>\n",
       "      <td>780.0</td>\n",
       "    </tr>\n",
       "    <tr>\n",
       "      <th>3</th>\n",
       "      <td>452.0</td>\n",
       "      <td>68.170354</td>\n",
       "      <td>16.590803</td>\n",
       "      <td>6.0</td>\n",
       "      <td>59.00</td>\n",
       "      <td>68.00</td>\n",
       "      <td>79.000</td>\n",
       "      <td>176.0</td>\n",
       "    </tr>\n",
       "    <tr>\n",
       "      <th>4</th>\n",
       "      <td>452.0</td>\n",
       "      <td>88.920354</td>\n",
       "      <td>15.364394</td>\n",
       "      <td>55.0</td>\n",
       "      <td>80.00</td>\n",
       "      <td>86.00</td>\n",
       "      <td>94.000</td>\n",
       "      <td>188.0</td>\n",
       "    </tr>\n",
       "    <tr>\n",
       "      <th>...</th>\n",
       "      <td>...</td>\n",
       "      <td>...</td>\n",
       "      <td>...</td>\n",
       "      <td>...</td>\n",
       "      <td>...</td>\n",
       "      <td>...</td>\n",
       "      <td>...</td>\n",
       "      <td>...</td>\n",
       "    </tr>\n",
       "    <tr>\n",
       "      <th>275</th>\n",
       "      <td>452.0</td>\n",
       "      <td>0.514823</td>\n",
       "      <td>0.347531</td>\n",
       "      <td>-0.8</td>\n",
       "      <td>0.40</td>\n",
       "      <td>0.50</td>\n",
       "      <td>0.700</td>\n",
       "      <td>2.4</td>\n",
       "    </tr>\n",
       "    <tr>\n",
       "      <th>276</th>\n",
       "      <td>452.0</td>\n",
       "      <td>1.222345</td>\n",
       "      <td>1.426052</td>\n",
       "      <td>-6.0</td>\n",
       "      <td>0.50</td>\n",
       "      <td>1.35</td>\n",
       "      <td>2.100</td>\n",
       "      <td>6.0</td>\n",
       "    </tr>\n",
       "    <tr>\n",
       "      <th>277</th>\n",
       "      <td>452.0</td>\n",
       "      <td>19.326106</td>\n",
       "      <td>13.503922</td>\n",
       "      <td>-44.2</td>\n",
       "      <td>11.45</td>\n",
       "      <td>18.10</td>\n",
       "      <td>25.825</td>\n",
       "      <td>88.8</td>\n",
       "    </tr>\n",
       "    <tr>\n",
       "      <th>278</th>\n",
       "      <td>452.0</td>\n",
       "      <td>29.473230</td>\n",
       "      <td>18.493927</td>\n",
       "      <td>-38.6</td>\n",
       "      <td>17.55</td>\n",
       "      <td>27.90</td>\n",
       "      <td>41.125</td>\n",
       "      <td>115.9</td>\n",
       "    </tr>\n",
       "    <tr>\n",
       "      <th>279</th>\n",
       "      <td>452.0</td>\n",
       "      <td>3.880531</td>\n",
       "      <td>4.407097</td>\n",
       "      <td>1.0</td>\n",
       "      <td>1.00</td>\n",
       "      <td>1.00</td>\n",
       "      <td>6.000</td>\n",
       "      <td>16.0</td>\n",
       "    </tr>\n",
       "  </tbody>\n",
       "</table>\n",
       "<p>275 rows × 8 columns</p>\n",
       "</div>"
      ],
      "text/plain": [
       "     count        mean        std    min     25%     50%      75%    max\n",
       "0    452.0   46.471239  16.466631    0.0   36.00   47.00   58.000   83.0\n",
       "1    452.0    0.550885   0.497955    0.0    0.00    1.00    1.000    1.0\n",
       "2    452.0  166.188053  37.170340  105.0  160.00  164.00  170.000  780.0\n",
       "3    452.0   68.170354  16.590803    6.0   59.00   68.00   79.000  176.0\n",
       "4    452.0   88.920354  15.364394   55.0   80.00   86.00   94.000  188.0\n",
       "..     ...         ...        ...    ...     ...     ...      ...    ...\n",
       "275  452.0    0.514823   0.347531   -0.8    0.40    0.50    0.700    2.4\n",
       "276  452.0    1.222345   1.426052   -6.0    0.50    1.35    2.100    6.0\n",
       "277  452.0   19.326106  13.503922  -44.2   11.45   18.10   25.825   88.8\n",
       "278  452.0   29.473230  18.493927  -38.6   17.55   27.90   41.125  115.9\n",
       "279  452.0    3.880531   4.407097    1.0    1.00    1.00    6.000   16.0\n",
       "\n",
       "[275 rows x 8 columns]"
      ]
     },
     "execution_count": 8,
     "metadata": {},
     "output_type": "execute_result"
    }
   ],
   "source": [
    "#Obtaining a brief description of the dataset\n",
    "df.describe().T"
   ]
  },
  {
   "cell_type": "markdown",
   "id": "99095cff",
   "metadata": {
    "id": "99095cff"
   },
   "source": [
    "## Checking for Null Values\n",
    "\n",
    "This code cell calculates and displays the total number of null values in the DataFrame using `pd.isnull().sum().sum()`."
   ]
  },
  {
   "cell_type": "code",
   "execution_count": null,
   "id": "b5b1523f-4d63-4aa7-a1d8-2da22ac174e2",
   "metadata": {
    "id": "b5b1523f-4d63-4aa7-a1d8-2da22ac174e2",
    "outputId": "40a09357-e782-49c2-ed14-932ed4f3b931"
   },
   "outputs": [
    {
     "data": {
      "text/plain": [
       "np.int64(0)"
      ]
     },
     "execution_count": 9,
     "metadata": {},
     "output_type": "execute_result"
    }
   ],
   "source": [
    "#Checking for null values in the dataset\n",
    "pd.isnull(df).sum().sum()"
   ]
  },
  {
   "cell_type": "markdown",
   "id": "fe951e93",
   "metadata": {
    "id": "fe951e93"
   },
   "source": [
    "## Replacing \"?\" with NaN\n",
    "\n",
    "This code cell replaces all occurrences of the string \"?\" in the DataFrame with `np.nan` (Not a Number), which is the standard representation for missing values in NumPy and pandas."
   ]
  },
  {
   "cell_type": "code",
   "execution_count": null,
   "id": "4afb289d-8441-4989-a2b1-12f1e98717c4",
   "metadata": {
    "id": "4afb289d-8441-4989-a2b1-12f1e98717c4"
   },
   "outputs": [],
   "source": [
    "#Replacing the \"?\" in the with the (numpy)np.nan method\n",
    "df = df.replace(\"?\",np.nan)"
   ]
  },
  {
   "cell_type": "markdown",
   "id": "ce0accc7",
   "metadata": {
    "id": "ce0accc7"
   },
   "source": [
    "## Final Count of Null Values\n",
    "\n",
    "This code cell calculates and displays the total number of null values in the DataFrame after replacing \"?\" with `np.nan`."
   ]
  },
  {
   "cell_type": "code",
   "execution_count": null,
   "id": "60db1317-43ec-4cf6-ba94-1d48d1f2ab3f",
   "metadata": {
    "id": "60db1317-43ec-4cf6-ba94-1d48d1f2ab3f",
    "outputId": "d4ed710f-8b72-448f-a7f8-63241fa46b58"
   },
   "outputs": [
    {
     "data": {
      "text/plain": [
       "np.int64(408)"
      ]
     },
     "execution_count": 11,
     "metadata": {},
     "output_type": "execute_result"
    }
   ],
   "source": [
    "#Final counting total number of null values in dataset\n",
    "nu=pd.isnull(df).sum().sum()\n",
    "nu"
   ]
  },
  {
   "cell_type": "markdown",
   "id": "baa07741",
   "metadata": {
    "id": "baa07741"
   },
   "source": [
    "## Visualizing the Distribution of Missing Data\n",
    "\n",
    "This code cell generates a line plot showing the number of null values in each column of the DataFrame."
   ]
  },
  {
   "cell_type": "code",
   "execution_count": null,
   "id": "0e5c1826-4d1f-4ae8-b06c-db93bda94188",
   "metadata": {
    "id": "0e5c1826-4d1f-4ae8-b06c-db93bda94188",
    "outputId": "364ed974-9fbc-4cf3-ae14-84513d696ff8"
   },
   "outputs": [
    {
     "data": {
      "text/plain": [
       "Text(0, 0.5, 'Total number of null values in each column')"
      ]
     },
     "execution_count": 12,
     "metadata": {},
     "output_type": "execute_result"
    },
    {
     "data": {
      "image/png": "[encoded data removed]",
      "text/plain": [
       "<Figure size 640x480 with 1 Axes>"
      ]
     },
     "metadata": {},
     "output_type": "display_data"
    }
   ],
   "source": [
    "#Plotting the graph to check for the null data\n",
    "pd.isnull(df).sum().plot()\n",
    "plt.xlabel(\"Columns\")\n",
    "plt.ylabel(\"Total number of null values in each column\")"
   ]
  },
  {
   "cell_type": "markdown",
   "id": "68643544",
   "metadata": {
    "id": "68643544"
   },
   "source": [
    "## Zooming Into Missing Value Distribution (Bar Chart)\n",
    "\n",
    "This code cell generates a bar chart showing the number of null values for a specific range of columns (columns 7 to 16), providing a zoomed-in view of the missing data distribution."
   ]
  },
  {
   "cell_type": "code",
   "execution_count": null,
   "id": "440da02c-bdcb-45f6-9d18-40f1973e2c29",
   "metadata": {
    "id": "440da02c-bdcb-45f6-9d18-40f1973e2c29",
    "outputId": "d5bbc56f-6b3f-4927-997d-e02a67ffd304"
   },
   "outputs": [
    {
     "data": {
      "text/plain": [
       "Text(0, 0.5, 'Total number of null values in each columns')"
      ]
     },
     "execution_count": 13,
     "metadata": {},
     "output_type": "execute_result"
    },
    {
     "data": {
      "image/png": "[encoded data removed]",
      "text/plain": [
       "<Figure size 640x480 with 1 Axes>"
      ]
     },
     "metadata": {},
     "output_type": "display_data"
    }
   ],
   "source": [
    "#Zooming Into the null value graph (as bar chart)\n",
    "pd.isnull(df).sum()[7:17].plot(kind=\"bar\")\n",
    "plt.xlabel(\"Columns\")\n",
    "plt.ylabel(\"Total number of null values in each columns\")"
   ]
  },
  {
   "cell_type": "markdown",
   "id": "9cd3690f",
   "metadata": {
    "id": "9cd3690f"
   },
   "source": [
    "## Dropping Column 13\n",
    "\n",
    "This code cell drops the column with index 13 from the DataFrame in place."
   ]
  },
  {
   "cell_type": "code",
   "execution_count": null,
   "id": "2ccc7ffe-06ef-4f3f-ae04-1d7bef28c8e8",
   "metadata": {
    "id": "2ccc7ffe-06ef-4f3f-ae04-1d7bef28c8e8"
   },
   "outputs": [],
   "source": [
    "#Dropping the column 13\n",
    "df.drop(columns =13, inplace=True)"
   ]
  },
  {
   "cell_type": "markdown",
   "id": "c09dace5",
   "metadata": {
    "id": "c09dace5"
   },
   "source": [
    "## Creating a Copy of the DataFrame\n",
    "\n",
    "This code cell creates a copy of the DataFrame `df` and assigns it to a new variable `new_df`. This is done to preserve the original data while performing imputation on the copied data."
   ]
  },
  {
   "cell_type": "code",
   "execution_count": null,
   "id": "c4d488ec-18b3-4234-bfbd-35ad9d7e43d8",
   "metadata": {
    "id": "c4d488ec-18b3-4234-bfbd-35ad9d7e43d8"
   },
   "outputs": [],
   "source": [
    "#Making a copy to avoid changing original data (When imputing)\n",
    "new_df = df.copy()"
   ]
  },
  {
   "cell_type": "markdown",
   "id": "54be2411",
   "metadata": {
    "id": "54be2411"
   },
   "source": [
    "## Marking Columns with Missing Values\n",
    "\n",
    "This code cell iterates through the columns of `new_df` and creates boolean columns indicating whether each value in the original column was missing (True) or not (False)."
   ]
  },
  {
   "cell_type": "code",
   "execution_count": null,
   "id": "983a824f-90b2-402d-9ca7-d40cd06cb1f1",
   "metadata": {
    "id": "983a824f-90b2-402d-9ca7-d40cd06cb1f1"
   },
   "outputs": [],
   "source": [
    "#Makin new colums indicating what will be imputed\n",
    "cols_with_missing = (col for col in new_df.columns if new_df[col].isnull().any())\n",
    "for col in cols_with_missing:\n",
    "    new_df[col] = new_df[col].isnull()"
   ]
  },
  {
   "cell_type": "markdown",
   "id": "f6954728",
   "metadata": {
    "id": "f6954728"
   },
   "source": [
    "## Imputing Missing Values with the Mean\n",
    "\n",
    "This code cell uses `SimpleImputer` with the default strategy (mean for numerical data) to fill the missing values (represented by `np.nan`) in the `new_df` DataFrame. It then converts the result back to a pandas DataFrame and assigns the original column names."
   ]
  },
  {
   "cell_type": "code",
   "execution_count": null,
   "id": "c07a8ec0-afe1-423a-9c83-5f7689bd30e9",
   "metadata": {
    "id": "c07a8ec0-afe1-423a-9c83-5f7689bd30e9"
   },
   "outputs": [],
   "source": [
    "#Imputation\n",
    "#my_imputer = SimpleImputer(missing_values=np.nan, strategy='mean')\n",
    "my_imputer = SimpleImputer()\n",
    "new_df = pd.DataFrame(my_imputer.fit_transform(new_df))\n",
    "new_df.columns = df.columns"
   ]
  },
  {
   "cell_type": "markdown",
   "id": "da2d64ef",
   "metadata": {
    "id": "da2d64ef"
   },
   "source": [
    "## Displaying the Imputed DataFrame\n",
    "\n",
    "This code cell displays the first 5 rows of the `new_df` DataFrame after the missing values have been imputed."
   ]
  },
  {
   "cell_type": "code",
   "execution_count": null,
   "id": "095acb1b-4099-4caf-b2ff-d8873acc0c75",
   "metadata": {
    "id": "095acb1b-4099-4caf-b2ff-d8873acc0c75",
    "outputId": "d56dfa4e-2741-4663-d03a-8d92a23a97df"
   },
   "outputs": [
    {
     "data": {
      "text/html": [
       "<div>\n",
       "<style scoped>\n",
       "    .dataframe tbody tr th:only-of-type {\n",
       "        vertical-align: middle;\n",
       "    }\n",
       "\n",
       "    .dataframe tbody tr th {\n",
       "        vertical-align: top;\n",
       "    }\n",
       "\n",
       "    .dataframe thead th {\n",
       "        text-align: right;\n",
       "    }\n",
       "</style>\n",
       "<table border=\"1\" class=\"dataframe\">\n",
       "  <thead>\n",
       "    <tr style=\"text-align: right;\">\n",
       "      <th></th>\n",
       "      <th>0</th>\n",
       "      <th>1</th>\n",
       "      <th>2</th>\n",
       "      <th>3</th>\n",
       "      <th>4</th>\n",
       "      <th>5</th>\n",
       "      <th>6</th>\n",
       "      <th>7</th>\n",
       "      <th>8</th>\n",
       "      <th>9</th>\n",
       "      <th>...</th>\n",
       "      <th>270</th>\n",
       "      <th>271</th>\n",
       "      <th>272</th>\n",
       "      <th>273</th>\n",
       "      <th>274</th>\n",
       "      <th>275</th>\n",
       "      <th>276</th>\n",
       "      <th>277</th>\n",
       "      <th>278</th>\n",
       "      <th>279</th>\n",
       "    </tr>\n",
       "  </thead>\n",
       "  <tbody>\n",
       "    <tr>\n",
       "      <th>0</th>\n",
       "      <td>75.0</td>\n",
       "      <td>0.0</td>\n",
       "      <td>190.0</td>\n",
       "      <td>80.0</td>\n",
       "      <td>91.0</td>\n",
       "      <td>193.0</td>\n",
       "      <td>371.0</td>\n",
       "      <td>174.0</td>\n",
       "      <td>121.0</td>\n",
       "      <td>-16.0</td>\n",
       "      <td>...</td>\n",
       "      <td>0.0</td>\n",
       "      <td>9.0</td>\n",
       "      <td>-0.9</td>\n",
       "      <td>0.0</td>\n",
       "      <td>0.0</td>\n",
       "      <td>0.9</td>\n",
       "      <td>2.9</td>\n",
       "      <td>23.3</td>\n",
       "      <td>49.4</td>\n",
       "      <td>8.0</td>\n",
       "    </tr>\n",
       "    <tr>\n",
       "      <th>1</th>\n",
       "      <td>56.0</td>\n",
       "      <td>1.0</td>\n",
       "      <td>165.0</td>\n",
       "      <td>64.0</td>\n",
       "      <td>81.0</td>\n",
       "      <td>174.0</td>\n",
       "      <td>401.0</td>\n",
       "      <td>149.0</td>\n",
       "      <td>39.0</td>\n",
       "      <td>25.0</td>\n",
       "      <td>...</td>\n",
       "      <td>0.0</td>\n",
       "      <td>8.5</td>\n",
       "      <td>0.0</td>\n",
       "      <td>0.0</td>\n",
       "      <td>0.0</td>\n",
       "      <td>0.2</td>\n",
       "      <td>2.1</td>\n",
       "      <td>20.4</td>\n",
       "      <td>38.8</td>\n",
       "      <td>6.0</td>\n",
       "    </tr>\n",
       "    <tr>\n",
       "      <th>2</th>\n",
       "      <td>54.0</td>\n",
       "      <td>0.0</td>\n",
       "      <td>172.0</td>\n",
       "      <td>95.0</td>\n",
       "      <td>138.0</td>\n",
       "      <td>163.0</td>\n",
       "      <td>386.0</td>\n",
       "      <td>185.0</td>\n",
       "      <td>102.0</td>\n",
       "      <td>96.0</td>\n",
       "      <td>...</td>\n",
       "      <td>0.0</td>\n",
       "      <td>9.5</td>\n",
       "      <td>-2.4</td>\n",
       "      <td>0.0</td>\n",
       "      <td>0.0</td>\n",
       "      <td>0.3</td>\n",
       "      <td>3.4</td>\n",
       "      <td>12.3</td>\n",
       "      <td>49.0</td>\n",
       "      <td>10.0</td>\n",
       "    </tr>\n",
       "    <tr>\n",
       "      <th>3</th>\n",
       "      <td>55.0</td>\n",
       "      <td>0.0</td>\n",
       "      <td>175.0</td>\n",
       "      <td>94.0</td>\n",
       "      <td>100.0</td>\n",
       "      <td>202.0</td>\n",
       "      <td>380.0</td>\n",
       "      <td>179.0</td>\n",
       "      <td>143.0</td>\n",
       "      <td>28.0</td>\n",
       "      <td>...</td>\n",
       "      <td>0.0</td>\n",
       "      <td>12.2</td>\n",
       "      <td>-2.2</td>\n",
       "      <td>0.0</td>\n",
       "      <td>0.0</td>\n",
       "      <td>0.4</td>\n",
       "      <td>2.6</td>\n",
       "      <td>34.6</td>\n",
       "      <td>61.6</td>\n",
       "      <td>1.0</td>\n",
       "    </tr>\n",
       "    <tr>\n",
       "      <th>4</th>\n",
       "      <td>75.0</td>\n",
       "      <td>0.0</td>\n",
       "      <td>190.0</td>\n",
       "      <td>80.0</td>\n",
       "      <td>88.0</td>\n",
       "      <td>181.0</td>\n",
       "      <td>360.0</td>\n",
       "      <td>177.0</td>\n",
       "      <td>103.0</td>\n",
       "      <td>-16.0</td>\n",
       "      <td>...</td>\n",
       "      <td>0.0</td>\n",
       "      <td>13.1</td>\n",
       "      <td>-3.6</td>\n",
       "      <td>0.0</td>\n",
       "      <td>0.0</td>\n",
       "      <td>-0.1</td>\n",
       "      <td>3.9</td>\n",
       "      <td>25.4</td>\n",
       "      <td>62.8</td>\n",
       "      <td>7.0</td>\n",
       "    </tr>\n",
       "  </tbody>\n",
       "</table>\n",
       "<p>5 rows × 279 columns</p>\n",
       "</div>"
      ],
      "text/plain": [
       "    0    1      2     3      4      5      6      7      8     9    ...  270  \\\n",
       "0  75.0  0.0  190.0  80.0   91.0  193.0  371.0  174.0  121.0 -16.0  ...  0.0   \n",
       "1  56.0  1.0  165.0  64.0   81.0  174.0  401.0  149.0   39.0  25.0  ...  0.0   \n",
       "2  54.0  0.0  172.0  95.0  138.0  163.0  386.0  185.0  102.0  96.0  ...  0.0   \n",
       "3  55.0  0.0  175.0  94.0  100.0  202.0  380.0  179.0  143.0  28.0  ...  0.0   \n",
       "4  75.0  0.0  190.0  80.0   88.0  181.0  360.0  177.0  103.0 -16.0  ...  0.0   \n",
       "\n",
       "    271  272  273  274  275  276   277   278   279  \n",
       "0   9.0 -0.9  0.0  0.0  0.9  2.9  23.3  49.4   8.0  \n",
       "1   8.5  0.0  0.0  0.0  0.2  2.1  20.4  38.8   6.0  \n",
       "2   9.5 -2.4  0.0  0.0  0.3  3.4  12.3  49.0  10.0  \n",
       "3  12.2 -2.2  0.0  0.0  0.4  2.6  34.6  61.6   1.0  \n",
       "4  13.1 -3.6  0.0  0.0 -0.1  3.9  25.4  62.8   7.0  \n",
       "\n",
       "[5 rows x 279 columns]"
      ]
     },
     "execution_count": 18,
     "metadata": {},
     "output_type": "execute_result"
    }
   ],
   "source": [
    "#Imputed dataframe\n",
    "new_df.head()"
   ]
  },
  {
   "cell_type": "markdown",
   "id": "bc4c54bc",
   "metadata": {
    "id": "bc4c54bc"
   },
   "source": [
    "## Verifying No Null Values After Imputation\n",
    "\n",
    "This code cell calculates and displays the total number of null values in the `new_df` DataFrame after imputation to confirm that all missing values have been handled."
   ]
  },
  {
   "cell_type": "code",
   "execution_count": null,
   "id": "048e0159-dc84-4079-aade-cb9c14d741d3",
   "metadata": {
    "id": "048e0159-dc84-4079-aade-cb9c14d741d3",
    "outputId": "beaa0c30-a4a0-4bc5-f4cf-db268ced9d72"
   },
   "outputs": [
    {
     "data": {
      "text/plain": [
       "np.int64(0)"
      ]
     },
     "execution_count": 19,
     "metadata": {},
     "output_type": "execute_result"
    }
   ],
   "source": [
    "#Dataset with zero null values\n",
    "pd.isnull(new_df).sum().sum()"
   ]
  },
  {
   "cell_type": "markdown",
   "id": "24bb0144",
   "metadata": {
    "id": "24bb0144"
   },
   "source": [
    "## Creating Column Names\n",
    "\n",
    "This code cell defines a list of strings `final_df_columns` which will be used as the column names for the DataFrame."
   ]
  },
  {
   "cell_type": "code",
   "execution_count": null,
   "id": "d836ef17-5a0e-4083-8a08-f0f5d83787af",
   "metadata": {
    "id": "d836ef17-5a0e-4083-8a08-f0f5d83787af"
   },
   "outputs": [],
   "source": [
    "#Creating column names\n",
    "\n",
    "final_df_columns = [\"Age\",\"Sex\",\"Height\",\"Weight\",\"QRS_Dur\",\n",
    "\"P-R_Int\",\"Q-T_Int\",\"T_Int\",\"P_Int\",\"QRS\",\"T\",\"P\",\"J\",\"Heart_Rate\",\n",
    "\"Q_Wave\",\"R_Wave\",\"S_Wave\",\"R'_Wave\",\"S'_Wave\",\"Int_Def\",\"Rag_R_Nom\",\n",
    "\"Diph_R_Nom\",\"Rag_P_Nom\",\"Diph_P_Nom\",\"Rag_T_Nom\",\"Diph_T_Nom\",\n",
    "\"DII00\", \"DII01\",\"DII02\", \"DII03\", \"DII04\",\"DII05\",\"DII06\",\"DII07\",\"DII08\",\"DII09\",\"DII10\",\"DII11\",\n",
    "\"DIII00\",\"DIII01\",\"DIII02\", \"DIII03\", \"DIII04\",\"DIII05\",\"DIII06\",\"DIII07\",\"DIII08\",\"DIII09\",\"DIII10\",\"DIII11\",\n",
    "\"AVR00\",\"AVR01\",\"AVR02\",\"AVR03\",\"AVR04\",\"AVR05\",\"AVR06\",\"AVR07\",\"AVR08\",\"AVR09\",\"AVR10\",\"AVR11\",\n",
    "\"AVL00\",\"AVL01\",\"AVL02\",\"AVL03\",\"AVL04\",\"AVL05\",\"AVL06\",\"AVL07\",\"AVL08\",\"AVL09\",\"AVL10\",\"AVL11\",\n",
    "\"AVF00\",\"AVF01\",\"AVF02\",\"AVF03\",\"AVF04\",\"AVF05\",\"AVF06\",\"AVF07\",\"AVF08\",\"AVF09\",\"AVF10\",\"AVF11\",\n",
    "\"V100\",\"V101\",\"V102\",\"V103\",\"V104\",\"V105\",\"V106\",\"V107\",\"V108\",\"V109\",\"V110\",\"V111\",\n",
    "\"V200\",\"V201\",\"V202\",\"V203\",\"V204\",\"V205\",\"V206\",\"V207\",\"V208\",\"V209\",\"V210\",\"V211\",\n",
    "\"V300\",\"V301\",\"V302\",\"V303\",\"V304\",\"V305\",\"V306\",\"V307\",\"V308\",\"V309\",\"V310\",\"V311\",\n",
    "\"V400\",\"V401\",\"V402\",\"V403\",\"V404\",\"V405\",\"V406\",\"V407\",\"V408\",\"V409\",\"V410\",\"V411\",\n",
    "\"V500\",\"V501\",\"V502\",\"V503\",\"V504\",\"V505\",\"V506\",\"V507\",\"V508\",\"V509\",\"V510\",\"V511\",\n",
    "\"V600\",\"V601\",\"V602\",\"V603\",\"V604\",\"V605\",\"V606\",\"V607\",\"V608\",\"V609\",\"V610\",\"V611\",\n",
    "\"JJ_Wave\",\"Amp_Q_Wave\",\"Amp_R_Wave\",\"Amp_S_Wave\",\"R_Prime_Wave\",\"S_Prime_Wave\",\"P_Wave\",\"T_Wave\",\n",
    "\"QRSA\",\"QRSTA\",\"DII170\",\"DII171\",\"DII172\",\"DII173\",\"DII174\",\"DII175\",\"DII176\",\"DII177\",\"DII178\",\"DII179\",\n",
    "\"DIII180\",\"DIII181\",\"DIII182\",\"DIII183\",\"DIII184\",\"DIII185\",\"DIII186\",\"DIII187\",\"DIII188\",\"DIII189\",\n",
    "\"AVR190\",\"AVR191\",\"AVR192\",\"AVR193\",\"AVR194\",\"AVR195\",\"AVR196\",\"AVR197\",\"AVR198\",\"AVR199\",\n",
    "\"AVL200\",\"AVL201\",\"AVL202\",\"AVL203\",\"AVL204\",\"AVL205\",\"AVL206\",\"AVL207\",\"AVL208\",\"AVL209\",\n",
    "\"AVF210\",\"AVF211\",\"AVF212\",\"AVF213\",\"AVF214\",\"AVF215\",\"AVF216\",\"AVF217\",\"AVF218\",\"AVF219\",\n",
    "\"V1220\",\"V1221\",\"V1222\",\"V1223\",\"V1224\",\"V1225\",\"V1226\",\"V1227\",\"V1228\",\"V1229\",\n",
    "\"V2230\",\"V2231\",\"V2232\",\"V2233\",\"V2234\",\"V2235\",\"V2236\",\"V2237\",\"V2238\",\"V2239\",\n",
    "\"V3240\",\"V3241\",\"V3242\",\"V3243\",\"V3244\",\"V3245\",\"V3246\",\"V3247\",\"V3248\",\"V3249\",\n",
    "\"V4250\",\"V4251\",\"V4252\",\"V4253\",\"V4254\",\"V4255\",\"V4256\",\"V4257\",\"V4258\",\"V4259\",\n",
    "\"V5260\",\"V5261\",\"V5262\",\"V5263\",\"V5264\",\"V5265\",\"V5266\",\"V5267\",\"V5268\",\"V5269\",\n",
    "\"V6270\",\"V6271\",\"V6272\",\"V6273\",\"V6274\",\"V6275\",\"V6276\",\"V6277\",\"V6278\",\"V6279\",\"class\"]"
   ]
  },
  {
   "cell_type": "markdown",
   "id": "cb8a500d",
   "metadata": {
    "id": "cb8a500d"
   },
   "source": [
    "## Assigning Column Names and Saving to CSV\n",
    "\n",
    "This code cell assigns the `final_df_columns` list as the column names for the `new_df` DataFrame and then saves the modified DataFrame to a new CSV file named \"new data with target class.csv\". Finally, it displays the first 5 rows of the DataFrame with the new column names."
   ]
  },
  {
   "cell_type": "code",
   "execution_count": null,
   "id": "782c8c86-3a67-4684-b12f-cb0c82611543",
   "metadata": {
    "id": "782c8c86-3a67-4684-b12f-cb0c82611543",
    "outputId": "09175e3d-f140-4f20-92d5-e419bc691378"
   },
   "outputs": [
    {
     "data": {
      "text/html": [
       "<div>\n",
       "<style scoped>\n",
       "    .dataframe tbody tr th:only-of-type {\n",
       "        vertical-align: middle;\n",
       "    }\n",
       "\n",
       "    .dataframe tbody tr th {\n",
       "        vertical-align: top;\n",
       "    }\n",
       "\n",
       "    .dataframe thead th {\n",
       "        text-align: right;\n",
       "    }\n",
       "</style>\n",
       "<table border=\"1\" class=\"dataframe\">\n",
       "  <thead>\n",
       "    <tr style=\"text-align: right;\">\n",
       "      <th></th>\n",
       "      <th>Age</th>\n",
       "      <th>Sex</th>\n",
       "      <th>Height</th>\n",
       "      <th>Weight</th>\n",
       "      <th>QRS_Dur</th>\n",
       "      <th>P-R_Int</th>\n",
       "      <th>Q-T_Int</th>\n",
       "      <th>T_Int</th>\n",
       "      <th>P_Int</th>\n",
       "      <th>QRS</th>\n",
       "      <th>...</th>\n",
       "      <th>V6271</th>\n",
       "      <th>V6272</th>\n",
       "      <th>V6273</th>\n",
       "      <th>V6274</th>\n",
       "      <th>V6275</th>\n",
       "      <th>V6276</th>\n",
       "      <th>V6277</th>\n",
       "      <th>V6278</th>\n",
       "      <th>V6279</th>\n",
       "      <th>class</th>\n",
       "    </tr>\n",
       "  </thead>\n",
       "  <tbody>\n",
       "    <tr>\n",
       "      <th>0</th>\n",
       "      <td>75.0</td>\n",
       "      <td>0.0</td>\n",
       "      <td>190.0</td>\n",
       "      <td>80.0</td>\n",
       "      <td>91.0</td>\n",
       "      <td>193.0</td>\n",
       "      <td>371.0</td>\n",
       "      <td>174.0</td>\n",
       "      <td>121.0</td>\n",
       "      <td>-16.0</td>\n",
       "      <td>...</td>\n",
       "      <td>0.0</td>\n",
       "      <td>9.0</td>\n",
       "      <td>-0.9</td>\n",
       "      <td>0.0</td>\n",
       "      <td>0.0</td>\n",
       "      <td>0.9</td>\n",
       "      <td>2.9</td>\n",
       "      <td>23.3</td>\n",
       "      <td>49.4</td>\n",
       "      <td>8.0</td>\n",
       "    </tr>\n",
       "    <tr>\n",
       "      <th>1</th>\n",
       "      <td>56.0</td>\n",
       "      <td>1.0</td>\n",
       "      <td>165.0</td>\n",
       "      <td>64.0</td>\n",
       "      <td>81.0</td>\n",
       "      <td>174.0</td>\n",
       "      <td>401.0</td>\n",
       "      <td>149.0</td>\n",
       "      <td>39.0</td>\n",
       "      <td>25.0</td>\n",
       "      <td>...</td>\n",
       "      <td>0.0</td>\n",
       "      <td>8.5</td>\n",
       "      <td>0.0</td>\n",
       "      <td>0.0</td>\n",
       "      <td>0.0</td>\n",
       "      <td>0.2</td>\n",
       "      <td>2.1</td>\n",
       "      <td>20.4</td>\n",
       "      <td>38.8</td>\n",
       "      <td>6.0</td>\n",
       "    </tr>\n",
       "    <tr>\n",
       "      <th>2</th>\n",
       "      <td>54.0</td>\n",
       "      <td>0.0</td>\n",
       "      <td>172.0</td>\n",
       "      <td>95.0</td>\n",
       "      <td>138.0</td>\n",
       "      <td>163.0</td>\n",
       "      <td>386.0</td>\n",
       "      <td>185.0</td>\n",
       "      <td>102.0</td>\n",
       "      <td>96.0</td>\n",
       "      <td>...</td>\n",
       "      <td>0.0</td>\n",
       "      <td>9.5</td>\n",
       "      <td>-2.4</td>\n",
       "      <td>0.0</td>\n",
       "      <td>0.0</td>\n",
       "      <td>0.3</td>\n",
       "      <td>3.4</td>\n",
       "      <td>12.3</td>\n",
       "      <td>49.0</td>\n",
       "      <td>10.0</td>\n",
       "    </tr>\n",
       "    <tr>\n",
       "      <th>3</th>\n",
       "      <td>55.0</td>\n",
       "      <td>0.0</td>\n",
       "      <td>175.0</td>\n",
       "      <td>94.0</td>\n",
       "      <td>100.0</td>\n",
       "      <td>202.0</td>\n",
       "      <td>380.0</td>\n",
       "      <td>179.0</td>\n",
       "      <td>143.0</td>\n",
       "      <td>28.0</td>\n",
       "      <td>...</td>\n",
       "      <td>0.0</td>\n",
       "      <td>12.2</td>\n",
       "      <td>-2.2</td>\n",
       "      <td>0.0</td>\n",
       "      <td>0.0</td>\n",
       "      <td>0.4</td>\n",
       "      <td>2.6</td>\n",
       "      <td>34.6</td>\n",
       "      <td>61.6</td>\n",
       "      <td>1.0</td>\n",
       "    </tr>\n",
       "    <tr>\n",
       "      <th>4</th>\n",
       "      <td>75.0</td>\n",
       "      <td>0.0</td>\n",
       "      <td>190.0</td>\n",
       "      <td>80.0</td>\n",
       "      <td>88.0</td>\n",
       "      <td>181.0</td>\n",
       "      <td>360.0</td>\n",
       "      <td>177.0</td>\n",
       "      <td>103.0</td>\n",
       "      <td>-16.0</td>\n",
       "      <td>...</td>\n",
       "      <td>0.0</td>\n",
       "      <td>13.1</td>\n",
       "      <td>-3.6</td>\n",
       "      <td>0.0</td>\n",
       "      <td>0.0</td>\n",
       "      <td>-0.1</td>\n",
       "      <td>3.9</td>\n",
       "      <td>25.4</td>\n",
       "      <td>62.8</td>\n",
       "      <td>7.0</td>\n",
       "    </tr>\n",
       "  </tbody>\n",
       "</table>\n",
       "<p>5 rows × 279 columns</p>\n",
       "</div>"
      ],
      "text/plain": [
       "    Age  Sex  Height  Weight  QRS_Dur  P-R_Int  Q-T_Int  T_Int  P_Int   QRS  \\\n",
       "0  75.0  0.0   190.0    80.0     91.0    193.0    371.0  174.0  121.0 -16.0   \n",
       "1  56.0  1.0   165.0    64.0     81.0    174.0    401.0  149.0   39.0  25.0   \n",
       "2  54.0  0.0   172.0    95.0    138.0    163.0    386.0  185.0  102.0  96.0   \n",
       "3  55.0  0.0   175.0    94.0    100.0    202.0    380.0  179.0  143.0  28.0   \n",
       "4  75.0  0.0   190.0    80.0     88.0    181.0    360.0  177.0  103.0 -16.0   \n",
       "\n",
       "   ...  V6271  V6272  V6273  V6274  V6275  V6276  V6277  V6278  V6279  class  \n",
       "0  ...    0.0    9.0   -0.9    0.0    0.0    0.9    2.9   23.3   49.4    8.0  \n",
       "1  ...    0.0    8.5    0.0    0.0    0.0    0.2    2.1   20.4   38.8    6.0  \n",
       "2  ...    0.0    9.5   -2.4    0.0    0.0    0.3    3.4   12.3   49.0   10.0  \n",
       "3  ...    0.0   12.2   -2.2    0.0    0.0    0.4    2.6   34.6   61.6    1.0  \n",
       "4  ...    0.0   13.1   -3.6    0.0    0.0   -0.1    3.9   25.4   62.8    7.0  \n",
       "\n",
       "[5 rows x 279 columns]"
      ]
     },
     "execution_count": 21,
     "metadata": {},
     "output_type": "execute_result"
    }
   ],
   "source": [
    "# Adding column names to dataset\n",
    "new_df.columns=final_df_columns\n",
    "new_df.to_csv(\"new data with target class.csv\")\n",
    "new_df.head()"
   ]
  },
  {
   "cell_type": "markdown",
   "id": "3278ccce",
   "metadata": {
    "id": "3278ccce"
   },
   "source": [
    "## Separating Target Variable\n",
    "\n",
    "This code cell separates the target variable ('class') from the features in the `new_df` DataFrame. The 'class' column is assigned to the `target` variable, and the remaining columns are assigned to the `final_df` variable."
   ]
  },
  {
   "cell_type": "code",
   "execution_count": null,
   "id": "76b56da4-fb22-4589-b71b-9765ebfbd414",
   "metadata": {
    "id": "76b56da4-fb22-4589-b71b-9765ebfbd414"
   },
   "outputs": [],
   "source": [
    "target=new_df[\"class\"]\n",
    "final_df = new_df.drop(columns = 'class')"
   ]
  },
  {
   "cell_type": "markdown",
   "id": "ac0af6e4",
   "metadata": {
    "id": "ac0af6e4"
   },
   "source": [
    "## Displaying Shape of Feature DataFrame\n",
    "\n",
    "This code cell displays the shape (number of rows and columns) of the `final_df` DataFrame, which now contains only the features."
   ]
  },
  {
   "cell_type": "code",
   "execution_count": null,
   "id": "0e02df56-b923-448f-aaf3-5a81d44b95e3",
   "metadata": {
    "id": "0e02df56-b923-448f-aaf3-5a81d44b95e3",
    "outputId": "77d2d1d8-2eae-4d14-fcb4-03de68039517"
   },
   "outputs": [
    {
     "data": {
      "text/plain": [
       "(452, 278)"
      ]
     },
     "execution_count": 23,
     "metadata": {},
     "output_type": "execute_result"
    }
   ],
   "source": [
    "final_df.shape"
   ]
  },
  {
   "cell_type": "markdown",
   "id": "875c79c2",
   "metadata": {
    "id": "875c79c2"
   },
   "source": [
    "## Defining Class Names\n",
    "\n",
    "This code cell defines a list of strings `class_names` that correspond to the different classes in the dataset."
   ]
  },
  {
   "cell_type": "code",
   "execution_count": null,
   "id": "3b7f8c93-6f79-499b-b650-6601b3507232",
   "metadata": {
    "id": "3b7f8c93-6f79-499b-b650-6601b3507232"
   },
   "outputs": [],
   "source": [
    "#List with class names\n",
    "\n",
    "class_names = [\"Normal\",\n",
    "               \"Ischemic changes (CAD)\",\n",
    "               \"Old Anterior Myocardial Infraction\",\n",
    "               \"Old Inferior Myocardial Infraction\",\n",
    "               \"Sinus tachycardy\",\n",
    "               \"Sinus bradycardy\",\n",
    "               \"Ventricular Premature Contraction (PVC)\",\n",
    "               \"Supraventricular Premature Contraction\",\n",
    "               \"Left Boundle branch block\",\n",
    "               \"Right boundle branch block\",\n",
    "               \"1.Degree AtrioVentricular block\",\n",
    "               \"2.Degree AV block\",\n",
    "               \"3.Degree AV block\",\n",
    "               \"Left Ventricule hypertrophy\",\n",
    "               \"Atrial Fibrillation or Flutter\",\n",
    "               \"Others\"]"
   ]
  },
  {
   "cell_type": "markdown",
   "id": "3a209065",
   "metadata": {
    "id": "3a209065"
   },
   "source": [
    "## Sorting DataFrame by Class\n",
    "\n",
    "This code cell sorts the `new_df` DataFrame based on the 'class' column and assigns the sorted DataFrame to the variable `t`."
   ]
  },
  {
   "cell_type": "code",
   "execution_count": null,
   "id": "ff66c2df-6051-4ebb-8137-51a9942dea3f",
   "metadata": {
    "id": "ff66c2df-6051-4ebb-8137-51a9942dea3f"
   },
   "outputs": [],
   "source": [
    "t = new_df.sort_values(by=[\"class\"])"
   ]
  },
  {
   "cell_type": "markdown",
   "id": "6a126e03",
   "metadata": {
    "id": "6a126e03"
   },
   "source": [
    "## Counting Instances per Class\n",
    "\n",
    "This code cell counts the number of occurrences for each unique value in the 'class' column of the sorted DataFrame `t` and converts the result to a list `la`."
   ]
  },
  {
   "cell_type": "code",
   "execution_count": null,
   "id": "864c7c09-cebe-497d-8f6e-8a084d0a6263",
   "metadata": {
    "id": "864c7c09-cebe-497d-8f6e-8a084d0a6263",
    "outputId": "c48df1b0-f92f-49dc-9df2-79a91cafe341"
   },
   "outputs": [
    {
     "data": {
      "text/plain": [
       "[245, 44, 15, 15, 13, 25, 3, 2, 9, 50, 4, 5, 22]"
      ]
     },
     "execution_count": 26,
     "metadata": {},
     "output_type": "execute_result"
    }
   ],
   "source": [
    "#Counting the number of instances for each class\n",
    "la = t[\"class\"].value_counts(sort=False).tolist()\n",
    "la"
   ]
  },
  {
   "cell_type": "code",
   "execution_count": null,
   "id": "9aa7e2a5-cf66-4cda-91e2-d49aa8874ee8",
   "metadata": {
    "id": "9aa7e2a5-cf66-4cda-91e2-d49aa8874ee8",
    "outputId": "d3ea44e3-9edb-4e15-fdf1-a6ef6680c37c"
   },
   "outputs": [
    {
     "data": {
      "image/png": "[encoded data removed]",
      "text/plain": [
       "<Figure size 640x480 with 1 Axes>"
      ]
     },
     "metadata": {},
     "output_type": "display_data"
    }
   ],
   "source": [
    "sns.countplot(x = \"class\",data=new_df)\n",
    "plt.show()"
   ]
  },
  {
   "cell_type": "code",
   "execution_count": null,
   "id": "985945e5-f3da-46fe-9a50-407985cd270a",
   "metadata": {
    "id": "985945e5-f3da-46fe-9a50-407985cd270a",
    "outputId": "a5865b21-a88d-43b6-ff9f-ed329b7af4bd"
   },
   "outputs": [
    {
     "name": "stdout",
     "output_type": "stream",
     "text": [
      "[245, 44, 15, 15, 13, 25, 3, 2, 9, 50, 0, 0, 0, 4, 5, 22]\n"
     ]
    }
   ],
   "source": [
    "values = la[0:10]\n",
    "values.extend([0,0,0])\n",
    "values.extend(la[10:13])\n",
    "print(values)"
   ]
  },
  {
   "cell_type": "code",
   "execution_count": null,
   "id": "cc1dda46-3025-43f0-a1c9-4fe5c491f59e",
   "metadata": {
    "id": "cc1dda46-3025-43f0-a1c9-4fe5c491f59e",
    "outputId": "e66c2677-c55b-4382-f1f5-7950729f656e"
   },
   "outputs": [
    {
     "data": {
      "image/png": "[encoded data removed]",
      "text/plain": [
       "<Figure size 1600x900 with 1 Axes>"
      ]
     },
     "metadata": {},
     "output_type": "display_data"
    }
   ],
   "source": [
    "labels = class_names\n",
    "Log_Norm = []\n",
    "for i in values:\n",
    "    Log_Norm.append(mt.log10(i+1))\n",
    "fig1, ax1 = plt.subplots(figsize=(16,9))\n",
    "patches = plt.pie(Log_Norm, autopct='%1.1f%%', startangle=90)\n",
    "\n",
    "leg = plt.legend( loc = 'best', labels=['%s, %1.1f %%' % (l, s) for l, s in zip(labels, Log_Norm)])\n",
    "plt.axis('equal')\n",
    "\n",
    "for text in leg.get_texts():\n",
    "    plt.setp(text, color = 'Black')\n",
    "plt.tight_layout()\n",
    "plt.show()"
   ]
  },
  {
   "cell_type": "code",
   "execution_count": null,
   "id": "aabe3553-b28a-4bd0-9358-de4160bbdf5e",
   "metadata": {
    "id": "aabe3553-b28a-4bd0-9358-de4160bbdf5e",
    "outputId": "ad7bf559-0c51-4dea-a328-7ebb4cdee366"
   },
   "outputs": [
    {
     "data": {
      "image/png": "[encoded data removed]",
      "text/plain": [
       "<Figure size 1072x1000 with 16 Axes>"
      ]
     },
     "metadata": {},
     "output_type": "display_data"
    }
   ],
   "source": [
    "g=sns.PairGrid(final_df, vars=['Age','Sex','Height','Weight'], hue='Sex', palette=\"BrBG\")\n",
    "g.map(plt.scatter, alpha=0.8)\n",
    "g.add_legend();"
   ]
  },
  {
   "cell_type": "code",
   "execution_count": null,
   "id": "a894738c-83a6-491e-96f8-b28d082bc794",
   "metadata": {
    "id": "a894738c-83a6-491e-96f8-b28d082bc794",
    "outputId": "e7209de4-b782-4e69-830b-5725ebaa7fce"
   },
   "outputs": [
    {
     "data": {
      "text/plain": [
       "[780.0, 608.0, 190.0, 190.0, 190.0, 188.0, 186.0, 186.0, 186.0, 185.0]"
      ]
     },
     "execution_count": 31,
     "metadata": {},
     "output_type": "execute_result"
    }
   ],
   "source": [
    "sorted(final_df['Height'], reverse=True)[:10]"
   ]
  },
  {
   "cell_type": "code",
   "execution_count": null,
   "id": "f23b7b9b-ad4e-4b93-b7f7-ef365c5e5af2",
   "metadata": {
    "id": "f23b7b9b-ad4e-4b93-b7f7-ef365c5e5af2"
   },
   "outputs": [],
   "source": [
    "final_df['Height']=final_df['Height'].replace(608,108)\n",
    "final_df['Height']=final_df['Height'].replace(780,180)"
   ]
  },
  {
   "cell_type": "code",
   "execution_count": null,
   "id": "8db6b4ee-7133-4142-9ee9-3b34a99fe579",
   "metadata": {
    "id": "8db6b4ee-7133-4142-9ee9-3b34a99fe579",
    "outputId": "5e2389bd-1bb1-49f2-a3a4-db7bd0930ad1"
   },
   "outputs": [
    {
     "data": {
      "text/plain": [
       "[176.0, 124.0, 110.0, 106.0, 105.0, 105.0, 104.0, 104.0, 100.0, 98.0]"
      ]
     },
     "execution_count": 33,
     "metadata": {},
     "output_type": "execute_result"
    }
   ],
   "source": [
    "sorted(final_df['Weight'], reverse=True)[:10]"
   ]
  },
  {
   "cell_type": "code",
   "execution_count": null,
   "id": "ca2e4c04-7796-4afb-b017-d95285351dd7",
   "metadata": {
    "id": "ca2e4c04-7796-4afb-b017-d95285351dd7",
    "outputId": "6ae85b61-79bf-4ec8-9ea4-f5b3e3f887eb"
   },
   "outputs": [
    {
     "data": {
      "image/png": "[encoded data removed]",
      "text/plain": [
       "<Figure size 640x480 with 1 Axes>"
      ]
     },
     "metadata": {},
     "output_type": "display_data"
    }
   ],
   "source": [
    "sns.boxplot(data=final_df[[\"QRS_Dur\",\"P-R_Int\",\"Q-T_Int\",\"T_Int\",\"P_Int\"]]);"
   ]
  },
  {
   "cell_type": "code",
   "execution_count": null,
   "id": "db80e5bd-9209-48ad-ad47-d804757ab187",
   "metadata": {
    "id": "db80e5bd-9209-48ad-ad47-d804757ab187",
    "outputId": "4a44f5e1-b8b2-453c-f0ff-9148b243b273"
   },
   "outputs": [
    {
     "data": {
      "image/png": "[encoded data removed]",
      "text/plain": [
       "<Figure size 640x480 with 1 Axes>"
      ]
     },
     "metadata": {},
     "output_type": "display_data"
    }
   ],
   "source": [
    "final_df['P-R_Int'].value_counts().sort_index().head().plot(kind='bar')\n",
    "plt.xlabel('P-R Interval Values')\n",
    "plt.ylabel('Count');"
   ]
  },
  {
   "cell_type": "code",
   "execution_count": null,
   "id": "17cdd5f2-da98-4948-82c0-e9a4b3a3ce41",
   "metadata": {
    "id": "17cdd5f2-da98-4948-82c0-e9a4b3a3ce41",
    "outputId": "25a69cfb-9cd8-4469-ade5-851b0123de99"
   },
   "outputs": [
    {
     "data": {
      "image/png": "[encoded data removed]",
      "text/plain": [
       "<Figure size 640x480 with 1 Axes>"
      ]
     },
     "metadata": {},
     "output_type": "display_data"
    }
   ],
   "source": [
    "final_df['P-R_Int'].value_counts().sort_index().tail().plot(kind='bar')\n",
    "plt.xlabel('P-R Interval Values')\n",
    "plt.ylabel('Count');"
   ]
  },
  {
   "cell_type": "code",
   "execution_count": null,
   "id": "7df0131a-923d-4d69-8f46-5a797ce7982d",
   "metadata": {
    "id": "7df0131a-923d-4d69-8f46-5a797ce7982d",
    "outputId": "447ada0d-65e8-407e-9cdc-1ccaa21f0e59"
   },
   "outputs": [
    {
     "data": {
      "image/png": "[encoded data removed]",
      "text/plain": [
       "<Figure size 640x480 with 1 Axes>"
      ]
     },
     "metadata": {},
     "output_type": "display_data"
    }
   ],
   "source": [
    "sns.boxplot(data=final_df[[\"QRS\",\"T\",\"P\",\"J\",\"Heart_Rate\"]]);"
   ]
  },
  {
   "cell_type": "code",
   "execution_count": null,
   "id": "f0cf4aa2-c1f1-4962-a9e2-faf158c2a2ad",
   "metadata": {
    "id": "f0cf4aa2-c1f1-4962-a9e2-faf158c2a2ad",
    "outputId": "c262e100-fec1-4b7b-ad9c-1bd8335a5240"
   },
   "outputs": [
    {
     "data": {
      "text/plain": [
       "<Axes: >"
      ]
     },
     "execution_count": 38,
     "metadata": {},
     "output_type": "execute_result"
    },
    {
     "data": {
      "image/png": "[encoded data removed]",
      "text/plain": [
       "<Figure size 640x480 with 1 Axes>"
      ]
     },
     "metadata": {},
     "output_type": "display_data"
    }
   ],
   "source": [
    "sns.boxplot(data=final_df[[\"R'_Wave\",\"S'_Wave\",\"Int_Def\",\"Rag_R_Nom\"]])"
   ]
  },
  {
   "cell_type": "code",
   "execution_count": null,
   "id": "dde763a6-4d62-40a1-abe7-884fbc7ffd23",
   "metadata": {
    "id": "dde763a6-4d62-40a1-abe7-884fbc7ffd23",
    "outputId": "df111284-93f4-4e40-bfd8-ad2dd7030786"
   },
   "outputs": [
    {
     "data": {
      "text/plain": [
       "S'_Wave\n",
       "0.0    452\n",
       "Name: count, dtype: int64"
      ]
     },
     "execution_count": 39,
     "metadata": {},
     "output_type": "execute_result"
    }
   ],
   "source": [
    "final_df[\"S'_Wave\"].value_counts().sort_index(ascending=False)"
   ]
  },
  {
   "cell_type": "code",
   "execution_count": null,
   "id": "b331d7e9-b749-4368-ba91-729e87cf8d7a",
   "metadata": {
    "id": "b331d7e9-b749-4368-ba91-729e87cf8d7a",
    "outputId": "5737b6de-ffe0-4320-c2bc-5dd9cab287d0"
   },
   "outputs": [
    {
     "data": {
      "text/plain": [
       "V101\n",
       "216.0     1\n",
       "112.0     1\n",
       "84.0      1\n",
       "72.0      1\n",
       "68.0      1\n",
       "64.0      1\n",
       "48.0      6\n",
       "44.0      6\n",
       "40.0     13\n",
       "36.0     36\n",
       "32.0     63\n",
       "28.0     81\n",
       "24.0     88\n",
       "20.0     57\n",
       "16.0     13\n",
       "12.0      4\n",
       "0.0      79\n",
       "Name: count, dtype: int64"
      ]
     },
     "execution_count": 40,
     "metadata": {},
     "output_type": "execute_result"
    }
   ],
   "source": [
    "final_df[\"V101\"].value_counts().sort_index(ascending=False)"
   ]
  },
  {
   "cell_type": "code",
   "execution_count": null,
   "id": "30d8c748-53f9-493a-b9c6-d5456654233e",
   "metadata": {
    "id": "30d8c748-53f9-493a-b9c6-d5456654233e",
    "outputId": "42245281-7cc6-46b5-9b3f-c4e265f4aaf3"
   },
   "outputs": [
    {
     "data": {
      "text/plain": [
       "V201\n",
       "216.0     1\n",
       "136.0     1\n",
       "84.0      1\n",
       "72.0      1\n",
       "60.0      5\n",
       "56.0      4\n",
       "52.0     12\n",
       "48.0     19\n",
       "44.0     53\n",
       "40.0     68\n",
       "36.0     74\n",
       "32.0     69\n",
       "28.0     48\n",
       "24.0     39\n",
       "20.0     15\n",
       "16.0      6\n",
       "12.0      2\n",
       "0.0      34\n",
       "Name: count, dtype: int64"
      ]
     },
     "execution_count": 41,
     "metadata": {},
     "output_type": "execute_result"
    }
   ],
   "source": [
    "final_df[\"V201\"].value_counts().sort_index(ascending=False)"
   ]
  },
  {
   "cell_type": "code",
   "execution_count": null,
   "id": "1ed8a943-e75c-442f-a2bc-b0ce195689bc",
   "metadata": {
    "id": "1ed8a943-e75c-442f-a2bc-b0ce195689bc",
    "outputId": "2ff13a14-b9f9-4677-f78e-17dc35a8ef90"
   },
   "outputs": [
    {
     "data": {
      "text/plain": [
       "V301\n",
       "132.0     1\n",
       "88.0      2\n",
       "76.0      2\n",
       "72.0      1\n",
       "68.0      2\n",
       "64.0      3\n",
       "60.0     16\n",
       "56.0     26\n",
       "52.0     57\n",
       "48.0     68\n",
       "44.0     76\n",
       "40.0     74\n",
       "36.0     49\n",
       "32.0     32\n",
       "28.0     13\n",
       "24.0      4\n",
       "20.0      6\n",
       "16.0      1\n",
       "0.0      19\n",
       "Name: count, dtype: int64"
      ]
     },
     "execution_count": 42,
     "metadata": {},
     "output_type": "execute_result"
    }
   ],
   "source": [
    "final_df[\"V301\"].value_counts().sort_index(ascending=False)"
   ]
  },
  {
   "cell_type": "code",
   "execution_count": null,
   "id": "fff540e0-8550-45bb-a4e7-c4c3591eeb54",
   "metadata": {
    "id": "fff540e0-8550-45bb-a4e7-c4c3591eeb54",
    "outputId": "80dc7d7b-ac9f-4ea1-eb23-9a85e4c3d06c"
   },
   "outputs": [
    {
     "data": {
      "text/plain": [
       "V501\n",
       "136.0      1\n",
       "120.0      2\n",
       "116.0      1\n",
       "108.0      1\n",
       "96.0       1\n",
       "92.0       1\n",
       "84.0       1\n",
       "76.0       2\n",
       "72.0       3\n",
       "68.0       4\n",
       "64.0       5\n",
       "60.0       9\n",
       "56.0      22\n",
       "52.0      67\n",
       "48.0     105\n",
       "44.0     104\n",
       "40.0      73\n",
       "36.0      29\n",
       "32.0      12\n",
       "28.0       3\n",
       "24.0       2\n",
       "20.0       1\n",
       "0.0        3\n",
       "Name: count, dtype: int64"
      ]
     },
     "execution_count": 43,
     "metadata": {},
     "output_type": "execute_result"
    }
   ],
   "source": [
    "final_df[\"V501\"].value_counts().sort_index(ascending=False)"
   ]
  },
  {
   "cell_type": "code",
   "execution_count": null,
   "id": "f809b39f-69fe-4a25-b704-73b619efe823",
   "metadata": {
    "id": "f809b39f-69fe-4a25-b704-73b619efe823",
    "outputId": "3c676186-9c26-47d7-f824-a6ed5d0c2738"
   },
   "outputs": [
    {
     "data": {
      "image/png": "[encoded data removed]",
      "text/plain": [
       "<Figure size 1170x527 with 1 Axes>"
      ]
     },
     "metadata": {},
     "output_type": "display_data"
    }
   ],
   "source": [
    "sns.set(rc={'figure.figsize':(11.7,5.27)})\n",
    "sns.boxplot(data=final_df[[\"AVR190\",\"AVR191\",\"AVR192\",\"AVR193\",\"AVR194\",\"AVR195\",\"AVR196\",\"AVR197\",\"AVR198\",\"AVR199\"]]);"
   ]
  },
  {
   "cell_type": "code",
   "execution_count": null,
   "id": "d2653b11-15ef-407a-b3a0-3b799da7ff3e",
   "metadata": {
    "id": "d2653b11-15ef-407a-b3a0-3b799da7ff3e",
    "outputId": "f68b4cde-0d6a-44fc-dd5b-7be61df76c34"
   },
   "outputs": [
    {
     "data": {
      "image/png": "[encoded data removed]",
      "text/plain": [
       "<Figure size 1170x527 with 1 Axes>"
      ]
     },
     "metadata": {},
     "output_type": "display_data"
    }
   ],
   "source": [
    "sns.set(rc={'figure.figsize':(11.7,5.27)})\n",
    "sns.boxplot(data=final_df[[\"AVL200\",\"AVL201\",\"AVL203\",\"AVL203\",\"AVL204\",\"AVL205\",\n",
    "                           \"AVL206\",\"AVL207\",\"AVL208\",\"AVL209\"]]);"
   ]
  },
  {
   "cell_type": "code",
   "execution_count": null,
   "id": "c0539956-152a-4e4e-bccd-9d448c6c3514",
   "metadata": {
    "id": "c0539956-152a-4e4e-bccd-9d448c6c3514",
    "outputId": "9f46389e-0960-414b-96b5-c2daa1bb4a6e"
   },
   "outputs": [
    {
     "data": {
      "text/plain": [
       "<Axes: >"
      ]
     },
     "execution_count": 46,
     "metadata": {},
     "output_type": "execute_result"
    },
    {
     "data": {
      "image/png": "[encoded data removed]",
      "text/plain": [
       "<Figure size 1170x527 with 1 Axes>"
      ]
     },
     "metadata": {},
     "output_type": "display_data"
    }
   ],
   "source": [
    "sns.set(rc={'figure.figsize':(11.7,5.27)})\n",
    "sns.boxplot(data=final_df[[\"AVF210\",\"AVF211\",\"AVF212\",\"AVF213\",\"AVF214\",\n",
    "                           \"AVF215\",\"AVF216\",\"AVF217\",\"AVF218\",\"AVF219\"]])"
   ]
  },
  {
   "cell_type": "code",
   "execution_count": null,
   "id": "786f797e-70d9-44b2-88a7-3a69d66e6537",
   "metadata": {
    "id": "786f797e-70d9-44b2-88a7-3a69d66e6537",
    "outputId": "65f87cbf-bc56-432e-f3a0-2009e09136de"
   },
   "outputs": [
    {
     "name": "stderr",
     "output_type": "stream",
     "text": [
      "/media/heytanix/Shared/JupyterLabEnvironment/Jupyter3_13/lib/python3.13/site-packages/numpy/lib/_function_base_impl.py:3065: RuntimeWarning: invalid value encountered in divide\n",
      "  c /= stddev[:, None]\n",
      "/media/heytanix/Shared/JupyterLabEnvironment/Jupyter3_13/lib/python3.13/site-packages/numpy/lib/_function_base_impl.py:3066: RuntimeWarning: invalid value encountered in divide\n",
      "  c /= stddev[None, :]\n"
     ]
    },
    {
     "data": {
      "text/plain": [
       "array([-9.23812218e-02, -1.78080037e-01, -3.46671442e-02, -9.01507390e-02,\n",
       "        3.23878728e-01, -9.99540161e-02,  2.83049762e-02,  9.76253981e-02,\n",
       "       -1.22002504e-01,  1.95854526e-02, -1.68648870e-04,  1.90644217e-01,\n",
       "       -3.08114850e-02,  3.33672764e-02,  3.96491896e-03,  4.26738126e-02,\n",
       "        1.95198200e-01,  6.39992472e-02,             nan,  4.27635327e-02,\n",
       "       -2.01150248e-02,  7.67517615e-03, -3.55694451e-02,  3.20969797e-02,\n",
       "        3.20969797e-02,  8.30559434e-02, -3.61168680e-03,  4.83674292e-02,\n",
       "        1.83082712e-01, -1.05049431e-02,  6.65428889e-02,  6.77662940e-02,\n",
       "        4.17574601e-02,  7.98435069e-02, -2.01150248e-02,  1.69531020e-02,\n",
       "       -3.60504699e-02, -6.66334979e-04, -2.36687153e-02,  1.16515578e-01,\n",
       "        8.16735582e-02,  1.44307782e-02, -3.20137575e-02,  8.34076694e-02,\n",
       "       -3.08114850e-02,  5.14341059e-02, -3.08114850e-02, -8.40208668e-02,\n",
       "       -1.15446555e-02, -5.76271452e-03,  2.10381327e-02,  1.73243101e-01,\n",
       "        2.54790200e-03,  1.09423863e-01, -3.08114850e-02,  1.41103081e-01,\n",
       "       -6.43991926e-02,  3.20969797e-02, -3.60504699e-02, -5.76271452e-03,\n",
       "       -5.76271452e-03,  4.01270853e-02, -9.51325536e-03,  8.62805101e-02,\n",
       "        1.27209954e-01,  6.16984103e-02,             nan,  1.52533990e-01,\n",
       "                   nan,  7.60606402e-02, -3.08114850e-02, -9.41856455e-03,\n",
       "        2.21830437e-03,  1.19743559e-02,  6.94395981e-02,  3.00259257e-02,\n",
       "        1.43283685e-01,  5.76478469e-03,  9.01134869e-02,  1.07405670e-01,\n",
       "        3.20969797e-02,  1.02461952e-03,             nan, -3.08114850e-02,\n",
       "       -3.08114850e-02,  5.47601969e-02,  6.15957389e-02,  1.20725739e-01,\n",
       "       -1.18167887e-01,  3.68875604e-01, -2.41468439e-02,  3.13982499e-01,\n",
       "        8.40764742e-03,  1.74345647e-01,  1.32965490e-02,  1.32965490e-02,\n",
       "       -2.59595293e-02,  3.82498115e-02,  7.54212108e-02,  4.02835784e-02,\n",
       "       -1.04802605e-02,  2.82523391e-01,  9.85924790e-02,  1.07254510e-01,\n",
       "       -2.80177282e-03,  1.04520372e-01,  1.21710657e-01,  1.15252587e-01,\n",
       "       -2.96323091e-02, -1.68648870e-04,  6.60135274e-02, -2.59005587e-02,\n",
       "        1.40502408e-01,  1.16503625e-01,  9.08650874e-02, -7.10618888e-04,\n",
       "       -3.15900299e-02,  4.72408574e-02,  1.32194508e-01,  9.37881579e-02,\n",
       "       -3.49177539e-02, -2.59595293e-02,  4.11421737e-02,  2.08403220e-04,\n",
       "        1.70669615e-01,  1.15369158e-02,  4.93696439e-02, -7.22179337e-03,\n",
       "       -1.33346534e-02,  1.04145773e-01,             nan,             nan,\n",
       "       -2.09065922e-02,  5.70033179e-02,  1.15436522e-01,  7.01651905e-02,\n",
       "        1.01877932e-01,  4.21390928e-02,             nan,  1.03193252e-01,\n",
       "                   nan,  9.50584501e-02,             nan, -3.08114850e-02,\n",
       "                   nan, -2.87284109e-02,  9.75462789e-02,  6.36924587e-02,\n",
       "        1.30055964e-01, -3.65958306e-02,             nan,  1.41505551e-01,\n",
       "       -3.08114850e-02,  1.27789569e-03, -1.33346534e-02,             nan,\n",
       "                   nan,  1.72850920e-02, -2.00524860e-02, -9.03327100e-03,\n",
       "       -1.35180130e-01, -1.97554501e-01,  1.07901579e-01,             nan,\n",
       "       -1.05921951e-01, -6.72553225e-02, -1.02058765e-01, -1.71762707e-01,\n",
       "       -2.54345726e-03, -3.78137539e-02,  4.89226443e-03, -1.58536214e-01,\n",
       "       -4.42099728e-03, -5.86568608e-02, -6.83466737e-02,  5.64189125e-03,\n",
       "       -6.37805443e-02, -3.51255618e-02, -3.59550977e-03,  1.43428758e-02,\n",
       "        1.30359938e-01, -4.20653173e-02,  3.90143500e-03,  2.50605654e-02,\n",
       "       -8.74656504e-03,  6.89710671e-02,  5.00846798e-02,  1.04976063e-01,\n",
       "        4.85126664e-02,  7.66276154e-02,  1.65693257e-01, -3.06138176e-03,\n",
       "        1.22928173e-01,  3.08114850e-02,  9.31930303e-02,  3.77147563e-02,\n",
       "        1.14137877e-01,  1.25873240e-01, -7.81911502e-03, -1.38023671e-02,\n",
       "       -5.68445025e-02, -1.42730678e-01,  6.00241993e-02,             nan,\n",
       "       -2.87341746e-02, -8.49412178e-02, -6.51453141e-02, -1.34656794e-01,\n",
       "       -4.77386153e-02, -4.89496873e-02,  7.06530907e-02, -9.93289932e-02,\n",
       "        1.35415997e-02, -9.35100948e-02, -4.59119818e-02,  3.37566701e-02,\n",
       "       -3.26766118e-02, -5.52098645e-04,  6.94466318e-02, -2.56278593e-02,\n",
       "        1.41273961e-01,  9.78392462e-03,  2.35488426e-01,  2.49754659e-02,\n",
       "       -4.22246326e-02,  2.29694987e-02,  6.83389267e-02,  1.28489868e-01,\n",
       "        1.19809260e-01, -9.27914558e-02,  2.66138922e-02, -4.23710548e-02,\n",
       "        2.18811416e-01, -9.39122715e-02, -3.79381660e-02, -2.13866537e-02,\n",
       "       -1.08902188e-01, -9.45432486e-02,  1.51781561e-01, -2.90002767e-02,\n",
       "        6.01905939e-02, -1.89458038e-01,  9.55972551e-02, -7.10324386e-02,\n",
       "        4.24733004e-02,  8.72420403e-02, -1.59611689e-01, -4.46742653e-02,\n",
       "        1.24822829e-01, -7.40099741e-03,  9.53309571e-02, -1.50609932e-01,\n",
       "        3.04286463e-02, -4.73402930e-02, -8.68730068e-02,  1.08922991e-01,\n",
       "       -8.33957097e-02,  3.41381321e-02,  2.04870406e-02, -1.62153153e-01,\n",
       "        7.96689001e-02, -6.84101110e-02,  5.38080797e-02,             nan,\n",
       "       -8.11663795e-02,  6.21744575e-02, -1.05802701e-02,  5.26170978e-02,\n",
       "       -6.21293028e-02, -1.64320758e-01,  3.61878403e-02, -7.15557917e-02,\n",
       "       -3.69920743e-02,             nan, -8.64268780e-02, -3.07975937e-02,\n",
       "        3.47646535e-03, -9.27527477e-03])"
      ]
     },
     "execution_count": 47,
     "metadata": {},
     "output_type": "execute_result"
    }
   ],
   "source": [
    "target=new_df[\"class\"]\n",
    "pearsoncorr = final_df.corrwith(other=target,method='pearson')\n",
    "pearsoncorr.values"
   ]
  },
  {
   "cell_type": "markdown",
   "id": "d837df32-4432-488e-8250-b070f0bdbefa",
   "metadata": {
    "id": "d837df32-4432-488e-8250-b070f0bdbefa"
   },
   "source": [
    "## Feature Scaling"
   ]
  },
  {
   "cell_type": "code",
   "execution_count": null,
   "id": "b5d15a9f-bd01-45ba-9913-27e3bbeb6ade",
   "metadata": {
    "id": "b5d15a9f-bd01-45ba-9913-27e3bbeb6ade"
   },
   "outputs": [],
   "source": [
    "from sklearn.model_selection import train_test_split\n",
    "X_train,X_test,y_train,y_test=train_test_split(final_df,target,test_size=0.2, random_state=1)"
   ]
  },
  {
   "cell_type": "code",
   "execution_count": null,
   "id": "196bf34f-0f7b-4ead-a31a-576568a0caa6",
   "metadata": {
    "id": "196bf34f-0f7b-4ead-a31a-576568a0caa6"
   },
   "outputs": [],
   "source": [
    "from sklearn.preprocessing import StandardScaler\n",
    "scaler = StandardScaler()\n",
    "\n",
    "scaler.fit(X_train)\n",
    "X_train = scaler.transform(X_train)\n",
    "X_test = scaler.transform(X_test)"
   ]
  },
  {
   "cell_type": "code",
   "execution_count": null,
   "id": "6525a62a-8fb1-42ab-af07-a69bf4b7d964",
   "metadata": {
    "id": "6525a62a-8fb1-42ab-af07-a69bf4b7d964"
   },
   "outputs": [],
   "source": [
    "import warnings\n",
    "warnings.filterwarnings('ignore')"
   ]
  },
  {
   "cell_type": "markdown",
   "id": "1c07513f-c994-4b83-a768-c0110333007a",
   "metadata": {
    "id": "1c07513f-c994-4b83-a768-c0110333007a"
   },
   "source": [
    "## Evaluation Strategy"
   ]
  },
  {
   "cell_type": "code",
   "execution_count": null,
   "id": "10c0c59e-13ab-4388-8d02-83d5c9be4e6d",
   "metadata": {
    "id": "10c0c59e-13ab-4388-8d02-83d5c9be4e6d"
   },
   "outputs": [],
   "source": [
    "# importing evaluation metrices.\n",
    "\n",
    "from sklearn.metrics import r2_score,mean_squared_error,accuracy_score,recall_score,precision_score,confusion_matrix"
   ]
  },
  {
   "cell_type": "markdown",
   "id": "f5d909ae-2155-4096-a4d7-2b4d509a598a",
   "metadata": {
    "id": "f5d909ae-2155-4096-a4d7-2b4d509a598a"
   },
   "source": [
    "## Modeling"
   ]
  },
  {
   "cell_type": "code",
   "execution_count": null,
   "id": "b43dd59c-0839-46d9-959e-3fba7a911e46",
   "metadata": {
    "id": "b43dd59c-0839-46d9-959e-3fba7a911e46"
   },
   "outputs": [],
   "source": [
    "result = pd.DataFrame(columns=['Model','Train Accuracy','Test Accuracy'])"
   ]
  },
  {
   "cell_type": "markdown",
   "id": "68bcb807",
   "metadata": {
    "id": "68bcb807"
   },
   "source": [
    "## KNN Classifier Implementation\n",
    "\n",
    "This code cell implements a K-Nearest Neighbors (KNN) classifier. It initializes the `KNeighborsClassifier`, fits the model to the training data, and makes predictions on the testing data."
   ]
  },
  {
   "cell_type": "code",
   "execution_count": null,
   "id": "a20fe0dc-3018-4b85-b34a-0e044c8254e3",
   "metadata": {
    "id": "a20fe0dc-3018-4b85-b34a-0e044c8254e3"
   },
   "outputs": [],
   "source": [
    "from sklearn.neighbors import KNeighborsClassifier\n",
    "knnclassifier = KNeighborsClassifier()\n",
    "knnclassifier.fit(X_train, y_train)\n",
    "y_pred = knnclassifier.predict(X_test)"
   ]
  },
  {
   "cell_type": "markdown",
   "id": "10d51b07",
   "metadata": {
    "id": "10d51b07"
   },
   "source": [
    "## Evaluating KNN Classifier\n",
    "\n",
    "This code cell calculates the training and testing accuracy scores for the KNN classifier and appends these results to the `result` DataFrame."
   ]
  },
  {
   "cell_type": "code",
   "execution_count": null,
   "id": "14e7a17b-f8a2-479b-8463-d23cef762a1d",
   "metadata": {
    "id": "14e7a17b-f8a2-479b-8463-d23cef762a1d",
    "outputId": "6422434c-c666-4bb9-a75c-d20eeb3a5515"
   },
   "outputs": [
    {
     "data": {
      "text/html": [
       "<div>\n",
       "<style scoped>\n",
       "    .dataframe tbody tr th:only-of-type {\n",
       "        vertical-align: middle;\n",
       "    }\n",
       "\n",
       "    .dataframe tbody tr th {\n",
       "        vertical-align: top;\n",
       "    }\n",
       "\n",
       "    .dataframe thead th {\n",
       "        text-align: right;\n",
       "    }\n",
       "</style>\n",
       "<table border=\"1\" class=\"dataframe\">\n",
       "  <thead>\n",
       "    <tr style=\"text-align: right;\">\n",
       "      <th></th>\n",
       "      <th>Model</th>\n",
       "      <th>Train Accuracy</th>\n",
       "      <th>Test Accuracy</th>\n",
       "    </tr>\n",
       "  </thead>\n",
       "  <tbody>\n",
       "    <tr>\n",
       "      <th>0</th>\n",
       "      <td>KNN Classifier</td>\n",
       "      <td>0.648199</td>\n",
       "      <td>0.648352</td>\n",
       "    </tr>\n",
       "  </tbody>\n",
       "</table>\n",
       "</div>"
      ],
      "text/plain": [
       "            Model Train Accuracy Test Accuracy\n",
       "0  KNN Classifier       0.648199      0.648352"
      ]
     },
     "execution_count": 54,
     "metadata": {},
     "output_type": "execute_result"
    }
   ],
   "source": [
    "knn_train_accuracy = accuracy_score(y_train, knnclassifier.predict(X_train))\n",
    "knn_test_accuracy = accuracy_score(y_test, knnclassifier.predict(X_test))\n",
    "\n",
    "result = pd.concat([result, pd.Series({'Model':'KNN Classifier','Train Accuracy':knn_train_accuracy,'Test Accuracy':knn_test_accuracy}).to_frame().T], ignore_index=True)\n",
    "result"
   ]
  },
  {
   "cell_type": "markdown",
   "id": "93ea1f66",
   "metadata": {
    "id": "93ea1f66"
   },
   "source": [
    "## Logistic Regression Implementation\n",
    "\n",
    "This code cell implements a Logistic Regression classifier. It initializes the `LogisticRegression` model with specified parameters, fits the model to the training data, and makes predictions on the testing data."
   ]
  },
  {
   "cell_type": "code",
   "execution_count": null,
   "id": "3da544aa-f712-4889-a727-2bceb6f0798a",
   "metadata": {
    "id": "3da544aa-f712-4889-a727-2bceb6f0798a"
   },
   "outputs": [],
   "source": [
    "from sklearn.linear_model import LogisticRegression\n",
    "lgclassifier = LogisticRegression(solver = 'saga',random_state=0)\n",
    "lgclassifier.fit(X_train,y_train)\n",
    "y_pred = lgclassifier.predict(X_test)"
   ]
  },
  {
   "cell_type": "markdown",
   "id": "8c899a08",
   "metadata": {
    "id": "8c899a08"
   },
   "source": [
    "## Evaluating Logistic Regression\n",
    "\n",
    "This code cell calculates the training and testing accuracy and weighted recall scores for the Logistic Regression model and appends the accuracy scores to the `result` DataFrame."
   ]
  },
  {
   "cell_type": "code",
   "execution_count": null,
   "id": "7a7c5ac4-815e-469e-abc1-812fc0d4cf14",
   "metadata": {
    "id": "7a7c5ac4-815e-469e-abc1-812fc0d4cf14",
    "outputId": "7ea61e54-489b-447c-bde2-d03f667f382f"
   },
   "outputs": [
    {
     "data": {
      "text/html": [
       "<div>\n",
       "<style scoped>\n",
       "    .dataframe tbody tr th:only-of-type {\n",
       "        vertical-align: middle;\n",
       "    }\n",
       "\n",
       "    .dataframe tbody tr th {\n",
       "        vertical-align: top;\n",
       "    }\n",
       "\n",
       "    .dataframe thead th {\n",
       "        text-align: right;\n",
       "    }\n",
       "</style>\n",
       "<table border=\"1\" class=\"dataframe\">\n",
       "  <thead>\n",
       "    <tr style=\"text-align: right;\">\n",
       "      <th></th>\n",
       "      <th>Model</th>\n",
       "      <th>Train Accuracy</th>\n",
       "      <th>Test Accuracy</th>\n",
       "    </tr>\n",
       "  </thead>\n",
       "  <tbody>\n",
       "    <tr>\n",
       "      <th>0</th>\n",
       "      <td>KNN Classifier</td>\n",
       "      <td>0.648199</td>\n",
       "      <td>0.648352</td>\n",
       "    </tr>\n",
       "    <tr>\n",
       "      <th>1</th>\n",
       "      <td>Logestic Regression</td>\n",
       "      <td>0.939058</td>\n",
       "      <td>0.78022</td>\n",
       "    </tr>\n",
       "  </tbody>\n",
       "</table>\n",
       "</div>"
      ],
      "text/plain": [
       "                 Model Train Accuracy Test Accuracy\n",
       "0       KNN Classifier       0.648199      0.648352\n",
       "1  Logestic Regression       0.939058       0.78022"
      ]
     },
     "execution_count": 56,
     "metadata": {},
     "output_type": "execute_result"
    }
   ],
   "source": [
    "lg_train_recall = recall_score(y_train, lgclassifier.predict(X_train),average='weighted')\n",
    "lg_test_recall = recall_score(y_test, lgclassifier.predict(X_test),average='weighted')\n",
    "lg_train_accuracy = accuracy_score(y_train, lgclassifier.predict(X_train))\n",
    "lg_test_accuracy = accuracy_score(y_test, lgclassifier.predict(X_test))\n",
    "result = pd.concat([result, pd.Series({'Model':'Logestic Regression','Train Accuracy':lg_train_accuracy,'Test Accuracy':lg_test_accuracy}).to_frame().T], ignore_index=True )\n",
    "result"
   ]
  },
  {
   "cell_type": "markdown",
   "id": "771601fa",
   "metadata": {
    "id": "771601fa"
   },
   "source": [
    "## Decision Tree Classifier Implementation\n",
    "\n",
    "This code cell implements a Decision Tree Classifier. It initializes the `DecisionTreeClassifier` with specified parameters, fits the model to the training data, and makes predictions on both the training and testing data."
   ]
  },
  {
   "cell_type": "code",
   "execution_count": null,
   "id": "3ecd659f-6f12-4340-bbbf-96c81b5e1b1e",
   "metadata": {
    "id": "3ecd659f-6f12-4340-bbbf-96c81b5e1b1e"
   },
   "outputs": [],
   "source": [
    "from sklearn.tree import DecisionTreeClassifier\n",
    "dtclassifier = DecisionTreeClassifier(criterion='entropy', random_state=0, max_depth=5)\n",
    "dtclassifier.fit(X_train,y_train)\n",
    "y_pred_test=dtclassifier.predict(X_test)\n",
    "y_pred_train=dtclassifier.predict(X_train)"
   ]
  },
  {
   "cell_type": "markdown",
   "id": "20f6d0bb",
   "metadata": {
    "id": "20f6d0bb"
   },
   "source": [
    "## Evaluating Decision Tree Classifier\n",
    "\n",
    "This code cell calculates the training and testing accuracy scores for the Decision Tree Classifier and appends these results to the `result` DataFrame."
   ]
  },
  {
   "cell_type": "code",
   "execution_count": null,
   "id": "4857ffc6-2b98-4c81-af0a-1f7f442183f4",
   "metadata": {
    "id": "4857ffc6-2b98-4c81-af0a-1f7f442183f4",
    "outputId": "7f64df7e-44f3-42e1-9073-0ea14d9f85c2"
   },
   "outputs": [
    {
     "data": {
      "text/html": [
       "<div>\n",
       "<style scoped>\n",
       "    .dataframe tbody tr th:only-of-type {\n",
       "        vertical-align: middle;\n",
       "    }\n",
       "\n",
       "    .dataframe tbody tr th {\n",
       "        vertical-align: top;\n",
       "    }\n",
       "\n",
       "    .dataframe thead th {\n",
       "        text-align: right;\n",
       "    }\n",
       "</style>\n",
       "<table border=\"1\" class=\"dataframe\">\n",
       "  <thead>\n",
       "    <tr style=\"text-align: right;\">\n",
       "      <th></th>\n",
       "      <th>Model</th>\n",
       "      <th>Train Accuracy</th>\n",
       "      <th>Test Accuracy</th>\n",
       "    </tr>\n",
       "  </thead>\n",
       "  <tbody>\n",
       "    <tr>\n",
       "      <th>0</th>\n",
       "      <td>KNN Classifier</td>\n",
       "      <td>0.648199</td>\n",
       "      <td>0.648352</td>\n",
       "    </tr>\n",
       "    <tr>\n",
       "      <th>1</th>\n",
       "      <td>Logestic Regression</td>\n",
       "      <td>0.939058</td>\n",
       "      <td>0.78022</td>\n",
       "    </tr>\n",
       "    <tr>\n",
       "      <th>2</th>\n",
       "      <td>Decision Tree Classifier</td>\n",
       "      <td>0.789474</td>\n",
       "      <td>0.681319</td>\n",
       "    </tr>\n",
       "  </tbody>\n",
       "</table>\n",
       "</div>"
      ],
      "text/plain": [
       "                      Model Train Accuracy Test Accuracy\n",
       "0            KNN Classifier       0.648199      0.648352\n",
       "1       Logestic Regression       0.939058       0.78022\n",
       "2  Decision Tree Classifier       0.789474      0.681319"
      ]
     },
     "execution_count": 58,
     "metadata": {},
     "output_type": "execute_result"
    }
   ],
   "source": [
    "dt_train_accuracy = accuracy_score(y_train,y_pred_train )\n",
    "dt_test_accuracy = accuracy_score(y_test, y_pred_test)\n",
    "result = pd.concat([result, pd.Series({'Model':'Decision Tree Classifier','Train Accuracy':dt_train_accuracy,'Test Accuracy':dt_test_accuracy}).to_frame().T], ignore_index=True )\n",
    "result"
   ]
  },
  {
   "cell_type": "markdown",
   "id": "fe9b3eb5",
   "metadata": {
    "id": "fe9b3eb5"
   },
   "source": [
    "## Linear SVM Implementation\n",
    "\n",
    "This code cell implements a Linear Support Vector Machine (SVM) classifier. It initializes the `LinearSVC` model with a specified parameter, fits the model to the training data, and makes predictions on the training data."
   ]
  },
  {
   "cell_type": "code",
   "execution_count": null,
   "id": "820d813c-7536-483a-84e4-1c97ceb6ce54",
   "metadata": {
    "id": "820d813c-7536-483a-84e4-1c97ceb6ce54"
   },
   "outputs": [],
   "source": [
    "from sklearn.svm import LinearSVC\n",
    "lsvclassifier = LinearSVC(C=0.01)\n",
    "lsvclassifier.fit(X_train, y_train)\n",
    "y_pred = lsvclassifier.predict(X_train)"
   ]
  },
  {
   "cell_type": "markdown",
   "id": "c89fbc9c",
   "metadata": {
    "id": "c89fbc9c"
   },
   "source": [
    "## Evaluating Linear SVM\n",
    "\n",
    "This code cell calculates the training and testing accuracy scores for the Linear SVM classifier (using the predictions from the Decision Tree Classifier for the test set) and appends these results to the `result` DataFrame."
   ]
  },
  {
   "cell_type": "code",
   "execution_count": null,
   "id": "92b12361-027d-4ca8-bde1-a419f7808bc2",
   "metadata": {
    "id": "92b12361-027d-4ca8-bde1-a419f7808bc2",
    "outputId": "67e3e867-7efe-4e60-ee88-711ffae7a1a5"
   },
   "outputs": [
    {
     "data": {
      "text/html": [
       "<div>\n",
       "<style scoped>\n",
       "    .dataframe tbody tr th:only-of-type {\n",
       "        vertical-align: middle;\n",
       "    }\n",
       "\n",
       "    .dataframe tbody tr th {\n",
       "        vertical-align: top;\n",
       "    }\n",
       "\n",
       "    .dataframe thead th {\n",
       "        text-align: right;\n",
       "    }\n",
       "</style>\n",
       "<table border=\"1\" class=\"dataframe\">\n",
       "  <thead>\n",
       "    <tr style=\"text-align: right;\">\n",
       "      <th></th>\n",
       "      <th>Model</th>\n",
       "      <th>Train Accuracy</th>\n",
       "      <th>Test Accuracy</th>\n",
       "    </tr>\n",
       "  </thead>\n",
       "  <tbody>\n",
       "    <tr>\n",
       "      <th>0</th>\n",
       "      <td>KNN Classifier</td>\n",
       "      <td>0.648199</td>\n",
       "      <td>0.648352</td>\n",
       "    </tr>\n",
       "    <tr>\n",
       "      <th>1</th>\n",
       "      <td>Logestic Regression</td>\n",
       "      <td>0.939058</td>\n",
       "      <td>0.78022</td>\n",
       "    </tr>\n",
       "    <tr>\n",
       "      <th>2</th>\n",
       "      <td>Decision Tree Classifier</td>\n",
       "      <td>0.789474</td>\n",
       "      <td>0.681319</td>\n",
       "    </tr>\n",
       "    <tr>\n",
       "      <th>3</th>\n",
       "      <td>Linear SVM</td>\n",
       "      <td>0.789474</td>\n",
       "      <td>0.681319</td>\n",
       "    </tr>\n",
       "  </tbody>\n",
       "</table>\n",
       "</div>"
      ],
      "text/plain": [
       "                      Model Train Accuracy Test Accuracy\n",
       "0            KNN Classifier       0.648199      0.648352\n",
       "1       Logestic Regression       0.939058       0.78022\n",
       "2  Decision Tree Classifier       0.789474      0.681319\n",
       "3                Linear SVM       0.789474      0.681319"
      ]
     },
     "execution_count": 60,
     "metadata": {},
     "output_type": "execute_result"
    }
   ],
   "source": [
    "lsvc_train_accuracy_score = accuracy_score(y_train, y_pred_train)\n",
    "lsvc_test_accuracy_score = accuracy_score(y_test, y_pred_test)\n",
    "\n",
    "result = pd.concat([result, pd.Series({'Model':'Linear SVM','Train Accuracy':lsvc_train_accuracy_score,'Test Accuracy':lsvc_test_accuracy_score}).to_frame().T], ignore_index=True )\n",
    "result"
   ]
  },
  {
   "cell_type": "markdown",
   "id": "9398c918",
   "metadata": {
    "id": "9398c918"
   },
   "source": [
    "## Kernelized SVM Implementation\n",
    "\n",
    "This code cell implements a Kernelized Support Vector Machine (SVM) classifier with a sigmoid kernel. It initializes the `SVC` model with specified parameters, fits the model to the training data, and makes predictions on both the training and testing data."
   ]
  },
  {
   "cell_type": "code",
   "execution_count": null,
   "id": "08b80d83-9478-4b93-9ffe-1fad58e9c537",
   "metadata": {
    "id": "08b80d83-9478-4b93-9ffe-1fad58e9c537"
   },
   "outputs": [],
   "source": [
    "from sklearn import svm\n",
    "KSVC_clf = svm.SVC(kernel='sigmoid', C=10, gamma=0.01)\n",
    "KSVC_clf.fit(X_train, y_train)\n",
    "y_pred_train = KSVC_clf.predict(X_train)\n",
    "y_pred_test = KSVC_clf.predict(X_test)"
   ]
  },
  {
   "cell_type": "markdown",
   "id": "6ab673a7",
   "metadata": {
    "id": "6ab673a7"
   },
   "source": [
    "## Evaluating Kernelized SVM\n",
    "\n",
    "This code cell calculates the training and testing accuracy scores for the Kernelized SVM classifier and appends these results to the `result` DataFrame."
   ]
  },
  {
   "cell_type": "code",
   "execution_count": null,
   "id": "a5fad79d-42b2-4023-9e2c-c175942f913e",
   "metadata": {
    "id": "a5fad79d-42b2-4023-9e2c-c175942f913e",
    "outputId": "0cf93d85-e764-4718-b269-ad519cdcd0fe"
   },
   "outputs": [
    {
     "data": {
      "text/html": [
       "<div>\n",
       "<style scoped>\n",
       "    .dataframe tbody tr th:only-of-type {\n",
       "        vertical-align: middle;\n",
       "    }\n",
       "\n",
       "    .dataframe tbody tr th {\n",
       "        vertical-align: top;\n",
       "    }\n",
       "\n",
       "    .dataframe thead th {\n",
       "        text-align: right;\n",
       "    }\n",
       "</style>\n",
       "<table border=\"1\" class=\"dataframe\">\n",
       "  <thead>\n",
       "    <tr style=\"text-align: right;\">\n",
       "      <th></th>\n",
       "      <th>Model</th>\n",
       "      <th>Train Accuracy</th>\n",
       "      <th>Test Accuracy</th>\n",
       "    </tr>\n",
       "  </thead>\n",
       "  <tbody>\n",
       "    <tr>\n",
       "      <th>0</th>\n",
       "      <td>KNN Classifier</td>\n",
       "      <td>0.648199</td>\n",
       "      <td>0.648352</td>\n",
       "    </tr>\n",
       "    <tr>\n",
       "      <th>1</th>\n",
       "      <td>Logestic Regression</td>\n",
       "      <td>0.939058</td>\n",
       "      <td>0.78022</td>\n",
       "    </tr>\n",
       "    <tr>\n",
       "      <th>2</th>\n",
       "      <td>Decision Tree Classifier</td>\n",
       "      <td>0.789474</td>\n",
       "      <td>0.681319</td>\n",
       "    </tr>\n",
       "    <tr>\n",
       "      <th>3</th>\n",
       "      <td>Linear SVM</td>\n",
       "      <td>0.789474</td>\n",
       "      <td>0.681319</td>\n",
       "    </tr>\n",
       "    <tr>\n",
       "      <th>4</th>\n",
       "      <td>Kernalized SVM</td>\n",
       "      <td>0.689751</td>\n",
       "      <td>0.725275</td>\n",
       "    </tr>\n",
       "  </tbody>\n",
       "</table>\n",
       "</div>"
      ],
      "text/plain": [
       "                      Model Train Accuracy Test Accuracy\n",
       "0            KNN Classifier       0.648199      0.648352\n",
       "1       Logestic Regression       0.939058       0.78022\n",
       "2  Decision Tree Classifier       0.789474      0.681319\n",
       "3                Linear SVM       0.789474      0.681319\n",
       "4            Kernalized SVM       0.689751      0.725275"
      ]
     },
     "execution_count": 62,
     "metadata": {},
     "output_type": "execute_result"
    }
   ],
   "source": [
    "ksvc_train_accuracy_score = accuracy_score(y_train, y_pred_train)\n",
    "ksvc_test_accuracy_score = accuracy_score(y_test, y_pred_test)\n",
    "\n",
    "result = pd.concat([result, pd.Series({'Model':'Kernalized SVM','Train Accuracy':ksvc_train_accuracy_score,'Test Accuracy':ksvc_test_accuracy_score}).to_frame().T], ignore_index=True )\n",
    "result"
   ]
  },
  {
   "cell_type": "markdown",
   "id": "ddcf97d5",
   "metadata": {
    "id": "ddcf97d5"
   },
   "source": [
    "## Random Forest Classifier Implementation\n",
    "\n",
    "This code cell implements a Random Forest Classifier. It initializes the `RandomForestClassifier` with specified parameters and fits the model to the training data."
   ]
  },
  {
   "cell_type": "code",
   "execution_count": null,
   "id": "37eaacaf-dfc8-4518-9302-5ef494c66e8e",
   "metadata": {
    "id": "37eaacaf-dfc8-4518-9302-5ef494c66e8e",
    "outputId": "54b5238a-f957-4933-a63e-3a64618e2ec9"
   },
   "outputs": [
    {
     "data": {
      "text/html": [
       "<style>#sk-container-id-1 {\n",
       "  /* Definition of color scheme common for light and dark mode */\n",
       "  --sklearn-color-text: #000;\n",
       "  --sklearn-color-text-muted: #666;\n",
       "  --sklearn-color-line: gray;\n",
       "  /* Definition of color scheme for unfitted estimators */\n",
       "  --sklearn-color-unfitted-level-0: #fff5e6;\n",
       "  --sklearn-color-unfitted-level-1: #f6e4d2;\n",
       "  --sklearn-color-unfitted-level-2: #ffe0b3;\n",
       "  --sklearn-color-unfitted-level-3: chocolate;\n",
       "  /* Definition of color scheme for fitted estimators */\n",
       "  --sklearn-color-fitted-level-0: #f0f8ff;\n",
       "  --sklearn-color-fitted-level-1: #d4ebff;\n",
       "  --sklearn-color-fitted-level-2: #b3dbfd;\n",
       "  --sklearn-color-fitted-level-3: cornflowerblue;\n",
       "\n",
       "  /* Specific color for light theme */\n",
       "  --sklearn-color-text-on-default-background: var(--sg-text-color, var(--theme-code-foreground, var(--jp-content-font-color1, black)));\n",
       "  --sklearn-color-background: var(--sg-background-color, var(--theme-background, var(--jp-layout-color0, white)));\n",
       "  --sklearn-color-border-box: var(--sg-text-color, var(--theme-code-foreground, var(--jp-content-font-color1, black)));\n",
       "  --sklearn-color-icon: #696969;\n",
       "\n",
       "  @media (prefers-color-scheme: dark) {\n",
       "    /* Redefinition of color scheme for dark theme */\n",
       "    --sklearn-color-text-on-default-background: var(--sg-text-color, var(--theme-code-foreground, var(--jp-content-font-color1, white)));\n",
       "    --sklearn-color-background: var(--sg-background-color, var(--theme-background, var(--jp-layout-color0, #111)));\n",
       "    --sklearn-color-border-box: var(--sg-text-color, var(--theme-code-foreground, var(--jp-content-font-color1, white)));\n",
       "    --sklearn-color-icon: #878787;\n",
       "  }\n",
       "}\n",
       "\n",
       "#sk-container-id-1 {\n",
       "  color: var(--sklearn-color-text);\n",
       "}\n",
       "\n",
       "#sk-container-id-1 pre {\n",
       "  padding: 0;\n",
       "}\n",
       "\n",
       "#sk-container-id-1 input.sk-hidden--visually {\n",
       "  border: 0;\n",
       "  clip: rect(1px 1px 1px 1px);\n",
       "  clip: rect(1px, 1px, 1px, 1px);\n",
       "  height: 1px;\n",
       "  margin: -1px;\n",
       "  overflow: hidden;\n",
       "  padding: 0;\n",
       "  position: absolute;\n",
       "  width: 1px;\n",
       "}\n",
       "\n",
       "#sk-container-id-1 div.sk-dashed-wrapped {\n",
       "  border: 1px dashed var(--sklearn-color-line);\n",
       "  margin: 0 0.4em 0.5em 0.4em;\n",
       "  box-sizing: border-box;\n",
       "  padding-bottom: 0.4em;\n",
       "  background-color: var(--sklearn-color-background);\n",
       "}\n",
       "\n",
       "#sk-container-id-1 div.sk-container {\n",
       "  /* jupyter's `normalize.less` sets `[hidden] { display: none; }`\n",
       "     but bootstrap.min.css set `[hidden] { display: none !important; }`\n",
       "     so we also need the `!important` here to be able to override the\n",
       "     default hidden behavior on the sphinx rendered scikit-learn.org.\n",
       "     See: https://github.com/scikit-learn/scikit-learn/issues/21755 */\n",
       "  display: inline-block !important;\n",
       "  position: relative;\n",
       "}\n",
       "\n",
       "#sk-container-id-1 div.sk-text-repr-fallback {\n",
       "  display: none;\n",
       "}\n",
       "\n",
       "div.sk-parallel-item,\n",
       "div.sk-serial,\n",
       "div.sk-item {\n",
       "  /* draw centered vertical line to link estimators */\n",
       "  background-image: linear-gradient(var(--sklearn-color-text-on-default-background), var(--sklearn-color-text-on-default-background));\n",
       "  background-size: 2px 100%;\n",
       "  background-repeat: no-repeat;\n",
       "  background-position: center center;\n",
       "}\n",
       "\n",
       "/* Parallel-specific style estimator block */\n",
       "\n",
       "#sk-container-id-1 div.sk-parallel-item::after {\n",
       "  content: \"\";\n",
       "  width: 100%;\n",
       "  border-bottom: 2px solid var(--sklearn-color-text-on-default-background);\n",
       "  flex-grow: 1;\n",
       "}\n",
       "\n",
       "#sk-container-id-1 div.sk-parallel {\n",
       "  display: flex;\n",
       "  align-items: stretch;\n",
       "  justify-content: center;\n",
       "  background-color: var(--sklearn-color-background);\n",
       "  position: relative;\n",
       "}\n",
       "\n",
       "#sk-container-id-1 div.sk-parallel-item {\n",
       "  display: flex;\n",
       "  flex-direction: column;\n",
       "}\n",
       "\n",
       "#sk-container-id-1 div.sk-parallel-item:first-child::after {\n",
       "  align-self: flex-end;\n",
       "  width: 50%;\n",
       "}\n",
       "\n",
       "#sk-container-id-1 div.sk-parallel-item:last-child::after {\n",
       "  align-self: flex-start;\n",
       "  width: 50%;\n",
       "}\n",
       "\n",
       "#sk-container-id-1 div.sk-parallel-item:only-child::after {\n",
       "  width: 0;\n",
       "}\n",
       "\n",
       "/* Serial-specific style estimator block */\n",
       "\n",
       "#sk-container-id-1 div.sk-serial {\n",
       "  display: flex;\n",
       "  flex-direction: column;\n",
       "  align-items: center;\n",
       "  background-color: var(--sklearn-color-background);\n",
       "  padding-right: 1em;\n",
       "  padding-left: 1em;\n",
       "}\n",
       "\n",
       "\n",
       "/* Toggleable style: style used for estimator/Pipeline/ColumnTransformer box that is\n",
       "clickable and can be expanded/collapsed.\n",
       "- Pipeline and ColumnTransformer use this feature and define the default style\n",
       "- Estimators will overwrite some part of the style using the `sk-estimator` class\n",
       "*/\n",
       "\n",
       "/* Pipeline and ColumnTransformer style (default) */\n",
       "\n",
       "#sk-container-id-1 div.sk-toggleable {\n",
       "  /* Default theme specific background. It is overwritten whether we have a\n",
       "  specific estimator or a Pipeline/ColumnTransformer */\n",
       "  background-color: var(--sklearn-color-background);\n",
       "}\n",
       "\n",
       "/* Toggleable label */\n",
       "#sk-container-id-1 label.sk-toggleable__label {\n",
       "  cursor: pointer;\n",
       "  display: flex;\n",
       "  width: 100%;\n",
       "  margin-bottom: 0;\n",
       "  padding: 0.5em;\n",
       "  box-sizing: border-box;\n",
       "  text-align: center;\n",
       "  align-items: start;\n",
       "  justify-content: space-between;\n",
       "  gap: 0.5em;\n",
       "}\n",
       "\n",
       "#sk-container-id-1 label.sk-toggleable__label .caption {\n",
       "  font-size: 0.6rem;\n",
       "  font-weight: lighter;\n",
       "  color: var(--sklearn-color-text-muted);\n",
       "}\n",
       "\n",
       "#sk-container-id-1 label.sk-toggleable__label-arrow:before {\n",
       "  /* Arrow on the left of the label */\n",
       "  content: \"▸\";\n",
       "  float: left;\n",
       "  margin-right: 0.25em;\n",
       "  color: var(--sklearn-color-icon);\n",
       "}\n",
       "\n",
       "#sk-container-id-1 label.sk-toggleable__label-arrow:hover:before {\n",
       "  color: var(--sklearn-color-text);\n",
       "}\n",
       "\n",
       "/* Toggleable content - dropdown */\n",
       "\n",
       "#sk-container-id-1 div.sk-toggleable__content {\n",
       "  max-height: 0;\n",
       "  max-width: 0;\n",
       "  overflow: hidden;\n",
       "  text-align: left;\n",
       "  /* unfitted */\n",
       "  background-color: var(--sklearn-color-unfitted-level-0);\n",
       "}\n",
       "\n",
       "#sk-container-id-1 div.sk-toggleable__content.fitted {\n",
       "  /* fitted */\n",
       "  background-color: var(--sklearn-color-fitted-level-0);\n",
       "}\n",
       "\n",
       "#sk-container-id-1 div.sk-toggleable__content pre {\n",
       "  margin: 0.2em;\n",
       "  border-radius: 0.25em;\n",
       "  color: var(--sklearn-color-text);\n",
       "  /* unfitted */\n",
       "  background-color: var(--sklearn-color-unfitted-level-0);\n",
       "}\n",
       "\n",
       "#sk-container-id-1 div.sk-toggleable__content.fitted pre {\n",
       "  /* unfitted */\n",
       "  background-color: var(--sklearn-color-fitted-level-0);\n",
       "}\n",
       "\n",
       "#sk-container-id-1 input.sk-toggleable__control:checked~div.sk-toggleable__content {\n",
       "  /* Expand drop-down */\n",
       "  max-height: 200px;\n",
       "  max-width: 100%;\n",
       "  overflow: auto;\n",
       "}\n",
       "\n",
       "#sk-container-id-1 input.sk-toggleable__control:checked~label.sk-toggleable__label-arrow:before {\n",
       "  content: \"▾\";\n",
       "}\n",
       "\n",
       "/* Pipeline/ColumnTransformer-specific style */\n",
       "\n",
       "#sk-container-id-1 div.sk-label input.sk-toggleable__control:checked~label.sk-toggleable__label {\n",
       "  color: var(--sklearn-color-text);\n",
       "  background-color: var(--sklearn-color-unfitted-level-2);\n",
       "}\n",
       "\n",
       "#sk-container-id-1 div.sk-label.fitted input.sk-toggleable__control:checked~label.sk-toggleable__label {\n",
       "  background-color: var(--sklearn-color-fitted-level-2);\n",
       "}\n",
       "\n",
       "/* Estimator-specific style */\n",
       "\n",
       "/* Colorize estimator box */\n",
       "#sk-container-id-1 div.sk-estimator input.sk-toggleable__control:checked~label.sk-toggleable__label {\n",
       "  /* unfitted */\n",
       "  background-color: var(--sklearn-color-unfitted-level-2);\n",
       "}\n",
       "\n",
       "#sk-container-id-1 div.sk-estimator.fitted input.sk-toggleable__control:checked~label.sk-toggleable__label {\n",
       "  /* fitted */\n",
       "  background-color: var(--sklearn-color-fitted-level-2);\n",
       "}\n",
       "\n",
       "#sk-container-id-1 div.sk-label label.sk-toggleable__label,\n",
       "#sk-container-id-1 div.sk-label label {\n",
       "  /* The background is the default theme color */\n",
       "  color: var(--sklearn-color-text-on-default-background);\n",
       "}\n",
       "\n",
       "/* On hover, darken the color of the background */\n",
       "#sk-container-id-1 div.sk-label:hover label.sk-toggleable__label {\n",
       "  color: var(--sklearn-color-text);\n",
       "  background-color: var(--sklearn-color-unfitted-level-2);\n",
       "}\n",
       "\n",
       "/* Label box, darken color on hover, fitted */\n",
       "#sk-container-id-1 div.sk-label.fitted:hover label.sk-toggleable__label.fitted {\n",
       "  color: var(--sklearn-color-text);\n",
       "  background-color: var(--sklearn-color-fitted-level-2);\n",
       "}\n",
       "\n",
       "/* Estimator label */\n",
       "\n",
       "#sk-container-id-1 div.sk-label label {\n",
       "  font-family: monospace;\n",
       "  font-weight: bold;\n",
       "  display: inline-block;\n",
       "  line-height: 1.2em;\n",
       "}\n",
       "\n",
       "#sk-container-id-1 div.sk-label-container {\n",
       "  text-align: center;\n",
       "}\n",
       "\n",
       "/* Estimator-specific */\n",
       "#sk-container-id-1 div.sk-estimator {\n",
       "  font-family: monospace;\n",
       "  border: 1px dotted var(--sklearn-color-border-box);\n",
       "  border-radius: 0.25em;\n",
       "  box-sizing: border-box;\n",
       "  margin-bottom: 0.5em;\n",
       "  /* unfitted */\n",
       "  background-color: var(--sklearn-color-unfitted-level-0);\n",
       "}\n",
       "\n",
       "#sk-container-id-1 div.sk-estimator.fitted {\n",
       "  /* fitted */\n",
       "  background-color: var(--sklearn-color-fitted-level-0);\n",
       "}\n",
       "\n",
       "/* on hover */\n",
       "#sk-container-id-1 div.sk-estimator:hover {\n",
       "  /* unfitted */\n",
       "  background-color: var(--sklearn-color-unfitted-level-2);\n",
       "}\n",
       "\n",
       "#sk-container-id-1 div.sk-estimator.fitted:hover {\n",
       "  /* fitted */\n",
       "  background-color: var(--sklearn-color-fitted-level-2);\n",
       "}\n",
       "\n",
       "/* Specification for estimator info (e.g. \"i\" and \"?\") */\n",
       "\n",
       "/* Common style for \"i\" and \"?\" */\n",
       "\n",
       ".sk-estimator-doc-link,\n",
       "a:link.sk-estimator-doc-link,\n",
       "a:visited.sk-estimator-doc-link {\n",
       "  float: right;\n",
       "  font-size: smaller;\n",
       "  line-height: 1em;\n",
       "  font-family: monospace;\n",
       "  background-color: var(--sklearn-color-background);\n",
       "  border-radius: 1em;\n",
       "  height: 1em;\n",
       "  width: 1em;\n",
       "  text-decoration: none !important;\n",
       "  margin-left: 0.5em;\n",
       "  text-align: center;\n",
       "  /* unfitted */\n",
       "  border: var(--sklearn-color-unfitted-level-1) 1pt solid;\n",
       "  color: var(--sklearn-color-unfitted-level-1);\n",
       "}\n",
       "\n",
       ".sk-estimator-doc-link.fitted,\n",
       "a:link.sk-estimator-doc-link.fitted,\n",
       "a:visited.sk-estimator-doc-link.fitted {\n",
       "  /* fitted */\n",
       "  border: var(--sklearn-color-fitted-level-1) 1pt solid;\n",
       "  color: var(--sklearn-color-fitted-level-1);\n",
       "}\n",
       "\n",
       "/* On hover */\n",
       "div.sk-estimator:hover .sk-estimator-doc-link:hover,\n",
       ".sk-estimator-doc-link:hover,\n",
       "div.sk-label-container:hover .sk-estimator-doc-link:hover,\n",
       ".sk-estimator-doc-link:hover {\n",
       "  /* unfitted */\n",
       "  background-color: var(--sklearn-color-unfitted-level-3);\n",
       "  color: var(--sklearn-color-background);\n",
       "  text-decoration: none;\n",
       "}\n",
       "\n",
       "div.sk-estimator.fitted:hover .sk-estimator-doc-link.fitted:hover,\n",
       ".sk-estimator-doc-link.fitted:hover,\n",
       "div.sk-label-container:hover .sk-estimator-doc-link.fitted:hover,\n",
       ".sk-estimator-doc-link.fitted:hover {\n",
       "  /* fitted */\n",
       "  background-color: var(--sklearn-color-fitted-level-3);\n",
       "  color: var(--sklearn-color-background);\n",
       "  text-decoration: none;\n",
       "}\n",
       "\n",
       "/* Span, style for the box shown on hovering the info icon */\n",
       ".sk-estimator-doc-link span {\n",
       "  display: none;\n",
       "  z-index: 9999;\n",
       "  position: relative;\n",
       "  font-weight: normal;\n",
       "  right: .2ex;\n",
       "  padding: .5ex;\n",
       "  margin: .5ex;\n",
       "  width: min-content;\n",
       "  min-width: 20ex;\n",
       "  max-width: 50ex;\n",
       "  color: var(--sklearn-color-text);\n",
       "  box-shadow: 2pt 2pt 4pt #999;\n",
       "  /* unfitted */\n",
       "  background: var(--sklearn-color-unfitted-level-0);\n",
       "  border: .5pt solid var(--sklearn-color-unfitted-level-3);\n",
       "}\n",
       "\n",
       ".sk-estimator-doc-link.fitted span {\n",
       "  /* fitted */\n",
       "  background: var(--sklearn-color-fitted-level-0);\n",
       "  border: var(--sklearn-color-fitted-level-3);\n",
       "}\n",
       "\n",
       ".sk-estimator-doc-link:hover span {\n",
       "  display: block;\n",
       "}\n",
       "\n",
       "/* \"?\"-specific style due to the `<a>` HTML tag */\n",
       "\n",
       "#sk-container-id-1 a.estimator_doc_link {\n",
       "  float: right;\n",
       "  font-size: 1rem;\n",
       "  line-height: 1em;\n",
       "  font-family: monospace;\n",
       "  background-color: var(--sklearn-color-background);\n",
       "  border-radius: 1rem;\n",
       "  height: 1rem;\n",
       "  width: 1rem;\n",
       "  text-decoration: none;\n",
       "  /* unfitted */\n",
       "  color: var(--sklearn-color-unfitted-level-1);\n",
       "  border: var(--sklearn-color-unfitted-level-1) 1pt solid;\n",
       "}\n",
       "\n",
       "#sk-container-id-1 a.estimator_doc_link.fitted {\n",
       "  /* fitted */\n",
       "  border: var(--sklearn-color-fitted-level-1) 1pt solid;\n",
       "  color: var(--sklearn-color-fitted-level-1);\n",
       "}\n",
       "\n",
       "/* On hover */\n",
       "#sk-container-id-1 a.estimator_doc_link:hover {\n",
       "  /* unfitted */\n",
       "  background-color: var(--sklearn-color-unfitted-level-3);\n",
       "  color: var(--sklearn-color-background);\n",
       "  text-decoration: none;\n",
       "}\n",
       "\n",
       "#sk-container-id-1 a.estimator_doc_link.fitted:hover {\n",
       "  /* fitted */\n",
       "  background-color: var(--sklearn-color-fitted-level-3);\n",
       "}\n",
       "</style><div id=\"sk-container-id-1\" class=\"sk-top-container\"><div class=\"sk-text-repr-fallback\"><pre>RandomForestClassifier(max_depth=10, max_features=100, max_leaf_nodes=30,\n",
       "                       n_estimators=300)</pre><b>In a Jupyter environment, please rerun this cell to show the HTML representation or trust the notebook. <br />On GitHub, the HTML representation is unable to render, please try loading this page with nbviewer.org.</b></div><div class=\"sk-container\" hidden><div class=\"sk-item\"><div class=\"sk-estimator fitted sk-toggleable\"><input class=\"sk-toggleable__control sk-hidden--visually\" id=\"sk-estimator-id-1\" type=\"checkbox\" checked><label for=\"sk-estimator-id-1\" class=\"sk-toggleable__label fitted sk-toggleable__label-arrow\"><div><div>RandomForestClassifier</div></div><div><a class=\"sk-estimator-doc-link fitted\" rel=\"noreferrer\" target=\"_blank\" href=\"https://scikit-learn.org/1.6/modules/generated/sklearn.ensemble.RandomForestClassifier.html\">?<span>Documentation for RandomForestClassifier</span></a><span class=\"sk-estimator-doc-link fitted\">i<span>Fitted</span></span></div></label><div class=\"sk-toggleable__content fitted\"><pre>RandomForestClassifier(max_depth=10, max_features=100, max_leaf_nodes=30,\n",
       "                       n_estimators=300)</pre></div> </div></div></div></div>"
      ],
      "text/plain": [
       "RandomForestClassifier(max_depth=10, max_features=100, max_leaf_nodes=30,\n",
       "                       n_estimators=300)"
      ]
     },
     "execution_count": 63,
     "metadata": {},
     "output_type": "execute_result"
    }
   ],
   "source": [
    "from sklearn.ensemble import RandomForestClassifier\n",
    "rf_clf = RandomForestClassifier(n_estimators=300 , criterion='gini', max_features=100,max_depth=10,max_leaf_nodes=30)\n",
    "rf_clf.fit(X_train, y_train)"
   ]
  },
  {
   "cell_type": "markdown",
   "id": "5e536a8c",
   "metadata": {
    "id": "5e536a8c"
   },
   "source": [
    "## Evaluating Random Forest Classifier\n",
    "\n",
    "This code cell makes predictions on the training and testing data using the trained Random Forest Classifier, calculates the accuracy scores, and appends these results to the `result` DataFrame."
   ]
  },
  {
   "cell_type": "code",
   "execution_count": null,
   "id": "3c77eb8c-d72e-4a49-9dad-3a2cef2dbcfd",
   "metadata": {
    "id": "3c77eb8c-d72e-4a49-9dad-3a2cef2dbcfd",
    "outputId": "2727be1b-858e-4ddf-d7e4-4b7c1d37c03f"
   },
   "outputs": [
    {
     "data": {
      "text/html": [
       "<div>\n",
       "<style scoped>\n",
       "    .dataframe tbody tr th:only-of-type {\n",
       "        vertical-align: middle;\n",
       "    }\n",
       "\n",
       "    .dataframe tbody tr th {\n",
       "        vertical-align: top;\n",
       "    }\n",
       "\n",
       "    .dataframe thead th {\n",
       "        text-align: right;\n",
       "    }\n",
       "</style>\n",
       "<table border=\"1\" class=\"dataframe\">\n",
       "  <thead>\n",
       "    <tr style=\"text-align: right;\">\n",
       "      <th></th>\n",
       "      <th>Model</th>\n",
       "      <th>Train Accuracy</th>\n",
       "      <th>Test Accuracy</th>\n",
       "    </tr>\n",
       "  </thead>\n",
       "  <tbody>\n",
       "    <tr>\n",
       "      <th>0</th>\n",
       "      <td>KNN Classifier</td>\n",
       "      <td>0.648199</td>\n",
       "      <td>0.648352</td>\n",
       "    </tr>\n",
       "    <tr>\n",
       "      <th>1</th>\n",
       "      <td>Logestic Regression</td>\n",
       "      <td>0.939058</td>\n",
       "      <td>0.78022</td>\n",
       "    </tr>\n",
       "    <tr>\n",
       "      <th>2</th>\n",
       "      <td>Decision Tree Classifier</td>\n",
       "      <td>0.789474</td>\n",
       "      <td>0.681319</td>\n",
       "    </tr>\n",
       "    <tr>\n",
       "      <th>3</th>\n",
       "      <td>Linear SVM</td>\n",
       "      <td>0.789474</td>\n",
       "      <td>0.681319</td>\n",
       "    </tr>\n",
       "    <tr>\n",
       "      <th>4</th>\n",
       "      <td>Kernalized SVM</td>\n",
       "      <td>0.689751</td>\n",
       "      <td>0.725275</td>\n",
       "    </tr>\n",
       "    <tr>\n",
       "      <th>5</th>\n",
       "      <td>Random Forest Classifier</td>\n",
       "      <td>0.897507</td>\n",
       "      <td>0.747253</td>\n",
       "    </tr>\n",
       "  </tbody>\n",
       "</table>\n",
       "</div>"
      ],
      "text/plain": [
       "                      Model Train Accuracy Test Accuracy\n",
       "0            KNN Classifier       0.648199      0.648352\n",
       "1       Logestic Regression       0.939058       0.78022\n",
       "2  Decision Tree Classifier       0.789474      0.681319\n",
       "3                Linear SVM       0.789474      0.681319\n",
       "4            Kernalized SVM       0.689751      0.725275\n",
       "5  Random Forest Classifier       0.897507      0.747253"
      ]
     },
     "execution_count": 64,
     "metadata": {},
     "output_type": "execute_result"
    }
   ],
   "source": [
    "y_pred_train = rf_clf.predict(X_train)\n",
    "y_pred_test = rf_clf.predict(X_test)\n",
    "\n",
    "rf_train_accuracy_score = accuracy_score(y_train, y_pred_train)\n",
    "rf_test_accuracy_score = accuracy_score(y_test, y_pred_test)\n",
    "\n",
    "result = pd.concat([result, pd.Series({'Model':'Random Forest Classifier','Train Accuracy':rf_train_accuracy_score,'Test Accuracy':rf_test_accuracy_score}).to_frame().T], ignore_index=True )\n",
    "result"
   ]
  },
  {
   "cell_type": "markdown",
   "id": "27e2b482",
   "metadata": {
    "id": "27e2b482"
   },
   "source": [
    "## Performing Random Over Sampling\n",
    "\n",
    "This code cell uses `RandomOverSampler` from the `imblearn` library to oversample the minority classes in the dataset. This helps to address class imbalance. The resampled features and target variable are stored in `X_resampled` and `y_resampled` respectively."
   ]
  },
  {
   "cell_type": "code",
   "execution_count": null,
   "id": "0d9191f0-3523-41d0-8b8e-be02e7e9fbc2",
   "metadata": {
    "id": "0d9191f0-3523-41d0-8b8e-be02e7e9fbc2",
    "outputId": "2eb14ba2-98be-4888-aaba-37d94f820a4f"
   },
   "outputs": [
    {
     "data": {
      "text/plain": [
       "(3185, 278)"
      ]
     },
     "execution_count": 65,
     "metadata": {},
     "output_type": "execute_result"
    }
   ],
   "source": [
    "#performing over sampling\n",
    "from imblearn.over_sampling import RandomOverSampler\n",
    "ros = RandomOverSampler(random_state=0)\n",
    "X_resampled, y_resampled = ros.fit_resample(final_df, target)\n",
    "X_resampled.shape"
   ]
  },
  {
   "cell_type": "markdown",
   "id": "77e44237",
   "metadata": {
    "id": "77e44237"
   },
   "source": [
    "## Counting Instances per Class After Oversampling\n",
    "\n",
    "This code cell uses `collections.Counter` to count the number of instances for each class in the oversampled target variable `y_resampled` and displays the counts."
   ]
  },
  {
   "cell_type": "code",
   "execution_count": null,
   "id": "427de670-efcc-4e63-a499-7bd347c6d852",
   "metadata": {
    "id": "427de670-efcc-4e63-a499-7bd347c6d852",
    "outputId": "205aac3c-d350-452b-f60a-3d38890c2303"
   },
   "outputs": [
    {
     "data": {
      "text/plain": [
       "Counter({8.0: 245,\n",
       "         6.0: 245,\n",
       "         10.0: 245,\n",
       "         1.0: 245,\n",
       "         7.0: 245,\n",
       "         14.0: 245,\n",
       "         3.0: 245,\n",
       "         16.0: 245,\n",
       "         2.0: 245,\n",
       "         4.0: 245,\n",
       "         5.0: 245,\n",
       "         9.0: 245,\n",
       "         15.0: 245})"
      ]
     },
     "execution_count": 66,
     "metadata": {},
     "output_type": "execute_result"
    }
   ],
   "source": [
    "#finding frequency of each class\n",
    "import collections\n",
    "counter = collections.Counter(y_resampled)\n",
    "counter"
   ]
  },
  {
   "cell_type": "markdown",
   "id": "8f47ab9d",
   "metadata": {
    "id": "8f47ab9d"
   },
   "source": [
    "## Visualizing Class Distribution After Oversampling\n",
    "\n",
    "This code cell generates a count plot to visualize the distribution of instances across different classes after random oversampling. The y-axis limit is set to 200 and the x-axis limit to 10 for better visualization."
   ]
  },
  {
   "cell_type": "code",
   "execution_count": null,
   "id": "96a32851-f054-4840-a187-f31d177f2153",
   "metadata": {
    "id": "96a32851-f054-4840-a187-f31d177f2153",
    "outputId": "28c2ecce-a91b-45f5-ecd5-452f20ab33ee"
   },
   "outputs": [
    {
     "data": {
      "image/png": "[encoded data removed]",
      "text/plain": [
       "<Figure size 1170x527 with 1 Axes>"
      ]
     },
     "metadata": {},
     "output_type": "display_data"
    }
   ],
   "source": [
    "sns.countplot(y_resampled)\n",
    "plt.ylim(0, 200)\n",
    "plt.xlim(0, 10.0)\n",
    "plt.show()"
   ]
  },
  {
   "cell_type": "markdown",
   "id": "c88adb9f",
   "metadata": {
    "id": "c88adb9f"
   },
   "source": [
    "## Splitting Oversampled Data\n",
    "\n",
    "This code cell splits the oversampled data (`X_resampled` and `y_resampled`) into training and testing sets using `train_test_split`."
   ]
  },
  {
   "cell_type": "code",
   "execution_count": null,
   "id": "81c60a61-9f13-429a-be1d-e9e89c4b45dd",
   "metadata": {
    "id": "81c60a61-9f13-429a-be1d-e9e89c4b45dd"
   },
   "outputs": [],
   "source": [
    "X_train1, X_test1, y_train1, y_test1 = train_test_split(X_resampled, y_resampled, test_size=0.2, random_state=1)"
   ]
  },
  {
   "cell_type": "markdown",
   "id": "8f5999aa",
   "metadata": {
    "id": "8f5999aa"
   },
   "source": [
    "## Scaling Oversampled Data\n",
    "\n",
    "This code cell uses the previously fitted `StandardScaler` to transform the oversampled training and testing data."
   ]
  },
  {
   "cell_type": "code",
   "execution_count": null,
   "id": "19273b0d-34d3-4bf4-ba28-eb5658926a34",
   "metadata": {
    "id": "19273b0d-34d3-4bf4-ba28-eb5658926a34"
   },
   "outputs": [],
   "source": [
    "scaler = StandardScaler()\n",
    "scaler.fit(X_train)\n",
    "X_train1 = scaler.transform(X_train1)\n",
    "X_test1 = scaler.transform(X_test1)"
   ]
  },
  {
   "cell_type": "markdown",
   "id": "15b4ad94",
   "metadata": {
    "id": "15b4ad94"
   },
   "source": [
    "## Applying PCA\n",
    "\n",
    "This code cell applies Principal Component Analysis (PCA) to the scaled training and testing data (`X_train` and `X_test`). PCA is used for dimensionality reduction, keeping components that explain 98% of the variance."
   ]
  },
  {
   "cell_type": "code",
   "execution_count": null,
   "id": "e931fc94-7e07-44af-9e2b-b933d922dcf5",
   "metadata": {
    "id": "e931fc94-7e07-44af-9e2b-b933d922dcf5"
   },
   "outputs": [],
   "source": [
    "from sklearn.decomposition import PCA\n",
    "pca = PCA(n_components=0.98)\n",
    "X_train_pca = pca.fit_transform(X_train)\n",
    "X_test_pca = pca.transform(X_test)"
   ]
  },
  {
   "cell_type": "markdown",
   "id": "d7e19cef",
   "metadata": {
    "id": "d7e19cef"
   },
   "source": [
    "## Applying PCA to Oversampled Data\n",
    "\n",
    "This code cell applies the previously fitted PCA transformation to the scaled oversampled training and testing data (`X_train1` and `X_test1`)."
   ]
  },
  {
   "cell_type": "code",
   "execution_count": null,
   "id": "27861f61-79af-4432-b2d3-683ac3c8f483",
   "metadata": {
    "id": "27861f61-79af-4432-b2d3-683ac3c8f483"
   },
   "outputs": [],
   "source": [
    "x_train1 = pca.transform(X_train1)\n",
    "X_test1 = pca.transform(X_test1)"
   ]
  },
  {
   "cell_type": "markdown",
   "id": "87f6680d",
   "metadata": {
    "id": "87f6680d"
   },
   "source": [
    "## KNN Classifier with PCA Implementation\n",
    "\n",
    "This code cell implements a K-Nearest Neighbors (KNN) classifier on the data that has been reduced using PCA. It initializes the `KNeighborsClassifier`, fits the model to the PCA-transformed training data, and makes predictions on the PCA-transformed testing data."
   ]
  },
  {
   "cell_type": "code",
   "execution_count": null,
   "id": "3bc7b6d0-5cd0-4739-ad2e-67fbe4ab8109",
   "metadata": {
    "id": "3bc7b6d0-5cd0-4739-ad2e-67fbe4ab8109"
   },
   "outputs": [],
   "source": [
    "from sklearn.neighbors import KNeighborsClassifier\n",
    "from sklearn.metrics import accuracy_score\n",
    "classifier = KNeighborsClassifier()\n",
    "classifier.fit(X_train_pca, y_train)\n",
    "Y_pred = classifier.predict(X_test_pca)"
   ]
  },
  {
   "cell_type": "markdown",
   "id": "07810efc",
   "metadata": {
    "id": "07810efc"
   },
   "source": [
    "## Evaluating KNN Classifier with PCA\n",
    "\n",
    "This code cell calculates the training and testing accuracy scores for the KNN classifier trained on PCA-transformed data and stores these results."
   ]
  },
  {
   "cell_type": "code",
   "execution_count": null,
   "id": "199d2c23-0f41-48db-8f7a-16ce3fda5b38",
   "metadata": {
    "id": "199d2c23-0f41-48db-8f7a-16ce3fda5b38"
   },
   "outputs": [],
   "source": [
    "train_accuracy = accuracy_score(y_train, classifier.predict(X_train_pca))\n",
    "test_accuracy = accuracy_score(y_test, Y_pred)"
   ]
  },
  {
   "cell_type": "markdown",
   "id": "4c61662b",
   "metadata": {
    "id": "4c61662b"
   },
   "source": [
    "## Appending KNN with PCA Results\n",
    "\n",
    "This code cell creates a new row with the model name 'Knn with PCA' and its corresponding training and testing accuracy scores, and then appends this row to the `result` DataFrame."
   ]
  },
  {
   "cell_type": "code",
   "execution_count": null,
   "id": "a38eb297-9e8e-4085-9fc4-5aa5c5f58d06",
   "metadata": {
    "id": "a38eb297-9e8e-4085-9fc4-5aa5c5f58d06",
    "outputId": "5bd3d8f2-d2db-4301-e899-a6d0c6f0e522"
   },
   "outputs": [
    {
     "data": {
      "text/html": [
       "<div>\n",
       "<style scoped>\n",
       "    .dataframe tbody tr th:only-of-type {\n",
       "        vertical-align: middle;\n",
       "    }\n",
       "\n",
       "    .dataframe tbody tr th {\n",
       "        vertical-align: top;\n",
       "    }\n",
       "\n",
       "    .dataframe thead th {\n",
       "        text-align: right;\n",
       "    }\n",
       "</style>\n",
       "<table border=\"1\" class=\"dataframe\">\n",
       "  <thead>\n",
       "    <tr style=\"text-align: right;\">\n",
       "      <th></th>\n",
       "      <th>Model</th>\n",
       "      <th>Train Accuracy</th>\n",
       "      <th>Test Accuracy</th>\n",
       "    </tr>\n",
       "  </thead>\n",
       "  <tbody>\n",
       "    <tr>\n",
       "      <th>0</th>\n",
       "      <td>KNN Classifier</td>\n",
       "      <td>0.648199</td>\n",
       "      <td>0.648352</td>\n",
       "    </tr>\n",
       "    <tr>\n",
       "      <th>1</th>\n",
       "      <td>Logestic Regression</td>\n",
       "      <td>0.939058</td>\n",
       "      <td>0.78022</td>\n",
       "    </tr>\n",
       "    <tr>\n",
       "      <th>2</th>\n",
       "      <td>Decision Tree Classifier</td>\n",
       "      <td>0.789474</td>\n",
       "      <td>0.681319</td>\n",
       "    </tr>\n",
       "    <tr>\n",
       "      <th>3</th>\n",
       "      <td>Linear SVM</td>\n",
       "      <td>0.789474</td>\n",
       "      <td>0.681319</td>\n",
       "    </tr>\n",
       "    <tr>\n",
       "      <th>4</th>\n",
       "      <td>Kernalized SVM</td>\n",
       "      <td>0.689751</td>\n",
       "      <td>0.725275</td>\n",
       "    </tr>\n",
       "    <tr>\n",
       "      <th>5</th>\n",
       "      <td>Random Forest Classifier</td>\n",
       "      <td>0.897507</td>\n",
       "      <td>0.747253</td>\n",
       "    </tr>\n",
       "    <tr>\n",
       "      <th>6</th>\n",
       "      <td>Knn with PCA</td>\n",
       "      <td>0.645429</td>\n",
       "      <td>0.648352</td>\n",
       "    </tr>\n",
       "  </tbody>\n",
       "</table>\n",
       "</div>"
      ],
      "text/plain": [
       "                      Model Train Accuracy Test Accuracy\n",
       "0            KNN Classifier       0.648199      0.648352\n",
       "1       Logestic Regression       0.939058       0.78022\n",
       "2  Decision Tree Classifier       0.789474      0.681319\n",
       "3                Linear SVM       0.789474      0.681319\n",
       "4            Kernalized SVM       0.689751      0.725275\n",
       "5  Random Forest Classifier       0.897507      0.747253\n",
       "6              Knn with PCA       0.645429      0.648352"
      ]
     },
     "execution_count": 74,
     "metadata": {},
     "output_type": "execute_result"
    }
   ],
   "source": [
    "new_row = pd.Series({\n",
    "    'Model': 'Knn with PCA',\n",
    "    'Train Accuracy': train_accuracy,\n",
    "    'Test Accuracy': test_accuracy\n",
    "})\n",
    "result = pd.concat([result, new_row.to_frame().T], ignore_index=True)\n",
    "result"
   ]
  },
  {
   "cell_type": "markdown",
   "id": "61aee8ca",
   "metadata": {
    "id": "61aee8ca"
   },
   "source": [
    "## Logistic Regression with PCA Implementation\n",
    "\n",
    "This code cell implements a Logistic Regression classifier on the PCA-reduced data. It initializes the `LogisticRegression` model with specified parameters, fits the model to the PCA-transformed training data, and makes predictions on the PCA-transformed testing data."
   ]
  },
  {
   "cell_type": "code",
   "execution_count": null,
   "id": "551b92a3-c655-4dec-86dc-4ef1b3a2a22e",
   "metadata": {
    "id": "551b92a3-c655-4dec-86dc-4ef1b3a2a22e"
   },
   "outputs": [],
   "source": [
    "from sklearn.linear_model import LogisticRegression\n",
    "lgp_classifier = LogisticRegression(C=10, random_state=0)\n",
    "lgp_classifier.fit(X_train_pca, y_train)\n",
    "y_pred_test = lgp_classifier.predict(X_test_pca)"
   ]
  },
  {
   "cell_type": "markdown",
   "id": "467b1c68",
   "metadata": {
    "id": "467b1c68"
   },
   "source": [
    "## Evaluating Logistic Regression with PCA & Appending Logistic Regression with PCA Results\n",
    "\n",
    "- This code cell calculates the training and testing accuracy scores for the Logistic Regression model trained on PCA-transformed data and stores these results.\n",
    "- This code cell creates a new row with the model name 'Logestic Regression PCA' and its corresponding training and testing accuracy scores, and then appends this row to the `result` DataFrame."
   ]
  },
  {
   "cell_type": "code",
   "execution_count": null,
   "id": "1b43573a-c60d-49d9-9c56-684a9ec51d77",
   "metadata": {
    "id": "1b43573a-c60d-49d9-9c56-684a9ec51d77",
    "outputId": "8502147f-4591-4315-ab94-b46504748dd4"
   },
   "outputs": [
    {
     "data": {
      "text/html": [
       "<div>\n",
       "<style scoped>\n",
       "    .dataframe tbody tr th:only-of-type {\n",
       "        vertical-align: middle;\n",
       "    }\n",
       "\n",
       "    .dataframe tbody tr th {\n",
       "        vertical-align: top;\n",
       "    }\n",
       "\n",
       "    .dataframe thead th {\n",
       "        text-align: right;\n",
       "    }\n",
       "</style>\n",
       "<table border=\"1\" class=\"dataframe\">\n",
       "  <thead>\n",
       "    <tr style=\"text-align: right;\">\n",
       "      <th></th>\n",
       "      <th>Model</th>\n",
       "      <th>Train Accuracy</th>\n",
       "      <th>Test Accuracy</th>\n",
       "    </tr>\n",
       "  </thead>\n",
       "  <tbody>\n",
       "    <tr>\n",
       "      <th>0</th>\n",
       "      <td>KNN Classifier</td>\n",
       "      <td>0.648199</td>\n",
       "      <td>0.648352</td>\n",
       "    </tr>\n",
       "    <tr>\n",
       "      <th>1</th>\n",
       "      <td>Logestic Regression</td>\n",
       "      <td>0.939058</td>\n",
       "      <td>0.78022</td>\n",
       "    </tr>\n",
       "    <tr>\n",
       "      <th>2</th>\n",
       "      <td>Decision Tree Classifier</td>\n",
       "      <td>0.789474</td>\n",
       "      <td>0.681319</td>\n",
       "    </tr>\n",
       "    <tr>\n",
       "      <th>3</th>\n",
       "      <td>Linear SVM</td>\n",
       "      <td>0.789474</td>\n",
       "      <td>0.681319</td>\n",
       "    </tr>\n",
       "    <tr>\n",
       "      <th>4</th>\n",
       "      <td>Kernalized SVM</td>\n",
       "      <td>0.689751</td>\n",
       "      <td>0.725275</td>\n",
       "    </tr>\n",
       "    <tr>\n",
       "      <th>5</th>\n",
       "      <td>Random Forest Classifier</td>\n",
       "      <td>0.897507</td>\n",
       "      <td>0.747253</td>\n",
       "    </tr>\n",
       "    <tr>\n",
       "      <th>6</th>\n",
       "      <td>Knn with PCA</td>\n",
       "      <td>0.645429</td>\n",
       "      <td>0.648352</td>\n",
       "    </tr>\n",
       "    <tr>\n",
       "      <th>7</th>\n",
       "      <td>Logestic Regression PCA</td>\n",
       "      <td>1.0</td>\n",
       "      <td>0.659341</td>\n",
       "    </tr>\n",
       "  </tbody>\n",
       "</table>\n",
       "</div>"
      ],
      "text/plain": [
       "                      Model Train Accuracy Test Accuracy\n",
       "0            KNN Classifier       0.648199      0.648352\n",
       "1       Logestic Regression       0.939058       0.78022\n",
       "2  Decision Tree Classifier       0.789474      0.681319\n",
       "3                Linear SVM       0.789474      0.681319\n",
       "4            Kernalized SVM       0.689751      0.725275\n",
       "5  Random Forest Classifier       0.897507      0.747253\n",
       "6              Knn with PCA       0.645429      0.648352\n",
       "7   Logestic Regression PCA            1.0      0.659341"
      ]
     },
     "execution_count": 76,
     "metadata": {},
     "output_type": "execute_result"
    }
   ],
   "source": [
    "from sklearn.metrics import accuracy_score\n",
    "import pandas as pd\n",
    "\n",
    "lgp_train_accuracy = accuracy_score(y_train, lgp_classifier.predict(X_train_pca))\n",
    "lgp_test_accuracy = accuracy_score(y_test, y_pred_test)\n",
    "\n",
    "new_row = pd.Series({\n",
    "    'Model': 'Logestic Regression PCA',\n",
    "    'Train Accuracy': lgp_train_accuracy,\n",
    "    'Test Accuracy': lgp_test_accuracy\n",
    "})\n",
    "result = pd.concat([result, new_row.to_frame().T], ignore_index=True)\n",
    "\n",
    "result"
   ]
  },
  {
   "cell_type": "markdown",
   "id": "81cec496",
   "metadata": {
    "id": "81cec496"
   },
   "source": [
    "## Decision Tree Classifier with PCA Implementation\n",
    "\n",
    "This code cell implements a Decision Tree Classifier on the PCA-reduced data. It initializes the `DecisionTreeClassifier` with specified parameters, fits the model to the PCA-transformed training data, and makes predictions on both the PCA-transformed training and testing data."
   ]
  },
  {
   "cell_type": "code",
   "execution_count": null,
   "id": "abf4d6f0-18c1-4975-bc1a-4d4ee9ae4665",
   "metadata": {
    "id": "abf4d6f0-18c1-4975-bc1a-4d4ee9ae4665"
   },
   "outputs": [],
   "source": [
    "from sklearn.tree import DecisionTreeClassifier\n",
    "dtpclassifier = DecisionTreeClassifier(criterion='entropy', random_state=0)\n",
    "dtpclassifier.fit(X_train_pca, y_train)\n",
    "y_pred_train = dtpclassifier.predict(X_train_pca)\n",
    "y_pred_test = dtpclassifier.predict(X_test_pca)"
   ]
  },
  {
   "cell_type": "markdown",
   "id": "2a6367e1",
   "metadata": {
    "id": "2a6367e1"
   },
   "source": [
    "## Evaluating Decision Tree Classifier with PCA\n",
    "\n",
    "This code cell calculates the training and testing accuracy and weighted recall scores for the Decision Tree Classifier trained on PCA-transformed data and stores these results."
   ]
  },
  {
   "cell_type": "code",
   "execution_count": null,
   "id": "e2464938-c760-4dd3-9abd-81e347157b74",
   "metadata": {
    "id": "e2464938-c760-4dd3-9abd-81e347157b74"
   },
   "outputs": [],
   "source": [
    "from sklearn.metrics import recall_score, accuracy_score\n",
    "dtp_train_recall_score = recall_score(y_train, y_pred_train, average='weighted')\n",
    "dtp_train_accuracy_score = accuracy_score(y_train, y_pred_train)\n",
    "dtp_test_recall_score = recall_score(y_test, y_pred_test, average='weighted')\n",
    "dtp_test_accuracy_score = accuracy_score(y_test, y_pred_test)"
   ]
  },
  {
   "cell_type": "markdown",
   "id": "5d095170",
   "metadata": {
    "id": "5d095170"
   },
   "source": [
    "## Appending Decision Tree Classifier with PCA Results\n",
    "\n",
    "This code cell creates a new row with the model name 'Decision Tree with PCA' and its corresponding training and testing accuracy scores, and then appends this row to the `result` DataFrame."
   ]
  },
  {
   "cell_type": "code",
   "execution_count": null,
   "id": "28082e40-12bc-4419-a208-8c5e703ffe1d",
   "metadata": {
    "id": "28082e40-12bc-4419-a208-8c5e703ffe1d",
    "outputId": "0fa11c9d-4e20-4735-fd14-93cc0b62cf13"
   },
   "outputs": [
    {
     "data": {
      "text/html": [
       "<div>\n",
       "<style scoped>\n",
       "    .dataframe tbody tr th:only-of-type {\n",
       "        vertical-align: middle;\n",
       "    }\n",
       "\n",
       "    .dataframe tbody tr th {\n",
       "        vertical-align: top;\n",
       "    }\n",
       "\n",
       "    .dataframe thead th {\n",
       "        text-align: right;\n",
       "    }\n",
       "</style>\n",
       "<table border=\"1\" class=\"dataframe\">\n",
       "  <thead>\n",
       "    <tr style=\"text-align: right;\">\n",
       "      <th></th>\n",
       "      <th>Model</th>\n",
       "      <th>Train Accuracy</th>\n",
       "      <th>Test Accuracy</th>\n",
       "    </tr>\n",
       "  </thead>\n",
       "  <tbody>\n",
       "    <tr>\n",
       "      <th>0</th>\n",
       "      <td>KNN Classifier</td>\n",
       "      <td>0.648199</td>\n",
       "      <td>0.648352</td>\n",
       "    </tr>\n",
       "    <tr>\n",
       "      <th>1</th>\n",
       "      <td>Logestic Regression</td>\n",
       "      <td>0.939058</td>\n",
       "      <td>0.78022</td>\n",
       "    </tr>\n",
       "    <tr>\n",
       "      <th>2</th>\n",
       "      <td>Decision Tree Classifier</td>\n",
       "      <td>0.789474</td>\n",
       "      <td>0.681319</td>\n",
       "    </tr>\n",
       "    <tr>\n",
       "      <th>3</th>\n",
       "      <td>Linear SVM</td>\n",
       "      <td>0.789474</td>\n",
       "      <td>0.681319</td>\n",
       "    </tr>\n",
       "    <tr>\n",
       "      <th>4</th>\n",
       "      <td>Kernalized SVM</td>\n",
       "      <td>0.689751</td>\n",
       "      <td>0.725275</td>\n",
       "    </tr>\n",
       "    <tr>\n",
       "      <th>5</th>\n",
       "      <td>Random Forest Classifier</td>\n",
       "      <td>0.897507</td>\n",
       "      <td>0.747253</td>\n",
       "    </tr>\n",
       "    <tr>\n",
       "      <th>6</th>\n",
       "      <td>Knn with PCA</td>\n",
       "      <td>0.645429</td>\n",
       "      <td>0.648352</td>\n",
       "    </tr>\n",
       "    <tr>\n",
       "      <th>7</th>\n",
       "      <td>Logestic Regression PCA</td>\n",
       "      <td>1.0</td>\n",
       "      <td>0.659341</td>\n",
       "    </tr>\n",
       "    <tr>\n",
       "      <th>8</th>\n",
       "      <td>Decision Tree with PCA</td>\n",
       "      <td>1.0</td>\n",
       "      <td>0.516484</td>\n",
       "    </tr>\n",
       "  </tbody>\n",
       "</table>\n",
       "</div>"
      ],
      "text/plain": [
       "                      Model Train Accuracy Test Accuracy\n",
       "0            KNN Classifier       0.648199      0.648352\n",
       "1       Logestic Regression       0.939058       0.78022\n",
       "2  Decision Tree Classifier       0.789474      0.681319\n",
       "3                Linear SVM       0.789474      0.681319\n",
       "4            Kernalized SVM       0.689751      0.725275\n",
       "5  Random Forest Classifier       0.897507      0.747253\n",
       "6              Knn with PCA       0.645429      0.648352\n",
       "7   Logestic Regression PCA            1.0      0.659341\n",
       "8    Decision Tree with PCA            1.0      0.516484"
      ]
     },
     "execution_count": 79,
     "metadata": {},
     "output_type": "execute_result"
    }
   ],
   "source": [
    "import pandas as pd\n",
    "new_row = pd.Series({\n",
    "    'Model': 'Decision Tree with PCA',\n",
    "    'Train Accuracy': dtp_train_accuracy_score,\n",
    "    'Test Accuracy': dtp_test_accuracy_score\n",
    "})\n",
    "result = pd.concat([result, new_row.to_frame().T], ignore_index=True)\n",
    "result"
   ]
  },
  {
   "cell_type": "markdown",
   "id": "9a4553d2",
   "metadata": {
    "id": "9a4553d2"
   },
   "source": [
    "## Linear SVM with PCA Implementation\n",
    "\n",
    "This code cell implements a Linear Support Vector Machine (SVM) classifier on the PCA-reduced data. It initializes the `SVC` model with a linear kernel and probability enabled, fits the model to the PCA-transformed training data, and makes predictions on the PCA-transformed testing data."
   ]
  },
  {
   "cell_type": "code",
   "execution_count": null,
   "id": "927d67f4-64e6-43d7-ab02-310d1ac1d462",
   "metadata": {
    "id": "927d67f4-64e6-43d7-ab02-310d1ac1d462"
   },
   "outputs": [],
   "source": [
    "from sklearn.svm import SVC\n",
    "classifier = SVC(kernel='linear', random_state=0, probability=True)\n",
    "classifier.fit(X_train_pca, y_train)\n",
    "y_pred = classifier.predict(X_test_pca)"
   ]
  },
  {
   "cell_type": "markdown",
   "id": "bee8f482",
   "metadata": {
    "id": "bee8f482"
   },
   "source": [
    "## Evaluating Linear SVM with PCA & Appending Linear SVM with PCA Results\n",
    "\n",
    "- This code cell calculates the training and testing accuracy scores for the Linear SVM classifier trained on PCA-transformed data and stores these results.\n",
    "- This code cell creates a new row with the model name 'Linear SVM with PCA' and its corresponding training and testing accuracy scores, and then appends this row to the `result` DataFrame."
   ]
  },
  {
   "cell_type": "code",
   "execution_count": null,
   "id": "a0b469a8-4b50-4052-9509-18d6a82d14ec",
   "metadata": {
    "id": "a0b469a8-4b50-4052-9509-18d6a82d14ec",
    "outputId": "a8a8344f-373a-4685-91d8-e1ff7a6f7c26"
   },
   "outputs": [
    {
     "data": {
      "text/html": [
       "<div>\n",
       "<style scoped>\n",
       "    .dataframe tbody tr th:only-of-type {\n",
       "        vertical-align: middle;\n",
       "    }\n",
       "\n",
       "    .dataframe tbody tr th {\n",
       "        vertical-align: top;\n",
       "    }\n",
       "\n",
       "    .dataframe thead th {\n",
       "        text-align: right;\n",
       "    }\n",
       "</style>\n",
       "<table border=\"1\" class=\"dataframe\">\n",
       "  <thead>\n",
       "    <tr style=\"text-align: right;\">\n",
       "      <th></th>\n",
       "      <th>Model</th>\n",
       "      <th>Train Accuracy</th>\n",
       "      <th>Test Accuracy</th>\n",
       "    </tr>\n",
       "  </thead>\n",
       "  <tbody>\n",
       "    <tr>\n",
       "      <th>0</th>\n",
       "      <td>KNN Classifier</td>\n",
       "      <td>0.648199</td>\n",
       "      <td>0.648352</td>\n",
       "    </tr>\n",
       "    <tr>\n",
       "      <th>1</th>\n",
       "      <td>Logestic Regression</td>\n",
       "      <td>0.939058</td>\n",
       "      <td>0.78022</td>\n",
       "    </tr>\n",
       "    <tr>\n",
       "      <th>2</th>\n",
       "      <td>Decision Tree Classifier</td>\n",
       "      <td>0.789474</td>\n",
       "      <td>0.681319</td>\n",
       "    </tr>\n",
       "    <tr>\n",
       "      <th>3</th>\n",
       "      <td>Linear SVM</td>\n",
       "      <td>0.789474</td>\n",
       "      <td>0.681319</td>\n",
       "    </tr>\n",
       "    <tr>\n",
       "      <th>4</th>\n",
       "      <td>Kernalized SVM</td>\n",
       "      <td>0.689751</td>\n",
       "      <td>0.725275</td>\n",
       "    </tr>\n",
       "    <tr>\n",
       "      <th>5</th>\n",
       "      <td>Random Forest Classifier</td>\n",
       "      <td>0.897507</td>\n",
       "      <td>0.747253</td>\n",
       "    </tr>\n",
       "    <tr>\n",
       "      <th>6</th>\n",
       "      <td>Knn with PCA</td>\n",
       "      <td>0.645429</td>\n",
       "      <td>0.648352</td>\n",
       "    </tr>\n",
       "    <tr>\n",
       "      <th>7</th>\n",
       "      <td>Logestic Regression PCA</td>\n",
       "      <td>1.0</td>\n",
       "      <td>0.659341</td>\n",
       "    </tr>\n",
       "    <tr>\n",
       "      <th>8</th>\n",
       "      <td>Decision Tree with PCA</td>\n",
       "      <td>1.0</td>\n",
       "      <td>0.516484</td>\n",
       "    </tr>\n",
       "    <tr>\n",
       "      <th>9</th>\n",
       "      <td>Linear SVM with PCA</td>\n",
       "      <td>1.0</td>\n",
       "      <td>0.703297</td>\n",
       "    </tr>\n",
       "  </tbody>\n",
       "</table>\n",
       "</div>"
      ],
      "text/plain": [
       "                      Model Train Accuracy Test Accuracy\n",
       "0            KNN Classifier       0.648199      0.648352\n",
       "1       Logestic Regression       0.939058       0.78022\n",
       "2  Decision Tree Classifier       0.789474      0.681319\n",
       "3                Linear SVM       0.789474      0.681319\n",
       "4            Kernalized SVM       0.689751      0.725275\n",
       "5  Random Forest Classifier       0.897507      0.747253\n",
       "6              Knn with PCA       0.645429      0.648352\n",
       "7   Logestic Regression PCA            1.0      0.659341\n",
       "8    Decision Tree with PCA            1.0      0.516484\n",
       "9       Linear SVM with PCA            1.0      0.703297"
      ]
     },
     "execution_count": 83,
     "metadata": {},
     "output_type": "execute_result"
    }
   ],
   "source": [
    "from sklearn.metrics import accuracy_score\n",
    "import pandas as pd\n",
    "lsvcp_train_accuracy = accuracy_score(y_train, classifier.predict(X_train_pca))\n",
    "lsvcp_test_accuracy = accuracy_score(y_test, y_pred)\n",
    "new_row = pd.Series({\n",
    "    'Model': 'Linear SVM with PCA',\n",
    "    'Train Accuracy': lsvcp_train_accuracy,\n",
    "    'Test Accuracy': lsvcp_test_accuracy\n",
    "})\n",
    "result = pd.concat([result, new_row.to_frame().T], ignore_index=True)\n",
    "result"
   ]
  },
  {
   "cell_type": "markdown",
   "id": "9e78ab60",
   "metadata": {
    "id": "9e78ab60"
   },
   "source": [
    "## Kernelized SVM with PCA Implementation\n",
    "\n",
    "This code cell implements a Kernelized Support Vector Machine (SVM) classifier with an RBF kernel on the PCA-reduced data. It initializes the `SVC` model with specified parameters, fits the model to the PCA-transformed training data, and makes predictions on both the PCA-transformed training and testing data."
   ]
  },
  {
   "cell_type": "code",
   "execution_count": null,
   "id": "bd10c16f-815d-4824-b09a-9e2c8dff0c47",
   "metadata": {
    "id": "bd10c16f-815d-4824-b09a-9e2c8dff0c47"
   },
   "outputs": [],
   "source": [
    "from sklearn import svm\n",
    "KSVC_clf = svm.SVC(kernel='rbf', C=1, gamma=0.1)\n",
    "KSVC_clf.fit(X_train_pca, y_train)\n",
    "y_pred_train1 = KSVC_clf.predict(X_train_pca)\n",
    "y_pred_test1 = KSVC_clf.predict(X_test_pca)"
   ]
  },
  {
   "cell_type": "markdown",
   "id": "723acf94",
   "metadata": {
    "id": "723acf94"
   },
   "source": [
    "## Evaluating Kernelized SVM with PCA & Appending Kernelized SVM with PCA Results\n",
    "\n",
    "- This code cell calculates the training and testing accuracy scores for the Kernelized SVM classifier trained on PCA-transformed data and stores these results.\n",
    "- This code cell creates a new row with the model name 'Kernelized SVM with PCA' and its corresponding training and testing accuracy scores, and then appends this row to the `result` DataFrame."
   ]
  },
  {
   "cell_type": "code",
   "execution_count": null,
   "id": "eb111bec-6b16-4ea1-b5c7-0aec34b622a2",
   "metadata": {
    "id": "eb111bec-6b16-4ea1-b5c7-0aec34b622a2",
    "outputId": "88ead2e8-aec4-480b-d650-2c8db3527b4b"
   },
   "outputs": [
    {
     "data": {
      "text/html": [
       "<div>\n",
       "<style scoped>\n",
       "    .dataframe tbody tr th:only-of-type {\n",
       "        vertical-align: middle;\n",
       "    }\n",
       "\n",
       "    .dataframe tbody tr th {\n",
       "        vertical-align: top;\n",
       "    }\n",
       "\n",
       "    .dataframe thead th {\n",
       "        text-align: right;\n",
       "    }\n",
       "</style>\n",
       "<table border=\"1\" class=\"dataframe\">\n",
       "  <thead>\n",
       "    <tr style=\"text-align: right;\">\n",
       "      <th></th>\n",
       "      <th>Model</th>\n",
       "      <th>Train Accuracy</th>\n",
       "      <th>Test Accuracy</th>\n",
       "    </tr>\n",
       "  </thead>\n",
       "  <tbody>\n",
       "    <tr>\n",
       "      <th>0</th>\n",
       "      <td>KNN Classifier</td>\n",
       "      <td>0.648199</td>\n",
       "      <td>0.648352</td>\n",
       "    </tr>\n",
       "    <tr>\n",
       "      <th>1</th>\n",
       "      <td>Logestic Regression</td>\n",
       "      <td>0.939058</td>\n",
       "      <td>0.78022</td>\n",
       "    </tr>\n",
       "    <tr>\n",
       "      <th>2</th>\n",
       "      <td>Decision Tree Classifier</td>\n",
       "      <td>0.789474</td>\n",
       "      <td>0.681319</td>\n",
       "    </tr>\n",
       "    <tr>\n",
       "      <th>3</th>\n",
       "      <td>Linear SVM</td>\n",
       "      <td>0.789474</td>\n",
       "      <td>0.681319</td>\n",
       "    </tr>\n",
       "    <tr>\n",
       "      <th>4</th>\n",
       "      <td>Kernalized SVM</td>\n",
       "      <td>0.689751</td>\n",
       "      <td>0.725275</td>\n",
       "    </tr>\n",
       "    <tr>\n",
       "      <th>5</th>\n",
       "      <td>Random Forest Classifier</td>\n",
       "      <td>0.897507</td>\n",
       "      <td>0.747253</td>\n",
       "    </tr>\n",
       "    <tr>\n",
       "      <th>6</th>\n",
       "      <td>Knn with PCA</td>\n",
       "      <td>0.645429</td>\n",
       "      <td>0.648352</td>\n",
       "    </tr>\n",
       "    <tr>\n",
       "      <th>7</th>\n",
       "      <td>Logestic Regression PCA</td>\n",
       "      <td>1.0</td>\n",
       "      <td>0.659341</td>\n",
       "    </tr>\n",
       "    <tr>\n",
       "      <th>8</th>\n",
       "      <td>Decision Tree with PCA</td>\n",
       "      <td>1.0</td>\n",
       "      <td>0.516484</td>\n",
       "    </tr>\n",
       "    <tr>\n",
       "      <th>9</th>\n",
       "      <td>Linear SVM with PCA</td>\n",
       "      <td>1.0</td>\n",
       "      <td>0.703297</td>\n",
       "    </tr>\n",
       "    <tr>\n",
       "      <th>10</th>\n",
       "      <td>Kernelized SVM with PCA</td>\n",
       "      <td>1.0</td>\n",
       "      <td>0.571429</td>\n",
       "    </tr>\n",
       "    <tr>\n",
       "      <th>11</th>\n",
       "      <td>Kernelized SVM with PCA</td>\n",
       "      <td>1.0</td>\n",
       "      <td>0.571429</td>\n",
       "    </tr>\n",
       "  </tbody>\n",
       "</table>\n",
       "</div>"
      ],
      "text/plain": [
       "                       Model Train Accuracy Test Accuracy\n",
       "0             KNN Classifier       0.648199      0.648352\n",
       "1        Logestic Regression       0.939058       0.78022\n",
       "2   Decision Tree Classifier       0.789474      0.681319\n",
       "3                 Linear SVM       0.789474      0.681319\n",
       "4             Kernalized SVM       0.689751      0.725275\n",
       "5   Random Forest Classifier       0.897507      0.747253\n",
       "6               Knn with PCA       0.645429      0.648352\n",
       "7    Logestic Regression PCA            1.0      0.659341\n",
       "8     Decision Tree with PCA            1.0      0.516484\n",
       "9        Linear SVM with PCA            1.0      0.703297\n",
       "10   Kernelized SVM with PCA            1.0      0.571429\n",
       "11   Kernelized SVM with PCA            1.0      0.571429"
      ]
     },
     "execution_count": 87,
     "metadata": {},
     "output_type": "execute_result"
    }
   ],
   "source": [
    "from sklearn.metrics import accuracy_score\n",
    "import pandas as pd\n",
    "ksvcp_train_accuracy_score = accuracy_score(y_train, y_pred_train1)\n",
    "ksvcp_test_accuracy_score = accuracy_score(y_test, y_pred_test1)\n",
    "new_row = pd.Series({\n",
    "    'Model': 'Kernelized SVM with PCA',\n",
    "    'Train Accuracy': ksvcp_train_accuracy_score,\n",
    "    'Test Accuracy': ksvcp_test_accuracy_scoreX_train\n",
    "})\n",
    "result = pd.concat([result, new_row.to_frame().T], ignore_index=True)\n",
    "result"
   ]
  },
  {
   "cell_type": "markdown",
   "id": "5ba18c14",
   "metadata": {
    "id": "5ba18c14"
   },
   "source": [
    "## Random Forest with PCA Implementation\n",
    "\n",
    "This code cell implements a Random Forest Classifier on the PCA-reduced data. It initializes the `RandomForestClassifier` with default parameters and fits the model to the PCA-transformed training data."
   ]
  },
  {
   "cell_type": "code",
   "execution_count": null,
   "id": "b603766e-b010-4e53-a8e2-a044e5a86db7",
   "metadata": {
    "id": "b603766e-b010-4e53-a8e2-a044e5a86db7",
    "outputId": "10759d39-189f-4347-eaea-a370e6374574"
   },
   "outputs": [
    {
     "data": {
      "text/html": [
       "<style>#sk-container-id-2 {\n",
       "  /* Definition of color scheme common for light and dark mode */\n",
       "  --sklearn-color-text: #000;\n",
       "  --sklearn-color-text-muted: #666;\n",
       "  --sklearn-color-line: gray;\n",
       "  /* Definition of color scheme for unfitted estimators */\n",
       "  --sklearn-color-unfitted-level-0: #fff5e6;\n",
       "  --sklearn-color-unfitted-level-1: #f6e4d2;\n",
       "  --sklearn-color-unfitted-level-2: #ffe0b3;\n",
       "  --sklearn-color-unfitted-level-3: chocolate;\n",
       "  /* Definition of color scheme for fitted estimators */\n",
       "  --sklearn-color-fitted-level-0: #f0f8ff;\n",
       "  --sklearn-color-fitted-level-1: #d4ebff;\n",
       "  --sklearn-color-fitted-level-2: #b3dbfd;\n",
       "  --sklearn-color-fitted-level-3: cornflowerblue;\n",
       "\n",
       "  /* Specific color for light theme */\n",
       "  --sklearn-color-text-on-default-background: var(--sg-text-color, var(--theme-code-foreground, var(--jp-content-font-color1, black)));\n",
       "  --sklearn-color-background: var(--sg-background-color, var(--theme-background, var(--jp-layout-color0, white)));\n",
       "  --sklearn-color-border-box: var(--sg-text-color, var(--theme-code-foreground, var(--jp-content-font-color1, black)));\n",
       "  --sklearn-color-icon: #696969;\n",
       "\n",
       "  @media (prefers-color-scheme: dark) {\n",
       "    /* Redefinition of color scheme for dark theme */\n",
       "    --sklearn-color-text-on-default-background: var(--sg-text-color, var(--theme-code-foreground, var(--jp-content-font-color1, white)));\n",
       "    --sklearn-color-background: var(--sg-background-color, var(--theme-background, var(--jp-layout-color0, #111)));\n",
       "    --sklearn-color-border-box: var(--sg-text-color, var(--theme-code-foreground, var(--jp-content-font-color1, white)));\n",
       "    --sklearn-color-icon: #878787;\n",
       "  }\n",
       "}\n",
       "\n",
       "#sk-container-id-2 {\n",
       "  color: var(--sklearn-color-text);\n",
       "}\n",
       "\n",
       "#sk-container-id-2 pre {\n",
       "  padding: 0;\n",
       "}\n",
       "\n",
       "#sk-container-id-2 input.sk-hidden--visually {\n",
       "  border: 0;\n",
       "  clip: rect(1px 1px 1px 1px);\n",
       "  clip: rect(1px, 1px, 1px, 1px);\n",
       "  height: 1px;\n",
       "  margin: -1px;\n",
       "  overflow: hidden;\n",
       "  padding: 0;\n",
       "  position: absolute;\n",
       "  width: 1px;\n",
       "}\n",
       "\n",
       "#sk-container-id-2 div.sk-dashed-wrapped {\n",
       "  border: 1px dashed var(--sklearn-color-line);\n",
       "  margin: 0 0.4em 0.5em 0.4em;\n",
       "  box-sizing: border-box;\n",
       "  padding-bottom: 0.4em;\n",
       "  background-color: var(--sklearn-color-background);\n",
       "}\n",
       "\n",
       "#sk-container-id-2 div.sk-container {\n",
       "  /* jupyter's `normalize.less` sets `[hidden] { display: none; }`\n",
       "     but bootstrap.min.css set `[hidden] { display: none !important; }`\n",
       "     so we also need the `!important` here to be able to override the\n",
       "     default hidden behavior on the sphinx rendered scikit-learn.org.\n",
       "     See: https://github.com/scikit-learn/scikit-learn/issues/21755 */\n",
       "  display: inline-block !important;\n",
       "  position: relative;\n",
       "}\n",
       "\n",
       "#sk-container-id-2 div.sk-text-repr-fallback {\n",
       "  display: none;\n",
       "}\n",
       "\n",
       "div.sk-parallel-item,\n",
       "div.sk-serial,\n",
       "div.sk-item {\n",
       "  /* draw centered vertical line to link estimators */\n",
       "  background-image: linear-gradient(var(--sklearn-color-text-on-default-background), var(--sklearn-color-text-on-default-background));\n",
       "  background-size: 2px 100%;\n",
       "  background-repeat: no-repeat;\n",
       "  background-position: center center;\n",
       "}\n",
       "\n",
       "/* Parallel-specific style estimator block */\n",
       "\n",
       "#sk-container-id-2 div.sk-parallel-item::after {\n",
       "  content: \"\";\n",
       "  width: 100%;\n",
       "  border-bottom: 2px solid var(--sklearn-color-text-on-default-background);\n",
       "  flex-grow: 1;\n",
       "}\n",
       "\n",
       "#sk-container-id-2 div.sk-parallel {\n",
       "  display: flex;\n",
       "  align-items: stretch;\n",
       "  justify-content: center;\n",
       "  background-color: var(--sklearn-color-background);\n",
       "  position: relative;\n",
       "}\n",
       "\n",
       "#sk-container-id-2 div.sk-parallel-item {\n",
       "  display: flex;\n",
       "  flex-direction: column;\n",
       "}\n",
       "\n",
       "#sk-container-id-2 div.sk-parallel-item:first-child::after {\n",
       "  align-self: flex-end;\n",
       "  width: 50%;\n",
       "}\n",
       "\n",
       "#sk-container-id-2 div.sk-parallel-item:last-child::after {\n",
       "  align-self: flex-start;\n",
       "  width: 50%;\n",
       "}\n",
       "\n",
       "#sk-container-id-2 div.sk-parallel-item:only-child::after {\n",
       "  width: 0;\n",
       "}\n",
       "\n",
       "/* Serial-specific style estimator block */\n",
       "\n",
       "#sk-container-id-2 div.sk-serial {\n",
       "  display: flex;\n",
       "  flex-direction: column;\n",
       "  align-items: center;\n",
       "  background-color: var(--sklearn-color-background);\n",
       "  padding-right: 1em;\n",
       "  padding-left: 1em;\n",
       "}\n",
       "\n",
       "\n",
       "/* Toggleable style: style used for estimator/Pipeline/ColumnTransformer box that is\n",
       "clickable and can be expanded/collapsed.\n",
       "- Pipeline and ColumnTransformer use this feature and define the default style\n",
       "- Estimators will overwrite some part of the style using the `sk-estimator` class\n",
       "*/\n",
       "\n",
       "/* Pipeline and ColumnTransformer style (default) */\n",
       "\n",
       "#sk-container-id-2 div.sk-toggleable {\n",
       "  /* Default theme specific background. It is overwritten whether we have a\n",
       "  specific estimator or a Pipeline/ColumnTransformer */\n",
       "  background-color: var(--sklearn-color-background);\n",
       "}\n",
       "\n",
       "/* Toggleable label */\n",
       "#sk-container-id-2 label.sk-toggleable__label {\n",
       "  cursor: pointer;\n",
       "  display: flex;\n",
       "  width: 100%;\n",
       "  margin-bottom: 0;\n",
       "  padding: 0.5em;\n",
       "  box-sizing: border-box;\n",
       "  text-align: center;\n",
       "  align-items: start;\n",
       "  justify-content: space-between;\n",
       "  gap: 0.5em;\n",
       "}\n",
       "\n",
       "#sk-container-id-2 label.sk-toggleable__label .caption {\n",
       "  font-size: 0.6rem;\n",
       "  font-weight: lighter;\n",
       "  color: var(--sklearn-color-text-muted);\n",
       "}\n",
       "\n",
       "#sk-container-id-2 label.sk-toggleable__label-arrow:before {\n",
       "  /* Arrow on the left of the label */\n",
       "  content: \"▸\";\n",
       "  float: left;\n",
       "  margin-right: 0.25em;\n",
       "  color: var(--sklearn-color-icon);\n",
       "}\n",
       "\n",
       "#sk-container-id-2 label.sk-toggleable__label-arrow:hover:before {\n",
       "  color: var(--sklearn-color-text);\n",
       "}\n",
       "\n",
       "/* Toggleable content - dropdown */\n",
       "\n",
       "#sk-container-id-2 div.sk-toggleable__content {\n",
       "  max-height: 0;\n",
       "  max-width: 0;\n",
       "  overflow: hidden;\n",
       "  text-align: left;\n",
       "  /* unfitted */\n",
       "  background-color: var(--sklearn-color-unfitted-level-0);\n",
       "}\n",
       "\n",
       "#sk-container-id-2 div.sk-toggleable__content.fitted {\n",
       "  /* fitted */\n",
       "  background-color: var(--sklearn-color-fitted-level-0);\n",
       "}\n",
       "\n",
       "#sk-container-id-2 div.sk-toggleable__content pre {\n",
       "  margin: 0.2em;\n",
       "  border-radius: 0.25em;\n",
       "  color: var(--sklearn-color-text);\n",
       "  /* unfitted */\n",
       "  background-color: var(--sklearn-color-unfitted-level-0);\n",
       "}\n",
       "\n",
       "#sk-container-id-2 div.sk-toggleable__content.fitted pre {\n",
       "  /* unfitted */\n",
       "  background-color: var(--sklearn-color-fitted-level-0);\n",
       "}\n",
       "\n",
       "#sk-container-id-2 input.sk-toggleable__control:checked~div.sk-toggleable__content {\n",
       "  /* Expand drop-down */\n",
       "  max-height: 200px;\n",
       "  max-width: 100%;\n",
       "  overflow: auto;\n",
       "}\n",
       "\n",
       "#sk-container-id-2 input.sk-toggleable__control:checked~label.sk-toggleable__label-arrow:before {\n",
       "  content: \"▾\";\n",
       "}\n",
       "\n",
       "/* Pipeline/ColumnTransformer-specific style */\n",
       "\n",
       "#sk-container-id-2 div.sk-label input.sk-toggleable__control:checked~label.sk-toggleable__label {\n",
       "  color: var(--sklearn-color-text);\n",
       "  background-color: var(--sklearn-color-unfitted-level-2);\n",
       "}\n",
       "\n",
       "#sk-container-id-2 div.sk-label.fitted input.sk-toggleable__control:checked~label.sk-toggleable__label {\n",
       "  background-color: var(--sklearn-color-fitted-level-2);\n",
       "}\n",
       "\n",
       "/* Estimator-specific style */\n",
       "\n",
       "/* Colorize estimator box */\n",
       "#sk-container-id-2 div.sk-estimator input.sk-toggleable__control:checked~label.sk-toggleable__label {\n",
       "  /* unfitted */\n",
       "  background-color: var(--sklearn-color-unfitted-level-2);\n",
       "}\n",
       "\n",
       "#sk-container-id-2 div.sk-estimator.fitted input.sk-toggleable__control:checked~label.sk-toggleable__label {\n",
       "  /* fitted */\n",
       "  background-color: var(--sklearn-color-fitted-level-2);\n",
       "}\n",
       "\n",
       "#sk-container-id-2 div.sk-label label.sk-toggleable__label,\n",
       "#sk-container-id-2 div.sk-label label {\n",
       "  /* The background is the default theme color */\n",
       "  color: var(--sklearn-color-text-on-default-background);\n",
       "}\n",
       "\n",
       "/* On hover, darken the color of the background */\n",
       "#sk-container-id-2 div.sk-label:hover label.sk-toggleable__label {\n",
       "  color: var(--sklearn-color-text);\n",
       "  background-color: var(--sklearn-color-unfitted-level-2);\n",
       "}\n",
       "\n",
       "/* Label box, darken color on hover, fitted */\n",
       "#sk-container-id-2 div.sk-label.fitted:hover label.sk-toggleable__label.fitted {\n",
       "  color: var(--sklearn-color-text);\n",
       "  background-color: var(--sklearn-color-fitted-level-2);\n",
       "}\n",
       "\n",
       "/* Estimator label */\n",
       "\n",
       "#sk-container-id-2 div.sk-label label {\n",
       "  font-family: monospace;\n",
       "  font-weight: bold;\n",
       "  display: inline-block;\n",
       "  line-height: 1.2em;\n",
       "}\n",
       "\n",
       "#sk-container-id-2 div.sk-label-container {\n",
       "  text-align: center;\n",
       "}\n",
       "\n",
       "/* Estimator-specific */\n",
       "#sk-container-id-2 div.sk-estimator {\n",
       "  font-family: monospace;\n",
       "  border: 1px dotted var(--sklearn-color-border-box);\n",
       "  border-radius: 0.25em;\n",
       "  box-sizing: border-box;\n",
       "  margin-bottom: 0.5em;\n",
       "  /* unfitted */\n",
       "  background-color: var(--sklearn-color-unfitted-level-0);\n",
       "}\n",
       "\n",
       "#sk-container-id-2 div.sk-estimator.fitted {\n",
       "  /* fitted */\n",
       "  background-color: var(--sklearn-color-fitted-level-0);\n",
       "}\n",
       "\n",
       "/* on hover */\n",
       "#sk-container-id-2 div.sk-estimator:hover {\n",
       "  /* unfitted */\n",
       "  background-color: var(--sklearn-color-unfitted-level-2);\n",
       "}\n",
       "\n",
       "#sk-container-id-2 div.sk-estimator.fitted:hover {\n",
       "  /* fitted */\n",
       "  background-color: var(--sklearn-color-fitted-level-2);\n",
       "}\n",
       "\n",
       "/* Specification for estimator info (e.g. \"i\" and \"?\") */\n",
       "\n",
       "/* Common style for \"i\" and \"?\" */\n",
       "\n",
       ".sk-estimator-doc-link,\n",
       "a:link.sk-estimator-doc-link,\n",
       "a:visited.sk-estimator-doc-link {\n",
       "  float: right;\n",
       "  font-size: smaller;\n",
       "  line-height: 1em;\n",
       "  font-family: monospace;\n",
       "  background-color: var(--sklearn-color-background);\n",
       "  border-radius: 1em;\n",
       "  height: 1em;\n",
       "  width: 1em;\n",
       "  text-decoration: none !important;\n",
       "  margin-left: 0.5em;\n",
       "  text-align: center;\n",
       "  /* unfitted */\n",
       "  border: var(--sklearn-color-unfitted-level-1) 1pt solid;\n",
       "  color: var(--sklearn-color-unfitted-level-1);\n",
       "}\n",
       "\n",
       ".sk-estimator-doc-link.fitted,\n",
       "a:link.sk-estimator-doc-link.fitted,\n",
       "a:visited.sk-estimator-doc-link.fitted {\n",
       "  /* fitted */\n",
       "  border: var(--sklearn-color-fitted-level-1) 1pt solid;\n",
       "  color: var(--sklearn-color-fitted-level-1);\n",
       "}\n",
       "\n",
       "/* On hover */\n",
       "div.sk-estimator:hover .sk-estimator-doc-link:hover,\n",
       ".sk-estimator-doc-link:hover,\n",
       "div.sk-label-container:hover .sk-estimator-doc-link:hover,\n",
       ".sk-estimator-doc-link:hover {\n",
       "  /* unfitted */\n",
       "  background-color: var(--sklearn-color-unfitted-level-3);\n",
       "  color: var(--sklearn-color-background);\n",
       "  text-decoration: none;\n",
       "}\n",
       "\n",
       "div.sk-estimator.fitted:hover .sk-estimator-doc-link.fitted:hover,\n",
       ".sk-estimator-doc-link.fitted:hover,\n",
       "div.sk-label-container:hover .sk-estimator-doc-link.fitted:hover,\n",
       ".sk-estimator-doc-link.fitted:hover {\n",
       "  /* fitted */\n",
       "  background-color: var(--sklearn-color-fitted-level-3);\n",
       "  color: var(--sklearn-color-background);\n",
       "  text-decoration: none;\n",
       "}\n",
       "\n",
       "/* Span, style for the box shown on hovering the info icon */\n",
       ".sk-estimator-doc-link span {\n",
       "  display: none;\n",
       "  z-index: 9999;\n",
       "  position: relative;\n",
       "  font-weight: normal;\n",
       "  right: .2ex;\n",
       "  padding: .5ex;\n",
       "  margin: .5ex;\n",
       "  width: min-content;\n",
       "  min-width: 20ex;\n",
       "  max-width: 50ex;\n",
       "  color: var(--sklearn-color-text);\n",
       "  box-shadow: 2pt 2pt 4pt #999;\n",
       "  /* unfitted */\n",
       "  background: var(--sklearn-color-unfitted-level-0);\n",
       "  border: .5pt solid var(--sklearn-color-unfitted-level-3);\n",
       "}\n",
       "\n",
       ".sk-estimator-doc-link.fitted span {\n",
       "  /* fitted */\n",
       "  background: var(--sklearn-color-fitted-level-0);\n",
       "  border: var(--sklearn-color-fitted-level-3);\n",
       "}\n",
       "\n",
       ".sk-estimator-doc-link:hover span {\n",
       "  display: block;\n",
       "}\n",
       "\n",
       "/* \"?\"-specific style due to the `<a>` HTML tag */\n",
       "\n",
       "#sk-container-id-2 a.estimator_doc_link {\n",
       "  float: right;\n",
       "  font-size: 1rem;\n",
       "  line-height: 1em;\n",
       "  font-family: monospace;\n",
       "  background-color: var(--sklearn-color-background);\n",
       "  border-radius: 1rem;\n",
       "  height: 1rem;\n",
       "  width: 1rem;\n",
       "  text-decoration: none;\n",
       "  /* unfitted */\n",
       "  color: var(--sklearn-color-unfitted-level-1);\n",
       "  border: var(--sklearn-color-unfitted-level-1) 1pt solid;\n",
       "}\n",
       "\n",
       "#sk-container-id-2 a.estimator_doc_link.fitted {\n",
       "  /* fitted */\n",
       "  border: var(--sklearn-color-fitted-level-1) 1pt solid;\n",
       "  color: var(--sklearn-color-fitted-level-1);\n",
       "}\n",
       "\n",
       "/* On hover */\n",
       "#sk-container-id-2 a.estimator_doc_link:hover {\n",
       "  /* unfitted */\n",
       "  background-color: var(--sklearn-color-unfitted-level-3);\n",
       "  color: var(--sklearn-color-background);\n",
       "  text-decoration: none;\n",
       "}\n",
       "\n",
       "#sk-container-id-2 a.estimator_doc_link.fitted:hover {\n",
       "  /* fitted */\n",
       "  background-color: var(--sklearn-color-fitted-level-3);\n",
       "}\n",
       "</style><div id=\"sk-container-id-2\" class=\"sk-top-container\"><div class=\"sk-text-repr-fallback\"><pre>RandomForestClassifier()</pre><b>In a Jupyter environment, please rerun this cell to show the HTML representation or trust the notebook. <br />On GitHub, the HTML representation is unable to render, please try loading this page with nbviewer.org.</b></div><div class=\"sk-container\" hidden><div class=\"sk-item\"><div class=\"sk-estimator fitted sk-toggleable\"><input class=\"sk-toggleable__control sk-hidden--visually\" id=\"sk-estimator-id-2\" type=\"checkbox\" checked><label for=\"sk-estimator-id-2\" class=\"sk-toggleable__label fitted sk-toggleable__label-arrow\"><div><div>RandomForestClassifier</div></div><div><a class=\"sk-estimator-doc-link fitted\" rel=\"noreferrer\" target=\"_blank\" href=\"https://scikit-learn.org/1.6/modules/generated/sklearn.ensemble.RandomForestClassifier.html\">?<span>Documentation for RandomForestClassifier</span></a><span class=\"sk-estimator-doc-link fitted\">i<span>Fitted</span></span></div></label><div class=\"sk-toggleable__content fitted\"><pre>RandomForestClassifier()</pre></div> </div></div></div></div>"
      ],
      "text/plain": [
       "RandomForestClassifier()"
      ]
     },
     "execution_count": 88,
     "metadata": {},
     "output_type": "execute_result"
    }
   ],
   "source": [
    "from sklearn.ensemble import RandomForestClassifier\n",
    "rfp_clf = RandomForestClassifier()\n",
    "rfp_clf.fit(X_train_pca, y_train)"
   ]
  },
  {
   "cell_type": "markdown",
   "id": "feeebe01",
   "metadata": {
    "id": "feeebe01"
   },
   "source": [
    "## Evaluating Random Forest with PCA\n",
    "\n",
    "This code cell makes predictions on the PCA-transformed training and testing data using the trained Random Forest Classifier, calculates the accuracy scores, and stores these results."
   ]
  },
  {
   "cell_type": "code",
   "execution_count": null,
   "id": "3782fc34-6997-4160-8f6e-b27c5ca2296d",
   "metadata": {
    "id": "3782fc34-6997-4160-8f6e-b27c5ca2296d",
    "outputId": "f53b0db4-625a-4b80-b689-8d8b195b1f94"
   },
   "outputs": [
    {
     "name": "stdout",
     "output_type": "stream",
     "text": [
      "Scores calculated successfully.\n"
     ]
    }
   ],
   "source": [
    "from sklearn.metrics import accuracy_score\n",
    "y_pred_train1 = rfp_clf.predict(X_train_pca)\n",
    "y_pred_test1 = rfp_clf.predict(X_test_pca)\n",
    "rfp_train_accuracy_score = accuracy_score(y_train, y_pred_train1)\n",
    "rfp_test_accuracy_score = accuracy_score(y_test, y_pred_test1)"
   ]
  },
  {
   "cell_type": "markdown",
   "id": "9a3b791d",
   "metadata": {
    "id": "9a3b791d"
   },
   "source": [
    "## Appending Random Forest with PCA Results\n",
    "\n",
    "This code cell creates a new row with the model name 'Random Forest with PCA' and its corresponding training and testing accuracy scores, and then appends this row to the `result` DataFrame."
   ]
  },
  {
   "cell_type": "code",
   "execution_count": null,
   "id": "308529c4-995f-4ea9-9a43-839b2733b736",
   "metadata": {
    "id": "308529c4-995f-4ea9-9a43-839b2733b736",
    "outputId": "799b3543-4259-4544-a0fc-1a522ee6480f"
   },
   "outputs": [
    {
     "data": {
      "text/html": [
       "<div>\n",
       "<style scoped>\n",
       "    .dataframe tbody tr th:only-of-type {\n",
       "        vertical-align: middle;\n",
       "    }\n",
       "\n",
       "    .dataframe tbody tr th {\n",
       "        vertical-align: top;\n",
       "    }\n",
       "\n",
       "    .dataframe thead th {\n",
       "        text-align: right;\n",
       "    }\n",
       "</style>\n",
       "<table border=\"1\" class=\"dataframe\">\n",
       "  <thead>\n",
       "    <tr style=\"text-align: right;\">\n",
       "      <th></th>\n",
       "      <th>Model</th>\n",
       "      <th>Train Accuracy</th>\n",
       "      <th>Test Accuracy</th>\n",
       "    </tr>\n",
       "  </thead>\n",
       "  <tbody>\n",
       "    <tr>\n",
       "      <th>0</th>\n",
       "      <td>KNN Classifier</td>\n",
       "      <td>0.648199</td>\n",
       "      <td>0.648352</td>\n",
       "    </tr>\n",
       "    <tr>\n",
       "      <th>1</th>\n",
       "      <td>Logestic Regression</td>\n",
       "      <td>0.939058</td>\n",
       "      <td>0.78022</td>\n",
       "    </tr>\n",
       "    <tr>\n",
       "      <th>2</th>\n",
       "      <td>Decision Tree Classifier</td>\n",
       "      <td>0.789474</td>\n",
       "      <td>0.681319</td>\n",
       "    </tr>\n",
       "    <tr>\n",
       "      <th>3</th>\n",
       "      <td>Linear SVM</td>\n",
       "      <td>0.789474</td>\n",
       "      <td>0.681319</td>\n",
       "    </tr>\n",
       "    <tr>\n",
       "      <th>4</th>\n",
       "      <td>Kernalized SVM</td>\n",
       "      <td>0.689751</td>\n",
       "      <td>0.725275</td>\n",
       "    </tr>\n",
       "    <tr>\n",
       "      <th>5</th>\n",
       "      <td>Random Forest Classifier</td>\n",
       "      <td>0.897507</td>\n",
       "      <td>0.747253</td>\n",
       "    </tr>\n",
       "    <tr>\n",
       "      <th>6</th>\n",
       "      <td>Knn with PCA</td>\n",
       "      <td>0.645429</td>\n",
       "      <td>0.648352</td>\n",
       "    </tr>\n",
       "    <tr>\n",
       "      <th>7</th>\n",
       "      <td>Logestic Regression PCA</td>\n",
       "      <td>1.0</td>\n",
       "      <td>0.659341</td>\n",
       "    </tr>\n",
       "    <tr>\n",
       "      <th>8</th>\n",
       "      <td>Decision Tree with PCA</td>\n",
       "      <td>1.0</td>\n",
       "      <td>0.516484</td>\n",
       "    </tr>\n",
       "    <tr>\n",
       "      <th>9</th>\n",
       "      <td>Linear SVM with PCA</td>\n",
       "      <td>1.0</td>\n",
       "      <td>0.703297</td>\n",
       "    </tr>\n",
       "    <tr>\n",
       "      <th>10</th>\n",
       "      <td>Kernelized SVM with PCA</td>\n",
       "      <td>1.0</td>\n",
       "      <td>0.571429</td>\n",
       "    </tr>\n",
       "    <tr>\n",
       "      <th>11</th>\n",
       "      <td>Kernelized SVM with PCA</td>\n",
       "      <td>1.0</td>\n",
       "      <td>0.571429</td>\n",
       "    </tr>\n",
       "    <tr>\n",
       "      <th>12</th>\n",
       "      <td>Random Forest with PCA</td>\n",
       "      <td>1.0</td>\n",
       "      <td>0.681319</td>\n",
       "    </tr>\n",
       "  </tbody>\n",
       "</table>\n",
       "</div>"
      ],
      "text/plain": [
       "                       Model Train Accuracy Test Accuracy\n",
       "0             KNN Classifier       0.648199      0.648352\n",
       "1        Logestic Regression       0.939058       0.78022\n",
       "2   Decision Tree Classifier       0.789474      0.681319\n",
       "3                 Linear SVM       0.789474      0.681319\n",
       "4             Kernalized SVM       0.689751      0.725275\n",
       "5   Random Forest Classifier       0.897507      0.747253\n",
       "6               Knn with PCA       0.645429      0.648352\n",
       "7    Logestic Regression PCA            1.0      0.659341\n",
       "8     Decision Tree with PCA            1.0      0.516484\n",
       "9        Linear SVM with PCA            1.0      0.703297\n",
       "10   Kernelized SVM with PCA            1.0      0.571429\n",
       "11   Kernelized SVM with PCA            1.0      0.571429\n",
       "12    Random Forest with PCA            1.0      0.681319"
      ]
     },
     "execution_count": 90,
     "metadata": {},
     "output_type": "execute_result"
    }
   ],
   "source": [
    "import pandas as pd\n",
    "new_row = pd.Series({\n",
    "    'Model': 'Random Forest with PCA',\n",
    "    'Train Accuracy': rfp_train_accuracy_score,\n",
    "    'Test Accuracy': rfp_test_accuracy_score\n",
    "})\n",
    "result = pd.concat([result, new_row.to_frame().T], ignore_index=True)\n",
    "result"
   ]
  },
  {
   "cell_type": "markdown",
   "id": "eee0e264",
   "metadata": {
    "id": "eee0e264"
   },
   "source": [
    "## Visualizing Model Performance\n",
    "\n",
    "This code cell generates a bar plot comparing the training and testing accuracy scores of all the models evaluated. The 'Model' column is set as the index for better plotting. The plot title, axis labels, and legend are added for clarity."
   ]
  },
  {
   "cell_type": "code",
   "execution_count": null,
   "id": "898ad95d-f92d-42fd-a7a0-38e88ed7e2a2",
   "metadata": {
    "id": "898ad95d-f92d-42fd-a7a0-38e88ed7e2a2",
    "outputId": "e29496cb-5fac-4d25-ff36-b96b15642736"
   },
   "outputs": [
    {
     "data": {
      "image/png": "[encoded data removed]",
      "text/plain": [
       "<Figure size 1500x600 with 1 Axes>"
      ]
     },
     "metadata": {},
     "output_type": "display_data"
    }
   ],
   "source": [
    "import matplotlib.pyplot as plt\n",
    "\n",
    "# Set 'Model' as the index for better plotting\n",
    "plot_data = result.set_index('Model')\n",
    "\n",
    "plot_data.plot(kind=\"bar\", figsize=(15, 6))\n",
    "plt.title('Train & Test Scores of Classifiers')\n",
    "plt.xlabel('Models')\n",
    "plt.ylabel('Scores')\n",
    "plt.xticks(rotation=45, ha='right') # Rotate labels for better readability\n",
    "plt.legend(loc='upper left', bbox_to_anchor=(1, 1))\n",
    "plt.tight_layout()\n",
    "plt.show();"
   ]
  },
  {
   "cell_type": "markdown",
   "id": "442c24d9",
   "metadata": {
    "id": "442c24d9"
   },
   "source": [
    "## Visualizing Class Distribution (Count Plot)\n",
    "\n",
    "This code cell generates a count plot showing the distribution of instances across different classes in the `new_df` DataFrame."
   ]
  },
  {
   "cell_type": "markdown",
   "id": "f607d77d",
   "metadata": {
    "id": "f607d77d"
   },
   "source": [
    "## Preparing Values for Pie Chart\n",
    "\n",
    "This code cell creates a new list `values` by taking the first 10 elements from the `la` list, extending it with three zeros, and then adding the remaining elements from `la`. This is done to align the values with the defined `class_names` for the pie chart."
   ]
  },
  {
   "cell_type": "markdown",
   "id": "3daa96c9",
   "metadata": {
    "id": "3daa96c9"
   },
   "source": [
    "## Visualizing Class Distribution (Pie Chart)\n",
    "\n",
    "This code cell generates a pie chart to visualize the distribution of instances across the classes. It uses the `values` list (after applying a log10 transformation for better visualization of small counts) and the `class_names` as labels."
   ]
  },
  {
   "cell_type": "markdown",
   "id": "f99b59d4",
   "metadata": {
    "id": "f99b59d4"
   },
   "source": [
    "## Pair Plot of Selected Features by Sex\n",
    "\n",
    "This code cell generates a pair plot for the 'Age', 'Sex', 'Height', and 'Weight' columns in the `final_df` DataFrame, with points colored according to the 'Sex' column. This helps visualize the relationships between these features for different sexes."
   ]
  },
  {
   "cell_type": "markdown",
   "id": "b2ed1a22",
   "metadata": {
    "id": "b2ed1a22"
   },
   "source": [
    "## Displaying Top 10 Heights\n",
    "\n",
    "This code cell sorts the 'Height' column in descending order and displays the top 10 values."
   ]
  },
  {
   "cell_type": "markdown",
   "id": "37f7ec68",
   "metadata": {
    "id": "37f7ec68"
   },
   "source": [
    "## Correcting Outlier Height Values\n",
    "\n",
    "This code cell replaces specific outlier values (608 and 780) in the 'Height' column with more reasonable values (108 and 180 respectively)."
   ]
  },
  {
   "cell_type": "markdown",
   "id": "856d9da9",
   "metadata": {
    "id": "856d9da9"
   },
   "source": [
    "## Displaying Top 10 Weights\n",
    "\n",
    "This code cell sorts the 'Weight' column in descending order and displays the top 10 values."
   ]
  },
  {
   "cell_type": "markdown",
   "id": "c718eb89",
   "metadata": {
    "id": "c718eb89"
   },
   "source": [
    "## Box Plot of QRS, P-R, Q-T, T, and P Intervals\n",
    "\n",
    "This code cell generates a box plot for the 'QRS_Dur', 'P-R_Int', 'Q-T_Int', 'T_Int', and 'P_Int' columns in the `final_df` DataFrame to visualize their distributions and identify potential outliers."
   ]
  },
  {
   "cell_type": "markdown",
   "id": "a591d83a",
   "metadata": {
    "id": "a591d83a"
   },
   "source": [
    "## Bar Plot of Low P-R Interval Value Counts\n",
    "\n",
    "This code cell generates a bar plot showing the counts of the 5 lowest occurring values in the 'P-R_Int' column."
   ]
  },
  {
   "cell_type": "markdown",
   "id": "2895d5e9",
   "metadata": {
    "id": "2895d5e9"
   },
   "source": [
    "## Bar Plot of High P-R Interval Value Counts\n",
    "\n",
    "This code cell generates a bar plot showing the counts of the 5 highest occurring values in the 'P-R_Int' column."
   ]
  },
  {
   "cell_type": "markdown",
   "id": "12d4efeb",
   "metadata": {
    "id": "12d4efeb"
   },
   "source": [
    "## Box Plot of QRS, T, P, J, and Heart Rate\n",
    "\n",
    "This code cell generates a box plot for the 'QRS', 'T', 'P', 'J', and 'Heart_Rate' columns in the `final_df` DataFrame to visualize their distributions and identify potential outliers."
   ]
  },
  {
   "cell_type": "markdown",
   "id": "740974c2",
   "metadata": {
    "id": "740974c2"
   },
   "source": [
    "## Box Plot of R', S', Int_Def, and Rag_R_Nom\n",
    "\n",
    "This code cell generates a box plot for the 'R\\'_Wave', 'S\\'_Wave', 'Int_Def', and 'Rag_R_Nom' columns in the `final_df` DataFrame to visualize their distributions."
   ]
  },
  {
   "cell_type": "markdown",
   "id": "0775d353",
   "metadata": {
    "id": "0775d353"
   },
   "source": [
    "## Value Counts for S'_Wave\n",
    "\n",
    "This code cell calculates and displays the value counts for the 'S\\'_Wave' column in descending order."
   ]
  },
  {
   "cell_type": "markdown",
   "id": "3a1ce398",
   "metadata": {
    "id": "3a1ce398"
   },
   "source": [
    "## Value Counts for V101\n",
    "\n",
    "This code cell calculates and displays the value counts for the 'V101' column in descending order."
   ]
  },
  {
   "cell_type": "markdown",
   "id": "35d525b1",
   "metadata": {
    "id": "35d525b1"
   },
   "source": [
    "## Value Counts for V201\n",
    "\n",
    "This code cell calculates and displays the value counts for the 'V201' column in descending order."
   ]
  },
  {
   "cell_type": "markdown",
   "id": "395b919c",
   "metadata": {
    "id": "395b919c"
   },
   "source": [
    "## Value Counts for V301\n",
    "\n",
    "This code cell calculates and displays the value counts for the 'V301' column in descending order."
   ]
  },
  {
   "cell_type": "markdown",
   "id": "c0ee9bcf",
   "metadata": {
    "id": "c0ee9bcf"
   },
   "source": [
    "## Value Counts for V501\n",
    "\n",
    "This code cell calculates and displays the value counts for the 'V501' column in descending order."
   ]
  },
  {
   "cell_type": "markdown",
   "id": "d982d838",
   "metadata": {
    "id": "d982d838"
   },
   "source": [
    "## Box Plot of AVR Leads (190-199)\n",
    "\n",
    "This code cell generates a box plot for a range of columns related to AVR leads (from 'AVR190' to 'AVR199') in the `final_df` DataFrame to visualize their distributions."
   ]
  },
  {
   "cell_type": "markdown",
   "id": "89220995",
   "metadata": {
    "id": "89220995"
   },
   "source": [
    "## Box Plot of AVL Leads (200-209)\n",
    "\n",
    "This code cell generates a box plot for a range of columns related to AVL leads (from 'AVL200' to 'AVL209') in the `final_df` DataFrame to visualize their distributions."
   ]
  },
  {
   "cell_type": "markdown",
   "id": "c62eba73",
   "metadata": {
    "id": "c62eba73"
   },
   "source": [
    "## Box Plot of AVF Leads (210-219)\n",
    "\n",
    "This code cell generates a box plot for a range of columns related to AVF leads (from 'AVF210' to 'AVF219') in the `final_df` DataFrame to visualize their distributions."
   ]
  },
  {
   "cell_type": "markdown",
   "id": "33afedb3",
   "metadata": {
    "id": "33afedb3"
   },
   "source": [
    "## Calculating Pearson Correlation with Target\n",
    "\n",
    "This code cell calculates the Pearson correlation coefficient between each feature in the `final_df` DataFrame and the `target` variable."
   ]
  },
  {
   "cell_type": "markdown",
   "id": "7b4f2145",
   "metadata": {
    "id": "7b4f2145"
   },
   "source": [
    "## Splitting Data into Training and Testing Sets\n",
    "\n",
    "This code cell splits the `final_df` (features) and `target` (target variable) into training and testing sets using `train_test_split`. 80% of the data is used for training and 20% for testing, with a `random_state` set for reproducibility."
   ]
  },
  {
   "cell_type": "markdown",
   "id": "23c79ea0",
   "metadata": {
    "id": "23c79ea0"
   },
   "source": [
    "## Feature Scaling\n",
    "\n",
    "This code cell uses `StandardScaler` to standardize the features in both the training and testing sets. Standardization scales the data to have zero mean and unit variance, which is often necessary for many machine learning algorithms."
   ]
  },
  {
   "cell_type": "markdown",
   "id": "bd65997d",
   "metadata": {
    "id": "bd65997d"
   },
   "source": [
    "## Suppressing Warnings\n",
    "\n",
    "This code cell imports the `warnings` module and filters out warnings to prevent them from being displayed in the output."
   ]
  },
  {
   "cell_type": "markdown",
   "id": "03f7c206",
   "metadata": {
    "id": "03f7c206"
   },
   "source": [
    "## Importing Evaluation Metrics\n",
    "\n",
    "This code cell imports various evaluation metrics from `sklearn.metrics` that will be used to assess the performance of the classification models."
   ]
  },
  {
   "cell_type": "markdown",
   "id": "8bb866a4",
   "metadata": {
    "id": "8bb866a4"
   },
   "source": [
    "## Initializing Results DataFrame\n",
    "\n",
    "This code cell initializes an empty pandas DataFrame named `result` with columns 'Model', 'Train Accuracy', and 'Test Accuracy' to store the performance scores of different models."
   ]
  }
 ],
 "metadata": {
  "colab": {
   "provenance": []
  },
  "kernelspec": {
   "display_name": "Python 3 (ipykernel)",
   "language": "python",
   "name": "python3"
  },
  "language_info": {
   "codemirror_mode": {
    "name": "ipython",
    "version": 3
   },
   "file_extension": ".py",
   "mimetype": "text/x-python",
   "name": "python",
   "nbconvert_exporter": "python",
   "pygments_lexer": "ipython3",
   "version": "3.13.3"
  }
 },
 "nbformat": 4,
 "nbformat_minor": 5
}
